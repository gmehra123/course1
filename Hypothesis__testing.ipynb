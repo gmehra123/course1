{
  "nbformat": 4,
  "nbformat_minor": 0,
  "metadata": {
    "colab": {
      "provenance": [],
      "collapsed_sections": [],
      "authorship_tag": "ABX9TyMgdQUHGuAFKXO7fhdJmnmz",
      "include_colab_link": true
    },
    "kernelspec": {
      "name": "python3",
      "display_name": "Python 3"
    },
    "language_info": {
      "name": "python"
    }
  },
  "cells": [
    {
      "cell_type": "markdown",
      "metadata": {
        "id": "view-in-github",
        "colab_type": "text"
      },
      "source": [
        "<a href=\"https://colab.research.google.com/github/gmehra123/course1/blob/master/Hypothesis__testing.ipynb\" target=\"_parent\"><img src=\"https://colab.research.google.com/assets/colab-badge.svg\" alt=\"Open In Colab\"/></a>"
      ]
    },
    {
      "cell_type": "markdown",
      "source": [
        "## Hypothesis Tests\n",
        "* One of the purposes of hypotheis testing id to determone whether a sample statistic is close to or far away from a hypothesized value.\n",
        "* z-score=(sample_stat-hypothesized_value)/std.error\n",
        "* z-score is a standardized measure of the difference between the sample statistic and the hypothesized statistic\n",
        "* A hypothesis is a statement about an unknown population parameter.\n",
        "  * Null hypothesis, the existing status quo. H0\n",
        "  * Alternative hypotesis, the challeger HA\n",
        "* Hypothesis tests check whether the **sample statistic** lies in the tails of the null distribution\n",
        "* p-value represents the probability of obtaining a result under the null hypothesis\n"
      ],
      "metadata": {
        "id": "RSt7zn9n4Zu6"
      }
    },
    {
      "cell_type": "code",
      "execution_count": 1,
      "metadata": {
        "id": "mbIkJDF94Wct"
      },
      "outputs": [],
      "source": [
        "import pandas as pd\n",
        "from scipy.stats import norm\n",
        "import numpy as np"
      ]
    },
    {
      "cell_type": "code",
      "source": [
        "late=pd.read_feather('https://assets.datacamp.com/production/repositories/5982/datasets/887ec4bc2bcfd4195e7d3ad113168555f36d3afa/late_shipments.feather')"
      ],
      "metadata": {
        "id": "RjcI1eey-1Wp"
      },
      "execution_count": 2,
      "outputs": []
    },
    {
      "cell_type": "code",
      "source": [
        "late.head()"
      ],
      "metadata": {
        "colab": {
          "base_uri": "https://localhost:8080/",
          "height": 352
        },
        "id": "aSHtohk5-1gU",
        "outputId": "b07501ff-493a-418c-be9c-a4078c308800"
      },
      "execution_count": 4,
      "outputs": [
        {
          "output_type": "execute_result",
          "data": {
            "text/plain": [
              "        id       country managed_by  fulfill_via vendor_inco_term  \\\n",
              "0  36203.0       Nigeria   PMO - US  Direct Drop              EXW   \n",
              "1  30998.0      Botswana   PMO - US  Direct Drop              EXW   \n",
              "2  69871.0       Vietnam   PMO - US  Direct Drop              EXW   \n",
              "3  17648.0  South Africa   PMO - US  Direct Drop              DDP   \n",
              "4   5647.0        Uganda   PMO - US  Direct Drop              EXW   \n",
              "\n",
              "  shipment_mode  late_delivery late product_group    sub_classification  ...  \\\n",
              "0           Air            1.0  Yes          HRDT              HIV test  ...   \n",
              "1           Air            0.0   No          HRDT              HIV test  ...   \n",
              "2           Air            0.0   No           ARV                 Adult  ...   \n",
              "3         Ocean            0.0   No           ARV                 Adult  ...   \n",
              "4           Air            0.0   No          HRDT  HIV test - Ancillary  ...   \n",
              "\n",
              "  line_item_quantity line_item_value pack_price unit_price  \\\n",
              "0             2996.0       266644.00      89.00       0.89   \n",
              "1               25.0          800.00      32.00       1.60   \n",
              "2            22925.0       110040.00       4.80       0.08   \n",
              "3           152535.0       361507.95       2.37       0.04   \n",
              "4              850.0            8.50       0.01       0.00   \n",
              "\n",
              "             manufacturing_site first_line_designation  weight_kilograms  \\\n",
              "0       Alere Medical Co., Ltd.                    Yes            1426.0   \n",
              "1          Trinity Biotech, Plc                    Yes              10.0   \n",
              "2  Hetero Unit III Hyderabad IN                    Yes            3723.0   \n",
              "3     Aurobindo Unit III, India                    Yes            7698.0   \n",
              "4               Inverness Japan                    Yes              56.0   \n",
              "\n",
              "   freight_cost_usd  freight_cost_groups  line_item_insurance_usd  \n",
              "0          33279.83            expensive                   373.83  \n",
              "1            559.89           reasonable                     1.72  \n",
              "2          19056.13            expensive                   181.57  \n",
              "3          11372.23            expensive                   779.41  \n",
              "4            360.00           reasonable                     0.01  \n",
              "\n",
              "[5 rows x 27 columns]"
            ],
            "text/html": [
              "\n",
              "  <div id=\"df-b5d890d4-ee09-4433-888a-540a6c3ec27c\">\n",
              "    <div class=\"colab-df-container\">\n",
              "      <div>\n",
              "<style scoped>\n",
              "    .dataframe tbody tr th:only-of-type {\n",
              "        vertical-align: middle;\n",
              "    }\n",
              "\n",
              "    .dataframe tbody tr th {\n",
              "        vertical-align: top;\n",
              "    }\n",
              "\n",
              "    .dataframe thead th {\n",
              "        text-align: right;\n",
              "    }\n",
              "</style>\n",
              "<table border=\"1\" class=\"dataframe\">\n",
              "  <thead>\n",
              "    <tr style=\"text-align: right;\">\n",
              "      <th></th>\n",
              "      <th>id</th>\n",
              "      <th>country</th>\n",
              "      <th>managed_by</th>\n",
              "      <th>fulfill_via</th>\n",
              "      <th>vendor_inco_term</th>\n",
              "      <th>shipment_mode</th>\n",
              "      <th>late_delivery</th>\n",
              "      <th>late</th>\n",
              "      <th>product_group</th>\n",
              "      <th>sub_classification</th>\n",
              "      <th>...</th>\n",
              "      <th>line_item_quantity</th>\n",
              "      <th>line_item_value</th>\n",
              "      <th>pack_price</th>\n",
              "      <th>unit_price</th>\n",
              "      <th>manufacturing_site</th>\n",
              "      <th>first_line_designation</th>\n",
              "      <th>weight_kilograms</th>\n",
              "      <th>freight_cost_usd</th>\n",
              "      <th>freight_cost_groups</th>\n",
              "      <th>line_item_insurance_usd</th>\n",
              "    </tr>\n",
              "  </thead>\n",
              "  <tbody>\n",
              "    <tr>\n",
              "      <th>0</th>\n",
              "      <td>36203.0</td>\n",
              "      <td>Nigeria</td>\n",
              "      <td>PMO - US</td>\n",
              "      <td>Direct Drop</td>\n",
              "      <td>EXW</td>\n",
              "      <td>Air</td>\n",
              "      <td>1.0</td>\n",
              "      <td>Yes</td>\n",
              "      <td>HRDT</td>\n",
              "      <td>HIV test</td>\n",
              "      <td>...</td>\n",
              "      <td>2996.0</td>\n",
              "      <td>266644.00</td>\n",
              "      <td>89.00</td>\n",
              "      <td>0.89</td>\n",
              "      <td>Alere Medical Co., Ltd.</td>\n",
              "      <td>Yes</td>\n",
              "      <td>1426.0</td>\n",
              "      <td>33279.83</td>\n",
              "      <td>expensive</td>\n",
              "      <td>373.83</td>\n",
              "    </tr>\n",
              "    <tr>\n",
              "      <th>1</th>\n",
              "      <td>30998.0</td>\n",
              "      <td>Botswana</td>\n",
              "      <td>PMO - US</td>\n",
              "      <td>Direct Drop</td>\n",
              "      <td>EXW</td>\n",
              "      <td>Air</td>\n",
              "      <td>0.0</td>\n",
              "      <td>No</td>\n",
              "      <td>HRDT</td>\n",
              "      <td>HIV test</td>\n",
              "      <td>...</td>\n",
              "      <td>25.0</td>\n",
              "      <td>800.00</td>\n",
              "      <td>32.00</td>\n",
              "      <td>1.60</td>\n",
              "      <td>Trinity Biotech, Plc</td>\n",
              "      <td>Yes</td>\n",
              "      <td>10.0</td>\n",
              "      <td>559.89</td>\n",
              "      <td>reasonable</td>\n",
              "      <td>1.72</td>\n",
              "    </tr>\n",
              "    <tr>\n",
              "      <th>2</th>\n",
              "      <td>69871.0</td>\n",
              "      <td>Vietnam</td>\n",
              "      <td>PMO - US</td>\n",
              "      <td>Direct Drop</td>\n",
              "      <td>EXW</td>\n",
              "      <td>Air</td>\n",
              "      <td>0.0</td>\n",
              "      <td>No</td>\n",
              "      <td>ARV</td>\n",
              "      <td>Adult</td>\n",
              "      <td>...</td>\n",
              "      <td>22925.0</td>\n",
              "      <td>110040.00</td>\n",
              "      <td>4.80</td>\n",
              "      <td>0.08</td>\n",
              "      <td>Hetero Unit III Hyderabad IN</td>\n",
              "      <td>Yes</td>\n",
              "      <td>3723.0</td>\n",
              "      <td>19056.13</td>\n",
              "      <td>expensive</td>\n",
              "      <td>181.57</td>\n",
              "    </tr>\n",
              "    <tr>\n",
              "      <th>3</th>\n",
              "      <td>17648.0</td>\n",
              "      <td>South Africa</td>\n",
              "      <td>PMO - US</td>\n",
              "      <td>Direct Drop</td>\n",
              "      <td>DDP</td>\n",
              "      <td>Ocean</td>\n",
              "      <td>0.0</td>\n",
              "      <td>No</td>\n",
              "      <td>ARV</td>\n",
              "      <td>Adult</td>\n",
              "      <td>...</td>\n",
              "      <td>152535.0</td>\n",
              "      <td>361507.95</td>\n",
              "      <td>2.37</td>\n",
              "      <td>0.04</td>\n",
              "      <td>Aurobindo Unit III, India</td>\n",
              "      <td>Yes</td>\n",
              "      <td>7698.0</td>\n",
              "      <td>11372.23</td>\n",
              "      <td>expensive</td>\n",
              "      <td>779.41</td>\n",
              "    </tr>\n",
              "    <tr>\n",
              "      <th>4</th>\n",
              "      <td>5647.0</td>\n",
              "      <td>Uganda</td>\n",
              "      <td>PMO - US</td>\n",
              "      <td>Direct Drop</td>\n",
              "      <td>EXW</td>\n",
              "      <td>Air</td>\n",
              "      <td>0.0</td>\n",
              "      <td>No</td>\n",
              "      <td>HRDT</td>\n",
              "      <td>HIV test - Ancillary</td>\n",
              "      <td>...</td>\n",
              "      <td>850.0</td>\n",
              "      <td>8.50</td>\n",
              "      <td>0.01</td>\n",
              "      <td>0.00</td>\n",
              "      <td>Inverness Japan</td>\n",
              "      <td>Yes</td>\n",
              "      <td>56.0</td>\n",
              "      <td>360.00</td>\n",
              "      <td>reasonable</td>\n",
              "      <td>0.01</td>\n",
              "    </tr>\n",
              "  </tbody>\n",
              "</table>\n",
              "<p>5 rows × 27 columns</p>\n",
              "</div>\n",
              "      <button class=\"colab-df-convert\" onclick=\"convertToInteractive('df-b5d890d4-ee09-4433-888a-540a6c3ec27c')\"\n",
              "              title=\"Convert this dataframe to an interactive table.\"\n",
              "              style=\"display:none;\">\n",
              "        \n",
              "  <svg xmlns=\"http://www.w3.org/2000/svg\" height=\"24px\"viewBox=\"0 0 24 24\"\n",
              "       width=\"24px\">\n",
              "    <path d=\"M0 0h24v24H0V0z\" fill=\"none\"/>\n",
              "    <path d=\"M18.56 5.44l.94 2.06.94-2.06 2.06-.94-2.06-.94-.94-2.06-.94 2.06-2.06.94zm-11 1L8.5 8.5l.94-2.06 2.06-.94-2.06-.94L8.5 2.5l-.94 2.06-2.06.94zm10 10l.94 2.06.94-2.06 2.06-.94-2.06-.94-.94-2.06-.94 2.06-2.06.94z\"/><path d=\"M17.41 7.96l-1.37-1.37c-.4-.4-.92-.59-1.43-.59-.52 0-1.04.2-1.43.59L10.3 9.45l-7.72 7.72c-.78.78-.78 2.05 0 2.83L4 21.41c.39.39.9.59 1.41.59.51 0 1.02-.2 1.41-.59l7.78-7.78 2.81-2.81c.8-.78.8-2.07 0-2.86zM5.41 20L4 18.59l7.72-7.72 1.47 1.35L5.41 20z\"/>\n",
              "  </svg>\n",
              "      </button>\n",
              "      \n",
              "  <style>\n",
              "    .colab-df-container {\n",
              "      display:flex;\n",
              "      flex-wrap:wrap;\n",
              "      gap: 12px;\n",
              "    }\n",
              "\n",
              "    .colab-df-convert {\n",
              "      background-color: #E8F0FE;\n",
              "      border: none;\n",
              "      border-radius: 50%;\n",
              "      cursor: pointer;\n",
              "      display: none;\n",
              "      fill: #1967D2;\n",
              "      height: 32px;\n",
              "      padding: 0 0 0 0;\n",
              "      width: 32px;\n",
              "    }\n",
              "\n",
              "    .colab-df-convert:hover {\n",
              "      background-color: #E2EBFA;\n",
              "      box-shadow: 0px 1px 2px rgba(60, 64, 67, 0.3), 0px 1px 3px 1px rgba(60, 64, 67, 0.15);\n",
              "      fill: #174EA6;\n",
              "    }\n",
              "\n",
              "    [theme=dark] .colab-df-convert {\n",
              "      background-color: #3B4455;\n",
              "      fill: #D2E3FC;\n",
              "    }\n",
              "\n",
              "    [theme=dark] .colab-df-convert:hover {\n",
              "      background-color: #434B5C;\n",
              "      box-shadow: 0px 1px 3px 1px rgba(0, 0, 0, 0.15);\n",
              "      filter: drop-shadow(0px 1px 2px rgba(0, 0, 0, 0.3));\n",
              "      fill: #FFFFFF;\n",
              "    }\n",
              "  </style>\n",
              "\n",
              "      <script>\n",
              "        const buttonEl =\n",
              "          document.querySelector('#df-b5d890d4-ee09-4433-888a-540a6c3ec27c button.colab-df-convert');\n",
              "        buttonEl.style.display =\n",
              "          google.colab.kernel.accessAllowed ? 'block' : 'none';\n",
              "\n",
              "        async function convertToInteractive(key) {\n",
              "          const element = document.querySelector('#df-b5d890d4-ee09-4433-888a-540a6c3ec27c');\n",
              "          const dataTable =\n",
              "            await google.colab.kernel.invokeFunction('convertToInteractive',\n",
              "                                                     [key], {});\n",
              "          if (!dataTable) return;\n",
              "\n",
              "          const docLinkHtml = 'Like what you see? Visit the ' +\n",
              "            '<a target=\"_blank\" href=https://colab.research.google.com/notebooks/data_table.ipynb>data table notebook</a>'\n",
              "            + ' to learn more about interactive tables.';\n",
              "          element.innerHTML = '';\n",
              "          dataTable['output_type'] = 'display_data';\n",
              "          await google.colab.output.renderOutput(dataTable, element);\n",
              "          const docLink = document.createElement('div');\n",
              "          docLink.innerHTML = docLinkHtml;\n",
              "          element.appendChild(docLink);\n",
              "        }\n",
              "      </script>\n",
              "    </div>\n",
              "  </div>\n",
              "  "
            ]
          },
          "metadata": {},
          "execution_count": 4
        }
      ]
    },
    {
      "cell_type": "markdown",
      "source": [
        "State the hypothesis.\n",
        "1. H0 : The number of late shipments is 6%\n",
        "2. HA : The number of late shipments exceeds 6%"
      ],
      "metadata": {
        "id": "Jxcm9Y2l4YSw"
      }
    },
    {
      "cell_type": "code",
      "source": [
        "# Calculate the sample statistic\n",
        "sample_stat=(late.late=='Yes').mean()\n",
        "sample_stat"
      ],
      "metadata": {
        "colab": {
          "base_uri": "https://localhost:8080/"
        },
        "id": "zmESstFj_kO_",
        "outputId": "6ab7e610-bb1e-4532-c6cd-206715d84f18"
      },
      "execution_count": 5,
      "outputs": [
        {
          "output_type": "execute_result",
          "data": {
            "text/plain": [
              "0.061"
            ]
          },
          "metadata": {},
          "execution_count": 5
        }
      ]
    },
    {
      "cell_type": "code",
      "source": [
        "# now create a boot strap distribution\n",
        "late_prop=np.empty(1000)\n",
        "for i in range(1000):\n",
        "  boot=late.sample(frac=1,replace=True)\n",
        "  stat=(boot.late=='Yes').mean()\n",
        "  late_prop[i]=stat\n"
      ],
      "metadata": {
        "id": "-n3NmuGLAFv9"
      },
      "execution_count": 6,
      "outputs": []
    },
    {
      "cell_type": "code",
      "source": [
        "std_error=late_prop.std(ddof=1)\n",
        "std_error"
      ],
      "metadata": {
        "colab": {
          "base_uri": "https://localhost:8080/"
        },
        "id": "uvQOi4woA81J",
        "outputId": "8481d9b8-f79c-4f73-8ac0-d8dda30af01f"
      },
      "execution_count": 7,
      "outputs": [
        {
          "output_type": "execute_result",
          "data": {
            "text/plain": [
              "0.007875256418915112"
            ]
          },
          "metadata": {},
          "execution_count": 7
        }
      ]
    },
    {
      "cell_type": "code",
      "source": [
        "# Calculate the z score\n",
        "z_score=(sample_stat-0.06)/std_error"
      ],
      "metadata": {
        "id": "IyiBeuRbBQ40"
      },
      "execution_count": 9,
      "outputs": []
    },
    {
      "cell_type": "code",
      "source": [
        "# Calculate the p-value\n",
        "1-norm.cdf(z_score)"
      ],
      "metadata": {
        "colab": {
          "base_uri": "https://localhost:8080/"
        },
        "id": "uO0CACu4BbVV",
        "outputId": "277c4bb8-099f-4b7c-cedd-1aaaee291da3"
      },
      "execution_count": 10,
      "outputs": [
        {
          "output_type": "execute_result",
          "data": {
            "text/plain": [
              "0.4494781170626434"
            ]
          },
          "metadata": {},
          "execution_count": 10
        }
      ]
    },
    {
      "cell_type": "markdown",
      "source": [
        "* large P-value means we fail to reject the null hypothesis."
      ],
      "metadata": {
        "id": "6URuxUqtBvsu"
      }
    },
    {
      "cell_type": "markdown",
      "source": [
        "\n",
        "\n",
        "---\n",
        "\n",
        "2 types of error\n",
        "\n",
        "---\n",
        "1. Chosen H0, Actual HA then false negative (type 2 error)\n",
        "2. Chosen HA, Actual H0 then false positive (type I error)\n",
        "\n"
      ],
      "metadata": {
        "id": "68Mh9rGhCshR"
      }
    },
    {
      "cell_type": "markdown",
      "source": [
        "## Hypothesis test using t stat and bootstrap\n",
        "* Using a t-statistic can be computationally less intensive and give similar results as doing a boot straping for the hypothesis test.\n",
        "* We want to test whether heavier packages are late and if this is statistically significant.\n",
        "\n",
        "\n",
        "\n",
        "* H0-: No diff in mean weight between packages that are late and on time\n",
        "* HA-: Packages that are late are heavier\n",
        "* Alpha-: 0.05\n"
      ],
      "metadata": {
        "id": "XR0kkaP-0N1X"
      }
    },
    {
      "cell_type": "code",
      "source": [
        "# First lets see if there is a difference in weight for late packages\n",
        "means=late.groupby('late')['weight_kilograms'].mean()\n"
      ],
      "metadata": {
        "id": "8gyA0NXXBu0L"
      },
      "execution_count": 16,
      "outputs": []
    },
    {
      "cell_type": "code",
      "source": [
        "# Calculating the test statistic\n",
        "test_statistic=means[1]-means[0]"
      ],
      "metadata": {
        "id": "1RE3wsk3BoKX"
      },
      "execution_count": 19,
      "outputs": []
    },
    {
      "cell_type": "code",
      "source": [
        "# Performing bootstrap to calculate std error\n",
        "rep=np.empty(1000)\n",
        "for i in range(1000):\n",
        "  samp=late.sample(frac=1,replace=True)\n",
        "  means=samp.groupby('late')['weight_kilograms'].mean()\n",
        "  rep[i]=means[1]-means[0]"
      ],
      "metadata": {
        "id": "fRHKFvnz3VqK"
      },
      "execution_count": 20,
      "outputs": []
    },
    {
      "cell_type": "code",
      "source": [
        "std_error=np.std(rep)"
      ],
      "metadata": {
        "id": "3xo5qI-74F31"
      },
      "execution_count": 22,
      "outputs": []
    },
    {
      "cell_type": "code",
      "source": [
        "z_score=(test_statistic-0)/std_error\n",
        "z_score"
      ],
      "metadata": {
        "colab": {
          "base_uri": "https://localhost:8080/"
        },
        "id": "BeNamY4Q4PTD",
        "outputId": "8ae2f7aa-177c-4b0b-fb6a-1be0af3d4549"
      },
      "execution_count": 24,
      "outputs": [
        {
          "output_type": "execute_result",
          "data": {
            "text/plain": [
              "2.4757003933587827"
            ]
          },
          "metadata": {},
          "execution_count": 24
        }
      ]
    },
    {
      "cell_type": "code",
      "source": [
        "from scipy.stats import norm\n",
        "p_val=1-norm.cdf(z_score,loc=0,scale=1)\n",
        "p_val"
      ],
      "metadata": {
        "colab": {
          "base_uri": "https://localhost:8080/"
        },
        "id": "t9HPlhiQ4kTV",
        "outputId": "0f3b257f-f546-42d1-91de-9a71616a3922"
      },
      "execution_count": 28,
      "outputs": [
        {
          "output_type": "execute_result",
          "data": {
            "text/plain": [
              "0.006648755708450804"
            ]
          },
          "metadata": {},
          "execution_count": 28
        }
      ]
    },
    {
      "cell_type": "code",
      "source": [
        "alpha=0.05\n",
        "p_val<=alpha"
      ],
      "metadata": {
        "colab": {
          "base_uri": "https://localhost:8080/"
        },
        "id": "o92G_LCg4zo9",
        "outputId": "e32e490c-4e00-48bd-eef6-48ffa1d3e36c"
      },
      "execution_count": 27,
      "outputs": [
        {
          "output_type": "execute_result",
          "data": {
            "text/plain": [
              "True"
            ]
          },
          "metadata": {},
          "execution_count": 27
        }
      ]
    },
    {
      "cell_type": "markdown",
      "source": [
        "* In this case the p value is less than the alpha so we reject the null hypothesis\n",
        "* In other words late packages tend to be heavier packages"
      ],
      "metadata": {
        "id": "nBGgzZc249l4"
      }
    },
    {
      "cell_type": "markdown",
      "source": [
        "### Use t-statistic for the same result"
      ],
      "metadata": {
        "id": "vWY5bNJ46UPP"
      }
    },
    {
      "cell_type": "code",
      "source": [
        "count=late.late.value_counts()"
      ],
      "metadata": {
        "id": "udRJnb7Y5WVT"
      },
      "execution_count": 29,
      "outputs": []
    },
    {
      "cell_type": "code",
      "source": [
        "n_yes=late.loc[late.late=='Yes','id'].count()\n",
        "n_no=late.loc[late.late=='No','id'].count()\n",
        "print(n_yes,n_no)"
      ],
      "metadata": {
        "colab": {
          "base_uri": "https://localhost:8080/"
        },
        "id": "ztb2cNQe617I",
        "outputId": "779642bc-b1e9-4779-8909-56a8bc103ee8"
      },
      "execution_count": 35,
      "outputs": [
        {
          "output_type": "stream",
          "name": "stdout",
          "text": [
            "61 939\n"
          ]
        }
      ]
    },
    {
      "cell_type": "code",
      "source": [
        "std_yes=late.loc[late.late=='Yes','weight_kilograms'].std()\n",
        "std_no=late.loc[late.late=='No','weight_kilograms'].std()\n",
        "print(std_yes,std_no)"
      ],
      "metadata": {
        "colab": {
          "base_uri": "https://localhost:8080/"
        },
        "id": "F3hCqMn27lgj",
        "outputId": "6713e0c1-f5f7-4f3f-9c7f-b44060083b0a"
      },
      "execution_count": 37,
      "outputs": [
        {
          "output_type": "stream",
          "name": "stdout",
          "text": [
            "2544.688210903328 3154.0395070841696\n"
          ]
        }
      ]
    },
    {
      "cell_type": "code",
      "source": [
        "denominator=np.sqrt((std_yes**2/n_yes)+(std_no**2/n_no))\n",
        "denominator"
      ],
      "metadata": {
        "colab": {
          "base_uri": "https://localhost:8080/"
        },
        "id": "658KEaI08Wk6",
        "outputId": "2fcce958-18b1-4655-d0c3-b46500f6aaa5"
      },
      "execution_count": 38,
      "outputs": [
        {
          "output_type": "execute_result",
          "data": {
            "text/plain": [
              "341.68543274794337"
            ]
          },
          "metadata": {},
          "execution_count": 38
        }
      ]
    },
    {
      "cell_type": "code",
      "source": [
        "tstat=test_statistic/denominator\n",
        "tstat"
      ],
      "metadata": {
        "colab": {
          "base_uri": "https://localhost:8080/"
        },
        "id": "BrXyLN0r8t6I",
        "outputId": "c5764468-4790-4594-fc6b-f0fc73923588"
      },
      "execution_count": 40,
      "outputs": [
        {
          "output_type": "execute_result",
          "data": {
            "text/plain": [
              "2.3936661778766433"
            ]
          },
          "metadata": {},
          "execution_count": 40
        }
      ]
    },
    {
      "cell_type": "code",
      "source": [
        "from scipy.stats import t\n",
        "pval=1-t.cdf(tstat,df=n_yes+n_no-2)"
      ],
      "metadata": {
        "id": "C1ysjyaO86VD"
      },
      "execution_count": 44,
      "outputs": []
    },
    {
      "cell_type": "code",
      "source": [
        "pval<=alpha"
      ],
      "metadata": {
        "colab": {
          "base_uri": "https://localhost:8080/"
        },
        "id": "b1CSS4C_9VXi",
        "outputId": "dcf2fb7e-d895-4dd3-c163-78d2b094802e"
      },
      "execution_count": 45,
      "outputs": [
        {
          "output_type": "execute_result",
          "data": {
            "text/plain": [
              "True"
            ]
          },
          "metadata": {},
          "execution_count": 45
        }
      ]
    },
    {
      "cell_type": "markdown",
      "source": [
        "#### Running a similar test for salary\n",
        "* H0: Difference in salaries is 0\n",
        "* HA: the salroes of folks who started as kids are higher"
      ],
      "metadata": {
        "id": "KECi0OsL_VCl"
      }
    },
    {
      "cell_type": "code",
      "source": [
        "stack=pd.read_feather('https://assets.datacamp.com/production/repositories/5982/datasets/c59033b93930652f402e30db77c3b8ef713dd701/stack_overflow.feather')"
      ],
      "metadata": {
        "id": "Hh5CApOF_Tf2"
      },
      "execution_count": 46,
      "outputs": []
    },
    {
      "cell_type": "code",
      "source": [
        "stack.sample(5)"
      ],
      "metadata": {
        "colab": {
          "base_uri": "https://localhost:8080/",
          "height": 930
        },
        "id": "-2hWjlEB_nQv",
        "outputId": "73611339-64f5-4254-e7da-329ee9ac5b9f"
      },
      "execution_count": 47,
      "outputs": [
        {
          "output_type": "execute_result",
          "data": {
            "text/plain": [
              "      respondent                     main_branch hobbyist   age  age_1st_code  \\\n",
              "395       9190.0  I am a developer by profession      Yes  23.0          18.0   \n",
              "2226     61860.0  I am a developer by profession      Yes  30.0          13.0   \n",
              "1766     48715.0  I am a developer by profession       No  37.0          16.0   \n",
              "1159     26985.0  I am a developer by profession      Yes  23.0          13.0   \n",
              "223       4577.0  I am a developer by profession      Yes  16.0           5.0   \n",
              "\n",
              "     age_first_code_cut comp_freq  comp_total  converted_comp         country  \\\n",
              "395               adult   Monthly    100000.0          7788.0        Pakistan   \n",
              "2226              child    Yearly    165000.0        165000.0   United States   \n",
              "1766              adult   Monthly    348000.0         27084.0        Pakistan   \n",
              "1159              child    Yearly     60000.0         77556.0  United Kingdom   \n",
              "223               child    Weekly      1000.0         37800.0          Canada   \n",
              "\n",
              "      ...          survey_length trans  \\\n",
              "395   ...  Appropriate in length    No   \n",
              "2226  ...  Appropriate in length    No   \n",
              "1766  ...  Appropriate in length    No   \n",
              "1159  ...  Appropriate in length    No   \n",
              "223   ...  Appropriate in length    No   \n",
              "\n",
              "                                        undergrad_major  \\\n",
              "395   Computer science, computer engineering, or sof...   \n",
              "2226  Computer science, computer engineering, or sof...   \n",
              "1766  Computer science, computer engineering, or sof...   \n",
              "1159  Computer science, computer engineering, or sof...   \n",
              "223                                                None   \n",
              "\n",
              "                              webframe_desire_next_year  \\\n",
              "395   Angular;Django;Express;Flask;React.js;Ruby on ...   \n",
              "2226                                             Vue.js   \n",
              "1766           Angular.js;React.js;Ruby on Rails;Spring   \n",
              "1159                              Django;Flask;React.js   \n",
              "223                                             Express   \n",
              "\n",
              "                                   webframe_worked_with  \\\n",
              "395                       Django;Express;Flask;React.js   \n",
              "2226  ASP.NET;ASP.NET Core;Django;Express;Flask;Reac...   \n",
              "1766                                      jQuery;Spring   \n",
              "1159                      Angular;Django;Flask;React.js   \n",
              "223                                               Flask   \n",
              "\n",
              "                                welcome_change work_week_hrs years_code  \\\n",
              "395    Just as welcome now as I felt last year          40.0        6.0   \n",
              "2226                                      None          30.0       17.0   \n",
              "1766  Somewhat more welcome now than last year          45.0       20.0   \n",
              "1159   Just as welcome now as I felt last year          43.0       11.0   \n",
              "223    Just as welcome now as I felt last year          80.0       11.0   \n",
              "\n",
              "     years_code_pro      age_cat  \n",
              "395             2.0     Under 30  \n",
              "2226            7.0     Under 30  \n",
              "1766           15.0  At least 30  \n",
              "1159            6.0     Under 30  \n",
              "223             3.0     Under 30  \n",
              "\n",
              "[5 rows x 63 columns]"
            ],
            "text/html": [
              "\n",
              "  <div id=\"df-56686696-7530-4fbe-b4ad-2e3fcce2b153\">\n",
              "    <div class=\"colab-df-container\">\n",
              "      <div>\n",
              "<style scoped>\n",
              "    .dataframe tbody tr th:only-of-type {\n",
              "        vertical-align: middle;\n",
              "    }\n",
              "\n",
              "    .dataframe tbody tr th {\n",
              "        vertical-align: top;\n",
              "    }\n",
              "\n",
              "    .dataframe thead th {\n",
              "        text-align: right;\n",
              "    }\n",
              "</style>\n",
              "<table border=\"1\" class=\"dataframe\">\n",
              "  <thead>\n",
              "    <tr style=\"text-align: right;\">\n",
              "      <th></th>\n",
              "      <th>respondent</th>\n",
              "      <th>main_branch</th>\n",
              "      <th>hobbyist</th>\n",
              "      <th>age</th>\n",
              "      <th>age_1st_code</th>\n",
              "      <th>age_first_code_cut</th>\n",
              "      <th>comp_freq</th>\n",
              "      <th>comp_total</th>\n",
              "      <th>converted_comp</th>\n",
              "      <th>country</th>\n",
              "      <th>...</th>\n",
              "      <th>survey_length</th>\n",
              "      <th>trans</th>\n",
              "      <th>undergrad_major</th>\n",
              "      <th>webframe_desire_next_year</th>\n",
              "      <th>webframe_worked_with</th>\n",
              "      <th>welcome_change</th>\n",
              "      <th>work_week_hrs</th>\n",
              "      <th>years_code</th>\n",
              "      <th>years_code_pro</th>\n",
              "      <th>age_cat</th>\n",
              "    </tr>\n",
              "  </thead>\n",
              "  <tbody>\n",
              "    <tr>\n",
              "      <th>395</th>\n",
              "      <td>9190.0</td>\n",
              "      <td>I am a developer by profession</td>\n",
              "      <td>Yes</td>\n",
              "      <td>23.0</td>\n",
              "      <td>18.0</td>\n",
              "      <td>adult</td>\n",
              "      <td>Monthly</td>\n",
              "      <td>100000.0</td>\n",
              "      <td>7788.0</td>\n",
              "      <td>Pakistan</td>\n",
              "      <td>...</td>\n",
              "      <td>Appropriate in length</td>\n",
              "      <td>No</td>\n",
              "      <td>Computer science, computer engineering, or sof...</td>\n",
              "      <td>Angular;Django;Express;Flask;React.js;Ruby on ...</td>\n",
              "      <td>Django;Express;Flask;React.js</td>\n",
              "      <td>Just as welcome now as I felt last year</td>\n",
              "      <td>40.0</td>\n",
              "      <td>6.0</td>\n",
              "      <td>2.0</td>\n",
              "      <td>Under 30</td>\n",
              "    </tr>\n",
              "    <tr>\n",
              "      <th>2226</th>\n",
              "      <td>61860.0</td>\n",
              "      <td>I am a developer by profession</td>\n",
              "      <td>Yes</td>\n",
              "      <td>30.0</td>\n",
              "      <td>13.0</td>\n",
              "      <td>child</td>\n",
              "      <td>Yearly</td>\n",
              "      <td>165000.0</td>\n",
              "      <td>165000.0</td>\n",
              "      <td>United States</td>\n",
              "      <td>...</td>\n",
              "      <td>Appropriate in length</td>\n",
              "      <td>No</td>\n",
              "      <td>Computer science, computer engineering, or sof...</td>\n",
              "      <td>Vue.js</td>\n",
              "      <td>ASP.NET;ASP.NET Core;Django;Express;Flask;Reac...</td>\n",
              "      <td>None</td>\n",
              "      <td>30.0</td>\n",
              "      <td>17.0</td>\n",
              "      <td>7.0</td>\n",
              "      <td>Under 30</td>\n",
              "    </tr>\n",
              "    <tr>\n",
              "      <th>1766</th>\n",
              "      <td>48715.0</td>\n",
              "      <td>I am a developer by profession</td>\n",
              "      <td>No</td>\n",
              "      <td>37.0</td>\n",
              "      <td>16.0</td>\n",
              "      <td>adult</td>\n",
              "      <td>Monthly</td>\n",
              "      <td>348000.0</td>\n",
              "      <td>27084.0</td>\n",
              "      <td>Pakistan</td>\n",
              "      <td>...</td>\n",
              "      <td>Appropriate in length</td>\n",
              "      <td>No</td>\n",
              "      <td>Computer science, computer engineering, or sof...</td>\n",
              "      <td>Angular.js;React.js;Ruby on Rails;Spring</td>\n",
              "      <td>jQuery;Spring</td>\n",
              "      <td>Somewhat more welcome now than last year</td>\n",
              "      <td>45.0</td>\n",
              "      <td>20.0</td>\n",
              "      <td>15.0</td>\n",
              "      <td>At least 30</td>\n",
              "    </tr>\n",
              "    <tr>\n",
              "      <th>1159</th>\n",
              "      <td>26985.0</td>\n",
              "      <td>I am a developer by profession</td>\n",
              "      <td>Yes</td>\n",
              "      <td>23.0</td>\n",
              "      <td>13.0</td>\n",
              "      <td>child</td>\n",
              "      <td>Yearly</td>\n",
              "      <td>60000.0</td>\n",
              "      <td>77556.0</td>\n",
              "      <td>United Kingdom</td>\n",
              "      <td>...</td>\n",
              "      <td>Appropriate in length</td>\n",
              "      <td>No</td>\n",
              "      <td>Computer science, computer engineering, or sof...</td>\n",
              "      <td>Django;Flask;React.js</td>\n",
              "      <td>Angular;Django;Flask;React.js</td>\n",
              "      <td>Just as welcome now as I felt last year</td>\n",
              "      <td>43.0</td>\n",
              "      <td>11.0</td>\n",
              "      <td>6.0</td>\n",
              "      <td>Under 30</td>\n",
              "    </tr>\n",
              "    <tr>\n",
              "      <th>223</th>\n",
              "      <td>4577.0</td>\n",
              "      <td>I am a developer by profession</td>\n",
              "      <td>Yes</td>\n",
              "      <td>16.0</td>\n",
              "      <td>5.0</td>\n",
              "      <td>child</td>\n",
              "      <td>Weekly</td>\n",
              "      <td>1000.0</td>\n",
              "      <td>37800.0</td>\n",
              "      <td>Canada</td>\n",
              "      <td>...</td>\n",
              "      <td>Appropriate in length</td>\n",
              "      <td>No</td>\n",
              "      <td>None</td>\n",
              "      <td>Express</td>\n",
              "      <td>Flask</td>\n",
              "      <td>Just as welcome now as I felt last year</td>\n",
              "      <td>80.0</td>\n",
              "      <td>11.0</td>\n",
              "      <td>3.0</td>\n",
              "      <td>Under 30</td>\n",
              "    </tr>\n",
              "  </tbody>\n",
              "</table>\n",
              "<p>5 rows × 63 columns</p>\n",
              "</div>\n",
              "      <button class=\"colab-df-convert\" onclick=\"convertToInteractive('df-56686696-7530-4fbe-b4ad-2e3fcce2b153')\"\n",
              "              title=\"Convert this dataframe to an interactive table.\"\n",
              "              style=\"display:none;\">\n",
              "        \n",
              "  <svg xmlns=\"http://www.w3.org/2000/svg\" height=\"24px\"viewBox=\"0 0 24 24\"\n",
              "       width=\"24px\">\n",
              "    <path d=\"M0 0h24v24H0V0z\" fill=\"none\"/>\n",
              "    <path d=\"M18.56 5.44l.94 2.06.94-2.06 2.06-.94-2.06-.94-.94-2.06-.94 2.06-2.06.94zm-11 1L8.5 8.5l.94-2.06 2.06-.94-2.06-.94L8.5 2.5l-.94 2.06-2.06.94zm10 10l.94 2.06.94-2.06 2.06-.94-2.06-.94-.94-2.06-.94 2.06-2.06.94z\"/><path d=\"M17.41 7.96l-1.37-1.37c-.4-.4-.92-.59-1.43-.59-.52 0-1.04.2-1.43.59L10.3 9.45l-7.72 7.72c-.78.78-.78 2.05 0 2.83L4 21.41c.39.39.9.59 1.41.59.51 0 1.02-.2 1.41-.59l7.78-7.78 2.81-2.81c.8-.78.8-2.07 0-2.86zM5.41 20L4 18.59l7.72-7.72 1.47 1.35L5.41 20z\"/>\n",
              "  </svg>\n",
              "      </button>\n",
              "      \n",
              "  <style>\n",
              "    .colab-df-container {\n",
              "      display:flex;\n",
              "      flex-wrap:wrap;\n",
              "      gap: 12px;\n",
              "    }\n",
              "\n",
              "    .colab-df-convert {\n",
              "      background-color: #E8F0FE;\n",
              "      border: none;\n",
              "      border-radius: 50%;\n",
              "      cursor: pointer;\n",
              "      display: none;\n",
              "      fill: #1967D2;\n",
              "      height: 32px;\n",
              "      padding: 0 0 0 0;\n",
              "      width: 32px;\n",
              "    }\n",
              "\n",
              "    .colab-df-convert:hover {\n",
              "      background-color: #E2EBFA;\n",
              "      box-shadow: 0px 1px 2px rgba(60, 64, 67, 0.3), 0px 1px 3px 1px rgba(60, 64, 67, 0.15);\n",
              "      fill: #174EA6;\n",
              "    }\n",
              "\n",
              "    [theme=dark] .colab-df-convert {\n",
              "      background-color: #3B4455;\n",
              "      fill: #D2E3FC;\n",
              "    }\n",
              "\n",
              "    [theme=dark] .colab-df-convert:hover {\n",
              "      background-color: #434B5C;\n",
              "      box-shadow: 0px 1px 3px 1px rgba(0, 0, 0, 0.15);\n",
              "      filter: drop-shadow(0px 1px 2px rgba(0, 0, 0, 0.3));\n",
              "      fill: #FFFFFF;\n",
              "    }\n",
              "  </style>\n",
              "\n",
              "      <script>\n",
              "        const buttonEl =\n",
              "          document.querySelector('#df-56686696-7530-4fbe-b4ad-2e3fcce2b153 button.colab-df-convert');\n",
              "        buttonEl.style.display =\n",
              "          google.colab.kernel.accessAllowed ? 'block' : 'none';\n",
              "\n",
              "        async function convertToInteractive(key) {\n",
              "          const element = document.querySelector('#df-56686696-7530-4fbe-b4ad-2e3fcce2b153');\n",
              "          const dataTable =\n",
              "            await google.colab.kernel.invokeFunction('convertToInteractive',\n",
              "                                                     [key], {});\n",
              "          if (!dataTable) return;\n",
              "\n",
              "          const docLinkHtml = 'Like what you see? Visit the ' +\n",
              "            '<a target=\"_blank\" href=https://colab.research.google.com/notebooks/data_table.ipynb>data table notebook</a>'\n",
              "            + ' to learn more about interactive tables.';\n",
              "          element.innerHTML = '';\n",
              "          dataTable['output_type'] = 'display_data';\n",
              "          await google.colab.output.renderOutput(dataTable, element);\n",
              "          const docLink = document.createElement('div');\n",
              "          docLink.innerHTML = docLinkHtml;\n",
              "          element.appendChild(docLink);\n",
              "        }\n",
              "      </script>\n",
              "    </div>\n",
              "  </div>\n",
              "  "
            ]
          },
          "metadata": {},
          "execution_count": 47
        },
        {
          "output_type": "stream",
          "name": "stdout",
          "text": [
            "Warning: Total number of columns (63) exceeds max_columns (20) limiting to first (20) columns.\n"
          ]
        }
      ]
    },
    {
      "cell_type": "code",
      "source": [
        "# Getting the mean salary by child_begin and adult begin coders\n",
        "means=stack.groupby('age_first_code_cut')['converted_comp'].mean()"
      ],
      "metadata": {
        "id": "n7EVoODB_tB9"
      },
      "execution_count": 50,
      "outputs": []
    },
    {
      "cell_type": "code",
      "source": [
        "test_stat=means[1]-means[0]"
      ],
      "metadata": {
        "id": "-lvaqcYhAZPH"
      },
      "execution_count": 53,
      "outputs": []
    },
    {
      "cell_type": "code",
      "source": [
        "counts=stack.groupby('age_first_code_cut')['converted_comp'].count()"
      ],
      "metadata": {
        "id": "Yegm2sKuBBVU"
      },
      "execution_count": 54,
      "outputs": []
    },
    {
      "cell_type": "code",
      "source": [
        "n_adult=counts[0]\n",
        "n_child=counts[1]"
      ],
      "metadata": {
        "id": "17v2GZCvBOss"
      },
      "execution_count": 56,
      "outputs": []
    },
    {
      "cell_type": "code",
      "source": [
        "std=stack.groupby('age_first_code_cut')['converted_comp'].std()"
      ],
      "metadata": {
        "id": "c13Hf7OaBcZy"
      },
      "execution_count": 57,
      "outputs": []
    },
    {
      "cell_type": "code",
      "source": [
        "std_a=std[0]\n",
        "std_c=std[1]"
      ],
      "metadata": {
        "id": "9eIW61o0BiRy"
      },
      "execution_count": 59,
      "outputs": []
    },
    {
      "cell_type": "code",
      "source": [
        "denominator=np.sqrt(std_a**2/n_adult+std_c**2/n_child)"
      ],
      "metadata": {
        "id": "YnCEIxBiBpMT"
      },
      "execution_count": 61,
      "outputs": []
    },
    {
      "cell_type": "code",
      "source": [
        "t_stat=test_stat/denominator\n",
        "t_stat"
      ],
      "metadata": {
        "colab": {
          "base_uri": "https://localhost:8080/"
        },
        "id": "aH6j8NWQB3Yv",
        "outputId": "0b0ac8d9-b2bd-47d4-945b-e9a5e89630e4"
      },
      "execution_count": 65,
      "outputs": [
        {
          "output_type": "execute_result",
          "data": {
            "text/plain": [
              "1.8699313316221844"
            ]
          },
          "metadata": {},
          "execution_count": 65
        }
      ]
    },
    {
      "cell_type": "code",
      "source": [
        "1-t.cdf(t_stat,df=n_adult+n_child-2)"
      ],
      "metadata": {
        "colab": {
          "base_uri": "https://localhost:8080/"
        },
        "id": "RGMvvRaTCjqs",
        "outputId": "ad3d8340-80d1-4213-d758-8641e9df1f5e"
      },
      "execution_count": 66,
      "outputs": [
        {
          "output_type": "execute_result",
          "data": {
            "text/plain": [
              "0.030811302165157595"
            ]
          },
          "metadata": {},
          "execution_count": 66
        }
      ]
    },
    {
      "cell_type": "code",
      "source": [
        "!pip install pingouin"
      ],
      "metadata": {
        "colab": {
          "base_uri": "https://localhost:8080/"
        },
        "id": "PbLfbgR8DkL2",
        "outputId": "e83a3d30-3a8f-4a28-8780-679ef1412ef5"
      },
      "execution_count": 71,
      "outputs": [
        {
          "output_type": "stream",
          "name": "stdout",
          "text": [
            "Looking in indexes: https://pypi.org/simple, https://us-python.pkg.dev/colab-wheels/public/simple/\n",
            "Collecting pingouin\n",
            "  Downloading pingouin-0.5.2.tar.gz (185 kB)\n",
            "\u001b[K     |████████████████████████████████| 185 kB 5.2 MB/s \n",
            "\u001b[?25hRequirement already satisfied: numpy>=1.19 in /usr/local/lib/python3.7/dist-packages (from pingouin) (1.21.6)\n",
            "Requirement already satisfied: scipy>=1.7 in /usr/local/lib/python3.7/dist-packages (from pingouin) (1.7.3)\n",
            "Requirement already satisfied: pandas>=1.0 in /usr/local/lib/python3.7/dist-packages (from pingouin) (1.3.5)\n",
            "Requirement already satisfied: matplotlib>=3.0.2 in /usr/local/lib/python3.7/dist-packages (from pingouin) (3.2.2)\n",
            "Requirement already satisfied: seaborn>=0.11 in /usr/local/lib/python3.7/dist-packages (from pingouin) (0.11.2)\n",
            "Collecting statsmodels>=0.13\n",
            "  Downloading statsmodels-0.13.5-cp37-cp37m-manylinux_2_17_x86_64.manylinux2014_x86_64.whl (9.9 MB)\n",
            "\u001b[K     |████████████████████████████████| 9.9 MB 56.4 MB/s \n",
            "\u001b[?25hRequirement already satisfied: scikit-learn<1.1.0 in /usr/local/lib/python3.7/dist-packages (from pingouin) (1.0.2)\n",
            "Collecting pandas_flavor>=0.2.0\n",
            "  Downloading pandas_flavor-0.3.0-py3-none-any.whl (6.3 kB)\n",
            "Collecting outdated\n",
            "  Downloading outdated-0.2.2-py2.py3-none-any.whl (7.5 kB)\n",
            "Requirement already satisfied: tabulate in /usr/local/lib/python3.7/dist-packages (from pingouin) (0.8.10)\n",
            "Requirement already satisfied: kiwisolver>=1.0.1 in /usr/local/lib/python3.7/dist-packages (from matplotlib>=3.0.2->pingouin) (1.4.4)\n",
            "Requirement already satisfied: python-dateutil>=2.1 in /usr/local/lib/python3.7/dist-packages (from matplotlib>=3.0.2->pingouin) (2.8.2)\n",
            "Requirement already satisfied: pyparsing!=2.0.4,!=2.1.2,!=2.1.6,>=2.0.1 in /usr/local/lib/python3.7/dist-packages (from matplotlib>=3.0.2->pingouin) (3.0.9)\n",
            "Requirement already satisfied: cycler>=0.10 in /usr/local/lib/python3.7/dist-packages (from matplotlib>=3.0.2->pingouin) (0.11.0)\n",
            "Requirement already satisfied: typing-extensions in /usr/local/lib/python3.7/dist-packages (from kiwisolver>=1.0.1->matplotlib>=3.0.2->pingouin) (4.1.1)\n",
            "Requirement already satisfied: pytz>=2017.3 in /usr/local/lib/python3.7/dist-packages (from pandas>=1.0->pingouin) (2022.6)\n",
            "Requirement already satisfied: xarray in /usr/local/lib/python3.7/dist-packages (from pandas_flavor>=0.2.0->pingouin) (0.20.2)\n",
            "Collecting pandas_flavor>=0.2.0\n",
            "  Downloading pandas_flavor-0.2.0-py2.py3-none-any.whl (6.6 kB)\n",
            "Requirement already satisfied: six>=1.5 in /usr/local/lib/python3.7/dist-packages (from python-dateutil>=2.1->matplotlib>=3.0.2->pingouin) (1.15.0)\n",
            "Requirement already satisfied: threadpoolctl>=2.0.0 in /usr/local/lib/python3.7/dist-packages (from scikit-learn<1.1.0->pingouin) (3.1.0)\n",
            "Requirement already satisfied: joblib>=0.11 in /usr/local/lib/python3.7/dist-packages (from scikit-learn<1.1.0->pingouin) (1.2.0)\n",
            "Requirement already satisfied: packaging>=21.3 in /usr/local/lib/python3.7/dist-packages (from statsmodels>=0.13->pingouin) (21.3)\n",
            "Requirement already satisfied: patsy>=0.5.2 in /usr/local/lib/python3.7/dist-packages (from statsmodels>=0.13->pingouin) (0.5.3)\n",
            "Requirement already satisfied: setuptools>=44 in /usr/local/lib/python3.7/dist-packages (from outdated->pingouin) (57.4.0)\n",
            "Requirement already satisfied: requests in /usr/local/lib/python3.7/dist-packages (from outdated->pingouin) (2.23.0)\n",
            "Collecting littleutils\n",
            "  Downloading littleutils-0.2.2.tar.gz (6.6 kB)\n",
            "Requirement already satisfied: idna<3,>=2.5 in /usr/local/lib/python3.7/dist-packages (from requests->outdated->pingouin) (2.10)\n",
            "Requirement already satisfied: certifi>=2017.4.17 in /usr/local/lib/python3.7/dist-packages (from requests->outdated->pingouin) (2022.9.24)\n",
            "Requirement already satisfied: urllib3!=1.25.0,!=1.25.1,<1.26,>=1.21.1 in /usr/local/lib/python3.7/dist-packages (from requests->outdated->pingouin) (1.24.3)\n",
            "Requirement already satisfied: chardet<4,>=3.0.2 in /usr/local/lib/python3.7/dist-packages (from requests->outdated->pingouin) (3.0.4)\n",
            "Requirement already satisfied: importlib-metadata in /usr/local/lib/python3.7/dist-packages (from xarray->pandas_flavor>=0.2.0->pingouin) (4.13.0)\n",
            "Requirement already satisfied: zipp>=0.5 in /usr/local/lib/python3.7/dist-packages (from importlib-metadata->xarray->pandas_flavor>=0.2.0->pingouin) (3.10.0)\n",
            "Building wheels for collected packages: pingouin, littleutils\n",
            "  Building wheel for pingouin (setup.py) ... \u001b[?25l\u001b[?25hdone\n",
            "  Created wheel for pingouin: filename=pingouin-0.5.2-py3-none-any.whl size=196208 sha256=cad64945e5b83739637ddb7fd5791de6aaabb923e122c2f850ceaec70bbf30fe\n",
            "  Stored in directory: /root/.cache/pip/wheels/11/5a/63/a6d32fc26fa462c731f65480bfb98ff7bd39b8ebcb4bc6c2fe\n",
            "  Building wheel for littleutils (setup.py) ... \u001b[?25l\u001b[?25hdone\n",
            "  Created wheel for littleutils: filename=littleutils-0.2.2-py3-none-any.whl size=7049 sha256=f43edfd439db318a014b41531e4746b24f0692fcf0f3222a35a483b4e4a032cc\n",
            "  Stored in directory: /root/.cache/pip/wheels/d6/64/cd/32819b511a488e4993f2fab909a95330289c3f4e0f6ef4676d\n",
            "Successfully built pingouin littleutils\n",
            "Installing collected packages: littleutils, statsmodels, pandas-flavor, outdated, pingouin\n",
            "  Attempting uninstall: statsmodels\n",
            "    Found existing installation: statsmodels 0.12.2\n",
            "    Uninstalling statsmodels-0.12.2:\n",
            "      Successfully uninstalled statsmodels-0.12.2\n",
            "Successfully installed littleutils-0.2.2 outdated-0.2.2 pandas-flavor-0.2.0 pingouin-0.5.2 statsmodels-0.13.5\n"
          ]
        }
      ]
    },
    {
      "cell_type": "code",
      "source": [
        "import pingouin"
      ],
      "metadata": {
        "id": "z1QbCuwgEF4g"
      },
      "execution_count": 72,
      "outputs": []
    }
  ]
}