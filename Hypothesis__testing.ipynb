{
  "nbformat": 4,
  "nbformat_minor": 0,
  "metadata": {
    "colab": {
      "provenance": [],
      "collapsed_sections": [],
      "authorship_tag": "ABX9TyMkHPdn1lyAA/GNfMo2kccB",
      "include_colab_link": true
    },
    "kernelspec": {
      "name": "python3",
      "display_name": "Python 3"
    },
    "language_info": {
      "name": "python"
    }
  },
  "cells": [
    {
      "cell_type": "markdown",
      "metadata": {
        "id": "view-in-github",
        "colab_type": "text"
      },
      "source": [
        "<a href=\"https://colab.research.google.com/github/gmehra123/course1/blob/master/Hypothesis__testing.ipynb\" target=\"_parent\"><img src=\"https://colab.research.google.com/assets/colab-badge.svg\" alt=\"Open In Colab\"/></a>"
      ]
    },
    {
      "cell_type": "markdown",
      "source": [
        "## Hypothesis Tests\n",
        "* One of the purposes of hypotheis testing id to determone whether a sample statistic is close to or far away from a hypothesized value.\n",
        "* z-score=(sample_stat-hypothesized_value)/std.error\n",
        "* z-score is a standardized measure of the difference between the sample statistic and the hypothesized statistic\n",
        "* A hypothesis is a statement about an unknown population parameter.\n",
        "  * Null hypothesis, the existing status quo. H0\n",
        "  * Alternative hypotesis, the challeger HA\n",
        "* Hypothesis tests check whether the **sample statistic** lies in the tails of the null distribution\n",
        "* p-value represents the probability of obtaining a result under the null hypothesis\n"
      ],
      "metadata": {
        "id": "RSt7zn9n4Zu6"
      }
    },
    {
      "cell_type": "code",
      "execution_count": 1,
      "metadata": {
        "id": "mbIkJDF94Wct"
      },
      "outputs": [],
      "source": [
        "import pandas as pd\n",
        "from scipy.stats import norm\n",
        "import numpy as np"
      ]
    },
    {
      "cell_type": "code",
      "source": [
        "late=pd.read_feather('https://assets.datacamp.com/production/repositories/5982/datasets/887ec4bc2bcfd4195e7d3ad113168555f36d3afa/late_shipments.feather')"
      ],
      "metadata": {
        "id": "RjcI1eey-1Wp"
      },
      "execution_count": 2,
      "outputs": []
    },
    {
      "cell_type": "code",
      "source": [
        "late.head()"
      ],
      "metadata": {
        "colab": {
          "base_uri": "https://localhost:8080/",
          "height": 352
        },
        "id": "aSHtohk5-1gU",
        "outputId": "ead51671-3760-4bea-c73c-22abd0291c2f"
      },
      "execution_count": 3,
      "outputs": [
        {
          "output_type": "execute_result",
          "data": {
            "text/plain": [
              "        id       country managed_by  fulfill_via vendor_inco_term  \\\n",
              "0  36203.0       Nigeria   PMO - US  Direct Drop              EXW   \n",
              "1  30998.0      Botswana   PMO - US  Direct Drop              EXW   \n",
              "2  69871.0       Vietnam   PMO - US  Direct Drop              EXW   \n",
              "3  17648.0  South Africa   PMO - US  Direct Drop              DDP   \n",
              "4   5647.0        Uganda   PMO - US  Direct Drop              EXW   \n",
              "\n",
              "  shipment_mode  late_delivery late product_group    sub_classification  ...  \\\n",
              "0           Air            1.0  Yes          HRDT              HIV test  ...   \n",
              "1           Air            0.0   No          HRDT              HIV test  ...   \n",
              "2           Air            0.0   No           ARV                 Adult  ...   \n",
              "3         Ocean            0.0   No           ARV                 Adult  ...   \n",
              "4           Air            0.0   No          HRDT  HIV test - Ancillary  ...   \n",
              "\n",
              "  line_item_quantity line_item_value pack_price unit_price  \\\n",
              "0             2996.0       266644.00      89.00       0.89   \n",
              "1               25.0          800.00      32.00       1.60   \n",
              "2            22925.0       110040.00       4.80       0.08   \n",
              "3           152535.0       361507.95       2.37       0.04   \n",
              "4              850.0            8.50       0.01       0.00   \n",
              "\n",
              "             manufacturing_site first_line_designation  weight_kilograms  \\\n",
              "0       Alere Medical Co., Ltd.                    Yes            1426.0   \n",
              "1          Trinity Biotech, Plc                    Yes              10.0   \n",
              "2  Hetero Unit III Hyderabad IN                    Yes            3723.0   \n",
              "3     Aurobindo Unit III, India                    Yes            7698.0   \n",
              "4               Inverness Japan                    Yes              56.0   \n",
              "\n",
              "   freight_cost_usd  freight_cost_groups  line_item_insurance_usd  \n",
              "0          33279.83            expensive                   373.83  \n",
              "1            559.89           reasonable                     1.72  \n",
              "2          19056.13            expensive                   181.57  \n",
              "3          11372.23            expensive                   779.41  \n",
              "4            360.00           reasonable                     0.01  \n",
              "\n",
              "[5 rows x 27 columns]"
            ],
            "text/html": [
              "\n",
              "  <div id=\"df-fd0846ff-7ac9-475b-8b79-84b755ed9ef0\">\n",
              "    <div class=\"colab-df-container\">\n",
              "      <div>\n",
              "<style scoped>\n",
              "    .dataframe tbody tr th:only-of-type {\n",
              "        vertical-align: middle;\n",
              "    }\n",
              "\n",
              "    .dataframe tbody tr th {\n",
              "        vertical-align: top;\n",
              "    }\n",
              "\n",
              "    .dataframe thead th {\n",
              "        text-align: right;\n",
              "    }\n",
              "</style>\n",
              "<table border=\"1\" class=\"dataframe\">\n",
              "  <thead>\n",
              "    <tr style=\"text-align: right;\">\n",
              "      <th></th>\n",
              "      <th>id</th>\n",
              "      <th>country</th>\n",
              "      <th>managed_by</th>\n",
              "      <th>fulfill_via</th>\n",
              "      <th>vendor_inco_term</th>\n",
              "      <th>shipment_mode</th>\n",
              "      <th>late_delivery</th>\n",
              "      <th>late</th>\n",
              "      <th>product_group</th>\n",
              "      <th>sub_classification</th>\n",
              "      <th>...</th>\n",
              "      <th>line_item_quantity</th>\n",
              "      <th>line_item_value</th>\n",
              "      <th>pack_price</th>\n",
              "      <th>unit_price</th>\n",
              "      <th>manufacturing_site</th>\n",
              "      <th>first_line_designation</th>\n",
              "      <th>weight_kilograms</th>\n",
              "      <th>freight_cost_usd</th>\n",
              "      <th>freight_cost_groups</th>\n",
              "      <th>line_item_insurance_usd</th>\n",
              "    </tr>\n",
              "  </thead>\n",
              "  <tbody>\n",
              "    <tr>\n",
              "      <th>0</th>\n",
              "      <td>36203.0</td>\n",
              "      <td>Nigeria</td>\n",
              "      <td>PMO - US</td>\n",
              "      <td>Direct Drop</td>\n",
              "      <td>EXW</td>\n",
              "      <td>Air</td>\n",
              "      <td>1.0</td>\n",
              "      <td>Yes</td>\n",
              "      <td>HRDT</td>\n",
              "      <td>HIV test</td>\n",
              "      <td>...</td>\n",
              "      <td>2996.0</td>\n",
              "      <td>266644.00</td>\n",
              "      <td>89.00</td>\n",
              "      <td>0.89</td>\n",
              "      <td>Alere Medical Co., Ltd.</td>\n",
              "      <td>Yes</td>\n",
              "      <td>1426.0</td>\n",
              "      <td>33279.83</td>\n",
              "      <td>expensive</td>\n",
              "      <td>373.83</td>\n",
              "    </tr>\n",
              "    <tr>\n",
              "      <th>1</th>\n",
              "      <td>30998.0</td>\n",
              "      <td>Botswana</td>\n",
              "      <td>PMO - US</td>\n",
              "      <td>Direct Drop</td>\n",
              "      <td>EXW</td>\n",
              "      <td>Air</td>\n",
              "      <td>0.0</td>\n",
              "      <td>No</td>\n",
              "      <td>HRDT</td>\n",
              "      <td>HIV test</td>\n",
              "      <td>...</td>\n",
              "      <td>25.0</td>\n",
              "      <td>800.00</td>\n",
              "      <td>32.00</td>\n",
              "      <td>1.60</td>\n",
              "      <td>Trinity Biotech, Plc</td>\n",
              "      <td>Yes</td>\n",
              "      <td>10.0</td>\n",
              "      <td>559.89</td>\n",
              "      <td>reasonable</td>\n",
              "      <td>1.72</td>\n",
              "    </tr>\n",
              "    <tr>\n",
              "      <th>2</th>\n",
              "      <td>69871.0</td>\n",
              "      <td>Vietnam</td>\n",
              "      <td>PMO - US</td>\n",
              "      <td>Direct Drop</td>\n",
              "      <td>EXW</td>\n",
              "      <td>Air</td>\n",
              "      <td>0.0</td>\n",
              "      <td>No</td>\n",
              "      <td>ARV</td>\n",
              "      <td>Adult</td>\n",
              "      <td>...</td>\n",
              "      <td>22925.0</td>\n",
              "      <td>110040.00</td>\n",
              "      <td>4.80</td>\n",
              "      <td>0.08</td>\n",
              "      <td>Hetero Unit III Hyderabad IN</td>\n",
              "      <td>Yes</td>\n",
              "      <td>3723.0</td>\n",
              "      <td>19056.13</td>\n",
              "      <td>expensive</td>\n",
              "      <td>181.57</td>\n",
              "    </tr>\n",
              "    <tr>\n",
              "      <th>3</th>\n",
              "      <td>17648.0</td>\n",
              "      <td>South Africa</td>\n",
              "      <td>PMO - US</td>\n",
              "      <td>Direct Drop</td>\n",
              "      <td>DDP</td>\n",
              "      <td>Ocean</td>\n",
              "      <td>0.0</td>\n",
              "      <td>No</td>\n",
              "      <td>ARV</td>\n",
              "      <td>Adult</td>\n",
              "      <td>...</td>\n",
              "      <td>152535.0</td>\n",
              "      <td>361507.95</td>\n",
              "      <td>2.37</td>\n",
              "      <td>0.04</td>\n",
              "      <td>Aurobindo Unit III, India</td>\n",
              "      <td>Yes</td>\n",
              "      <td>7698.0</td>\n",
              "      <td>11372.23</td>\n",
              "      <td>expensive</td>\n",
              "      <td>779.41</td>\n",
              "    </tr>\n",
              "    <tr>\n",
              "      <th>4</th>\n",
              "      <td>5647.0</td>\n",
              "      <td>Uganda</td>\n",
              "      <td>PMO - US</td>\n",
              "      <td>Direct Drop</td>\n",
              "      <td>EXW</td>\n",
              "      <td>Air</td>\n",
              "      <td>0.0</td>\n",
              "      <td>No</td>\n",
              "      <td>HRDT</td>\n",
              "      <td>HIV test - Ancillary</td>\n",
              "      <td>...</td>\n",
              "      <td>850.0</td>\n",
              "      <td>8.50</td>\n",
              "      <td>0.01</td>\n",
              "      <td>0.00</td>\n",
              "      <td>Inverness Japan</td>\n",
              "      <td>Yes</td>\n",
              "      <td>56.0</td>\n",
              "      <td>360.00</td>\n",
              "      <td>reasonable</td>\n",
              "      <td>0.01</td>\n",
              "    </tr>\n",
              "  </tbody>\n",
              "</table>\n",
              "<p>5 rows × 27 columns</p>\n",
              "</div>\n",
              "      <button class=\"colab-df-convert\" onclick=\"convertToInteractive('df-fd0846ff-7ac9-475b-8b79-84b755ed9ef0')\"\n",
              "              title=\"Convert this dataframe to an interactive table.\"\n",
              "              style=\"display:none;\">\n",
              "        \n",
              "  <svg xmlns=\"http://www.w3.org/2000/svg\" height=\"24px\"viewBox=\"0 0 24 24\"\n",
              "       width=\"24px\">\n",
              "    <path d=\"M0 0h24v24H0V0z\" fill=\"none\"/>\n",
              "    <path d=\"M18.56 5.44l.94 2.06.94-2.06 2.06-.94-2.06-.94-.94-2.06-.94 2.06-2.06.94zm-11 1L8.5 8.5l.94-2.06 2.06-.94-2.06-.94L8.5 2.5l-.94 2.06-2.06.94zm10 10l.94 2.06.94-2.06 2.06-.94-2.06-.94-.94-2.06-.94 2.06-2.06.94z\"/><path d=\"M17.41 7.96l-1.37-1.37c-.4-.4-.92-.59-1.43-.59-.52 0-1.04.2-1.43.59L10.3 9.45l-7.72 7.72c-.78.78-.78 2.05 0 2.83L4 21.41c.39.39.9.59 1.41.59.51 0 1.02-.2 1.41-.59l7.78-7.78 2.81-2.81c.8-.78.8-2.07 0-2.86zM5.41 20L4 18.59l7.72-7.72 1.47 1.35L5.41 20z\"/>\n",
              "  </svg>\n",
              "      </button>\n",
              "      \n",
              "  <style>\n",
              "    .colab-df-container {\n",
              "      display:flex;\n",
              "      flex-wrap:wrap;\n",
              "      gap: 12px;\n",
              "    }\n",
              "\n",
              "    .colab-df-convert {\n",
              "      background-color: #E8F0FE;\n",
              "      border: none;\n",
              "      border-radius: 50%;\n",
              "      cursor: pointer;\n",
              "      display: none;\n",
              "      fill: #1967D2;\n",
              "      height: 32px;\n",
              "      padding: 0 0 0 0;\n",
              "      width: 32px;\n",
              "    }\n",
              "\n",
              "    .colab-df-convert:hover {\n",
              "      background-color: #E2EBFA;\n",
              "      box-shadow: 0px 1px 2px rgba(60, 64, 67, 0.3), 0px 1px 3px 1px rgba(60, 64, 67, 0.15);\n",
              "      fill: #174EA6;\n",
              "    }\n",
              "\n",
              "    [theme=dark] .colab-df-convert {\n",
              "      background-color: #3B4455;\n",
              "      fill: #D2E3FC;\n",
              "    }\n",
              "\n",
              "    [theme=dark] .colab-df-convert:hover {\n",
              "      background-color: #434B5C;\n",
              "      box-shadow: 0px 1px 3px 1px rgba(0, 0, 0, 0.15);\n",
              "      filter: drop-shadow(0px 1px 2px rgba(0, 0, 0, 0.3));\n",
              "      fill: #FFFFFF;\n",
              "    }\n",
              "  </style>\n",
              "\n",
              "      <script>\n",
              "        const buttonEl =\n",
              "          document.querySelector('#df-fd0846ff-7ac9-475b-8b79-84b755ed9ef0 button.colab-df-convert');\n",
              "        buttonEl.style.display =\n",
              "          google.colab.kernel.accessAllowed ? 'block' : 'none';\n",
              "\n",
              "        async function convertToInteractive(key) {\n",
              "          const element = document.querySelector('#df-fd0846ff-7ac9-475b-8b79-84b755ed9ef0');\n",
              "          const dataTable =\n",
              "            await google.colab.kernel.invokeFunction('convertToInteractive',\n",
              "                                                     [key], {});\n",
              "          if (!dataTable) return;\n",
              "\n",
              "          const docLinkHtml = 'Like what you see? Visit the ' +\n",
              "            '<a target=\"_blank\" href=https://colab.research.google.com/notebooks/data_table.ipynb>data table notebook</a>'\n",
              "            + ' to learn more about interactive tables.';\n",
              "          element.innerHTML = '';\n",
              "          dataTable['output_type'] = 'display_data';\n",
              "          await google.colab.output.renderOutput(dataTable, element);\n",
              "          const docLink = document.createElement('div');\n",
              "          docLink.innerHTML = docLinkHtml;\n",
              "          element.appendChild(docLink);\n",
              "        }\n",
              "      </script>\n",
              "    </div>\n",
              "  </div>\n",
              "  "
            ]
          },
          "metadata": {},
          "execution_count": 3
        }
      ]
    },
    {
      "cell_type": "markdown",
      "source": [
        "State the hypothesis.\n",
        "1. H0 : The number of late shipments is 6%\n",
        "2. HA : The number of late shipments exceeds 6%\n",
        "\n",
        "</p> We use the boot strap method to determine the std_error for the test statistic. This can be done for any test statistic. We then calculate the z_score and the p_value from the z_score.</p>"
      ],
      "metadata": {
        "id": "Jxcm9Y2l4YSw"
      }
    },
    {
      "cell_type": "code",
      "source": [
        "# Calculate the sample statistic\n",
        "sample_stat=(late.late=='Yes').mean()\n",
        "sample_stat"
      ],
      "metadata": {
        "colab": {
          "base_uri": "https://localhost:8080/"
        },
        "id": "zmESstFj_kO_",
        "outputId": "6c17407a-cb07-4920-b3e4-1fc2dd8e174f"
      },
      "execution_count": 4,
      "outputs": [
        {
          "output_type": "execute_result",
          "data": {
            "text/plain": [
              "0.061"
            ]
          },
          "metadata": {},
          "execution_count": 4
        }
      ]
    },
    {
      "cell_type": "code",
      "source": [
        "# now create a boot strap distribution\n",
        "late_prop=np.empty(1000)\n",
        "for i in range(1000):\n",
        "  boot=late.sample(frac=1,replace=True)\n",
        "  stat=(boot.late=='Yes').mean()\n",
        "  late_prop[i]=stat\n"
      ],
      "metadata": {
        "id": "-n3NmuGLAFv9"
      },
      "execution_count": 5,
      "outputs": []
    },
    {
      "cell_type": "code",
      "source": [
        "std_error=late_prop.std(ddof=1)\n",
        "std_error"
      ],
      "metadata": {
        "colab": {
          "base_uri": "https://localhost:8080/"
        },
        "id": "uvQOi4woA81J",
        "outputId": "6ec2fd50-60de-4ed8-9235-6b550424b702"
      },
      "execution_count": 6,
      "outputs": [
        {
          "output_type": "execute_result",
          "data": {
            "text/plain": [
              "0.007550550629908711"
            ]
          },
          "metadata": {},
          "execution_count": 6
        }
      ]
    },
    {
      "cell_type": "code",
      "source": [
        "# Calculate the z score\n",
        "z_score=(sample_stat-0.06)/std_error"
      ],
      "metadata": {
        "id": "IyiBeuRbBQ40"
      },
      "execution_count": 7,
      "outputs": []
    },
    {
      "cell_type": "code",
      "source": [
        "# Calculate the p-value\n",
        "1-norm.cdf(z_score)"
      ],
      "metadata": {
        "colab": {
          "base_uri": "https://localhost:8080/"
        },
        "id": "uO0CACu4BbVV",
        "outputId": "bf9c31f3-0966-4d73-a3fc-c3457d6813e7"
      },
      "execution_count": 8,
      "outputs": [
        {
          "output_type": "execute_result",
          "data": {
            "text/plain": [
              "0.447317873165203"
            ]
          },
          "metadata": {},
          "execution_count": 8
        }
      ]
    },
    {
      "cell_type": "markdown",
      "source": [
        "* large P-value means we fail to reject the null hypothesis."
      ],
      "metadata": {
        "id": "6URuxUqtBvsu"
      }
    },
    {
      "cell_type": "markdown",
      "source": [
        "\n",
        "\n",
        "---\n",
        "\n",
        "2 types of error\n",
        "\n",
        "---\n",
        "1. Chosen H0, Actual HA then false negative (type 2 error)\n",
        "2. Chosen HA, Actual H0 then false positive (type I error)\n",
        "\n"
      ],
      "metadata": {
        "id": "68Mh9rGhCshR"
      }
    },
    {
      "cell_type": "markdown",
      "source": [
        "## Hypothesis test using t stat and bootstrap\n",
        "* Using a t-statistic can be computationally less intensive and give similar results as doing a boot straping for the hypothesis test.\n",
        "* We want to test whether heavier packages are late and if this is statistically significant.\n",
        "\n",
        "\n",
        "\n",
        "* H0-: No diff in mean weight between packages that are late and on time\n",
        "* HA-: Packages that are late are heavier\n",
        "* Alpha-: 0.05\n"
      ],
      "metadata": {
        "id": "XR0kkaP-0N1X"
      }
    },
    {
      "cell_type": "code",
      "source": [
        "# First lets see if there is a difference in weight for late packages\n",
        "means=late.groupby('late')['weight_kilograms'].mean()\n"
      ],
      "metadata": {
        "id": "8gyA0NXXBu0L"
      },
      "execution_count": 17,
      "outputs": []
    },
    {
      "cell_type": "code",
      "source": [
        "# Calculating the test statistic\n",
        "test_statistic=means[1]-means[0]"
      ],
      "metadata": {
        "id": "1RE3wsk3BoKX"
      },
      "execution_count": 18,
      "outputs": []
    },
    {
      "cell_type": "code",
      "source": [
        "# Performing bootstrap to calculate std error\n",
        "rep=np.empty(1000)\n",
        "for i in range(1000):\n",
        "  samp=late.sample(frac=1,replace=True)\n",
        "  means=samp.groupby('late')['weight_kilograms'].mean()\n",
        "  rep[i]=means[1]-means[0]"
      ],
      "metadata": {
        "id": "fRHKFvnz3VqK"
      },
      "execution_count": 19,
      "outputs": []
    },
    {
      "cell_type": "code",
      "source": [
        "std_error=np.std(rep)"
      ],
      "metadata": {
        "id": "3xo5qI-74F31"
      },
      "execution_count": 20,
      "outputs": []
    },
    {
      "cell_type": "code",
      "source": [
        "z_score=(test_statistic-0)/std_error\n",
        "z_score"
      ],
      "metadata": {
        "colab": {
          "base_uri": "https://localhost:8080/"
        },
        "id": "BeNamY4Q4PTD",
        "outputId": "79f261e3-3bd7-450a-e419-8cb488576ee9"
      },
      "execution_count": 21,
      "outputs": [
        {
          "output_type": "execute_result",
          "data": {
            "text/plain": [
              "2.387105237576427"
            ]
          },
          "metadata": {},
          "execution_count": 21
        }
      ]
    },
    {
      "cell_type": "code",
      "source": [
        "from scipy.stats import norm\n",
        "p_val=1-norm.cdf(z_score,loc=0,scale=1)\n",
        "p_val"
      ],
      "metadata": {
        "colab": {
          "base_uri": "https://localhost:8080/"
        },
        "id": "t9HPlhiQ4kTV",
        "outputId": "c8e0cb85-ee70-41cd-a133-eb4fe9133280"
      },
      "execution_count": 22,
      "outputs": [
        {
          "output_type": "execute_result",
          "data": {
            "text/plain": [
              "0.008490814713556505"
            ]
          },
          "metadata": {},
          "execution_count": 22
        }
      ]
    },
    {
      "cell_type": "code",
      "source": [
        "alpha=0.05\n",
        "p_val<=alpha"
      ],
      "metadata": {
        "colab": {
          "base_uri": "https://localhost:8080/"
        },
        "id": "o92G_LCg4zo9",
        "outputId": "acdec041-6b27-40a0-e56b-b827dd7545cb"
      },
      "execution_count": 23,
      "outputs": [
        {
          "output_type": "execute_result",
          "data": {
            "text/plain": [
              "True"
            ]
          },
          "metadata": {},
          "execution_count": 23
        }
      ]
    },
    {
      "cell_type": "markdown",
      "source": [
        "* In this case the p value is less than the alpha so we reject the null hypothesis\n",
        "* In other words late packages tend to be heavier packages"
      ],
      "metadata": {
        "id": "nBGgzZc249l4"
      }
    },
    {
      "cell_type": "markdown",
      "source": [
        "### Use t-statistic for the same result"
      ],
      "metadata": {
        "id": "vWY5bNJ46UPP"
      }
    },
    {
      "cell_type": "code",
      "source": [
        "count=late.late.value_counts()"
      ],
      "metadata": {
        "id": "udRJnb7Y5WVT"
      },
      "execution_count": 24,
      "outputs": []
    },
    {
      "cell_type": "code",
      "source": [
        "n_yes=late.loc[late.late=='Yes','id'].count()\n",
        "n_no=late.loc[late.late=='No','id'].count()\n",
        "print(n_yes,n_no)"
      ],
      "metadata": {
        "colab": {
          "base_uri": "https://localhost:8080/"
        },
        "id": "ztb2cNQe617I",
        "outputId": "d9ac61cc-5c92-4709-8a85-5ee806b7ad1a"
      },
      "execution_count": 25,
      "outputs": [
        {
          "output_type": "stream",
          "name": "stdout",
          "text": [
            "61 939\n"
          ]
        }
      ]
    },
    {
      "cell_type": "code",
      "source": [
        "std_yes=late.loc[late.late=='Yes','weight_kilograms'].std()\n",
        "std_no=late.loc[late.late=='No','weight_kilograms'].std()\n",
        "print(std_yes,std_no)"
      ],
      "metadata": {
        "colab": {
          "base_uri": "https://localhost:8080/"
        },
        "id": "F3hCqMn27lgj",
        "outputId": "d9f35810-d8ee-4969-d18d-468e2c46e5fb"
      },
      "execution_count": 26,
      "outputs": [
        {
          "output_type": "stream",
          "name": "stdout",
          "text": [
            "2544.688210903328 3154.0395070841696\n"
          ]
        }
      ]
    },
    {
      "cell_type": "code",
      "source": [
        "denominator=np.sqrt((std_yes**2/n_yes)+(std_no**2/n_no))\n",
        "denominator"
      ],
      "metadata": {
        "colab": {
          "base_uri": "https://localhost:8080/"
        },
        "id": "658KEaI08Wk6",
        "outputId": "c33f7d8f-f7d0-469b-a47c-b62adce9ddaf"
      },
      "execution_count": 27,
      "outputs": [
        {
          "output_type": "execute_result",
          "data": {
            "text/plain": [
              "341.68543274794337"
            ]
          },
          "metadata": {},
          "execution_count": 27
        }
      ]
    },
    {
      "cell_type": "code",
      "source": [
        "tstat=test_statistic/denominator\n",
        "tstat"
      ],
      "metadata": {
        "colab": {
          "base_uri": "https://localhost:8080/"
        },
        "id": "BrXyLN0r8t6I",
        "outputId": "70805aa8-48d0-4d8b-90bd-0c770a4b2cea"
      },
      "execution_count": 28,
      "outputs": [
        {
          "output_type": "execute_result",
          "data": {
            "text/plain": [
              "2.3936661778766433"
            ]
          },
          "metadata": {},
          "execution_count": 28
        }
      ]
    },
    {
      "cell_type": "code",
      "source": [
        "from scipy.stats import t\n",
        "pval=1-t.cdf(tstat,df=n_yes+n_no-2)"
      ],
      "metadata": {
        "id": "C1ysjyaO86VD"
      },
      "execution_count": 29,
      "outputs": []
    },
    {
      "cell_type": "code",
      "source": [
        "pval<=alpha"
      ],
      "metadata": {
        "colab": {
          "base_uri": "https://localhost:8080/"
        },
        "id": "b1CSS4C_9VXi",
        "outputId": "2994af0e-7c74-4ca4-be7a-e9db569dba8f"
      },
      "execution_count": 30,
      "outputs": [
        {
          "output_type": "execute_result",
          "data": {
            "text/plain": [
              "True"
            ]
          },
          "metadata": {},
          "execution_count": 30
        }
      ]
    },
    {
      "cell_type": "code",
      "source": [
        "pval"
      ],
      "metadata": {
        "colab": {
          "base_uri": "https://localhost:8080/"
        },
        "id": "Mq80S1yN1CHZ",
        "outputId": "73fa7087-3eb4-4a96-9053-74159613a41e"
      },
      "execution_count": 31,
      "outputs": [
        {
          "output_type": "execute_result",
          "data": {
            "text/plain": [
              "0.008432382146249529"
            ]
          },
          "metadata": {},
          "execution_count": 31
        }
      ]
    },
    {
      "cell_type": "markdown",
      "source": [
        "#### Running a similar test for salary\n",
        "* H0: Difference in salaries is 0\n",
        "* HA: the salroes of folks who started as kids are higher"
      ],
      "metadata": {
        "id": "KECi0OsL_VCl"
      }
    },
    {
      "cell_type": "code",
      "source": [
        "stack=pd.read_feather('https://assets.datacamp.com/production/repositories/5982/datasets/c59033b93930652f402e30db77c3b8ef713dd701/stack_overflow.feather')"
      ],
      "metadata": {
        "id": "Hh5CApOF_Tf2"
      },
      "execution_count": 32,
      "outputs": []
    },
    {
      "cell_type": "code",
      "source": [
        "stack.sample(5)"
      ],
      "metadata": {
        "colab": {
          "base_uri": "https://localhost:8080/",
          "height": 508
        },
        "id": "-2hWjlEB_nQv",
        "outputId": "2e45fdfe-bf84-49dc-95a7-689ac25fbb90"
      },
      "execution_count": 33,
      "outputs": [
        {
          "output_type": "execute_result",
          "data": {
            "text/plain": [
              "      respondent                                        main_branch hobbyist  \\\n",
              "153       3098.0                     I am a developer by profession      Yes   \n",
              "684      16232.0                     I am a developer by profession      Yes   \n",
              "613      15015.0                     I am a developer by profession      Yes   \n",
              "549      13494.0  I am not primarily a developer, but I write co...      Yes   \n",
              "1860     50751.0                     I am a developer by profession      Yes   \n",
              "\n",
              "       age  age_1st_code age_first_code_cut comp_freq  comp_total  \\\n",
              "153   21.0          15.0              adult   Monthly      2500.0   \n",
              "684   29.0          20.0              adult   Monthly    650000.0   \n",
              "613   26.0          19.0              adult   Monthly       200.0   \n",
              "549   23.0          14.0              adult   Monthly       800.0   \n",
              "1860  24.0          15.0              adult    Yearly     22000.0   \n",
              "\n",
              "      converted_comp        country  ...          survey_length trans  \\\n",
              "153          30000.0  United States  ...               Too long    No   \n",
              "684          61140.0        Iceland  ...  Appropriate in length    No   \n",
              "613           2592.0         France  ...  Appropriate in length  None   \n",
              "549          10380.0          Italy  ...  Appropriate in length    No   \n",
              "1860         23782.0        Austria  ...  Appropriate in length    No   \n",
              "\n",
              "                                        undergrad_major  \\\n",
              "153                           Mathematics or statistics   \n",
              "684                           Mathematics or statistics   \n",
              "613   A health science (such as nursing, pharmacy, r...   \n",
              "549   Computer science, computer engineering, or sof...   \n",
              "1860  A natural science (such as biology, chemistry,...   \n",
              "\n",
              "                 webframe_desire_next_year   webframe_worked_with  \\\n",
              "153   Django;Express;Flask;Gatsby;React.js                   None   \n",
              "684                    Django;Flask;Spring    Django;Flask;jQuery   \n",
              "613                               React.js               React.js   \n",
              "549                         Angular;Django  Angular;Django;jQuery   \n",
              "1860                                  None                   None   \n",
              "\n",
              "                               welcome_change work_week_hrs years_code  \\\n",
              "153   Just as welcome now as I felt last year          40.0        6.0   \n",
              "684   Just as welcome now as I felt last year          40.0        8.0   \n",
              "613   Just as welcome now as I felt last year          90.0        7.0   \n",
              "549   Just as welcome now as I felt last year          18.0        6.0   \n",
              "1860  Just as welcome now as I felt last year           4.0        7.0   \n",
              "\n",
              "     years_code_pro   age_cat  \n",
              "153             4.0  Under 30  \n",
              "684             2.0  Under 30  \n",
              "613             4.0  Under 30  \n",
              "549             3.0  Under 30  \n",
              "1860            2.0  Under 30  \n",
              "\n",
              "[5 rows x 63 columns]"
            ],
            "text/html": [
              "\n",
              "  <div id=\"df-272d09aa-86f4-4e8e-b417-2adbc305f212\">\n",
              "    <div class=\"colab-df-container\">\n",
              "      <div>\n",
              "<style scoped>\n",
              "    .dataframe tbody tr th:only-of-type {\n",
              "        vertical-align: middle;\n",
              "    }\n",
              "\n",
              "    .dataframe tbody tr th {\n",
              "        vertical-align: top;\n",
              "    }\n",
              "\n",
              "    .dataframe thead th {\n",
              "        text-align: right;\n",
              "    }\n",
              "</style>\n",
              "<table border=\"1\" class=\"dataframe\">\n",
              "  <thead>\n",
              "    <tr style=\"text-align: right;\">\n",
              "      <th></th>\n",
              "      <th>respondent</th>\n",
              "      <th>main_branch</th>\n",
              "      <th>hobbyist</th>\n",
              "      <th>age</th>\n",
              "      <th>age_1st_code</th>\n",
              "      <th>age_first_code_cut</th>\n",
              "      <th>comp_freq</th>\n",
              "      <th>comp_total</th>\n",
              "      <th>converted_comp</th>\n",
              "      <th>country</th>\n",
              "      <th>...</th>\n",
              "      <th>survey_length</th>\n",
              "      <th>trans</th>\n",
              "      <th>undergrad_major</th>\n",
              "      <th>webframe_desire_next_year</th>\n",
              "      <th>webframe_worked_with</th>\n",
              "      <th>welcome_change</th>\n",
              "      <th>work_week_hrs</th>\n",
              "      <th>years_code</th>\n",
              "      <th>years_code_pro</th>\n",
              "      <th>age_cat</th>\n",
              "    </tr>\n",
              "  </thead>\n",
              "  <tbody>\n",
              "    <tr>\n",
              "      <th>153</th>\n",
              "      <td>3098.0</td>\n",
              "      <td>I am a developer by profession</td>\n",
              "      <td>Yes</td>\n",
              "      <td>21.0</td>\n",
              "      <td>15.0</td>\n",
              "      <td>adult</td>\n",
              "      <td>Monthly</td>\n",
              "      <td>2500.0</td>\n",
              "      <td>30000.0</td>\n",
              "      <td>United States</td>\n",
              "      <td>...</td>\n",
              "      <td>Too long</td>\n",
              "      <td>No</td>\n",
              "      <td>Mathematics or statistics</td>\n",
              "      <td>Django;Express;Flask;Gatsby;React.js</td>\n",
              "      <td>None</td>\n",
              "      <td>Just as welcome now as I felt last year</td>\n",
              "      <td>40.0</td>\n",
              "      <td>6.0</td>\n",
              "      <td>4.0</td>\n",
              "      <td>Under 30</td>\n",
              "    </tr>\n",
              "    <tr>\n",
              "      <th>684</th>\n",
              "      <td>16232.0</td>\n",
              "      <td>I am a developer by profession</td>\n",
              "      <td>Yes</td>\n",
              "      <td>29.0</td>\n",
              "      <td>20.0</td>\n",
              "      <td>adult</td>\n",
              "      <td>Monthly</td>\n",
              "      <td>650000.0</td>\n",
              "      <td>61140.0</td>\n",
              "      <td>Iceland</td>\n",
              "      <td>...</td>\n",
              "      <td>Appropriate in length</td>\n",
              "      <td>No</td>\n",
              "      <td>Mathematics or statistics</td>\n",
              "      <td>Django;Flask;Spring</td>\n",
              "      <td>Django;Flask;jQuery</td>\n",
              "      <td>Just as welcome now as I felt last year</td>\n",
              "      <td>40.0</td>\n",
              "      <td>8.0</td>\n",
              "      <td>2.0</td>\n",
              "      <td>Under 30</td>\n",
              "    </tr>\n",
              "    <tr>\n",
              "      <th>613</th>\n",
              "      <td>15015.0</td>\n",
              "      <td>I am a developer by profession</td>\n",
              "      <td>Yes</td>\n",
              "      <td>26.0</td>\n",
              "      <td>19.0</td>\n",
              "      <td>adult</td>\n",
              "      <td>Monthly</td>\n",
              "      <td>200.0</td>\n",
              "      <td>2592.0</td>\n",
              "      <td>France</td>\n",
              "      <td>...</td>\n",
              "      <td>Appropriate in length</td>\n",
              "      <td>None</td>\n",
              "      <td>A health science (such as nursing, pharmacy, r...</td>\n",
              "      <td>React.js</td>\n",
              "      <td>React.js</td>\n",
              "      <td>Just as welcome now as I felt last year</td>\n",
              "      <td>90.0</td>\n",
              "      <td>7.0</td>\n",
              "      <td>4.0</td>\n",
              "      <td>Under 30</td>\n",
              "    </tr>\n",
              "    <tr>\n",
              "      <th>549</th>\n",
              "      <td>13494.0</td>\n",
              "      <td>I am not primarily a developer, but I write co...</td>\n",
              "      <td>Yes</td>\n",
              "      <td>23.0</td>\n",
              "      <td>14.0</td>\n",
              "      <td>adult</td>\n",
              "      <td>Monthly</td>\n",
              "      <td>800.0</td>\n",
              "      <td>10380.0</td>\n",
              "      <td>Italy</td>\n",
              "      <td>...</td>\n",
              "      <td>Appropriate in length</td>\n",
              "      <td>No</td>\n",
              "      <td>Computer science, computer engineering, or sof...</td>\n",
              "      <td>Angular;Django</td>\n",
              "      <td>Angular;Django;jQuery</td>\n",
              "      <td>Just as welcome now as I felt last year</td>\n",
              "      <td>18.0</td>\n",
              "      <td>6.0</td>\n",
              "      <td>3.0</td>\n",
              "      <td>Under 30</td>\n",
              "    </tr>\n",
              "    <tr>\n",
              "      <th>1860</th>\n",
              "      <td>50751.0</td>\n",
              "      <td>I am a developer by profession</td>\n",
              "      <td>Yes</td>\n",
              "      <td>24.0</td>\n",
              "      <td>15.0</td>\n",
              "      <td>adult</td>\n",
              "      <td>Yearly</td>\n",
              "      <td>22000.0</td>\n",
              "      <td>23782.0</td>\n",
              "      <td>Austria</td>\n",
              "      <td>...</td>\n",
              "      <td>Appropriate in length</td>\n",
              "      <td>No</td>\n",
              "      <td>A natural science (such as biology, chemistry,...</td>\n",
              "      <td>None</td>\n",
              "      <td>None</td>\n",
              "      <td>Just as welcome now as I felt last year</td>\n",
              "      <td>4.0</td>\n",
              "      <td>7.0</td>\n",
              "      <td>2.0</td>\n",
              "      <td>Under 30</td>\n",
              "    </tr>\n",
              "  </tbody>\n",
              "</table>\n",
              "<p>5 rows × 63 columns</p>\n",
              "</div>\n",
              "      <button class=\"colab-df-convert\" onclick=\"convertToInteractive('df-272d09aa-86f4-4e8e-b417-2adbc305f212')\"\n",
              "              title=\"Convert this dataframe to an interactive table.\"\n",
              "              style=\"display:none;\">\n",
              "        \n",
              "  <svg xmlns=\"http://www.w3.org/2000/svg\" height=\"24px\"viewBox=\"0 0 24 24\"\n",
              "       width=\"24px\">\n",
              "    <path d=\"M0 0h24v24H0V0z\" fill=\"none\"/>\n",
              "    <path d=\"M18.56 5.44l.94 2.06.94-2.06 2.06-.94-2.06-.94-.94-2.06-.94 2.06-2.06.94zm-11 1L8.5 8.5l.94-2.06 2.06-.94-2.06-.94L8.5 2.5l-.94 2.06-2.06.94zm10 10l.94 2.06.94-2.06 2.06-.94-2.06-.94-.94-2.06-.94 2.06-2.06.94z\"/><path d=\"M17.41 7.96l-1.37-1.37c-.4-.4-.92-.59-1.43-.59-.52 0-1.04.2-1.43.59L10.3 9.45l-7.72 7.72c-.78.78-.78 2.05 0 2.83L4 21.41c.39.39.9.59 1.41.59.51 0 1.02-.2 1.41-.59l7.78-7.78 2.81-2.81c.8-.78.8-2.07 0-2.86zM5.41 20L4 18.59l7.72-7.72 1.47 1.35L5.41 20z\"/>\n",
              "  </svg>\n",
              "      </button>\n",
              "      \n",
              "  <style>\n",
              "    .colab-df-container {\n",
              "      display:flex;\n",
              "      flex-wrap:wrap;\n",
              "      gap: 12px;\n",
              "    }\n",
              "\n",
              "    .colab-df-convert {\n",
              "      background-color: #E8F0FE;\n",
              "      border: none;\n",
              "      border-radius: 50%;\n",
              "      cursor: pointer;\n",
              "      display: none;\n",
              "      fill: #1967D2;\n",
              "      height: 32px;\n",
              "      padding: 0 0 0 0;\n",
              "      width: 32px;\n",
              "    }\n",
              "\n",
              "    .colab-df-convert:hover {\n",
              "      background-color: #E2EBFA;\n",
              "      box-shadow: 0px 1px 2px rgba(60, 64, 67, 0.3), 0px 1px 3px 1px rgba(60, 64, 67, 0.15);\n",
              "      fill: #174EA6;\n",
              "    }\n",
              "\n",
              "    [theme=dark] .colab-df-convert {\n",
              "      background-color: #3B4455;\n",
              "      fill: #D2E3FC;\n",
              "    }\n",
              "\n",
              "    [theme=dark] .colab-df-convert:hover {\n",
              "      background-color: #434B5C;\n",
              "      box-shadow: 0px 1px 3px 1px rgba(0, 0, 0, 0.15);\n",
              "      filter: drop-shadow(0px 1px 2px rgba(0, 0, 0, 0.3));\n",
              "      fill: #FFFFFF;\n",
              "    }\n",
              "  </style>\n",
              "\n",
              "      <script>\n",
              "        const buttonEl =\n",
              "          document.querySelector('#df-272d09aa-86f4-4e8e-b417-2adbc305f212 button.colab-df-convert');\n",
              "        buttonEl.style.display =\n",
              "          google.colab.kernel.accessAllowed ? 'block' : 'none';\n",
              "\n",
              "        async function convertToInteractive(key) {\n",
              "          const element = document.querySelector('#df-272d09aa-86f4-4e8e-b417-2adbc305f212');\n",
              "          const dataTable =\n",
              "            await google.colab.kernel.invokeFunction('convertToInteractive',\n",
              "                                                     [key], {});\n",
              "          if (!dataTable) return;\n",
              "\n",
              "          const docLinkHtml = 'Like what you see? Visit the ' +\n",
              "            '<a target=\"_blank\" href=https://colab.research.google.com/notebooks/data_table.ipynb>data table notebook</a>'\n",
              "            + ' to learn more about interactive tables.';\n",
              "          element.innerHTML = '';\n",
              "          dataTable['output_type'] = 'display_data';\n",
              "          await google.colab.output.renderOutput(dataTable, element);\n",
              "          const docLink = document.createElement('div');\n",
              "          docLink.innerHTML = docLinkHtml;\n",
              "          element.appendChild(docLink);\n",
              "        }\n",
              "      </script>\n",
              "    </div>\n",
              "  </div>\n",
              "  "
            ]
          },
          "metadata": {},
          "execution_count": 33
        }
      ]
    },
    {
      "cell_type": "code",
      "source": [
        "# Getting the mean salary by child_begin and adult begin coders\n",
        "means=stack.groupby('age_first_code_cut')['converted_comp'].mean()"
      ],
      "metadata": {
        "id": "n7EVoODB_tB9"
      },
      "execution_count": 34,
      "outputs": []
    },
    {
      "cell_type": "code",
      "source": [
        "test_stat=means[1]-means[0]"
      ],
      "metadata": {
        "id": "-lvaqcYhAZPH"
      },
      "execution_count": 35,
      "outputs": []
    },
    {
      "cell_type": "code",
      "source": [
        "counts=stack.groupby('age_first_code_cut')['converted_comp'].count()"
      ],
      "metadata": {
        "id": "Yegm2sKuBBVU"
      },
      "execution_count": 36,
      "outputs": []
    },
    {
      "cell_type": "code",
      "source": [
        "n_adult=counts[0]\n",
        "n_child=counts[1]"
      ],
      "metadata": {
        "id": "17v2GZCvBOss"
      },
      "execution_count": 37,
      "outputs": []
    },
    {
      "cell_type": "code",
      "source": [
        "std=stack.groupby('age_first_code_cut')['converted_comp'].std()"
      ],
      "metadata": {
        "id": "c13Hf7OaBcZy"
      },
      "execution_count": 38,
      "outputs": []
    },
    {
      "cell_type": "code",
      "source": [
        "std_a=std[0]\n",
        "std_c=std[1]"
      ],
      "metadata": {
        "id": "9eIW61o0BiRy"
      },
      "execution_count": 39,
      "outputs": []
    },
    {
      "cell_type": "code",
      "source": [
        "denominator=np.sqrt(std_a**2/n_adult+std_c**2/n_child)"
      ],
      "metadata": {
        "id": "YnCEIxBiBpMT"
      },
      "execution_count": 40,
      "outputs": []
    },
    {
      "cell_type": "code",
      "source": [
        "t_stat=test_stat/denominator\n",
        "t_stat"
      ],
      "metadata": {
        "colab": {
          "base_uri": "https://localhost:8080/"
        },
        "id": "aH6j8NWQB3Yv",
        "outputId": "b6a42bee-4ad0-4d99-bf77-29fb4ee7b66f"
      },
      "execution_count": 41,
      "outputs": [
        {
          "output_type": "execute_result",
          "data": {
            "text/plain": [
              "1.8699313316221844"
            ]
          },
          "metadata": {},
          "execution_count": 41
        }
      ]
    },
    {
      "cell_type": "code",
      "source": [
        "1-t.cdf(t_stat,df=n_adult+n_child-2)"
      ],
      "metadata": {
        "colab": {
          "base_uri": "https://localhost:8080/"
        },
        "id": "RGMvvRaTCjqs",
        "outputId": "82e4d1a6-233c-46d0-bc59-8d9ef2de5a6a"
      },
      "execution_count": 42,
      "outputs": [
        {
          "output_type": "execute_result",
          "data": {
            "text/plain": [
              "0.030811302165157595"
            ]
          },
          "metadata": {},
          "execution_count": 42
        }
      ]
    },
    {
      "cell_type": "code",
      "source": [
        "#!pip install pingouin"
      ],
      "metadata": {
        "id": "PbLfbgR8DkL2"
      },
      "execution_count": null,
      "outputs": []
    },
    {
      "cell_type": "code",
      "source": [
        "import pingouin"
      ],
      "metadata": {
        "id": "z1QbCuwgEF4g"
      },
      "execution_count": 44,
      "outputs": []
    },
    {
      "cell_type": "code",
      "source": [
        "stack.groupby('job_sat')['converted_comp'].mean()"
      ],
      "metadata": {
        "colab": {
          "base_uri": "https://localhost:8080/"
        },
        "id": "L2TEOV8zFYVA",
        "outputId": "ef32fcc0-b333-4f86-96ba-b758a5c15ab6"
      },
      "execution_count": 45,
      "outputs": [
        {
          "output_type": "execute_result",
          "data": {
            "text/plain": [
              "job_sat\n",
              "Very dissatisfied        127539.679245\n",
              "Slightly dissatisfied     96643.324561\n",
              "Neither                  110593.980100\n",
              "Slightly satisfied        96084.992647\n",
              "Very satisfied           147281.484642\n",
              "Name: converted_comp, dtype: float64"
            ]
          },
          "metadata": {},
          "execution_count": 45
        }
      ]
    },
    {
      "cell_type": "code",
      "source": [
        "import seaborn as sns\n",
        "sns.boxplot(x='job_sat',y='converted_comp',data=stack)\n"
      ],
      "metadata": {
        "colab": {
          "base_uri": "https://localhost:8080/",
          "height": 309
        },
        "id": "ByvV_ZbhGPMb",
        "outputId": "1840b207-6f84-4abe-db17-375bce4319b3"
      },
      "execution_count": 46,
      "outputs": [
        {
          "output_type": "execute_result",
          "data": {
            "text/plain": [
              "<matplotlib.axes._subplots.AxesSubplot at 0x7ffad2da9c50>"
            ]
          },
          "metadata": {},
          "execution_count": 46
        },
        {
          "output_type": "display_data",
          "data": {
            "text/plain": [
              "<Figure size 432x288 with 1 Axes>"
            ],
            "image/png": "[encoded data removed]"
          },
          "metadata": {
            "needs_background": "light"
          }
        }
      ]
    },
    {
      "cell_type": "code",
      "source": [
        "pingouin.anova(data=stack,dv='converted_comp',between='job_sat')"
      ],
      "metadata": {
        "colab": {
          "base_uri": "https://localhost:8080/",
          "height": 81
        },
        "id": "17lcjP4L1TQL",
        "outputId": "29f034d2-26f2-4d65-99e1-644efd229754"
      },
      "execution_count": 47,
      "outputs": [
        {
          "output_type": "execute_result",
          "data": {
            "text/plain": [
              "    Source  ddof1  ddof2         F     p-unc       np2\n",
              "0  job_sat      4   2256  4.480485  0.001315  0.007882"
            ],
            "text/html": [
              "\n",
              "  <div id=\"df-dd0fa9e2-261c-4de5-a7da-5b8919809e4d\">\n",
              "    <div class=\"colab-df-container\">\n",
              "      <div>\n",
              "<style scoped>\n",
              "    .dataframe tbody tr th:only-of-type {\n",
              "        vertical-align: middle;\n",
              "    }\n",
              "\n",
              "    .dataframe tbody tr th {\n",
              "        vertical-align: top;\n",
              "    }\n",
              "\n",
              "    .dataframe thead th {\n",
              "        text-align: right;\n",
              "    }\n",
              "</style>\n",
              "<table border=\"1\" class=\"dataframe\">\n",
              "  <thead>\n",
              "    <tr style=\"text-align: right;\">\n",
              "      <th></th>\n",
              "      <th>Source</th>\n",
              "      <th>ddof1</th>\n",
              "      <th>ddof2</th>\n",
              "      <th>F</th>\n",
              "      <th>p-unc</th>\n",
              "      <th>np2</th>\n",
              "    </tr>\n",
              "  </thead>\n",
              "  <tbody>\n",
              "    <tr>\n",
              "      <th>0</th>\n",
              "      <td>job_sat</td>\n",
              "      <td>4</td>\n",
              "      <td>2256</td>\n",
              "      <td>4.480485</td>\n",
              "      <td>0.001315</td>\n",
              "      <td>0.007882</td>\n",
              "    </tr>\n",
              "  </tbody>\n",
              "</table>\n",
              "</div>\n",
              "      <button class=\"colab-df-convert\" onclick=\"convertToInteractive('df-dd0fa9e2-261c-4de5-a7da-5b8919809e4d')\"\n",
              "              title=\"Convert this dataframe to an interactive table.\"\n",
              "              style=\"display:none;\">\n",
              "        \n",
              "  <svg xmlns=\"http://www.w3.org/2000/svg\" height=\"24px\"viewBox=\"0 0 24 24\"\n",
              "       width=\"24px\">\n",
              "    <path d=\"M0 0h24v24H0V0z\" fill=\"none\"/>\n",
              "    <path d=\"M18.56 5.44l.94 2.06.94-2.06 2.06-.94-2.06-.94-.94-2.06-.94 2.06-2.06.94zm-11 1L8.5 8.5l.94-2.06 2.06-.94-2.06-.94L8.5 2.5l-.94 2.06-2.06.94zm10 10l.94 2.06.94-2.06 2.06-.94-2.06-.94-.94-2.06-.94 2.06-2.06.94z\"/><path d=\"M17.41 7.96l-1.37-1.37c-.4-.4-.92-.59-1.43-.59-.52 0-1.04.2-1.43.59L10.3 9.45l-7.72 7.72c-.78.78-.78 2.05 0 2.83L4 21.41c.39.39.9.59 1.41.59.51 0 1.02-.2 1.41-.59l7.78-7.78 2.81-2.81c.8-.78.8-2.07 0-2.86zM5.41 20L4 18.59l7.72-7.72 1.47 1.35L5.41 20z\"/>\n",
              "  </svg>\n",
              "      </button>\n",
              "      \n",
              "  <style>\n",
              "    .colab-df-container {\n",
              "      display:flex;\n",
              "      flex-wrap:wrap;\n",
              "      gap: 12px;\n",
              "    }\n",
              "\n",
              "    .colab-df-convert {\n",
              "      background-color: #E8F0FE;\n",
              "      border: none;\n",
              "      border-radius: 50%;\n",
              "      cursor: pointer;\n",
              "      display: none;\n",
              "      fill: #1967D2;\n",
              "      height: 32px;\n",
              "      padding: 0 0 0 0;\n",
              "      width: 32px;\n",
              "    }\n",
              "\n",
              "    .colab-df-convert:hover {\n",
              "      background-color: #E2EBFA;\n",
              "      box-shadow: 0px 1px 2px rgba(60, 64, 67, 0.3), 0px 1px 3px 1px rgba(60, 64, 67, 0.15);\n",
              "      fill: #174EA6;\n",
              "    }\n",
              "\n",
              "    [theme=dark] .colab-df-convert {\n",
              "      background-color: #3B4455;\n",
              "      fill: #D2E3FC;\n",
              "    }\n",
              "\n",
              "    [theme=dark] .colab-df-convert:hover {\n",
              "      background-color: #434B5C;\n",
              "      box-shadow: 0px 1px 3px 1px rgba(0, 0, 0, 0.15);\n",
              "      filter: drop-shadow(0px 1px 2px rgba(0, 0, 0, 0.3));\n",
              "      fill: #FFFFFF;\n",
              "    }\n",
              "  </style>\n",
              "\n",
              "      <script>\n",
              "        const buttonEl =\n",
              "          document.querySelector('#df-dd0fa9e2-261c-4de5-a7da-5b8919809e4d button.colab-df-convert');\n",
              "        buttonEl.style.display =\n",
              "          google.colab.kernel.accessAllowed ? 'block' : 'none';\n",
              "\n",
              "        async function convertToInteractive(key) {\n",
              "          const element = document.querySelector('#df-dd0fa9e2-261c-4de5-a7da-5b8919809e4d');\n",
              "          const dataTable =\n",
              "            await google.colab.kernel.invokeFunction('convertToInteractive',\n",
              "                                                     [key], {});\n",
              "          if (!dataTable) return;\n",
              "\n",
              "          const docLinkHtml = 'Like what you see? Visit the ' +\n",
              "            '<a target=\"_blank\" href=https://colab.research.google.com/notebooks/data_table.ipynb>data table notebook</a>'\n",
              "            + ' to learn more about interactive tables.';\n",
              "          element.innerHTML = '';\n",
              "          dataTable['output_type'] = 'display_data';\n",
              "          await google.colab.output.renderOutput(dataTable, element);\n",
              "          const docLink = document.createElement('div');\n",
              "          docLink.innerHTML = docLinkHtml;\n",
              "          element.appendChild(docLink);\n",
              "        }\n",
              "      </script>\n",
              "    </div>\n",
              "  </div>\n",
              "  "
            ]
          },
          "metadata": {},
          "execution_count": 47
        }
      ]
    },
    {
      "cell_type": "markdown",
      "source": [
        "> Both the boxplot and the anova test show that there is some relationship between *job satisfaction* and *compensation.* The p_value *p-unc* shows that at a 95% CI level we can say that job satisfaction affects compensation. From the box plot it is the Very satisfied category driving this difference"
      ],
      "metadata": {
        "id": "u1tQhQsG14na"
      }
    },
    {
      "cell_type": "code",
      "source": [
        "pingouin.pairwise_tests(data=stack,dv='converted_comp',between='job_sat',padjust='bonf')"
      ],
      "metadata": {
        "colab": {
          "base_uri": "https://localhost:8080/",
          "height": 363
        },
        "id": "whBQWCFn12uc",
        "outputId": "1a76f962-0333-4f2b-82d6-7b2fe69b40eb"
      },
      "execution_count": 48,
      "outputs": [
        {
          "output_type": "execute_result",
          "data": {
            "text/plain": [
              "  Contrast                   A                      B  Paired  Parametric  \\\n",
              "0  job_sat  Slightly satisfied         Very satisfied   False        True   \n",
              "1  job_sat  Slightly satisfied                Neither   False        True   \n",
              "2  job_sat  Slightly satisfied      Very dissatisfied   False        True   \n",
              "3  job_sat  Slightly satisfied  Slightly dissatisfied   False        True   \n",
              "4  job_sat      Very satisfied                Neither   False        True   \n",
              "5  job_sat      Very satisfied      Very dissatisfied   False        True   \n",
              "6  job_sat      Very satisfied  Slightly dissatisfied   False        True   \n",
              "7  job_sat             Neither      Very dissatisfied   False        True   \n",
              "8  job_sat             Neither  Slightly dissatisfied   False        True   \n",
              "9  job_sat   Very dissatisfied  Slightly dissatisfied   False        True   \n",
              "\n",
              "          T          dof alternative     p-unc    p-corr p-adjust     BF10  \\\n",
              "0 -4.009935  1478.622799   two-sided  0.000064  0.000638     bonf  158.564   \n",
              "1 -0.700752   258.204546   two-sided  0.484088  1.000000     bonf    0.114   \n",
              "2 -1.243665   187.153329   two-sided  0.215179  1.000000     bonf    0.208   \n",
              "3 -0.038264   569.926329   two-sided  0.969491  1.000000     bonf    0.074   \n",
              "4  1.662901   328.326639   two-sided  0.097286  0.972864     bonf    0.337   \n",
              "5  0.747379   221.666205   two-sided  0.455627  1.000000     bonf    0.126   \n",
              "6  3.076222   821.303063   two-sided  0.002166  0.021659     bonf     7.43   \n",
              "7 -0.545948   321.165726   two-sided  0.585481  1.000000     bonf    0.135   \n",
              "8  0.602209   367.730081   two-sided  0.547406  1.000000     bonf    0.118   \n",
              "9  1.129951   247.570187   two-sided  0.259590  1.000000     bonf    0.197   \n",
              "\n",
              "     hedges  \n",
              "0 -0.192931  \n",
              "1 -0.068513  \n",
              "2 -0.145624  \n",
              "3 -0.002719  \n",
              "4  0.120115  \n",
              "5  0.063479  \n",
              "6  0.173247  \n",
              "7 -0.058537  \n",
              "8  0.055707  \n",
              "9  0.119131  "
            ],
            "text/html": [
              "\n",
              "  <div id=\"df-164b606c-0c1c-47ef-9afa-714a5ec4cd79\">\n",
              "    <div class=\"colab-df-container\">\n",
              "      <div>\n",
              "<style scoped>\n",
              "    .dataframe tbody tr th:only-of-type {\n",
              "        vertical-align: middle;\n",
              "    }\n",
              "\n",
              "    .dataframe tbody tr th {\n",
              "        vertical-align: top;\n",
              "    }\n",
              "\n",
              "    .dataframe thead th {\n",
              "        text-align: right;\n",
              "    }\n",
              "</style>\n",
              "<table border=\"1\" class=\"dataframe\">\n",
              "  <thead>\n",
              "    <tr style=\"text-align: right;\">\n",
              "      <th></th>\n",
              "      <th>Contrast</th>\n",
              "      <th>A</th>\n",
              "      <th>B</th>\n",
              "      <th>Paired</th>\n",
              "      <th>Parametric</th>\n",
              "      <th>T</th>\n",
              "      <th>dof</th>\n",
              "      <th>alternative</th>\n",
              "      <th>p-unc</th>\n",
              "      <th>p-corr</th>\n",
              "      <th>p-adjust</th>\n",
              "      <th>BF10</th>\n",
              "      <th>hedges</th>\n",
              "    </tr>\n",
              "  </thead>\n",
              "  <tbody>\n",
              "    <tr>\n",
              "      <th>0</th>\n",
              "      <td>job_sat</td>\n",
              "      <td>Slightly satisfied</td>\n",
              "      <td>Very satisfied</td>\n",
              "      <td>False</td>\n",
              "      <td>True</td>\n",
              "      <td>-4.009935</td>\n",
              "      <td>1478.622799</td>\n",
              "      <td>two-sided</td>\n",
              "      <td>0.000064</td>\n",
              "      <td>0.000638</td>\n",
              "      <td>bonf</td>\n",
              "      <td>158.564</td>\n",
              "      <td>-0.192931</td>\n",
              "    </tr>\n",
              "    <tr>\n",
              "      <th>1</th>\n",
              "      <td>job_sat</td>\n",
              "      <td>Slightly satisfied</td>\n",
              "      <td>Neither</td>\n",
              "      <td>False</td>\n",
              "      <td>True</td>\n",
              "      <td>-0.700752</td>\n",
              "      <td>258.204546</td>\n",
              "      <td>two-sided</td>\n",
              "      <td>0.484088</td>\n",
              "      <td>1.000000</td>\n",
              "      <td>bonf</td>\n",
              "      <td>0.114</td>\n",
              "      <td>-0.068513</td>\n",
              "    </tr>\n",
              "    <tr>\n",
              "      <th>2</th>\n",
              "      <td>job_sat</td>\n",
              "      <td>Slightly satisfied</td>\n",
              "      <td>Very dissatisfied</td>\n",
              "      <td>False</td>\n",
              "      <td>True</td>\n",
              "      <td>-1.243665</td>\n",
              "      <td>187.153329</td>\n",
              "      <td>two-sided</td>\n",
              "      <td>0.215179</td>\n",
              "      <td>1.000000</td>\n",
              "      <td>bonf</td>\n",
              "      <td>0.208</td>\n",
              "      <td>-0.145624</td>\n",
              "    </tr>\n",
              "    <tr>\n",
              "      <th>3</th>\n",
              "      <td>job_sat</td>\n",
              "      <td>Slightly satisfied</td>\n",
              "      <td>Slightly dissatisfied</td>\n",
              "      <td>False</td>\n",
              "      <td>True</td>\n",
              "      <td>-0.038264</td>\n",
              "      <td>569.926329</td>\n",
              "      <td>two-sided</td>\n",
              "      <td>0.969491</td>\n",
              "      <td>1.000000</td>\n",
              "      <td>bonf</td>\n",
              "      <td>0.074</td>\n",
              "      <td>-0.002719</td>\n",
              "    </tr>\n",
              "    <tr>\n",
              "      <th>4</th>\n",
              "      <td>job_sat</td>\n",
              "      <td>Very satisfied</td>\n",
              "      <td>Neither</td>\n",
              "      <td>False</td>\n",
              "      <td>True</td>\n",
              "      <td>1.662901</td>\n",
              "      <td>328.326639</td>\n",
              "      <td>two-sided</td>\n",
              "      <td>0.097286</td>\n",
              "      <td>0.972864</td>\n",
              "      <td>bonf</td>\n",
              "      <td>0.337</td>\n",
              "      <td>0.120115</td>\n",
              "    </tr>\n",
              "    <tr>\n",
              "      <th>5</th>\n",
              "      <td>job_sat</td>\n",
              "      <td>Very satisfied</td>\n",
              "      <td>Very dissatisfied</td>\n",
              "      <td>False</td>\n",
              "      <td>True</td>\n",
              "      <td>0.747379</td>\n",
              "      <td>221.666205</td>\n",
              "      <td>two-sided</td>\n",
              "      <td>0.455627</td>\n",
              "      <td>1.000000</td>\n",
              "      <td>bonf</td>\n",
              "      <td>0.126</td>\n",
              "      <td>0.063479</td>\n",
              "    </tr>\n",
              "    <tr>\n",
              "      <th>6</th>\n",
              "      <td>job_sat</td>\n",
              "      <td>Very satisfied</td>\n",
              "      <td>Slightly dissatisfied</td>\n",
              "      <td>False</td>\n",
              "      <td>True</td>\n",
              "      <td>3.076222</td>\n",
              "      <td>821.303063</td>\n",
              "      <td>two-sided</td>\n",
              "      <td>0.002166</td>\n",
              "      <td>0.021659</td>\n",
              "      <td>bonf</td>\n",
              "      <td>7.43</td>\n",
              "      <td>0.173247</td>\n",
              "    </tr>\n",
              "    <tr>\n",
              "      <th>7</th>\n",
              "      <td>job_sat</td>\n",
              "      <td>Neither</td>\n",
              "      <td>Very dissatisfied</td>\n",
              "      <td>False</td>\n",
              "      <td>True</td>\n",
              "      <td>-0.545948</td>\n",
              "      <td>321.165726</td>\n",
              "      <td>two-sided</td>\n",
              "      <td>0.585481</td>\n",
              "      <td>1.000000</td>\n",
              "      <td>bonf</td>\n",
              "      <td>0.135</td>\n",
              "      <td>-0.058537</td>\n",
              "    </tr>\n",
              "    <tr>\n",
              "      <th>8</th>\n",
              "      <td>job_sat</td>\n",
              "      <td>Neither</td>\n",
              "      <td>Slightly dissatisfied</td>\n",
              "      <td>False</td>\n",
              "      <td>True</td>\n",
              "      <td>0.602209</td>\n",
              "      <td>367.730081</td>\n",
              "      <td>two-sided</td>\n",
              "      <td>0.547406</td>\n",
              "      <td>1.000000</td>\n",
              "      <td>bonf</td>\n",
              "      <td>0.118</td>\n",
              "      <td>0.055707</td>\n",
              "    </tr>\n",
              "    <tr>\n",
              "      <th>9</th>\n",
              "      <td>job_sat</td>\n",
              "      <td>Very dissatisfied</td>\n",
              "      <td>Slightly dissatisfied</td>\n",
              "      <td>False</td>\n",
              "      <td>True</td>\n",
              "      <td>1.129951</td>\n",
              "      <td>247.570187</td>\n",
              "      <td>two-sided</td>\n",
              "      <td>0.259590</td>\n",
              "      <td>1.000000</td>\n",
              "      <td>bonf</td>\n",
              "      <td>0.197</td>\n",
              "      <td>0.119131</td>\n",
              "    </tr>\n",
              "  </tbody>\n",
              "</table>\n",
              "</div>\n",
              "      <button class=\"colab-df-convert\" onclick=\"convertToInteractive('df-164b606c-0c1c-47ef-9afa-714a5ec4cd79')\"\n",
              "              title=\"Convert this dataframe to an interactive table.\"\n",
              "              style=\"display:none;\">\n",
              "        \n",
              "  <svg xmlns=\"http://www.w3.org/2000/svg\" height=\"24px\"viewBox=\"0 0 24 24\"\n",
              "       width=\"24px\">\n",
              "    <path d=\"M0 0h24v24H0V0z\" fill=\"none\"/>\n",
              "    <path d=\"M18.56 5.44l.94 2.06.94-2.06 2.06-.94-2.06-.94-.94-2.06-.94 2.06-2.06.94zm-11 1L8.5 8.5l.94-2.06 2.06-.94-2.06-.94L8.5 2.5l-.94 2.06-2.06.94zm10 10l.94 2.06.94-2.06 2.06-.94-2.06-.94-.94-2.06-.94 2.06-2.06.94z\"/><path d=\"M17.41 7.96l-1.37-1.37c-.4-.4-.92-.59-1.43-.59-.52 0-1.04.2-1.43.59L10.3 9.45l-7.72 7.72c-.78.78-.78 2.05 0 2.83L4 21.41c.39.39.9.59 1.41.59.51 0 1.02-.2 1.41-.59l7.78-7.78 2.81-2.81c.8-.78.8-2.07 0-2.86zM5.41 20L4 18.59l7.72-7.72 1.47 1.35L5.41 20z\"/>\n",
              "  </svg>\n",
              "      </button>\n",
              "      \n",
              "  <style>\n",
              "    .colab-df-container {\n",
              "      display:flex;\n",
              "      flex-wrap:wrap;\n",
              "      gap: 12px;\n",
              "    }\n",
              "\n",
              "    .colab-df-convert {\n",
              "      background-color: #E8F0FE;\n",
              "      border: none;\n",
              "      border-radius: 50%;\n",
              "      cursor: pointer;\n",
              "      display: none;\n",
              "      fill: #1967D2;\n",
              "      height: 32px;\n",
              "      padding: 0 0 0 0;\n",
              "      width: 32px;\n",
              "    }\n",
              "\n",
              "    .colab-df-convert:hover {\n",
              "      background-color: #E2EBFA;\n",
              "      box-shadow: 0px 1px 2px rgba(60, 64, 67, 0.3), 0px 1px 3px 1px rgba(60, 64, 67, 0.15);\n",
              "      fill: #174EA6;\n",
              "    }\n",
              "\n",
              "    [theme=dark] .colab-df-convert {\n",
              "      background-color: #3B4455;\n",
              "      fill: #D2E3FC;\n",
              "    }\n",
              "\n",
              "    [theme=dark] .colab-df-convert:hover {\n",
              "      background-color: #434B5C;\n",
              "      box-shadow: 0px 1px 3px 1px rgba(0, 0, 0, 0.15);\n",
              "      filter: drop-shadow(0px 1px 2px rgba(0, 0, 0, 0.3));\n",
              "      fill: #FFFFFF;\n",
              "    }\n",
              "  </style>\n",
              "\n",
              "      <script>\n",
              "        const buttonEl =\n",
              "          document.querySelector('#df-164b606c-0c1c-47ef-9afa-714a5ec4cd79 button.colab-df-convert');\n",
              "        buttonEl.style.display =\n",
              "          google.colab.kernel.accessAllowed ? 'block' : 'none';\n",
              "\n",
              "        async function convertToInteractive(key) {\n",
              "          const element = document.querySelector('#df-164b606c-0c1c-47ef-9afa-714a5ec4cd79');\n",
              "          const dataTable =\n",
              "            await google.colab.kernel.invokeFunction('convertToInteractive',\n",
              "                                                     [key], {});\n",
              "          if (!dataTable) return;\n",
              "\n",
              "          const docLinkHtml = 'Like what you see? Visit the ' +\n",
              "            '<a target=\"_blank\" href=https://colab.research.google.com/notebooks/data_table.ipynb>data table notebook</a>'\n",
              "            + ' to learn more about interactive tables.';\n",
              "          element.innerHTML = '';\n",
              "          dataTable['output_type'] = 'display_data';\n",
              "          await google.colab.output.renderOutput(dataTable, element);\n",
              "          const docLink = document.createElement('div');\n",
              "          docLink.innerHTML = docLinkHtml;\n",
              "          element.appendChild(docLink);\n",
              "        }\n",
              "      </script>\n",
              "    </div>\n",
              "  </div>\n",
              "  "
            ]
          },
          "metadata": {},
          "execution_count": 48
        }
      ]
    },
    {
      "cell_type": "markdown",
      "source": [
        "> Looks like Slightly satisfied and Very satisfied have a statistically significant relationship and so do Very satisfied and Slightly dissatisfied. All other pairwise relation ships are not statistically significant"
      ],
      "metadata": {
        "id": "l6SYCYqq3-at"
      }
    },
    {
      "cell_type": "code",
      "source": [],
      "metadata": {
        "id": "-71ATwKv4wmg"
      },
      "execution_count": null,
      "outputs": []
    }
  ]
}