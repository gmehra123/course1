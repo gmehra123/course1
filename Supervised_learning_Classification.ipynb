{
  "nbformat": 4,
  "nbformat_minor": 0,
  "metadata": {
    "colab": {
      "provenance": [],
      "authorship_tag": "ABX9TyPXhJRTlNprmqg4vqmjgCU5",
      "include_colab_link": true
    },
    "kernelspec": {
      "name": "python3",
      "display_name": "Python 3"
    },
    "language_info": {
      "name": "python"
    }
  },
  "cells": [
    {
      "cell_type": "markdown",
      "metadata": {
        "id": "view-in-github",
        "colab_type": "text"
      },
      "source": [
        "<a href=\"https://colab.research.google.com/github/gmehra123/course1/blob/master/Supervised_learning_Classification.ipynb\" target=\"_parent\"><img src=\"https://colab.research.google.com/assets/colab-badge.svg\" alt=\"Open In Colab\"/></a>"
      ]
    },
    {
      "cell_type": "markdown",
      "source": [
        "# Supervised Learning\n",
        "> **Machine Learning** is the process whereby computers learn to make decisions from data, without being explicitly programmed. eg. email as spam or not spam\n",
        "**Unsupervised Learning** is the process of discovering hidden patterns from unlabeled data. eg Clustering.\n",
        "**Supervised Learning** Uses labeled data with features to train the model.Then given the features for unseen data it predicts a value or a lbel.\n",
        "\n",
        "* Supervised learning can be of 2 types\n",
        "  * **Classification** The target variable is categorical. Sometimes it is binary classification\n",
        "  * **Regression** The target variable is continous. eg. house values\n",
        "\n",
        "* Key steps in the process\n",
        "  * Build a model\n",
        "  * Model learns from the labeled data (fit step)\n",
        "  * Pass the unseen data as input\n",
        "  * Predict labels based on feature values in unseen data"
      ],
      "metadata": {
        "id": "aP7xDLY7rX3z"
      }
    },
    {
      "cell_type": "code",
      "execution_count": null,
      "metadata": {
        "id": "NbUvS2V5rWqF"
      },
      "outputs": [],
      "source": [
        "import pandas as pd\n",
        "import matplotlib.pyplot as plt\n",
        "from sklearn.neighbors import KNeighborsClassifier"
      ]
    },
    {
      "cell_type": "markdown",
      "source": [
        "### KNN classification\n",
        "* K Nearest Neighbors\n",
        "* Based on distance and closeness of points\n",
        "* KNN decides classification label based on n-nearest points.\n",
        "* If the majority of n nearest points is labeled one way then the point will also be labelled that way.\n"
      ],
      "metadata": {
        "id": "ZHHg4nrN4THW"
      }
    },
    {
      "cell_type": "code",
      "source": [
        "churn_df=pd.read_csv('https://assets.datacamp.com/production/repositories/5981/datasets/8582db71ec282f17c504c8eb794d54758fd8d5d8/telecom_churn_clean.csv')"
      ],
      "metadata": {
        "id": "SCr9CdhX0Tkh"
      },
      "execution_count": null,
      "outputs": []
    },
    {
      "cell_type": "code",
      "source": [
        "churn_df.sample(5)"
      ],
      "metadata": {
        "colab": {
          "base_uri": "https://localhost:8080/",
          "height": 287
        },
        "id": "vu8c7Zfv6jUB",
        "outputId": "f7282e35-b24b-42a6-87f8-ab616bf5501d"
      },
      "execution_count": null,
      "outputs": [
        {
          "output_type": "execute_result",
          "data": {
            "text/plain": [
              "      Unnamed: 0  account_length  area_code  international_plan  \\\n",
              "3289        3289              39        408                   0   \n",
              "1175        1175             134        415                   0   \n",
              "2571        2571             103        510                   0   \n",
              "2284        2284             114        415                   0   \n",
              "785          785              69        415                   0   \n",
              "\n",
              "      voice_mail_plan  number_vmail_messages  total_day_minutes  \\\n",
              "3289                0                      0              187.2   \n",
              "1175                1                     32              216.8   \n",
              "2571                0                      0              190.9   \n",
              "2284                0                      0              155.3   \n",
              "785                 0                      0              228.2   \n",
              "\n",
              "      total_day_calls  total_day_charge  total_eve_minutes  total_eve_calls  \\\n",
              "3289              110             31.82              114.7              116   \n",
              "1175               78             36.86              102.2              111   \n",
              "2571               62             32.45              226.6               53   \n",
              "2284               75             26.40              169.9               87   \n",
              "785                70             38.79              263.7               80   \n",
              "\n",
              "      total_eve_charge  total_night_minutes  total_night_calls  \\\n",
              "3289              9.75                104.7                 83   \n",
              "1175              8.69                174.0                 83   \n",
              "2571             19.26                230.1                 96   \n",
              "2284             14.44                207.0                133   \n",
              "785              22.41                142.6                 60   \n",
              "\n",
              "      total_night_charge  total_intl_minutes  total_intl_calls  \\\n",
              "3289                4.71                13.2                 5   \n",
              "1175                7.83                 8.6                 2   \n",
              "2571               10.35                 7.8                 3   \n",
              "2284                9.32                12.6                 5   \n",
              "785                 6.42                10.7                 5   \n",
              "\n",
              "      total_intl_charge  customer_service_calls  churn  \n",
              "3289               3.56                       1      0  \n",
              "1175               2.32                       0      0  \n",
              "2571               2.11                       2      0  \n",
              "2284               3.40                       2      0  \n",
              "785                2.89                       3      0  "
            ],
            "text/html": [
              "\n",
              "  <div id=\"df-0e5ee0fc-220b-4b59-a543-ac9848c65caa\">\n",
              "    <div class=\"colab-df-container\">\n",
              "      <div>\n",
              "<style scoped>\n",
              "    .dataframe tbody tr th:only-of-type {\n",
              "        vertical-align: middle;\n",
              "    }\n",
              "\n",
              "    .dataframe tbody tr th {\n",
              "        vertical-align: top;\n",
              "    }\n",
              "\n",
              "    .dataframe thead th {\n",
              "        text-align: right;\n",
              "    }\n",
              "</style>\n",
              "<table border=\"1\" class=\"dataframe\">\n",
              "  <thead>\n",
              "    <tr style=\"text-align: right;\">\n",
              "      <th></th>\n",
              "      <th>Unnamed: 0</th>\n",
              "      <th>account_length</th>\n",
              "      <th>area_code</th>\n",
              "      <th>international_plan</th>\n",
              "      <th>voice_mail_plan</th>\n",
              "      <th>number_vmail_messages</th>\n",
              "      <th>total_day_minutes</th>\n",
              "      <th>total_day_calls</th>\n",
              "      <th>total_day_charge</th>\n",
              "      <th>total_eve_minutes</th>\n",
              "      <th>total_eve_calls</th>\n",
              "      <th>total_eve_charge</th>\n",
              "      <th>total_night_minutes</th>\n",
              "      <th>total_night_calls</th>\n",
              "      <th>total_night_charge</th>\n",
              "      <th>total_intl_minutes</th>\n",
              "      <th>total_intl_calls</th>\n",
              "      <th>total_intl_charge</th>\n",
              "      <th>customer_service_calls</th>\n",
              "      <th>churn</th>\n",
              "    </tr>\n",
              "  </thead>\n",
              "  <tbody>\n",
              "    <tr>\n",
              "      <th>3289</th>\n",
              "      <td>3289</td>\n",
              "      <td>39</td>\n",
              "      <td>408</td>\n",
              "      <td>0</td>\n",
              "      <td>0</td>\n",
              "      <td>0</td>\n",
              "      <td>187.2</td>\n",
              "      <td>110</td>\n",
              "      <td>31.82</td>\n",
              "      <td>114.7</td>\n",
              "      <td>116</td>\n",
              "      <td>9.75</td>\n",
              "      <td>104.7</td>\n",
              "      <td>83</td>\n",
              "      <td>4.71</td>\n",
              "      <td>13.2</td>\n",
              "      <td>5</td>\n",
              "      <td>3.56</td>\n",
              "      <td>1</td>\n",
              "      <td>0</td>\n",
              "    </tr>\n",
              "    <tr>\n",
              "      <th>1175</th>\n",
              "      <td>1175</td>\n",
              "      <td>134</td>\n",
              "      <td>415</td>\n",
              "      <td>0</td>\n",
              "      <td>1</td>\n",
              "      <td>32</td>\n",
              "      <td>216.8</td>\n",
              "      <td>78</td>\n",
              "      <td>36.86</td>\n",
              "      <td>102.2</td>\n",
              "      <td>111</td>\n",
              "      <td>8.69</td>\n",
              "      <td>174.0</td>\n",
              "      <td>83</td>\n",
              "      <td>7.83</td>\n",
              "      <td>8.6</td>\n",
              "      <td>2</td>\n",
              "      <td>2.32</td>\n",
              "      <td>0</td>\n",
              "      <td>0</td>\n",
              "    </tr>\n",
              "    <tr>\n",
              "      <th>2571</th>\n",
              "      <td>2571</td>\n",
              "      <td>103</td>\n",
              "      <td>510</td>\n",
              "      <td>0</td>\n",
              "      <td>0</td>\n",
              "      <td>0</td>\n",
              "      <td>190.9</td>\n",
              "      <td>62</td>\n",
              "      <td>32.45</td>\n",
              "      <td>226.6</td>\n",
              "      <td>53</td>\n",
              "      <td>19.26</td>\n",
              "      <td>230.1</td>\n",
              "      <td>96</td>\n",
              "      <td>10.35</td>\n",
              "      <td>7.8</td>\n",
              "      <td>3</td>\n",
              "      <td>2.11</td>\n",
              "      <td>2</td>\n",
              "      <td>0</td>\n",
              "    </tr>\n",
              "    <tr>\n",
              "      <th>2284</th>\n",
              "      <td>2284</td>\n",
              "      <td>114</td>\n",
              "      <td>415</td>\n",
              "      <td>0</td>\n",
              "      <td>0</td>\n",
              "      <td>0</td>\n",
              "      <td>155.3</td>\n",
              "      <td>75</td>\n",
              "      <td>26.40</td>\n",
              "      <td>169.9</td>\n",
              "      <td>87</td>\n",
              "      <td>14.44</td>\n",
              "      <td>207.0</td>\n",
              "      <td>133</td>\n",
              "      <td>9.32</td>\n",
              "      <td>12.6</td>\n",
              "      <td>5</td>\n",
              "      <td>3.40</td>\n",
              "      <td>2</td>\n",
              "      <td>0</td>\n",
              "    </tr>\n",
              "    <tr>\n",
              "      <th>785</th>\n",
              "      <td>785</td>\n",
              "      <td>69</td>\n",
              "      <td>415</td>\n",
              "      <td>0</td>\n",
              "      <td>0</td>\n",
              "      <td>0</td>\n",
              "      <td>228.2</td>\n",
              "      <td>70</td>\n",
              "      <td>38.79</td>\n",
              "      <td>263.7</td>\n",
              "      <td>80</td>\n",
              "      <td>22.41</td>\n",
              "      <td>142.6</td>\n",
              "      <td>60</td>\n",
              "      <td>6.42</td>\n",
              "      <td>10.7</td>\n",
              "      <td>5</td>\n",
              "      <td>2.89</td>\n",
              "      <td>3</td>\n",
              "      <td>0</td>\n",
              "    </tr>\n",
              "  </tbody>\n",
              "</table>\n",
              "</div>\n",
              "      <button class=\"colab-df-convert\" onclick=\"convertToInteractive('df-0e5ee0fc-220b-4b59-a543-ac9848c65caa')\"\n",
              "              title=\"Convert this dataframe to an interactive table.\"\n",
              "              style=\"display:none;\">\n",
              "        \n",
              "  <svg xmlns=\"http://www.w3.org/2000/svg\" height=\"24px\"viewBox=\"0 0 24 24\"\n",
              "       width=\"24px\">\n",
              "    <path d=\"M0 0h24v24H0V0z\" fill=\"none\"/>\n",
              "    <path d=\"M18.56 5.44l.94 2.06.94-2.06 2.06-.94-2.06-.94-.94-2.06-.94 2.06-2.06.94zm-11 1L8.5 8.5l.94-2.06 2.06-.94-2.06-.94L8.5 2.5l-.94 2.06-2.06.94zm10 10l.94 2.06.94-2.06 2.06-.94-2.06-.94-.94-2.06-.94 2.06-2.06.94z\"/><path d=\"M17.41 7.96l-1.37-1.37c-.4-.4-.92-.59-1.43-.59-.52 0-1.04.2-1.43.59L10.3 9.45l-7.72 7.72c-.78.78-.78 2.05 0 2.83L4 21.41c.39.39.9.59 1.41.59.51 0 1.02-.2 1.41-.59l7.78-7.78 2.81-2.81c.8-.78.8-2.07 0-2.86zM5.41 20L4 18.59l7.72-7.72 1.47 1.35L5.41 20z\"/>\n",
              "  </svg>\n",
              "      </button>\n",
              "      \n",
              "  <style>\n",
              "    .colab-df-container {\n",
              "      display:flex;\n",
              "      flex-wrap:wrap;\n",
              "      gap: 12px;\n",
              "    }\n",
              "\n",
              "    .colab-df-convert {\n",
              "      background-color: #E8F0FE;\n",
              "      border: none;\n",
              "      border-radius: 50%;\n",
              "      cursor: pointer;\n",
              "      display: none;\n",
              "      fill: #1967D2;\n",
              "      height: 32px;\n",
              "      padding: 0 0 0 0;\n",
              "      width: 32px;\n",
              "    }\n",
              "\n",
              "    .colab-df-convert:hover {\n",
              "      background-color: #E2EBFA;\n",
              "      box-shadow: 0px 1px 2px rgba(60, 64, 67, 0.3), 0px 1px 3px 1px rgba(60, 64, 67, 0.15);\n",
              "      fill: #174EA6;\n",
              "    }\n",
              "\n",
              "    [theme=dark] .colab-df-convert {\n",
              "      background-color: #3B4455;\n",
              "      fill: #D2E3FC;\n",
              "    }\n",
              "\n",
              "    [theme=dark] .colab-df-convert:hover {\n",
              "      background-color: #434B5C;\n",
              "      box-shadow: 0px 1px 3px 1px rgba(0, 0, 0, 0.15);\n",
              "      filter: drop-shadow(0px 1px 2px rgba(0, 0, 0, 0.3));\n",
              "      fill: #FFFFFF;\n",
              "    }\n",
              "  </style>\n",
              "\n",
              "      <script>\n",
              "        const buttonEl =\n",
              "          document.querySelector('#df-0e5ee0fc-220b-4b59-a543-ac9848c65caa button.colab-df-convert');\n",
              "        buttonEl.style.display =\n",
              "          google.colab.kernel.accessAllowed ? 'block' : 'none';\n",
              "\n",
              "        async function convertToInteractive(key) {\n",
              "          const element = document.querySelector('#df-0e5ee0fc-220b-4b59-a543-ac9848c65caa');\n",
              "          const dataTable =\n",
              "            await google.colab.kernel.invokeFunction('convertToInteractive',\n",
              "                                                     [key], {});\n",
              "          if (!dataTable) return;\n",
              "\n",
              "          const docLinkHtml = 'Like what you see? Visit the ' +\n",
              "            '<a target=\"_blank\" href=https://colab.research.google.com/notebooks/data_table.ipynb>data table notebook</a>'\n",
              "            + ' to learn more about interactive tables.';\n",
              "          element.innerHTML = '';\n",
              "          dataTable['output_type'] = 'display_data';\n",
              "          await google.colab.output.renderOutput(dataTable, element);\n",
              "          const docLink = document.createElement('div');\n",
              "          docLink.innerHTML = docLinkHtml;\n",
              "          element.appendChild(docLink);\n",
              "        }\n",
              "      </script>\n",
              "    </div>\n",
              "  </div>\n",
              "  "
            ]
          },
          "metadata": {},
          "execution_count": 18
        }
      ]
    },
    {
      "cell_type": "markdown",
      "source": [
        "### General Model workflow"
      ],
      "metadata": {
        "id": "BdAxEP0h8oJ8"
      }
    },
    {
      "cell_type": "code",
      "source": [
        "y=churn_df['churn']\n",
        "X=churn_df.loc[:,['total_day_minutes','total_eve_minutes']]"
      ],
      "metadata": {
        "id": "fMTBCced7c6O"
      },
      "execution_count": null,
      "outputs": []
    },
    {
      "cell_type": "code",
      "source": [
        "from sklearn.model_selection import train_test_split\n",
        "X_train,X_test,y_train,y_test=train_test_split(X,y,test_size=0.3,random_state=123,stratify=y)"
      ],
      "metadata": {
        "id": "xBqHSghh9o8J"
      },
      "execution_count": null,
      "outputs": []
    },
    {
      "cell_type": "code",
      "source": [
        "# Fit the model and generate predictions\n",
        "model=KNeighborsClassifier(n_neighbors=5)\n",
        "model.fit(X_train,y_train)\n",
        "y_pred=model.predict(X_test)"
      ],
      "metadata": {
        "id": "A9JgOXnF78LD"
      },
      "execution_count": null,
      "outputs": []
    },
    {
      "cell_type": "code",
      "source": [
        "# Score the model fit\n",
        "model.score(X_test,y_test)"
      ],
      "metadata": {
        "colab": {
          "base_uri": "https://localhost:8080/"
        },
        "id": "r2TQbvIW8ZAw",
        "outputId": "cdb47b62-4ae0-43fa-cf00-81b61bc0f0c9"
      },
      "execution_count": null,
      "outputs": [
        {
          "output_type": "execute_result",
          "data": {
            "text/plain": [
              "0.868"
            ]
          },
          "metadata": {},
          "execution_count": 25
        }
      ]
    },
    {
      "cell_type": "code",
      "source": [
        "# Now running in a loop \n",
        "n =[4,5,6,7,8,9,10,11,12,13,14,15]\n",
        "res={}\n",
        "for i in n:\n",
        "  knn=KNeighborsClassifier(n_neighbors=i)\n",
        "  knn.fit(X_train,y_train)\n",
        "  score=knn.score(X_test,y_test)\n",
        "  res[i]=score"
      ],
      "metadata": {
        "id": "HEOAc0Qz_aVK"
      },
      "execution_count": null,
      "outputs": []
    },
    {
      "cell_type": "code",
      "source": [
        "res"
      ],
      "metadata": {
        "colab": {
          "base_uri": "https://localhost:8080/"
        },
        "id": "x9BHgdslADB0",
        "outputId": "4f521d83-48c0-47df-f042-049fe9d79be8"
      },
      "execution_count": null,
      "outputs": [
        {
          "output_type": "execute_result",
          "data": {
            "text/plain": [
              "{4: 0.866,\n",
              " 5: 0.868,\n",
              " 6: 0.869,\n",
              " 7: 0.87,\n",
              " 8: 0.873,\n",
              " 9: 0.871,\n",
              " 10: 0.874,\n",
              " 11: 0.874,\n",
              " 12: 0.876,\n",
              " 13: 0.874,\n",
              " 14: 0.873,\n",
              " 15: 0.871}"
            ]
          },
          "metadata": {},
          "execution_count": 46
        }
      ]
    },
    {
      "cell_type": "markdown",
      "source": [
        "> Clearly n=12 gives the highest accuracy"
      ],
      "metadata": {
        "id": "xdTHxDAPAT_o"
      }
    },
    {
      "cell_type": "code",
      "source": [
        "res.values()"
      ],
      "metadata": {
        "colab": {
          "base_uri": "https://localhost:8080/"
        },
        "id": "6tMoNA07AQsq",
        "outputId": "90f1041b-464b-46ab-9fe7-777146f57552"
      },
      "execution_count": null,
      "outputs": [
        {
          "output_type": "execute_result",
          "data": {
            "text/plain": [
              "dict_values([0.866, 0.868, 0.869, 0.87, 0.873, 0.871, 0.874, 0.874, 0.876, 0.874, 0.873, 0.871])"
            ]
          },
          "metadata": {},
          "execution_count": 50
        }
      ]
    },
    {
      "cell_type": "code",
      "source": [],
      "metadata": {
        "id": "NFR1V5W1BSYA"
      },
      "execution_count": null,
      "outputs": []
    },
    {
      "cell_type": "code",
      "source": [],
      "metadata": {
        "colab": {
          "base_uri": "https://localhost:8080/"
        },
        "id": "UxuOZhSsBdFq",
        "outputId": "951c4757-b4e4-49ba-9240-8d8a549a1603"
      },
      "execution_count": null,
      "outputs": [
        {
          "output_type": "execute_result",
          "data": {
            "text/plain": [
              "array([ 1,  2,  3,  4,  5,  6,  7,  8,  9, 10, 11, 12])"
            ]
          },
          "metadata": {},
          "execution_count": 44
        }
      ]
    }
  ]
}