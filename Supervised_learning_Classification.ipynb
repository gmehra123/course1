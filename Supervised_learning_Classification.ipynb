{
  "nbformat": 4,
  "nbformat_minor": 0,
  "metadata": {
    "colab": {
      "provenance": [],
      "authorship_tag": "ABX9TyPyr2UzDXX8qrj6J8Kxh2M3",
      "include_colab_link": true
    },
    "kernelspec": {
      "name": "python3",
      "display_name": "Python 3"
    },
    "language_info": {
      "name": "python"
    }
  },
  "cells": [
    {
      "cell_type": "markdown",
      "metadata": {
        "id": "view-in-github",
        "colab_type": "text"
      },
      "source": [
        "<a href=\"https://colab.research.google.com/github/gmehra123/course1/blob/master/Supervised_learning_Classification.ipynb\" target=\"_parent\"><img src=\"https://colab.research.google.com/assets/colab-badge.svg\" alt=\"Open In Colab\"/></a>"
      ]
    },
    {
      "cell_type": "markdown",
      "source": [
        "# Supervised Learning\n",
        "> **Machine Learning** is the process whereby computers learn to make decisions from data, without being explicitly programmed. eg. email as spam or not spam\n",
        "**Unsupervised Learning** is the process of discovering hidden patterns from unlabeled data. eg Clustering.\n",
        "**Supervised Learning** Uses labeled data with features to train the model.Then given the features for unseen data it predicts a value or a lbel.\n",
        "\n",
        "* Supervised learning can be of 2 types\n",
        "  * **Classification** The target variable is categorical. Sometimes it is binary classification\n",
        "  * **Regression** The target variable is continous. eg. house values\n",
        "\n",
        "* Key steps in the process\n",
        "  * Build a model\n",
        "  * Model learns from the labeled data (fit step)\n",
        "  * Pass the unseen data as input\n",
        "  * Predict labels based on feature values in unseen data"
      ],
      "metadata": {
        "id": "aP7xDLY7rX3z"
      }
    },
    {
      "cell_type": "code",
      "execution_count": 1,
      "metadata": {
        "id": "NbUvS2V5rWqF"
      },
      "outputs": [],
      "source": [
        "import pandas as pd\n",
        "import matplotlib.pyplot as plt\n",
        "from sklearn.neighbors import KNeighborsClassifier"
      ]
    },
    {
      "cell_type": "markdown",
      "source": [
        "### KNN classification\n",
        "* K Nearest Neighbors\n",
        "* Based on distance and closeness of points\n",
        "* KNN decides classification label based on n-nearest points.\n",
        "* If the majority of n nearest points is labeled one way then the point will also be labelled that way.\n"
      ],
      "metadata": {
        "id": "ZHHg4nrN4THW"
      }
    },
    {
      "cell_type": "code",
      "source": [
        "churn_df=pd.read_csv('https://assets.datacamp.com/production/repositories/5981/datasets/8582db71ec282f17c504c8eb794d54758fd8d5d8/telecom_churn_clean.csv')"
      ],
      "metadata": {
        "id": "SCr9CdhX0Tkh"
      },
      "execution_count": 2,
      "outputs": []
    },
    {
      "cell_type": "code",
      "source": [
        "churn_df.sample(5)"
      ],
      "metadata": {
        "colab": {
          "base_uri": "https://localhost:8080/",
          "height": 287
        },
        "id": "vu8c7Zfv6jUB",
        "outputId": "cbfad086-8beb-4225-c361-388705848e4a"
      },
      "execution_count": 3,
      "outputs": [
        {
          "output_type": "execute_result",
          "data": {
            "text/plain": [
              "      Unnamed: 0  account_length  area_code  international_plan  \\\n",
              "790          790              92        415                   1   \n",
              "1329        1329             137        415                   0   \n",
              "1173        1173             109        408                   0   \n",
              "2661        2661             197        415                   0   \n",
              "2254        2254              97        415                   0   \n",
              "\n",
              "      voice_mail_plan  number_vmail_messages  total_day_minutes  \\\n",
              "790                 1                     45              281.1   \n",
              "1329                0                      0              141.1   \n",
              "1173                0                      0              222.2   \n",
              "2661                0                      0              233.9   \n",
              "2254                1                     28              202.3   \n",
              "\n",
              "      total_day_calls  total_day_charge  total_eve_minutes  total_eve_calls  \\\n",
              "790                88             47.79              198.0              103   \n",
              "1329               91             23.99              147.2              100   \n",
              "1173              113             37.77              218.5              122   \n",
              "2661               96             39.76              218.9              111   \n",
              "2254               97             34.39               69.2               84   \n",
              "\n",
              "      total_eve_charge  total_night_minutes  total_night_calls  \\\n",
              "790              16.83                 94.3                 76   \n",
              "1329             12.51                254.7                 75   \n",
              "1173             18.57                266.0                 88   \n",
              "2661             18.61                182.9                109   \n",
              "2254              5.88                257.6                 64   \n",
              "\n",
              "      total_night_charge  total_intl_minutes  total_intl_calls  \\\n",
              "790                 4.24                 7.5                 3   \n",
              "1329               11.46                 8.0                 7   \n",
              "1173               11.97                10.9                 5   \n",
              "2661                8.23                 9.5                 3   \n",
              "2254               11.59                 6.7                 3   \n",
              "\n",
              "      total_intl_charge  customer_service_calls  churn  \n",
              "790                2.03                       0      0  \n",
              "1329               2.16                       2      0  \n",
              "1173               2.94                       1      0  \n",
              "2661               2.57                       0      0  \n",
              "2254               1.81                       1      0  "
            ],
            "text/html": [
              "\n",
              "  <div id=\"df-77f3c589-c26c-4c06-b706-c10889c6d773\">\n",
              "    <div class=\"colab-df-container\">\n",
              "      <div>\n",
              "<style scoped>\n",
              "    .dataframe tbody tr th:only-of-type {\n",
              "        vertical-align: middle;\n",
              "    }\n",
              "\n",
              "    .dataframe tbody tr th {\n",
              "        vertical-align: top;\n",
              "    }\n",
              "\n",
              "    .dataframe thead th {\n",
              "        text-align: right;\n",
              "    }\n",
              "</style>\n",
              "<table border=\"1\" class=\"dataframe\">\n",
              "  <thead>\n",
              "    <tr style=\"text-align: right;\">\n",
              "      <th></th>\n",
              "      <th>Unnamed: 0</th>\n",
              "      <th>account_length</th>\n",
              "      <th>area_code</th>\n",
              "      <th>international_plan</th>\n",
              "      <th>voice_mail_plan</th>\n",
              "      <th>number_vmail_messages</th>\n",
              "      <th>total_day_minutes</th>\n",
              "      <th>total_day_calls</th>\n",
              "      <th>total_day_charge</th>\n",
              "      <th>total_eve_minutes</th>\n",
              "      <th>total_eve_calls</th>\n",
              "      <th>total_eve_charge</th>\n",
              "      <th>total_night_minutes</th>\n",
              "      <th>total_night_calls</th>\n",
              "      <th>total_night_charge</th>\n",
              "      <th>total_intl_minutes</th>\n",
              "      <th>total_intl_calls</th>\n",
              "      <th>total_intl_charge</th>\n",
              "      <th>customer_service_calls</th>\n",
              "      <th>churn</th>\n",
              "    </tr>\n",
              "  </thead>\n",
              "  <tbody>\n",
              "    <tr>\n",
              "      <th>790</th>\n",
              "      <td>790</td>\n",
              "      <td>92</td>\n",
              "      <td>415</td>\n",
              "      <td>1</td>\n",
              "      <td>1</td>\n",
              "      <td>45</td>\n",
              "      <td>281.1</td>\n",
              "      <td>88</td>\n",
              "      <td>47.79</td>\n",
              "      <td>198.0</td>\n",
              "      <td>103</td>\n",
              "      <td>16.83</td>\n",
              "      <td>94.3</td>\n",
              "      <td>76</td>\n",
              "      <td>4.24</td>\n",
              "      <td>7.5</td>\n",
              "      <td>3</td>\n",
              "      <td>2.03</td>\n",
              "      <td>0</td>\n",
              "      <td>0</td>\n",
              "    </tr>\n",
              "    <tr>\n",
              "      <th>1329</th>\n",
              "      <td>1329</td>\n",
              "      <td>137</td>\n",
              "      <td>415</td>\n",
              "      <td>0</td>\n",
              "      <td>0</td>\n",
              "      <td>0</td>\n",
              "      <td>141.1</td>\n",
              "      <td>91</td>\n",
              "      <td>23.99</td>\n",
              "      <td>147.2</td>\n",
              "      <td>100</td>\n",
              "      <td>12.51</td>\n",
              "      <td>254.7</td>\n",
              "      <td>75</td>\n",
              "      <td>11.46</td>\n",
              "      <td>8.0</td>\n",
              "      <td>7</td>\n",
              "      <td>2.16</td>\n",
              "      <td>2</td>\n",
              "      <td>0</td>\n",
              "    </tr>\n",
              "    <tr>\n",
              "      <th>1173</th>\n",
              "      <td>1173</td>\n",
              "      <td>109</td>\n",
              "      <td>408</td>\n",
              "      <td>0</td>\n",
              "      <td>0</td>\n",
              "      <td>0</td>\n",
              "      <td>222.2</td>\n",
              "      <td>113</td>\n",
              "      <td>37.77</td>\n",
              "      <td>218.5</td>\n",
              "      <td>122</td>\n",
              "      <td>18.57</td>\n",
              "      <td>266.0</td>\n",
              "      <td>88</td>\n",
              "      <td>11.97</td>\n",
              "      <td>10.9</td>\n",
              "      <td>5</td>\n",
              "      <td>2.94</td>\n",
              "      <td>1</td>\n",
              "      <td>0</td>\n",
              "    </tr>\n",
              "    <tr>\n",
              "      <th>2661</th>\n",
              "      <td>2661</td>\n",
              "      <td>197</td>\n",
              "      <td>415</td>\n",
              "      <td>0</td>\n",
              "      <td>0</td>\n",
              "      <td>0</td>\n",
              "      <td>233.9</td>\n",
              "      <td>96</td>\n",
              "      <td>39.76</td>\n",
              "      <td>218.9</td>\n",
              "      <td>111</td>\n",
              "      <td>18.61</td>\n",
              "      <td>182.9</td>\n",
              "      <td>109</td>\n",
              "      <td>8.23</td>\n",
              "      <td>9.5</td>\n",
              "      <td>3</td>\n",
              "      <td>2.57</td>\n",
              "      <td>0</td>\n",
              "      <td>0</td>\n",
              "    </tr>\n",
              "    <tr>\n",
              "      <th>2254</th>\n",
              "      <td>2254</td>\n",
              "      <td>97</td>\n",
              "      <td>415</td>\n",
              "      <td>0</td>\n",
              "      <td>1</td>\n",
              "      <td>28</td>\n",
              "      <td>202.3</td>\n",
              "      <td>97</td>\n",
              "      <td>34.39</td>\n",
              "      <td>69.2</td>\n",
              "      <td>84</td>\n",
              "      <td>5.88</td>\n",
              "      <td>257.6</td>\n",
              "      <td>64</td>\n",
              "      <td>11.59</td>\n",
              "      <td>6.7</td>\n",
              "      <td>3</td>\n",
              "      <td>1.81</td>\n",
              "      <td>1</td>\n",
              "      <td>0</td>\n",
              "    </tr>\n",
              "  </tbody>\n",
              "</table>\n",
              "</div>\n",
              "      <button class=\"colab-df-convert\" onclick=\"convertToInteractive('df-77f3c589-c26c-4c06-b706-c10889c6d773')\"\n",
              "              title=\"Convert this dataframe to an interactive table.\"\n",
              "              style=\"display:none;\">\n",
              "        \n",
              "  <svg xmlns=\"http://www.w3.org/2000/svg\" height=\"24px\"viewBox=\"0 0 24 24\"\n",
              "       width=\"24px\">\n",
              "    <path d=\"M0 0h24v24H0V0z\" fill=\"none\"/>\n",
              "    <path d=\"M18.56 5.44l.94 2.06.94-2.06 2.06-.94-2.06-.94-.94-2.06-.94 2.06-2.06.94zm-11 1L8.5 8.5l.94-2.06 2.06-.94-2.06-.94L8.5 2.5l-.94 2.06-2.06.94zm10 10l.94 2.06.94-2.06 2.06-.94-2.06-.94-.94-2.06-.94 2.06-2.06.94z\"/><path d=\"M17.41 7.96l-1.37-1.37c-.4-.4-.92-.59-1.43-.59-.52 0-1.04.2-1.43.59L10.3 9.45l-7.72 7.72c-.78.78-.78 2.05 0 2.83L4 21.41c.39.39.9.59 1.41.59.51 0 1.02-.2 1.41-.59l7.78-7.78 2.81-2.81c.8-.78.8-2.07 0-2.86zM5.41 20L4 18.59l7.72-7.72 1.47 1.35L5.41 20z\"/>\n",
              "  </svg>\n",
              "      </button>\n",
              "      \n",
              "  <style>\n",
              "    .colab-df-container {\n",
              "      display:flex;\n",
              "      flex-wrap:wrap;\n",
              "      gap: 12px;\n",
              "    }\n",
              "\n",
              "    .colab-df-convert {\n",
              "      background-color: #E8F0FE;\n",
              "      border: none;\n",
              "      border-radius: 50%;\n",
              "      cursor: pointer;\n",
              "      display: none;\n",
              "      fill: #1967D2;\n",
              "      height: 32px;\n",
              "      padding: 0 0 0 0;\n",
              "      width: 32px;\n",
              "    }\n",
              "\n",
              "    .colab-df-convert:hover {\n",
              "      background-color: #E2EBFA;\n",
              "      box-shadow: 0px 1px 2px rgba(60, 64, 67, 0.3), 0px 1px 3px 1px rgba(60, 64, 67, 0.15);\n",
              "      fill: #174EA6;\n",
              "    }\n",
              "\n",
              "    [theme=dark] .colab-df-convert {\n",
              "      background-color: #3B4455;\n",
              "      fill: #D2E3FC;\n",
              "    }\n",
              "\n",
              "    [theme=dark] .colab-df-convert:hover {\n",
              "      background-color: #434B5C;\n",
              "      box-shadow: 0px 1px 3px 1px rgba(0, 0, 0, 0.15);\n",
              "      filter: drop-shadow(0px 1px 2px rgba(0, 0, 0, 0.3));\n",
              "      fill: #FFFFFF;\n",
              "    }\n",
              "  </style>\n",
              "\n",
              "      <script>\n",
              "        const buttonEl =\n",
              "          document.querySelector('#df-77f3c589-c26c-4c06-b706-c10889c6d773 button.colab-df-convert');\n",
              "        buttonEl.style.display =\n",
              "          google.colab.kernel.accessAllowed ? 'block' : 'none';\n",
              "\n",
              "        async function convertToInteractive(key) {\n",
              "          const element = document.querySelector('#df-77f3c589-c26c-4c06-b706-c10889c6d773');\n",
              "          const dataTable =\n",
              "            await google.colab.kernel.invokeFunction('convertToInteractive',\n",
              "                                                     [key], {});\n",
              "          if (!dataTable) return;\n",
              "\n",
              "          const docLinkHtml = 'Like what you see? Visit the ' +\n",
              "            '<a target=\"_blank\" href=https://colab.research.google.com/notebooks/data_table.ipynb>data table notebook</a>'\n",
              "            + ' to learn more about interactive tables.';\n",
              "          element.innerHTML = '';\n",
              "          dataTable['output_type'] = 'display_data';\n",
              "          await google.colab.output.renderOutput(dataTable, element);\n",
              "          const docLink = document.createElement('div');\n",
              "          docLink.innerHTML = docLinkHtml;\n",
              "          element.appendChild(docLink);\n",
              "        }\n",
              "      </script>\n",
              "    </div>\n",
              "  </div>\n",
              "  "
            ]
          },
          "metadata": {},
          "execution_count": 3
        }
      ]
    },
    {
      "cell_type": "markdown",
      "source": [
        "### General Model workflow"
      ],
      "metadata": {
        "id": "BdAxEP0h8oJ8"
      }
    },
    {
      "cell_type": "code",
      "source": [
        "y=churn_df['churn']\n",
        "X=churn_df.loc[:,['total_day_minutes','total_eve_minutes']]"
      ],
      "metadata": {
        "id": "fMTBCced7c6O"
      },
      "execution_count": 4,
      "outputs": []
    },
    {
      "cell_type": "code",
      "source": [
        "from sklearn.model_selection import train_test_split\n",
        "X_train,X_test,y_train,y_test=train_test_split(X,y,test_size=0.3,random_state=123,stratify=y)"
      ],
      "metadata": {
        "id": "xBqHSghh9o8J"
      },
      "execution_count": 5,
      "outputs": []
    },
    {
      "cell_type": "code",
      "source": [
        "# Fit the model and generate predictions\n",
        "model=KNeighborsClassifier(n_neighbors=5)\n",
        "model.fit(X_train,y_train)\n",
        "y_pred=model.predict(X_test)"
      ],
      "metadata": {
        "id": "A9JgOXnF78LD"
      },
      "execution_count": 6,
      "outputs": []
    },
    {
      "cell_type": "code",
      "source": [
        "# Score the model fit\n",
        "model.score(X_test,y_test)"
      ],
      "metadata": {
        "colab": {
          "base_uri": "https://localhost:8080/"
        },
        "id": "r2TQbvIW8ZAw",
        "outputId": "adb5b3c5-971a-45fe-ac51-a56a42ab9c5c"
      },
      "execution_count": 7,
      "outputs": [
        {
          "output_type": "execute_result",
          "data": {
            "text/plain": [
              "0.868"
            ]
          },
          "metadata": {},
          "execution_count": 7
        }
      ]
    },
    {
      "cell_type": "code",
      "source": [
        "# Now running in a loop \n",
        "n =[4,5,6,7,8,9,10,11,12,13,14,15]\n",
        "res={}\n",
        "for i in n:\n",
        "  knn=KNeighborsClassifier(n_neighbors=i)\n",
        "  knn.fit(X_train,y_train)\n",
        "  score=knn.score(X_test,y_test)\n",
        "  res[i]=score"
      ],
      "metadata": {
        "id": "HEOAc0Qz_aVK"
      },
      "execution_count": 10,
      "outputs": []
    },
    {
      "cell_type": "code",
      "source": [
        "res"
      ],
      "metadata": {
        "colab": {
          "base_uri": "https://localhost:8080/"
        },
        "id": "x9BHgdslADB0",
        "outputId": "250a220f-0eb8-4e9e-c7bf-86afee07b533"
      },
      "execution_count": 11,
      "outputs": [
        {
          "output_type": "execute_result",
          "data": {
            "text/plain": [
              "{4: 0.866,\n",
              " 5: 0.868,\n",
              " 6: 0.869,\n",
              " 7: 0.87,\n",
              " 8: 0.873,\n",
              " 9: 0.871,\n",
              " 10: 0.874,\n",
              " 11: 0.874,\n",
              " 12: 0.876,\n",
              " 13: 0.874,\n",
              " 14: 0.873,\n",
              " 15: 0.871}"
            ]
          },
          "metadata": {},
          "execution_count": 11
        }
      ]
    },
    {
      "cell_type": "markdown",
      "source": [
        "> Clearly n=12 gives the highest accuracy"
      ],
      "metadata": {
        "id": "xdTHxDAPAT_o"
      }
    },
    {
      "cell_type": "code",
      "source": [
        "res.values()"
      ],
      "metadata": {
        "colab": {
          "base_uri": "https://localhost:8080/"
        },
        "id": "6tMoNA07AQsq",
        "outputId": "06320b6e-b209-4384-e84f-e37a7cb43bec"
      },
      "execution_count": 12,
      "outputs": [
        {
          "output_type": "execute_result",
          "data": {
            "text/plain": [
              "dict_values([0.866, 0.868, 0.869, 0.87, 0.873, 0.871, 0.874, 0.874, 0.876, 0.874, 0.873, 0.871])"
            ]
          },
          "metadata": {},
          "execution_count": 12
        }
      ]
    },
    {
      "cell_type": "markdown",
      "source": [
        "### Model fit\n",
        "* Accuracy is not always a good way to assess model fit, especially in cases of class imbalance. eg. fraudelent bank transactions. if 1% of all transactions are frauslent then even a naive model (picking at random) will have a 99% accuracy.\n",
        "* For confusion matrix, the class of interest is the positive class.\n",
        "* **Precision** -: TP/(TP+FP). High precision means having a lower number of legitimate transactions being labelled as frauds in the bank example.\n",
        "* **Recall** -: TP/(TP+FN). Lower false negative rate.\n",
        "* **F1 score**-: (Precision*Recall)/(Precision+Recall)\n",
        "\n",
        "  * from sklearn.metrics import classification_report,confusion_matrix\n",
        "  * confusion_matrix(y_test,y_pred)\n"
      ],
      "metadata": {
        "id": "MVPXSQdx0V3U"
      }
    },
    {
      "cell_type": "code",
      "source": [
        "from sklearn.neighbors import KNeighborsClassifier\n",
        "from sklearn.metrics import classification_report,confusion_matrix\n",
        "from sklearn.model_selection import train_test_split"
      ],
      "metadata": {
        "id": "LQCqx11r0U6z"
      },
      "execution_count": 42,
      "outputs": []
    },
    {
      "cell_type": "code",
      "source": [
        "sugar=pd.read_csv('https://assets.datacamp.com/production/repositories/5981/datasets/3d7b5bbdc7e91636cb1f9b62d9ca2a3959ce8aab/diabetes_clean.csv')"
      ],
      "metadata": {
        "id": "pBnoBsWW42-x"
      },
      "execution_count": 43,
      "outputs": []
    },
    {
      "cell_type": "code",
      "source": [
        "sugar.drop(columns='glucose',inplace=True)"
      ],
      "metadata": {
        "id": "XXMW40c34-Ih"
      },
      "execution_count": 44,
      "outputs": []
    },
    {
      "cell_type": "code",
      "source": [
        "y=sugar.diabetes\n",
        "X=sugar.drop(columns='diabetes')"
      ],
      "metadata": {
        "id": "VNVJwoLo5kdO"
      },
      "execution_count": 45,
      "outputs": []
    },
    {
      "cell_type": "code",
      "source": [
        "X_train,X_test,y_train,y_test=train_test_split(X,y,test_size=0.2,random_state=32)"
      ],
      "metadata": {
        "id": "-xI7-FOa5Q93"
      },
      "execution_count": 46,
      "outputs": []
    },
    {
      "cell_type": "code",
      "source": [
        "knn=KNeighborsClassifier(n_neighbors=6)\n",
        "knn.fit(X_train,y_train)"
      ],
      "metadata": {
        "id": "NFR1V5W1BSYA",
        "colab": {
          "base_uri": "https://localhost:8080/"
        },
        "outputId": "db23493a-5d83-4574-c84b-f5259822ddac"
      },
      "execution_count": 25,
      "outputs": [
        {
          "output_type": "execute_result",
          "data": {
            "text/plain": [
              "KNeighborsClassifier(n_neighbors=6)"
            ]
          },
          "metadata": {},
          "execution_count": 25
        }
      ]
    },
    {
      "cell_type": "code",
      "source": [
        "y_pred=knn.predict(X_test)"
      ],
      "metadata": {
        "id": "UxuOZhSsBdFq"
      },
      "execution_count": 26,
      "outputs": []
    },
    {
      "cell_type": "code",
      "source": [
        "confusion_matrix(y_test,y_pred)"
      ],
      "metadata": {
        "colab": {
          "base_uri": "https://localhost:8080/"
        },
        "id": "YVb1ElyP56v8",
        "outputId": "098fa64a-3688-43b4-c3a8-58a3243958b1"
      },
      "execution_count": 28,
      "outputs": [
        {
          "output_type": "execute_result",
          "data": {
            "text/plain": [
              "array([[88, 11],\n",
              "       [37, 18]])"
            ]
          },
          "metadata": {},
          "execution_count": 28
        }
      ]
    },
    {
      "cell_type": "code",
      "source": [
        "print(classification_report(y_test,y_pred))"
      ],
      "metadata": {
        "colab": {
          "base_uri": "https://localhost:8080/"
        },
        "id": "g2-XJJyC6X9N",
        "outputId": "02939e8a-e9a8-4b58-bc82-455e106d94c8"
      },
      "execution_count": 30,
      "outputs": [
        {
          "output_type": "stream",
          "name": "stdout",
          "text": [
            "              precision    recall  f1-score   support\n",
            "\n",
            "           0       0.70      0.89      0.79        99\n",
            "           1       0.62      0.33      0.43        55\n",
            "\n",
            "    accuracy                           0.69       154\n",
            "   macro avg       0.66      0.61      0.61       154\n",
            "weighted avg       0.67      0.69      0.66       154\n",
            "\n"
          ]
        }
      ]
    },
    {
      "cell_type": "code",
      "source": [
        "y_predproba=knn.predict_proba(X_test)[:,1]"
      ],
      "metadata": {
        "id": "I1DSsA7k8s2d"
      },
      "execution_count": 38,
      "outputs": []
    },
    {
      "cell_type": "code",
      "source": [
        "from sklearn.metrics import roc_auc_score\n",
        "roc_auc_score(y_test,y_predproba)"
      ],
      "metadata": {
        "colab": {
          "base_uri": "https://localhost:8080/"
        },
        "id": "vVOFdAht9VtC",
        "outputId": "1a27ada6-5564-45a6-9028-8c81dfb199f5"
      },
      "execution_count": 39,
      "outputs": [
        {
          "output_type": "execute_result",
          "data": {
            "text/plain": [
              "0.7565656565656567"
            ]
          },
          "metadata": {},
          "execution_count": 39
        }
      ]
    },
    {
      "cell_type": "markdown",
      "source": [
        "### Logistic Regression\n",
        "* Logistic regression is used for binary classification problems.\n",
        "* Creates a linear decision boundary (nearly linear)\n",
        "* ROC-AUC curve is Fpr vs TPR curve.\n",
        "* Area under this curve is 1 for the perfect model"
      ],
      "metadata": {
        "id": "hV7-DLvU6v8f"
      }
    },
    {
      "cell_type": "code",
      "source": [
        "from sklearn.linear_model import LogisticRegression\n",
        "logreg=LogisticRegression()"
      ],
      "metadata": {
        "id": "ztVwllKU6vKr"
      },
      "execution_count": 47,
      "outputs": []
    },
    {
      "cell_type": "code",
      "source": [
        "logreg.fit(X_train,y_train)"
      ],
      "metadata": {
        "colab": {
          "base_uri": "https://localhost:8080/"
        },
        "id": "RJKi5lMUAOoC",
        "outputId": "af33945a-df3b-4df0-e6b9-4e79bf11cfcf"
      },
      "execution_count": 48,
      "outputs": [
        {
          "output_type": "stream",
          "name": "stderr",
          "text": [
            "/usr/local/lib/python3.8/dist-packages/sklearn/linear_model/_logistic.py:814: ConvergenceWarning: lbfgs failed to converge (status=1):\n",
            "STOP: TOTAL NO. of ITERATIONS REACHED LIMIT.\n",
            "\n",
            "Increase the number of iterations (max_iter) or scale the data as shown in:\n",
            "    https://scikit-learn.org/stable/modules/preprocessing.html\n",
            "Please also refer to the documentation for alternative solver options:\n",
            "    https://scikit-learn.org/stable/modules/linear_model.html#logistic-regression\n",
            "  n_iter_i = _check_optimize_result(\n"
          ]
        },
        {
          "output_type": "execute_result",
          "data": {
            "text/plain": [
              "LogisticRegression()"
            ]
          },
          "metadata": {},
          "execution_count": 48
        }
      ]
    },
    {
      "cell_type": "code",
      "source": [
        "y_pred_proba=logreg.predict_proba(X_test)[:,1]"
      ],
      "metadata": {
        "id": "kfb6TwMjActn"
      },
      "execution_count": 51,
      "outputs": []
    },
    {
      "cell_type": "code",
      "source": [
        "roc_auc_score(y_test,y_pred_proba)"
      ],
      "metadata": {
        "colab": {
          "base_uri": "https://localhost:8080/"
        },
        "id": "o0Tz3UT-AoWo",
        "outputId": "dd3a181a-8215-4859-cc5f-0a2f2fee7c3a"
      },
      "execution_count": 52,
      "outputs": [
        {
          "output_type": "execute_result",
          "data": {
            "text/plain": [
              "0.8053259871441689"
            ]
          },
          "metadata": {},
          "execution_count": 52
        }
      ]
    },
    {
      "cell_type": "code",
      "source": [
        "from sklearn.metrics import roc_curve\n",
        "fpr,tpr,thresholds=roc_curve(y_test,y_pred_proba)\n",
        "fpr1,tpr1,tresholds1=roc_curve(y_test,y_predproba)\n",
        "fig,ax=plt.subplots()\n",
        "ax.plot([0,1],[0,1],'--')\n",
        "ax.plot(fpr,tpr,label='logistic regression')\n",
        "ax.plot(fpr1,tpr1,label='knn')\n",
        "plt.legend()"
      ],
      "metadata": {
        "colab": {
          "base_uri": "https://localhost:8080/",
          "height": 282
        },
        "id": "4jTIi9KbAyFj",
        "outputId": "61c33862-6959-4ea6-a4b8-d2d39027b99c"
      },
      "execution_count": 68,
      "outputs": [
        {
          "output_type": "execute_result",
          "data": {
            "text/plain": [
              "<matplotlib.legend.Legend at 0x7f9887a6ffa0>"
            ]
          },
          "metadata": {},
          "execution_count": 68
        },
        {
          "output_type": "display_data",
          "data": {
            "text/plain": [
              "<Figure size 432x288 with 1 Axes>"
            ],
            "image/png": "[encoded data removed]"
          },
          "metadata": {
            "needs_background": "light"
          }
        }
      ]
    },
    {
      "cell_type": "markdown",
      "source": [],
      "metadata": {
        "id": "26cz8Xr3EHrP"
      }
    },
    {
      "cell_type": "code",
      "source": [],
      "metadata": {
        "id": "9YW1gNa5DfjS"
      },
      "execution_count": null,
      "outputs": []
    }
  ]
}