{
  "nbformat": 4,
  "nbformat_minor": 0,
  "metadata": {
    "colab": {
      "provenance": [],
      "collapsed_sections": [],
      "toc_visible": true,
      "authorship_tag": "ABX9TyNiuNTXc1/7gjufOqnahw+z",
      "include_colab_link": true
    },
    "kernelspec": {
      "name": "python3",
      "display_name": "Python 3"
    },
    "language_info": {
      "name": "python"
    }
  },
  "cells": [
    {
      "cell_type": "markdown",
      "metadata": {
        "id": "view-in-github",
        "colab_type": "text"
      },
      "source": [
        "<a href=\"https://colab.research.google.com/github/gmehra123/course1/blob/master/Intro_to_stats.ipynb\" target=\"_parent\"><img src=\"https://colab.research.google.com/assets/colab-badge.svg\" alt=\"Open In Colab\"/></a>"
      ]
    },
    {
      "cell_type": "markdown",
      "source": [
        "## Intro to stastics\n",
        "* Statistics can be divided into 2 branches\n",
        "  * **Descriptive statistics** Describe and sumarize data\n",
        "  * **Inferential statistics** Infer about a larger population from a sample\n",
        "* Data is of 2 types\n",
        "  * **Numerical** This is quantitive data measured in numbers. Can be discrete or continous\n",
        "  * **Categorical**  Categorical data is data organized in categories. Can further be nominal(unordered) or ordinal(ordered)"
      ],
      "metadata": {
        "id": "Nuc5H8PnP5PC"
      }
    },
    {
      "cell_type": "code",
      "execution_count": 2,
      "metadata": {
        "id": "g9s_1nu4PqPh"
      },
      "outputs": [],
      "source": [
        "import pandas as pd\n",
        "import matplotlib.pyplot as plt\n",
        "import numpy as np"
      ]
    },
    {
      "cell_type": "markdown",
      "source": [
        "### Measures of center\n",
        "1. **Mean** Most common way to measure center of data. Sum()/count(n). Use np.mean(). Suspetible to outliers\n",
        "\n",
        "2. **Median** Represents the middle value. Sort the data points and find the middle value. Not as susceptible to outliers. Use np.median()\n",
        "\n",
        "3. **Mode** Is the most frequent value. You can use the statstics module to find mode. statistics.mode()\n",
        "\n",
        "For symmetrical data mean is a better measure of centre, for skewed data median is a better measure of center. "
      ],
      "metadata": {
        "id": "44fsc-UUP0jf"
      }
    },
    {
      "cell_type": "markdown",
      "source": [
        "### Measures of spread\n",
        "* **Variance** Measures the average distance of each data point from the data's mean. Calculate the distance between each point and the mean. Square it and then divide by the number of data points -1. Higher variance higher the spread. for samples use np.var(data,ddof=1). Units are squared\n",
        "\n",
        "* **Standard Deviation** The standard deviation is the sqrt of the variance. Easier to use and interpret.\n",
        "\n",
        "* **Mean Absolute  Deviation** Average of the absolute value of the distances from the mean. Std deviation penalizes larger differences from mean more\n",
        "\n",
        "* **Quantiles** Split the data into x equal parts. use np.quantile(data,0.5). This is another way to get median. np.quantile(data,[0.05,0.25,0.50,0.75])\n",
        "This can give you a list of the quantiles in your data\n",
        "np.quantile(data,np.linspace(0,1,5)). This will give you 5 quantiles\n",
        "\n",
        "* **outliers** \n",
        "  * Any data<q1-1.5*IQR is a low outlier\n",
        "  * Any data>Q3+1.5*IQR\n",
        "  \n"
      ],
      "metadata": {
        "id": "wgPdMr5kcOx5"
      }
    },
    {
      "cell_type": "code",
      "source": [
        "food_cons=pd.read_csv('https://assets.datacamp.com/production/repositories/5786/datasets/49f6356966016c70a9f63a0474942675377bdcf2/food_consumption.csv')"
      ],
      "metadata": {
        "id": "BQVaHHdbTlds"
      },
      "execution_count": 3,
      "outputs": []
    },
    {
      "cell_type": "code",
      "source": [
        "food_cons.head()"
      ],
      "metadata": {
        "colab": {
          "base_uri": "https://localhost:8080/",
          "height": 206
        },
        "id": "vC-lDXMdpzy4",
        "outputId": "7a137621-0a8e-4198-93e5-c7221ca91771"
      },
      "execution_count": 4,
      "outputs": [
        {
          "output_type": "execute_result",
          "data": {
            "text/plain": [
              "   Unnamed: 0    country food_category  consumption  co2_emission\n",
              "0           1  Argentina          pork        10.51         37.20\n",
              "1           2  Argentina       poultry        38.66         41.53\n",
              "2           3  Argentina          beef        55.48       1712.00\n",
              "3           4  Argentina     lamb_goat         1.56         54.63\n",
              "4           5  Argentina          fish         4.36          6.96"
            ],
            "text/html": [
              "\n",
              "  <div id=\"df-c5ed3093-9f12-48b7-a302-c647791a9af8\">\n",
              "    <div class=\"colab-df-container\">\n",
              "      <div>\n",
              "<style scoped>\n",
              "    .dataframe tbody tr th:only-of-type {\n",
              "        vertical-align: middle;\n",
              "    }\n",
              "\n",
              "    .dataframe tbody tr th {\n",
              "        vertical-align: top;\n",
              "    }\n",
              "\n",
              "    .dataframe thead th {\n",
              "        text-align: right;\n",
              "    }\n",
              "</style>\n",
              "<table border=\"1\" class=\"dataframe\">\n",
              "  <thead>\n",
              "    <tr style=\"text-align: right;\">\n",
              "      <th></th>\n",
              "      <th>Unnamed: 0</th>\n",
              "      <th>country</th>\n",
              "      <th>food_category</th>\n",
              "      <th>consumption</th>\n",
              "      <th>co2_emission</th>\n",
              "    </tr>\n",
              "  </thead>\n",
              "  <tbody>\n",
              "    <tr>\n",
              "      <th>0</th>\n",
              "      <td>1</td>\n",
              "      <td>Argentina</td>\n",
              "      <td>pork</td>\n",
              "      <td>10.51</td>\n",
              "      <td>37.20</td>\n",
              "    </tr>\n",
              "    <tr>\n",
              "      <th>1</th>\n",
              "      <td>2</td>\n",
              "      <td>Argentina</td>\n",
              "      <td>poultry</td>\n",
              "      <td>38.66</td>\n",
              "      <td>41.53</td>\n",
              "    </tr>\n",
              "    <tr>\n",
              "      <th>2</th>\n",
              "      <td>3</td>\n",
              "      <td>Argentina</td>\n",
              "      <td>beef</td>\n",
              "      <td>55.48</td>\n",
              "      <td>1712.00</td>\n",
              "    </tr>\n",
              "    <tr>\n",
              "      <th>3</th>\n",
              "      <td>4</td>\n",
              "      <td>Argentina</td>\n",
              "      <td>lamb_goat</td>\n",
              "      <td>1.56</td>\n",
              "      <td>54.63</td>\n",
              "    </tr>\n",
              "    <tr>\n",
              "      <th>4</th>\n",
              "      <td>5</td>\n",
              "      <td>Argentina</td>\n",
              "      <td>fish</td>\n",
              "      <td>4.36</td>\n",
              "      <td>6.96</td>\n",
              "    </tr>\n",
              "  </tbody>\n",
              "</table>\n",
              "</div>\n",
              "      <button class=\"colab-df-convert\" onclick=\"convertToInteractive('df-c5ed3093-9f12-48b7-a302-c647791a9af8')\"\n",
              "              title=\"Convert this dataframe to an interactive table.\"\n",
              "              style=\"display:none;\">\n",
              "        \n",
              "  <svg xmlns=\"http://www.w3.org/2000/svg\" height=\"24px\"viewBox=\"0 0 24 24\"\n",
              "       width=\"24px\">\n",
              "    <path d=\"M0 0h24v24H0V0z\" fill=\"none\"/>\n",
              "    <path d=\"M18.56 5.44l.94 2.06.94-2.06 2.06-.94-2.06-.94-.94-2.06-.94 2.06-2.06.94zm-11 1L8.5 8.5l.94-2.06 2.06-.94-2.06-.94L8.5 2.5l-.94 2.06-2.06.94zm10 10l.94 2.06.94-2.06 2.06-.94-2.06-.94-.94-2.06-.94 2.06-2.06.94z\"/><path d=\"M17.41 7.96l-1.37-1.37c-.4-.4-.92-.59-1.43-.59-.52 0-1.04.2-1.43.59L10.3 9.45l-7.72 7.72c-.78.78-.78 2.05 0 2.83L4 21.41c.39.39.9.59 1.41.59.51 0 1.02-.2 1.41-.59l7.78-7.78 2.81-2.81c.8-.78.8-2.07 0-2.86zM5.41 20L4 18.59l7.72-7.72 1.47 1.35L5.41 20z\"/>\n",
              "  </svg>\n",
              "      </button>\n",
              "      \n",
              "  <style>\n",
              "    .colab-df-container {\n",
              "      display:flex;\n",
              "      flex-wrap:wrap;\n",
              "      gap: 12px;\n",
              "    }\n",
              "\n",
              "    .colab-df-convert {\n",
              "      background-color: #E8F0FE;\n",
              "      border: none;\n",
              "      border-radius: 50%;\n",
              "      cursor: pointer;\n",
              "      display: none;\n",
              "      fill: #1967D2;\n",
              "      height: 32px;\n",
              "      padding: 0 0 0 0;\n",
              "      width: 32px;\n",
              "    }\n",
              "\n",
              "    .colab-df-convert:hover {\n",
              "      background-color: #E2EBFA;\n",
              "      box-shadow: 0px 1px 2px rgba(60, 64, 67, 0.3), 0px 1px 3px 1px rgba(60, 64, 67, 0.15);\n",
              "      fill: #174EA6;\n",
              "    }\n",
              "\n",
              "    [theme=dark] .colab-df-convert {\n",
              "      background-color: #3B4455;\n",
              "      fill: #D2E3FC;\n",
              "    }\n",
              "\n",
              "    [theme=dark] .colab-df-convert:hover {\n",
              "      background-color: #434B5C;\n",
              "      box-shadow: 0px 1px 3px 1px rgba(0, 0, 0, 0.15);\n",
              "      filter: drop-shadow(0px 1px 2px rgba(0, 0, 0, 0.3));\n",
              "      fill: #FFFFFF;\n",
              "    }\n",
              "  </style>\n",
              "\n",
              "      <script>\n",
              "        const buttonEl =\n",
              "          document.querySelector('#df-c5ed3093-9f12-48b7-a302-c647791a9af8 button.colab-df-convert');\n",
              "        buttonEl.style.display =\n",
              "          google.colab.kernel.accessAllowed ? 'block' : 'none';\n",
              "\n",
              "        async function convertToInteractive(key) {\n",
              "          const element = document.querySelector('#df-c5ed3093-9f12-48b7-a302-c647791a9af8');\n",
              "          const dataTable =\n",
              "            await google.colab.kernel.invokeFunction('convertToInteractive',\n",
              "                                                     [key], {});\n",
              "          if (!dataTable) return;\n",
              "\n",
              "          const docLinkHtml = 'Like what you see? Visit the ' +\n",
              "            '<a target=\"_blank\" href=https://colab.research.google.com/notebooks/data_table.ipynb>data table notebook</a>'\n",
              "            + ' to learn more about interactive tables.';\n",
              "          element.innerHTML = '';\n",
              "          dataTable['output_type'] = 'display_data';\n",
              "          await google.colab.output.renderOutput(dataTable, element);\n",
              "          const docLink = document.createElement('div');\n",
              "          docLink.innerHTML = docLinkHtml;\n",
              "          element.appendChild(docLink);\n",
              "        }\n",
              "      </script>\n",
              "    </div>\n",
              "  </div>\n",
              "  "
            ]
          },
          "metadata": {},
          "execution_count": 4
        }
      ]
    },
    {
      "cell_type": "code",
      "source": [
        "## Getting mean statistics for only belgium and USA\n",
        "be_food_cons=food_cons.loc[food_cons.country=='Belgium']\n",
        "us_food_cons=food_cons.loc[food_cons.country=='USA']\n",
        "print('Belgium avg food consumption is',np.mean(be_food_cons.consumption))\n",
        "print('USA avg food consumption is',np.mean(us_food_cons.consumption))"
      ],
      "metadata": {
        "colab": {
          "base_uri": "https://localhost:8080/"
        },
        "id": "rlDooQY1p4iH",
        "outputId": "05b801d6-fd9a-4a0e-cd97-df4e17116d43"
      },
      "execution_count": 5,
      "outputs": [
        {
          "output_type": "stream",
          "name": "stdout",
          "text": [
            "Belgium avg food consumption is 42.13272727272727\n",
            "USA avg food consumption is 44.650000000000006\n"
          ]
        }
      ]
    },
    {
      "cell_type": "code",
      "source": [
        "# Getting summary statistics for US and Belgium food consumption\n",
        "print(be_food_cons.describe().transpose())\n",
        "print(us_food_cons.describe().transpose())"
      ],
      "metadata": {
        "colab": {
          "base_uri": "https://localhost:8080/"
        },
        "id": "mqjqegQ4qNvF",
        "outputId": "2eb70882-6be1-4fcd-bf91-d7a0b900c2cd"
      },
      "execution_count": 6,
      "outputs": [
        {
          "output_type": "stream",
          "name": "stdout",
          "text": [
            "              count        mean         std     min      25%     50%      75%  \\\n",
            "Unnamed: 0     11.0  402.000000    3.316625  397.00  399.500  402.00  404.500   \n",
            "consumption    11.0   42.132727   71.636248    0.07    7.965   12.59   28.810   \n",
            "co2_emission   11.0  100.190000  160.688878    0.03   12.265   21.34   91.515   \n",
            "\n",
            "                 max  \n",
            "Unnamed: 0    407.00  \n",
            "consumption   236.19  \n",
            "co2_emission  482.31  \n",
            "              count    mean         std    min    25%    50%     75%      max\n",
            "Unnamed: 0     11.0   61.00    3.316625  56.00  58.50  61.00  63.500    66.00\n",
            "consumption    11.0   44.65   73.796233   0.04   7.37  14.58  43.125   254.69\n",
            "co2_emission   11.0  156.26  335.760414   0.02  13.65  15.34  75.775  1118.29\n"
          ]
        }
      ]
    },
    {
      "cell_type": "code",
      "source": [
        "## Getting the food consumption and emissions by country\n",
        "by_country=food_cons.groupby('country')[['consumption','co2_emission']].sum()"
      ],
      "metadata": {
        "id": "Gb7_lmUMrueb"
      },
      "execution_count": 7,
      "outputs": []
    },
    {
      "cell_type": "code",
      "source": [
        "## Creating bootstrap replicates using the sample method\n",
        "rep=np.empty(10000)\n",
        "for i in range(0,10000):\n",
        "  sample=by_country.sample(len(by_country.index),replace=True)\n",
        "  stat=np.corrcoef(sample.consumption,sample.co2_emission)[0,1]\n",
        "  rep[i]=stat"
      ],
      "metadata": {
        "id": "6MBr6lTKuWyi"
      },
      "execution_count": 8,
      "outputs": []
    },
    {
      "cell_type": "code",
      "source": [
        "## Calculate the 95% CI for the correlation. Looks like strong correlation between consumption and emissions.\n",
        "np.quantile(rep,[0.05,0.95])"
      ],
      "metadata": {
        "colab": {
          "base_uri": "https://localhost:8080/"
        },
        "id": "SWmAN_4MvgeL",
        "outputId": "47e2a62d-3309-4520-8dc4-1bc87caf144c"
      },
      "execution_count": 9,
      "outputs": [
        {
          "output_type": "execute_result",
          "data": {
            "text/plain": [
              "array([0.75499378, 0.84444296])"
            ]
          },
          "metadata": {},
          "execution_count": 9
        }
      ]
    },
    {
      "cell_type": "code",
      "source": [
        "plt.style.use('ggplot')\n",
        "plt.figure(figsize=(10,10))\n",
        "plt.hist(rep)\n",
        "plt.show()"
      ],
      "metadata": {
        "colab": {
          "base_uri": "https://localhost:8080/",
          "height": 592
        },
        "id": "3UJPD9F6p_6q",
        "outputId": "987f0296-b6ed-4de9-9e40-f611f1847345"
      },
      "execution_count": 10,
      "outputs": [
        {
          "output_type": "display_data",
          "data": {
            "text/plain": [
              "<Figure size 720x720 with 1 Axes>"
            ],
            "image/png": "[encoded data removed]"
          },
          "metadata": {}
        }
      ]
    },
    {
      "cell_type": "code",
      "source": [
        "## Writing a list comprehension\n",
        "cons_2=[\"small\" if c<=100  else \"big\" for c in by_country.consumption]"
      ],
      "metadata": {
        "id": "caLUiFjbviT8"
      },
      "execution_count": 11,
      "outputs": []
    },
    {
      "cell_type": "code",
      "source": [
        "cons_3=[c for c in by_country.consumption if c>=200]"
      ],
      "metadata": {
        "id": "lFIzCvdc5ZOr"
      },
      "execution_count": 12,
      "outputs": []
    },
    {
      "cell_type": "code",
      "source": [
        "len(cons_3)"
      ],
      "metadata": {
        "colab": {
          "base_uri": "https://localhost:8080/"
        },
        "id": "BwB4BXlW9z1H",
        "outputId": "7b5da631-f789-4bf3-f7da-1c843459ae70"
      },
      "execution_count": 13,
      "outputs": [
        {
          "output_type": "execute_result",
          "data": {
            "text/plain": [
              "101"
            ]
          },
          "metadata": {},
          "execution_count": 13
        }
      ]
    },
    {
      "cell_type": "markdown",
      "source": [
        "## Discrete Distributions\n",
        "* Any random variable that has discrete values has a discrete distribution.\n",
        "eg. Number of packages (always integer discrete), dice outcomes (always discrete)\n",
        "* Expected value= (value1* probablility1)+(value2* probaility2).....\n",
        "* Discrete uniform and discrete non uniform\n",
        "* *Law of large numbers* Asd the sample size increases the sample mean will approach the theoretical mean.\n",
        "\n"
      ],
      "metadata": {
        "id": "HeB05i6zpwEE"
      }
    },
    {
      "cell_type": "code",
      "source": [
        "food_cons.loc[food_cons.consumption>=100,:]"
      ],
      "metadata": {
        "id": "_vqMAExJ-JGq",
        "colab": {
          "base_uri": "https://localhost:8080/",
          "height": 424
        },
        "outputId": "519eb6fe-782d-408f-ff2a-3ae8f9e47723"
      },
      "execution_count": null,
      "outputs": [
        {
          "output_type": "execute_result",
          "data": {
            "text/plain": [
              "      Unnamed: 0       country food_category  consumption  co2_emission\n",
              "6              7     Argentina         dairy       195.08        277.87\n",
              "7              8     Argentina         wheat       103.11         19.66\n",
              "17            18     Australia         dairy       234.49        334.01\n",
              "28            29       Albania         dairy       303.72        432.62\n",
              "29            30       Albania         wheat       138.64         26.44\n",
              "...          ...           ...           ...          ...           ...\n",
              "1372        1373      Cambodia          rice       159.10        203.60\n",
              "1383        1384  Sierra Leone          rice       103.30        132.19\n",
              "1394        1395     Sri Lanka          rice       109.72        140.41\n",
              "1405        1406     Indonesia          rice       134.62        172.27\n",
              "1427        1428    Bangladesh          rice       171.73        219.76\n",
              "\n",
              "[118 rows x 5 columns]"
            ],
            "text/html": [
              "\n",
              "  <div id=\"df-789026a2-b884-4330-9b46-80460f15f40f\">\n",
              "    <div class=\"colab-df-container\">\n",
              "      <div>\n",
              "<style scoped>\n",
              "    .dataframe tbody tr th:only-of-type {\n",
              "        vertical-align: middle;\n",
              "    }\n",
              "\n",
              "    .dataframe tbody tr th {\n",
              "        vertical-align: top;\n",
              "    }\n",
              "\n",
              "    .dataframe thead th {\n",
              "        text-align: right;\n",
              "    }\n",
              "</style>\n",
              "<table border=\"1\" class=\"dataframe\">\n",
              "  <thead>\n",
              "    <tr style=\"text-align: right;\">\n",
              "      <th></th>\n",
              "      <th>Unnamed: 0</th>\n",
              "      <th>country</th>\n",
              "      <th>food_category</th>\n",
              "      <th>consumption</th>\n",
              "      <th>co2_emission</th>\n",
              "    </tr>\n",
              "  </thead>\n",
              "  <tbody>\n",
              "    <tr>\n",
              "      <th>6</th>\n",
              "      <td>7</td>\n",
              "      <td>Argentina</td>\n",
              "      <td>dairy</td>\n",
              "      <td>195.08</td>\n",
              "      <td>277.87</td>\n",
              "    </tr>\n",
              "    <tr>\n",
              "      <th>7</th>\n",
              "      <td>8</td>\n",
              "      <td>Argentina</td>\n",
              "      <td>wheat</td>\n",
              "      <td>103.11</td>\n",
              "      <td>19.66</td>\n",
              "    </tr>\n",
              "    <tr>\n",
              "      <th>17</th>\n",
              "      <td>18</td>\n",
              "      <td>Australia</td>\n",
              "      <td>dairy</td>\n",
              "      <td>234.49</td>\n",
              "      <td>334.01</td>\n",
              "    </tr>\n",
              "    <tr>\n",
              "      <th>28</th>\n",
              "      <td>29</td>\n",
              "      <td>Albania</td>\n",
              "      <td>dairy</td>\n",
              "      <td>303.72</td>\n",
              "      <td>432.62</td>\n",
              "    </tr>\n",
              "    <tr>\n",
              "      <th>29</th>\n",
              "      <td>30</td>\n",
              "      <td>Albania</td>\n",
              "      <td>wheat</td>\n",
              "      <td>138.64</td>\n",
              "      <td>26.44</td>\n",
              "    </tr>\n",
              "    <tr>\n",
              "      <th>...</th>\n",
              "      <td>...</td>\n",
              "      <td>...</td>\n",
              "      <td>...</td>\n",
              "      <td>...</td>\n",
              "      <td>...</td>\n",
              "    </tr>\n",
              "    <tr>\n",
              "      <th>1372</th>\n",
              "      <td>1373</td>\n",
              "      <td>Cambodia</td>\n",
              "      <td>rice</td>\n",
              "      <td>159.10</td>\n",
              "      <td>203.60</td>\n",
              "    </tr>\n",
              "    <tr>\n",
              "      <th>1383</th>\n",
              "      <td>1384</td>\n",
              "      <td>Sierra Leone</td>\n",
              "      <td>rice</td>\n",
              "      <td>103.30</td>\n",
              "      <td>132.19</td>\n",
              "    </tr>\n",
              "    <tr>\n",
              "      <th>1394</th>\n",
              "      <td>1395</td>\n",
              "      <td>Sri Lanka</td>\n",
              "      <td>rice</td>\n",
              "      <td>109.72</td>\n",
              "      <td>140.41</td>\n",
              "    </tr>\n",
              "    <tr>\n",
              "      <th>1405</th>\n",
              "      <td>1406</td>\n",
              "      <td>Indonesia</td>\n",
              "      <td>rice</td>\n",
              "      <td>134.62</td>\n",
              "      <td>172.27</td>\n",
              "    </tr>\n",
              "    <tr>\n",
              "      <th>1427</th>\n",
              "      <td>1428</td>\n",
              "      <td>Bangladesh</td>\n",
              "      <td>rice</td>\n",
              "      <td>171.73</td>\n",
              "      <td>219.76</td>\n",
              "    </tr>\n",
              "  </tbody>\n",
              "</table>\n",
              "<p>118 rows × 5 columns</p>\n",
              "</div>\n",
              "      <button class=\"colab-df-convert\" onclick=\"convertToInteractive('df-789026a2-b884-4330-9b46-80460f15f40f')\"\n",
              "              title=\"Convert this dataframe to an interactive table.\"\n",
              "              style=\"display:none;\">\n",
              "        \n",
              "  <svg xmlns=\"http://www.w3.org/2000/svg\" height=\"24px\"viewBox=\"0 0 24 24\"\n",
              "       width=\"24px\">\n",
              "    <path d=\"M0 0h24v24H0V0z\" fill=\"none\"/>\n",
              "    <path d=\"M18.56 5.44l.94 2.06.94-2.06 2.06-.94-2.06-.94-.94-2.06-.94 2.06-2.06.94zm-11 1L8.5 8.5l.94-2.06 2.06-.94-2.06-.94L8.5 2.5l-.94 2.06-2.06.94zm10 10l.94 2.06.94-2.06 2.06-.94-2.06-.94-.94-2.06-.94 2.06-2.06.94z\"/><path d=\"M17.41 7.96l-1.37-1.37c-.4-.4-.92-.59-1.43-.59-.52 0-1.04.2-1.43.59L10.3 9.45l-7.72 7.72c-.78.78-.78 2.05 0 2.83L4 21.41c.39.39.9.59 1.41.59.51 0 1.02-.2 1.41-.59l7.78-7.78 2.81-2.81c.8-.78.8-2.07 0-2.86zM5.41 20L4 18.59l7.72-7.72 1.47 1.35L5.41 20z\"/>\n",
              "  </svg>\n",
              "      </button>\n",
              "      \n",
              "  <style>\n",
              "    .colab-df-container {\n",
              "      display:flex;\n",
              "      flex-wrap:wrap;\n",
              "      gap: 12px;\n",
              "    }\n",
              "\n",
              "    .colab-df-convert {\n",
              "      background-color: #E8F0FE;\n",
              "      border: none;\n",
              "      border-radius: 50%;\n",
              "      cursor: pointer;\n",
              "      display: none;\n",
              "      fill: #1967D2;\n",
              "      height: 32px;\n",
              "      padding: 0 0 0 0;\n",
              "      width: 32px;\n",
              "    }\n",
              "\n",
              "    .colab-df-convert:hover {\n",
              "      background-color: #E2EBFA;\n",
              "      box-shadow: 0px 1px 2px rgba(60, 64, 67, 0.3), 0px 1px 3px 1px rgba(60, 64, 67, 0.15);\n",
              "      fill: #174EA6;\n",
              "    }\n",
              "\n",
              "    [theme=dark] .colab-df-convert {\n",
              "      background-color: #3B4455;\n",
              "      fill: #D2E3FC;\n",
              "    }\n",
              "\n",
              "    [theme=dark] .colab-df-convert:hover {\n",
              "      background-color: #434B5C;\n",
              "      box-shadow: 0px 1px 3px 1px rgba(0, 0, 0, 0.15);\n",
              "      filter: drop-shadow(0px 1px 2px rgba(0, 0, 0, 0.3));\n",
              "      fill: #FFFFFF;\n",
              "    }\n",
              "  </style>\n",
              "\n",
              "      <script>\n",
              "        const buttonEl =\n",
              "          document.querySelector('#df-789026a2-b884-4330-9b46-80460f15f40f button.colab-df-convert');\n",
              "        buttonEl.style.display =\n",
              "          google.colab.kernel.accessAllowed ? 'block' : 'none';\n",
              "\n",
              "        async function convertToInteractive(key) {\n",
              "          const element = document.querySelector('#df-789026a2-b884-4330-9b46-80460f15f40f');\n",
              "          const dataTable =\n",
              "            await google.colab.kernel.invokeFunction('convertToInteractive',\n",
              "                                                     [key], {});\n",
              "          if (!dataTable) return;\n",
              "\n",
              "          const docLinkHtml = 'Like what you see? Visit the ' +\n",
              "            '<a target=\"_blank\" href=https://colab.research.google.com/notebooks/data_table.ipynb>data table notebook</a>'\n",
              "            + ' to learn more about interactive tables.';\n",
              "          element.innerHTML = '';\n",
              "          dataTable['output_type'] = 'display_data';\n",
              "          await google.colab.output.renderOutput(dataTable, element);\n",
              "          const docLink = document.createElement('div');\n",
              "          docLink.innerHTML = docLinkHtml;\n",
              "          element.appendChild(docLink);\n",
              "        }\n",
              "      </script>\n",
              "    </div>\n",
              "  </div>\n",
              "  "
            ]
          },
          "metadata": {},
          "execution_count": 66
        }
      ]
    },
    {
      "cell_type": "code",
      "source": [
        "from scipy.stats import uniform\n",
        "# Probability of waiting less than 7 minutes\n",
        "uniform.cdf(7,0,12)\n",
        "# Probability of waiting more than 7 minutes\n",
        "1-uniform.cdf(7,0,12)\n",
        "# Probility of waiting between 4 and 7 minutes\n",
        "uniform.cdf(7,0,12)-uniform.cdf(4,0,12)"
      ],
      "metadata": {
        "colab": {
          "base_uri": "https://localhost:8080/"
        },
        "id": "DSdGareZx6IE",
        "outputId": "196bad65-0dc5-4dad-f097-57859f6cf572"
      },
      "execution_count": 14,
      "outputs": [
        {
          "output_type": "execute_result",
          "data": {
            "text/plain": [
              "0.25000000000000006"
            ]
          },
          "metadata": {},
          "execution_count": 14
        }
      ]
    },
    {
      "cell_type": "code",
      "source": [
        "#Generating a random sample\n",
        "uniform.rvs(0,5,size=10)"
      ],
      "metadata": {
        "colab": {
          "base_uri": "https://localhost:8080/"
        },
        "id": "si9jRjKXyoFE",
        "outputId": "9e8b4ad7-e815-420f-8d2f-68b483d2edd5"
      },
      "execution_count": 16,
      "outputs": [
        {
          "output_type": "execute_result",
          "data": {
            "text/plain": [
              "array([2.96807602, 1.98752314, 4.94290446, 0.84867268, 3.70422651,\n",
              "       0.35223897, 4.53370052, 3.11912016, 2.96926517, 1.43011284])"
            ]
          },
          "metadata": {},
          "execution_count": 16
        }
      ]
    },
    {
      "cell_type": "markdown",
      "source": [
        "### Binomial distribution\n",
        "* Any process that has 2 possible outcomes can be represented by a binomial distribution\n",
        "* Each trial has to be independent\n",
        "* expected value=n*p"
      ],
      "metadata": {
        "id": "UM7cc9Jo1HF5"
      }
    },
    {
      "cell_type": "code",
      "source": [
        "from scipy.stats import binom"
      ],
      "metadata": {
        "id": "OWztzSeW1EhE"
      },
      "execution_count": null,
      "outputs": []
    },
    {
      "cell_type": "code",
      "source": [
        "# generating a binomial distribution\n",
        "binom.rvs(1,0.5,size=100)"
      ],
      "metadata": {
        "colab": {
          "base_uri": "https://localhost:8080/"
        },
        "id": "4hHAO6iM1g-m",
        "outputId": "8b038fa3-2cd6-49fe-e766-c7b6cc6f8bff"
      },
      "execution_count": null,
      "outputs": [
        {
          "output_type": "execute_result",
          "data": {
            "text/plain": [
              "array([1, 1, 0, 0, 0, 0, 1, 0, 1, 1, 0, 0, 1, 0, 1, 1, 1, 0, 1, 0, 1, 0,\n",
              "       1, 0, 1, 1, 1, 0, 0, 0, 1, 0, 1, 1, 1, 0, 0, 1, 0, 0, 0, 0, 1, 1,\n",
              "       0, 0, 0, 1, 0, 1, 1, 1, 1, 0, 1, 1, 0, 0, 0, 0, 0, 1, 1, 1, 1, 1,\n",
              "       1, 0, 0, 0, 0, 0, 1, 1, 1, 0, 0, 0, 0, 1, 1, 1, 0, 0, 0, 1, 1, 1,\n",
              "       0, 0, 1, 0, 0, 1, 1, 1, 0, 0, 0, 0])"
            ]
          },
          "metadata": {},
          "execution_count": 79
        }
      ]
    },
    {
      "cell_type": "code",
      "source": [
        "# probability of getting an outcome (n_succes,no of trials,p(s))\n",
        "binom.pmf(7,20,0.5)"
      ],
      "metadata": {
        "colab": {
          "base_uri": "https://localhost:8080/"
        },
        "id": "QQcKPgui2oHR",
        "outputId": "037f1588-de46-4077-e988-84709e0fb224"
      },
      "execution_count": null,
      "outputs": [
        {
          "output_type": "execute_result",
          "data": {
            "text/plain": [
              "0.07392883300781249"
            ]
          },
          "metadata": {},
          "execution_count": 84
        }
      ]
    },
    {
      "cell_type": "code",
      "source": [
        "# Probability of 7 or fewer heads in 10 trials\n",
        "binom.cdf(7,20,0.5)"
      ],
      "metadata": {
        "colab": {
          "base_uri": "https://localhost:8080/"
        },
        "id": "PA-jgmYr3Xsg",
        "outputId": "0b85783d-2537-4859-dd81-8bd79989dfd2"
      },
      "execution_count": null,
      "outputs": [
        {
          "output_type": "execute_result",
          "data": {
            "text/plain": [
              "0.13158798217773438"
            ]
          },
          "metadata": {},
          "execution_count": 88
        }
      ]
    },
    {
      "cell_type": "markdown",
      "source": [
        "## Normal distribution\n",
        "Key characteristics\n",
        "* Its a symmetrical distribution\n",
        "* The area benaeath the curve is 1 \n",
        "* The curve never hits zero but approaches it (asymptotic)\n",
        "* Described by mean and std deviation\n",
        "* Mean 0 and std deviation 1 is the standard Normal distribution\n"
      ],
      "metadata": {
        "id": "Ky741gY8gtWH"
      }
    },
    {
      "cell_type": "code",
      "source": [
        "# Getting probability\n",
        "from scipy.stats import norm\n",
        "norm.cdf(154,161,7)"
      ],
      "metadata": {
        "colab": {
          "base_uri": "https://localhost:8080/"
        },
        "id": "ylH2Md90gsi4",
        "outputId": "7607a7a8-a4eb-48c8-8105-4597cc9a4201"
      },
      "execution_count": 18,
      "outputs": [
        {
          "output_type": "execute_result",
          "data": {
            "text/plain": [
              "0.15865525393145707"
            ]
          },
          "metadata": {},
          "execution_count": 18
        }
      ]
    },
    {
      "cell_type": "code",
      "source": [
        "# Getting percentile\n",
        "norm.ppf(0.9,161,7)"
      ],
      "metadata": {
        "colab": {
          "base_uri": "https://localhost:8080/"
        },
        "id": "6V8BxSUfiAkd",
        "outputId": "15f8288e-f5e6-41dc-b5c3-19b53b91701a"
      },
      "execution_count": 19,
      "outputs": [
        {
          "output_type": "execute_result",
          "data": {
            "text/plain": [
              "169.9708609588122"
            ]
          },
          "metadata": {},
          "execution_count": 19
        }
      ]
    },
    {
      "cell_type": "code",
      "source": [
        "#Generating a random sample\n",
        "norm.rvs(161,7,size=20)"
      ],
      "metadata": {
        "colab": {
          "base_uri": "https://localhost:8080/"
        },
        "id": "SS064FfbiPQg",
        "outputId": "fa0d0e13-8445-49d5-f39c-827769ea4e94"
      },
      "execution_count": 20,
      "outputs": [
        {
          "output_type": "execute_result",
          "data": {
            "text/plain": [
              "array([151.56218639, 161.83281465, 162.23736934, 172.39722739,\n",
              "       161.91031289, 162.93786772, 150.5180305 , 155.96244919,\n",
              "       167.90901664, 154.9523507 , 149.66080603, 150.97266845,\n",
              "       161.60885231, 165.9558891 , 172.75058277, 159.74967792,\n",
              "       157.21735338, 179.79780802, 170.25948678, 160.44947772])"
            ]
          },
          "metadata": {},
          "execution_count": 20
        }
      ]
    },
    {
      "cell_type": "code",
      "source": [
        "import numpy as np\n",
        "np.random.normal(151,7,10)"
      ],
      "metadata": {
        "colab": {
          "base_uri": "https://localhost:8080/"
        },
        "id": "M7OSFY5KibVM",
        "outputId": "e2424a2f-0f31-4547-bf31-41b6a839a95d"
      },
      "execution_count": 21,
      "outputs": [
        {
          "output_type": "execute_result",
          "data": {
            "text/plain": [
              "array([144.8133437 , 156.58954886, 136.24509855, 154.11029889,\n",
              "       153.69528403, 145.69037995, 149.46429284, 160.62247803,\n",
              "       165.95071363, 147.99206045])"
            ]
          },
          "metadata": {},
          "execution_count": 21
        }
      ]
    },
    {
      "cell_type": "markdown",
      "source": [
        "### Central Limit Theorem and sampling distribution\n",
        "* A distribution of a summary statistic is called a sample distribution\n",
        "* A sampling distribution approaches the normal distribution as the number of simulations/trials increases"
      ],
      "metadata": {
        "id": "cIE-RDtsmAKv"
      }
    },
    {
      "cell_type": "code",
      "source": [
        "## Creating bootstrap replicates using the sample method\n",
        "rep=np.empty(10000)\n",
        "for i in range(0,10000):\n",
        "  sample=by_country.sample(len(by_country.index),replace=True)\n",
        "  stat=np.corrcoef(sample.consumption,sample.co2_emission)[0,1]\n",
        "  rep[i]=stat"
      ],
      "metadata": {
        "id": "Fl-jx2R1l_KU"
      },
      "execution_count": 22,
      "outputs": []
    },
    {
      "cell_type": "markdown",
      "source": [
        "### Poisson distribution\n",
        "* Events appear to happen at a certain rate but completely at random\n",
        "* Animals adopted at shelter per week\n",
        "* Number of people arriving at a restaurant per hour.\n",
        "* Described by a value lambda which is the average number of events in a time period.\n",
        "* Its a discrete distribution. so it has a pmf that can tell us the probability of exactly x events/time period. Use CDF for less than x"
      ],
      "metadata": {
        "id": "mECDzwWLqUCZ"
      }
    },
    {
      "cell_type": "code",
      "source": [
        "# Generating samples\n",
        "from scipy.stats import poisson\n",
        "poisson.rvs(8,size=10)"
      ],
      "metadata": {
        "colab": {
          "base_uri": "https://localhost:8080/"
        },
        "id": "jZm1snxirOeF",
        "outputId": "21c11348-1355-4da0-e9a7-28070c3d70c6"
      },
      "execution_count": 25,
      "outputs": [
        {
          "output_type": "execute_result",
          "data": {
            "text/plain": [
              "array([ 7,  7,  7,  5,  9,  6, 11,  7,  7,  8])"
            ]
          },
          "metadata": {},
          "execution_count": 25
        }
      ]
    },
    {
      "cell_type": "markdown",
      "source": [
        "## Exponential distribution\n",
        "* Models certain time passing between poisson events\n",
        "* Used for wait times\n",
        "* The expected value of exponential distribution =1/lambda\n",
        "* Wait time is continous so this is a continous distribution"
      ],
      "metadata": {
        "id": "4Er528_DtYBb"
      }
    },
    {
      "cell_type": "code",
      "source": [
        "from scipy.stats import expon\n",
        "expon.cdf(1,scale=0.5)"
      ],
      "metadata": {
        "colab": {
          "base_uri": "https://localhost:8080/"
        },
        "id": "lHf6MlgGtXYu",
        "outputId": "69152dc4-84d3-4fb8-bafd-f469e563cb93"
      },
      "execution_count": 26,
      "outputs": [
        {
          "output_type": "execute_result",
          "data": {
            "text/plain": [
              "0.8646647167633873"
            ]
          },
          "metadata": {},
          "execution_count": 26
        }
      ]
    },
    {
      "cell_type": "code",
      "source": [
        "1-expon.cdf(3,scale=0.5)"
      ],
      "metadata": {
        "colab": {
          "base_uri": "https://localhost:8080/"
        },
        "id": "DgimKO8Nus1g",
        "outputId": "54780763-5136-4779-d8bb-94f9ba4a1e9f"
      },
      "execution_count": 29,
      "outputs": [
        {
          "output_type": "execute_result",
          "data": {
            "text/plain": [
              "0.0024787521766663767"
            ]
          },
          "metadata": {},
          "execution_count": 29
        }
      ]
    }
  ]
}