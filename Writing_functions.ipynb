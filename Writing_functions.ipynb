{
  "nbformat": 4,
  "nbformat_minor": 0,
  "metadata": {
    "colab": {
      "provenance": [],
      "collapsed_sections": [],
      "authorship_tag": "ABX9TyMcJF4H/tICS3k5WjqK27Bj",
      "include_colab_link": true
    },
    "kernelspec": {
      "name": "python3",
      "display_name": "Python 3"
    },
    "language_info": {
      "name": "python"
    }
  },
  "cells": [
    {
      "cell_type": "markdown",
      "metadata": {
        "id": "view-in-github",
        "colab_type": "text"
      },
      "source": [
        "<a href=\"https://colab.research.google.com/github/gmehra123/course1/blob/master/Writing_functions.ipynb\" target=\"_parent\"><img src=\"https://colab.research.google.com/assets/colab-badge.svg\" alt=\"Open In Colab\"/></a>"
      ]
    },
    {
      "cell_type": "code",
      "execution_count": 1,
      "metadata": {
        "id": "-LXPgzt9j5QR"
      },
      "outputs": [],
      "source": [
        "import pandas as pd\n",
        "import numpy as np"
      ]
    },
    {
      "cell_type": "markdown",
      "source": [
        "### Functions and best practices\n",
        "* DRY- Don't repeat yourself. for repitive tasks write functions.\n",
        "* Doc Strings best practices\n",
        "  * Write in imperitive language\n",
        "  * What the function does. What arguments does it take in a separate args sections along with type. Returns what value along with the data type.\n",
        "* Every function should do one thing"
      ],
      "metadata": {
        "id": "dM2ZXUALocTM"
      }
    },
    {
      "cell_type": "code",
      "source": [
        "#Google style doc string\n",
        "def pv(n_per,rate,FV):\n",
        "  \"\"\"Calculates the present value of a cash flow in the future.\n",
        "  Args:\n",
        "    n_per (int)-: Number of periods (years,months or days)\n",
        "    rate (float)-: This is the periodic rate. \n",
        "    FV (float)-: This is the future value\n",
        "  Returns:\n",
        "    The present value.\"\"\"\n",
        "  pv=FV/(1+rate)**n_per\n",
        "  return(pv)\n"
      ],
      "metadata": {
        "id": "02yM4gt7j_Zs"
      },
      "execution_count": 9,
      "outputs": []
    },
    {
      "cell_type": "code",
      "source": [
        "pv(10,0.04,10000)"
      ],
      "metadata": {
        "colab": {
          "base_uri": "https://localhost:8080/"
        },
        "id": "UGxyB2XUlS0y",
        "outputId": "0ad93215-5af5-4bf4-bde3-4af96787f288"
      },
      "execution_count": 10,
      "outputs": [
        {
          "output_type": "execute_result",
          "data": {
            "text/plain": [
              "6755.641688257987"
            ]
          },
          "metadata": {},
          "execution_count": 10
        }
      ]
    },
    {
      "cell_type": "code",
      "source": [
        "print(pv.__doc__)"
      ],
      "metadata": {
        "colab": {
          "base_uri": "https://localhost:8080/"
        },
        "id": "E32Lh_2PmQEp",
        "outputId": "60830805-395a-45be-f292-e7426645cdf3"
      },
      "execution_count": 11,
      "outputs": [
        {
          "output_type": "stream",
          "name": "stdout",
          "text": [
            "Calculates the present value of a cash flow in the future.\n",
            "  Args:\n",
            "    n_per (int)-: Number of periods (years,months or days)\n",
            "    rate (float)-: This is the periodic rate. \n",
            "    FV (float)-: This is the future value\n",
            "  Returns:\n",
            "    The present value.\n"
          ]
        }
      ]
    },
    {
      "cell_type": "code",
      "source": [
        "def standardize(column):\n",
        "  \"\"\"Returns z scores of a column in a pandas data frame (pandas series)\n",
        "  Args:\n",
        "    column (pandas series)-: The series for which you need the z scores.\n",
        "  Returns:\n",
        "    Pandas series\n",
        "  \"\"\"\n",
        "  z_col=column-column.mean()/column.std()\n",
        "  return(z_col)"
      ],
      "metadata": {
        "id": "4uqkUc8AtKOR"
      },
      "execution_count": 12,
      "outputs": []
    },
    {
      "cell_type": "code",
      "source": [],
      "metadata": {
        "id": "WfQIFF7Jt7xQ"
      },
      "execution_count": null,
      "outputs": []
    }
  ]
}