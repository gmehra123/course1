{
  "nbformat": 4,
  "nbformat_minor": 0,
  "metadata": {
    "colab": {
      "provenance": [],
      "collapsed_sections": [],
      "toc_visible": true,
      "authorship_tag": "ABX9TyOk7wGX9RxipTcdhjltNL9+",
      "include_colab_link": true
    },
    "kernelspec": {
      "name": "python3",
      "display_name": "Python 3"
    },
    "language_info": {
      "name": "python"
    }
  },
  "cells": [
    {
      "cell_type": "markdown",
      "metadata": {
        "id": "view-in-github",
        "colab_type": "text"
      },
      "source": [
        "<a href=\"https://colab.research.google.com/github/gmehra123/course1/blob/master/Writing_functions.ipynb\" target=\"_parent\"><img src=\"https://colab.research.google.com/assets/colab-badge.svg\" alt=\"Open In Colab\"/></a>"
      ]
    },
    {
      "cell_type": "code",
      "execution_count": null,
      "metadata": {
        "id": "-LXPgzt9j5QR"
      },
      "outputs": [],
      "source": [
        "import pandas as pd\n",
        "import numpy as np"
      ]
    },
    {
      "cell_type": "markdown",
      "source": [
        "### Functions and best practices\n",
        "* DRY- Don't repeat yourself. for repitive tasks write functions.\n",
        "* Doc Strings best practices\n",
        "  * Write in imperitive language\n",
        "  * What the function does. What arguments does it take in a separate args sections along with type. Returns what value along with the data type.\n",
        "* Every function should do one thing"
      ],
      "metadata": {
        "id": "dM2ZXUALocTM"
      }
    },
    {
      "cell_type": "code",
      "source": [
        "#Google style doc string\n",
        "def pv(n_per,rate,FV):\n",
        "  \"\"\"Calculates the present value of a cash flow in the future.\n",
        "  Args:\n",
        "    n_per (int)-: Number of periods (years,months or days)\n",
        "    rate (float)-: This is the periodic rate. \n",
        "    FV (float)-: This is the future value\n",
        "  Returns:\n",
        "    The present value.\"\"\"\n",
        "  pv=FV/(1+rate)**n_per\n",
        "  return(pv)\n"
      ],
      "metadata": {
        "id": "02yM4gt7j_Zs"
      },
      "execution_count": null,
      "outputs": []
    },
    {
      "cell_type": "code",
      "source": [
        "pv(10,0.04,10000)"
      ],
      "metadata": {
        "colab": {
          "base_uri": "https://localhost:8080/"
        },
        "id": "UGxyB2XUlS0y",
        "outputId": "0ad93215-5af5-4bf4-bde3-4af96787f288"
      },
      "execution_count": null,
      "outputs": [
        {
          "output_type": "execute_result",
          "data": {
            "text/plain": [
              "6755.641688257987"
            ]
          },
          "metadata": {},
          "execution_count": 10
        }
      ]
    },
    {
      "cell_type": "code",
      "source": [
        "print(pv.__doc__)"
      ],
      "metadata": {
        "colab": {
          "base_uri": "https://localhost:8080/"
        },
        "id": "E32Lh_2PmQEp",
        "outputId": "ad2ea0f5-0085-42b7-b79f-112fa59fa7ed"
      },
      "execution_count": null,
      "outputs": [
        {
          "output_type": "stream",
          "name": "stdout",
          "text": [
            "Calculates the present value of a cash flow in the future.\n",
            "  Args:\n",
            "    n_per (int)-: Number of periods (years,months or days)\n",
            "    rate (float)-: This is the periodic rate. \n",
            "    FV (float)-: This is the future value\n",
            "  Returns:\n",
            "    The present value.\n"
          ]
        }
      ]
    },
    {
      "cell_type": "code",
      "source": [
        "def standardize(column):\n",
        "  \"\"\"Returns z scores of a column in a pandas data frame (pandas series)\n",
        "  Args:\n",
        "    column (pandas series)-: The series for which you need the z scores.\n",
        "  Returns:\n",
        "    Pandas series\n",
        "  \"\"\"\n",
        "  z_col=column-column.mean()/column.std()\n",
        "  return(z_col)"
      ],
      "metadata": {
        "id": "4uqkUc8AtKOR"
      },
      "execution_count": null,
      "outputs": []
    },
    {
      "cell_type": "markdown",
      "source": [
        "## Context Manager\n",
        "* Sets up a context to run your code\n",
        "* runs the code \n",
        "* removes the context\n",
        "* open function is a context manager. open sets up a context by opeing a file. You run your code on the file and then it closes the context\n",
        "* Always begins with the keyword **with context manager (<args>) as variable name:** \n",
        "* Creating a function based context manager\n",
        "  * Define a function\n",
        "  * write code your context needs\n",
        "  * Use yield keyword\n",
        "  * Add any tear down code you need\n",
        "  * @contextlib.contextmanager\n"
      ],
      "metadata": {
        "id": "1WZuNVzNud78"
      }
    },
    {
      "cell_type": "code",
      "source": [
        "import contextlib \n",
        "@contextlib.contextmanager\n",
        "def test(num):\n",
        "  if num>10:\n",
        "    yield('Gretaer than 10')\n",
        "  else:\n",
        "    yield('less than 10')\n",
        "with test(30) as foo:\n",
        "  print(foo)"
      ],
      "metadata": {
        "id": "WfQIFF7Jt7xQ",
        "colab": {
          "base_uri": "https://localhost:8080/"
        },
        "outputId": "89f67371-7e9d-42ba-efc8-3c0e0b9d5efb"
      },
      "execution_count": null,
      "outputs": [
        {
          "output_type": "stream",
          "name": "stdout",
          "text": [
            "Gretaer than 10\n"
          ]
        }
      ]
    },
    {
      "cell_type": "code",
      "source": [
        "@contextlib.contextmanager\n",
        "def lenfile(file_name):\n",
        "  file=open(file_name,mode='r')\n",
        "  text=file.read()\n",
        "  len_=len(text)\n",
        "  yield len_\n",
        "  #Add tear down code\n",
        "  file.close()"
      ],
      "metadata": {
        "id": "3OMKXXCB0wAc"
      },
      "execution_count": null,
      "outputs": []
    },
    {
      "cell_type": "code",
      "source": [
        "with lenfile('sample_data/mnist_test.csv') as file:\n",
        "  print(file)"
      ],
      "metadata": {
        "colab": {
          "base_uri": "https://localhost:8080/"
        },
        "id": "6LN8xdW41OSP",
        "outputId": "5912b14a-81c7-4dc9-d85c-2f44698ce26c"
      },
      "execution_count": null,
      "outputs": [
        {
          "output_type": "stream",
          "name": "stdout",
          "text": [
            "18289443\n"
          ]
        }
      ]
    },
    {
      "cell_type": "markdown",
      "source": [
        "### Functions as objects\n",
        "* functions are objects like lists,dictionaries and dataframes\n",
        "* You can have lists of functions and dicts of functions\n",
        "* You can also assign functions to variables (without parenthesis since this is assignment and not a function call)"
      ],
      "metadata": {
        "id": "4L8ICiBn6N7D"
      }
    },
    {
      "cell_type": "code",
      "source": [
        "# Function takes a function as an argument\n",
        "def funcr(func_name):\n",
        "  \"\"\" Returns the arthimetic function provided as an argument.\n",
        "  Args:\n",
        "    func_name(string): Defines the arithemitic operation to be performed (add or substract)\n",
        "  Returns:\n",
        "    function\"\"\"\n",
        "  if func_name=='add':\n",
        "    def add(a,b):\n",
        "      return a+b\n",
        "    return add\n",
        "  elif func_name=='subtract':\n",
        "    def sub(a,b):\n",
        "      return a-b\n",
        "    return sub\n",
        "  else: return ('Dont know')\n",
        "  \n",
        "add=funcr('add')\n",
        "print(add(5,2))\n",
        "c=add(5,2)\n",
        "print(c)\n"
      ],
      "metadata": {
        "id": "KPZRw2NQ2uBN",
        "colab": {
          "base_uri": "https://localhost:8080/"
        },
        "outputId": "de1812ce-2fc5-441f-851a-10bea3d35699"
      },
      "execution_count": null,
      "outputs": [
        {
          "output_type": "stream",
          "name": "stdout",
          "text": [
            "7\n",
            "7\n"
          ]
        }
      ]
    },
    {
      "cell_type": "markdown",
      "source": [
        "## Decorator\n",
        "* Decorator is a wrapper that you can place around a function and modify its behavior.\n",
        "* Modify inputs, Modify outputs or what the function does\n",
        "* **@double_args** would show the format of a decorator"
      ],
      "metadata": {
        "id": "XmM0UzY2EH9U"
      }
    },
    {
      "cell_type": "code",
      "source": [
        "def double_args(func):\n",
        "  def wrapper(a,b):\n",
        "    a=a*2\n",
        "    b=b*2\n",
        "    return func((a),(b))\n",
        "  return(wrapper)\n",
        "\n",
        "@double_args\n",
        "def multiply(a,b):\n",
        "  return(a*b)\n",
        "\n",
        "multiply(5,3)\n"
      ],
      "metadata": {
        "colab": {
          "base_uri": "https://localhost:8080/"
        },
        "id": "-sFXdmp4_tM0",
        "outputId": "664dc389-db45-4c04-f55f-b81688e61dc6"
      },
      "execution_count": null,
      "outputs": [
        {
          "output_type": "execute_result",
          "data": {
            "text/plain": [
              "60"
            ]
          },
          "metadata": {},
          "execution_count": 232
        }
      ]
    },
    {
      "cell_type": "code",
      "source": [
        "multiply.__closure__[0].cell_contents"
      ],
      "metadata": {
        "colab": {
          "base_uri": "https://localhost:8080/"
        },
        "id": "ah7dxqqGVqkX",
        "outputId": "58580054-9b4c-4b96-a384-eca2abb1a6af"
      },
      "execution_count": null,
      "outputs": [
        {
          "output_type": "execute_result",
          "data": {
            "text/plain": [
              "<function __main__.multiply(a, b)>"
            ]
          },
          "metadata": {},
          "execution_count": 206
        }
      ]
    },
    {
      "cell_type": "code",
      "source": [
        "multiply=double_args(multiply)"
      ],
      "metadata": {
        "id": "ybldeDyqGFpP"
      },
      "execution_count": null,
      "outputs": []
    },
    {
      "cell_type": "code",
      "source": [
        "multiply(5,1)"
      ],
      "metadata": {
        "colab": {
          "base_uri": "https://localhost:8080/"
        },
        "id": "OdxLdE-JJGGj",
        "outputId": "4d7bbcb2-08f8-4e55-bef5-d91d1b65d51a"
      },
      "execution_count": null,
      "outputs": [
        {
          "output_type": "execute_result",
          "data": {
            "text/plain": [
              "80"
            ]
          },
          "metadata": {},
          "execution_count": 208
        }
      ]
    },
    {
      "cell_type": "code",
      "source": [
        "def multiply2(a,b):\n",
        "  a=a*2\n",
        "  b=b*2\n",
        "  return (a*b)"
      ],
      "metadata": {
        "id": "_MJCdYj6NyN_"
      },
      "execution_count": null,
      "outputs": []
    },
    {
      "cell_type": "code",
      "source": [
        "multiply2(6,3)"
      ],
      "metadata": {
        "colab": {
          "base_uri": "https://localhost:8080/"
        },
        "id": "4WEk8LoRXHh_",
        "outputId": "6c331a16-3b5c-469b-e819-c2b769c25320"
      },
      "execution_count": null,
      "outputs": [
        {
          "output_type": "execute_result",
          "data": {
            "text/plain": [
              "72"
            ]
          },
          "metadata": {},
          "execution_count": 218
        }
      ]
    },
    {
      "cell_type": "code",
      "source": [
        "# Data type decorator\n",
        "def return_type(func):\n",
        "  def wrapper(*args):\n",
        "    result=func(*args)\n",
        "    print('The return data type is',type(result))\n",
        "    return result\n",
        "  return wrapper\n",
        "\n",
        "@return_type\n",
        "def add(a,b):\n",
        "  return (a+b)\n",
        "\n",
        "add(5,9.8)\n"
      ],
      "metadata": {
        "colab": {
          "base_uri": "https://localhost:8080/"
        },
        "id": "PeUCjO3ybjoU",
        "outputId": "5212dbaf-885c-4533-9a6c-953689de031f"
      },
      "execution_count": 34,
      "outputs": [
        {
          "output_type": "stream",
          "name": "stdout",
          "text": [
            "The return data type is <class 'float'>\n"
          ]
        },
        {
          "output_type": "execute_result",
          "data": {
            "text/plain": [
              "14.8"
            ]
          },
          "metadata": {},
          "execution_count": 34
        }
      ]
    },
    {
      "cell_type": "code",
      "source": [
        "#Counting function use decorator\n",
        "def counter(func):\n",
        "  def wrapper(*args, **kwargs):\n",
        "    wrapper.count += 1\n",
        "    # Call the function being decorated and return the result\n",
        "    return func(*args,**kwargs)\n",
        "  wrapper.count = 0\n",
        "  # Return the new decorated function\n",
        "  return wrapper\n",
        "\n",
        "# Decorate foo() with the counter() decorator\n",
        "@counter\n",
        "def foo():\n",
        "  print('calling foo()')\n",
        "  \n",
        "foo()\n",
        "foo()\n",
        "\n",
        "print('foo() was called {} times.'.format(foo.count))"
      ],
      "metadata": {
        "colab": {
          "base_uri": "https://localhost:8080/"
        },
        "id": "nfvHPH22e3P1",
        "outputId": "2a47ad52-0a52-4982-ce33-89b44d77b653"
      },
      "execution_count": 9,
      "outputs": [
        {
          "output_type": "stream",
          "name": "stdout",
          "text": [
            "calling foo()\n",
            "calling foo()\n",
            "foo() was called 2 times.\n"
          ]
        }
      ]
    },
    {
      "cell_type": "code",
      "source": [
        "# Data type decorator\n",
        "def three_times(func):\n",
        "  def wrapper(*args,**kwargs):\n",
        "   for i in range(3):\n",
        "     func(*args,**kwargs)\n",
        "  return wrapper\n",
        "\n",
        "@three_times\n",
        "def add(a,b):\n",
        "  print(a+b)\n",
        "\n",
        "add(3,4)"
      ],
      "metadata": {
        "colab": {
          "base_uri": "https://localhost:8080/"
        },
        "id": "T3lnDNNuYFgQ",
        "outputId": "6da2c98c-bb39-4102-cee1-8db43bcbeb89"
      },
      "execution_count": 40,
      "outputs": [
        {
          "output_type": "stream",
          "name": "stdout",
          "text": [
            "7\n",
            "7\n",
            "7\n"
          ]
        }
      ]
    },
    {
      "cell_type": "code",
      "source": [
        "# A decorator that takes arguments \n",
        "def run_n_times(n):\n",
        "  \"\"\"Returns a decorator.\"\"\"\n",
        "  def decorator(func):\n",
        "    def wrapper(*args,**kwargs):\n",
        "      for i in range(n):\n",
        "        func(*args,**kwargs)\n",
        "    return wrapper\n",
        "  return decorator\n"
      ],
      "metadata": {
        "id": "nc8lOT-lfXh9"
      },
      "execution_count": 45,
      "outputs": []
    },
    {
      "cell_type": "code",
      "source": [],
      "metadata": {
        "id": "YZ5gHGZJYEzM"
      },
      "execution_count": null,
      "outputs": []
    },
    {
      "cell_type": "code",
      "source": [
        "@run_n_times(10)\n",
        "def add(a,b):\n",
        "  print(a+b)\n",
        "add(3,7)"
      ],
      "metadata": {
        "id": "Osd9_wRRfdaE",
        "colab": {
          "base_uri": "https://localhost:8080/"
        },
        "outputId": "8ac6a674-e6cd-4400-dbb0-604bff628d2c"
      },
      "execution_count": 47,
      "outputs": [
        {
          "output_type": "stream",
          "name": "stdout",
          "text": [
            "10\n",
            "10\n",
            "10\n",
            "10\n",
            "10\n",
            "10\n",
            "10\n",
            "10\n",
            "10\n",
            "10\n"
          ]
        }
      ]
    },
    {
      "cell_type": "code",
      "source": [
        "# Creating a time out decorator\n",
        "import signal\n",
        "def time_out_5secs(func):\n",
        "  def wrapper(*args,**kwargs):\n",
        "    signal.alarm(5)\n",
        "    try:\n",
        "      return func(*args,**kwargs)\n",
        "    finally:\n",
        "      signal.alarm(0)\n",
        "  return wrapper\n"
      ],
      "metadata": {
        "id": "8VlZH6GLY_2R"
      },
      "execution_count": 1,
      "outputs": []
    },
    {
      "cell_type": "code",
      "source": [
        "import time\n",
        "@time_out_5secs\n",
        "def foo():\n",
        "  time.sleep(6)\n",
        "  print('foo')\n",
        "\n",
        "foo()"
      ],
      "metadata": {
        "id": "eor7lT13dpiV"
      },
      "execution_count": null,
      "outputs": []
    },
    {
      "cell_type": "code",
      "source": [],
      "metadata": {
        "colab": {
          "base_uri": "https://localhost:8080/"
        },
        "id": "HER7gU7qezRF",
        "outputId": "68259a67-ffc8-405d-d4ca-e92d6cd2dd9c"
      },
      "execution_count": 2,
      "outputs": [
        {
          "output_type": "execute_result",
          "data": {
            "text/plain": [
              "0"
            ]
          },
          "metadata": {},
          "execution_count": 2
        }
      ]
    }
  ]
}