{
  "nbformat": 4,
  "nbformat_minor": 0,
  "metadata": {
    "colab": {
      "provenance": [],
      "authorship_tag": "ABX9TyNB7I/SPC5hL1TSsKVqUaJ8",
      "include_colab_link": true
    },
    "kernelspec": {
      "name": "python3",
      "display_name": "Python 3"
    },
    "language_info": {
      "name": "python"
    }
  },
  "cells": [
    {
      "cell_type": "markdown",
      "metadata": {
        "id": "view-in-github",
        "colab_type": "text"
      },
      "source": [
        "<a href=\"https://colab.research.google.com/github/gmehra123/course1/blob/master/Regression_stats_models.ipynb\" target=\"_parent\"><img src=\"https://colab.research.google.com/assets/colab-badge.svg\" alt=\"Open In Colab\"/></a>"
      ]
    },
    {
      "cell_type": "markdown",
      "source": [
        "# Regression"
      ],
      "metadata": {
        "id": "aA1Y8kk0Cl-8"
      }
    },
    {
      "cell_type": "markdown",
      "source": [
        "### Introduction\n",
        "* Statstical tool to analyze the relationship between 2 variables.\n",
        "* Regression models allow for exploration of relationship between a response variable and an explanatory variable.\n",
        "* Can predict response variables given explanatory variables\n",
        "* *Linear regression* is used when the reponse variable is continous\n",
        "* *Logistic Regression* is used when the response variable is yes or no.\n",
        "* *Statsmodels* is a library more optimized for insights\n",
        "* *scikit-learn* is a library more optimized for prediction"
      ],
      "metadata": {
        "id": "NIXo7SqcCtp9"
      }
    },
    {
      "cell_type": "code",
      "execution_count": 1,
      "metadata": {
        "id": "J6MmZuNRCjJh"
      },
      "outputs": [],
      "source": [
        "import pandas as pd\n",
        "import matplotlib.pyplot as plt\n",
        "import seaborn as sns"
      ]
    },
    {
      "cell_type": "code",
      "source": [
        "tai=pd.read_csv('https://assets.datacamp.com/production/repositories/5857/datasets/4c29a50214b5b3232b2b99eee35cdde2f588dfac/taiwan_real_estate2.csv')"
      ],
      "metadata": {
        "id": "g5hy81BOj6nJ"
      },
      "execution_count": 2,
      "outputs": []
    },
    {
      "cell_type": "code",
      "source": [
        "tai.head()"
      ],
      "metadata": {
        "colab": {
          "base_uri": "https://localhost:8080/",
          "height": 206
        },
        "id": "t-wY6rd0kJAi",
        "outputId": "57d5a5d9-1aba-4443-d75d-09175a6bdd13"
      },
      "execution_count": 3,
      "outputs": [
        {
          "output_type": "execute_result",
          "data": {
            "text/plain": [
              "   dist_to_mrt_m  n_convenience house_age_years  price_twd_msq\n",
              "0       84.87882             10        30 to 45      11.467474\n",
              "1      306.59470              9        15 to 30      12.768533\n",
              "2      561.98450              5         0 to 15      14.311649\n",
              "3      561.98450              5         0 to 15      16.580938\n",
              "4      390.56840              5         0 to 15      13.040847"
            ],
            "text/html": [
              "\n",
              "  <div id=\"df-9734b145-20b1-44c4-92fa-cc6fbcc9adc1\">\n",
              "    <div class=\"colab-df-container\">\n",
              "      <div>\n",
              "<style scoped>\n",
              "    .dataframe tbody tr th:only-of-type {\n",
              "        vertical-align: middle;\n",
              "    }\n",
              "\n",
              "    .dataframe tbody tr th {\n",
              "        vertical-align: top;\n",
              "    }\n",
              "\n",
              "    .dataframe thead th {\n",
              "        text-align: right;\n",
              "    }\n",
              "</style>\n",
              "<table border=\"1\" class=\"dataframe\">\n",
              "  <thead>\n",
              "    <tr style=\"text-align: right;\">\n",
              "      <th></th>\n",
              "      <th>dist_to_mrt_m</th>\n",
              "      <th>n_convenience</th>\n",
              "      <th>house_age_years</th>\n",
              "      <th>price_twd_msq</th>\n",
              "    </tr>\n",
              "  </thead>\n",
              "  <tbody>\n",
              "    <tr>\n",
              "      <th>0</th>\n",
              "      <td>84.87882</td>\n",
              "      <td>10</td>\n",
              "      <td>30 to 45</td>\n",
              "      <td>11.467474</td>\n",
              "    </tr>\n",
              "    <tr>\n",
              "      <th>1</th>\n",
              "      <td>306.59470</td>\n",
              "      <td>9</td>\n",
              "      <td>15 to 30</td>\n",
              "      <td>12.768533</td>\n",
              "    </tr>\n",
              "    <tr>\n",
              "      <th>2</th>\n",
              "      <td>561.98450</td>\n",
              "      <td>5</td>\n",
              "      <td>0 to 15</td>\n",
              "      <td>14.311649</td>\n",
              "    </tr>\n",
              "    <tr>\n",
              "      <th>3</th>\n",
              "      <td>561.98450</td>\n",
              "      <td>5</td>\n",
              "      <td>0 to 15</td>\n",
              "      <td>16.580938</td>\n",
              "    </tr>\n",
              "    <tr>\n",
              "      <th>4</th>\n",
              "      <td>390.56840</td>\n",
              "      <td>5</td>\n",
              "      <td>0 to 15</td>\n",
              "      <td>13.040847</td>\n",
              "    </tr>\n",
              "  </tbody>\n",
              "</table>\n",
              "</div>\n",
              "      <button class=\"colab-df-convert\" onclick=\"convertToInteractive('df-9734b145-20b1-44c4-92fa-cc6fbcc9adc1')\"\n",
              "              title=\"Convert this dataframe to an interactive table.\"\n",
              "              style=\"display:none;\">\n",
              "        \n",
              "  <svg xmlns=\"http://www.w3.org/2000/svg\" height=\"24px\"viewBox=\"0 0 24 24\"\n",
              "       width=\"24px\">\n",
              "    <path d=\"M0 0h24v24H0V0z\" fill=\"none\"/>\n",
              "    <path d=\"M18.56 5.44l.94 2.06.94-2.06 2.06-.94-2.06-.94-.94-2.06-.94 2.06-2.06.94zm-11 1L8.5 8.5l.94-2.06 2.06-.94-2.06-.94L8.5 2.5l-.94 2.06-2.06.94zm10 10l.94 2.06.94-2.06 2.06-.94-2.06-.94-.94-2.06-.94 2.06-2.06.94z\"/><path d=\"M17.41 7.96l-1.37-1.37c-.4-.4-.92-.59-1.43-.59-.52 0-1.04.2-1.43.59L10.3 9.45l-7.72 7.72c-.78.78-.78 2.05 0 2.83L4 21.41c.39.39.9.59 1.41.59.51 0 1.02-.2 1.41-.59l7.78-7.78 2.81-2.81c.8-.78.8-2.07 0-2.86zM5.41 20L4 18.59l7.72-7.72 1.47 1.35L5.41 20z\"/>\n",
              "  </svg>\n",
              "      </button>\n",
              "      \n",
              "  <style>\n",
              "    .colab-df-container {\n",
              "      display:flex;\n",
              "      flex-wrap:wrap;\n",
              "      gap: 12px;\n",
              "    }\n",
              "\n",
              "    .colab-df-convert {\n",
              "      background-color: #E8F0FE;\n",
              "      border: none;\n",
              "      border-radius: 50%;\n",
              "      cursor: pointer;\n",
              "      display: none;\n",
              "      fill: #1967D2;\n",
              "      height: 32px;\n",
              "      padding: 0 0 0 0;\n",
              "      width: 32px;\n",
              "    }\n",
              "\n",
              "    .colab-df-convert:hover {\n",
              "      background-color: #E2EBFA;\n",
              "      box-shadow: 0px 1px 2px rgba(60, 64, 67, 0.3), 0px 1px 3px 1px rgba(60, 64, 67, 0.15);\n",
              "      fill: #174EA6;\n",
              "    }\n",
              "\n",
              "    [theme=dark] .colab-df-convert {\n",
              "      background-color: #3B4455;\n",
              "      fill: #D2E3FC;\n",
              "    }\n",
              "\n",
              "    [theme=dark] .colab-df-convert:hover {\n",
              "      background-color: #434B5C;\n",
              "      box-shadow: 0px 1px 3px 1px rgba(0, 0, 0, 0.15);\n",
              "      filter: drop-shadow(0px 1px 2px rgba(0, 0, 0, 0.3));\n",
              "      fill: #FFFFFF;\n",
              "    }\n",
              "  </style>\n",
              "\n",
              "      <script>\n",
              "        const buttonEl =\n",
              "          document.querySelector('#df-9734b145-20b1-44c4-92fa-cc6fbcc9adc1 button.colab-df-convert');\n",
              "        buttonEl.style.display =\n",
              "          google.colab.kernel.accessAllowed ? 'block' : 'none';\n",
              "\n",
              "        async function convertToInteractive(key) {\n",
              "          const element = document.querySelector('#df-9734b145-20b1-44c4-92fa-cc6fbcc9adc1');\n",
              "          const dataTable =\n",
              "            await google.colab.kernel.invokeFunction('convertToInteractive',\n",
              "                                                     [key], {});\n",
              "          if (!dataTable) return;\n",
              "\n",
              "          const docLinkHtml = 'Like what you see? Visit the ' +\n",
              "            '<a target=\"_blank\" href=https://colab.research.google.com/notebooks/data_table.ipynb>data table notebook</a>'\n",
              "            + ' to learn more about interactive tables.';\n",
              "          element.innerHTML = '';\n",
              "          dataTable['output_type'] = 'display_data';\n",
              "          await google.colab.output.renderOutput(dataTable, element);\n",
              "          const docLink = document.createElement('div');\n",
              "          docLink.innerHTML = docLinkHtml;\n",
              "          element.appendChild(docLink);\n",
              "        }\n",
              "      </script>\n",
              "    </div>\n",
              "  </div>\n",
              "  "
            ]
          },
          "metadata": {},
          "execution_count": 3
        }
      ]
    },
    {
      "cell_type": "code",
      "source": [
        "# understanding relation ship between price and dist to mrt\n",
        "fig,ax=plt.subplots()\n",
        "sns.scatterplot(x='dist_to_mrt_m',y='price_twd_msq',data=tai)\n",
        "fig.set_size_inches([9,6])"
      ],
      "metadata": {
        "colab": {
          "base_uri": "https://localhost:8080/",
          "height": 389
        },
        "id": "8nmE0Jo7kRbW",
        "outputId": "5e38c442-430e-4bc6-d529-222127f49696"
      },
      "execution_count": 4,
      "outputs": [
        {
          "output_type": "display_data",
          "data": {
            "text/plain": [
              "<Figure size 648x432 with 1 Axes>"
            ],
            "image/png": "[encoded data removed]"
          },
          "metadata": {
            "needs_background": "light"
          }
        }
      ]
    },
    {
      "cell_type": "markdown",
      "source": [
        "### Fitting a regression\n",
        "* Linear Regression defined by 2 parameters, the slope and the intercept\n",
        "* Slope is constant for a line (change in y)/(change in x)\n"
      ],
      "metadata": {
        "id": "oWkhEKXDlcaM"
      }
    },
    {
      "cell_type": "code",
      "source": [
        "from statsmodels.formula.api import ols\n",
        "model=ols('dist_to_mrt_m~price_twd_msq',data=tai)\n",
        "model1=model.fit()\n",
        "model1.params"
      ],
      "metadata": {
        "colab": {
          "base_uri": "https://localhost:8080/"
        },
        "id": "Fibh7cpEnRCv",
        "outputId": "52a0fb52-f4b2-48c9-d27d-97052f05231c"
      },
      "execution_count": 5,
      "outputs": [
        {
          "output_type": "execute_result",
          "data": {
            "text/plain": [
              "Intercept        3456.999528\n",
              "price_twd_msq    -206.506091\n",
              "dtype: float64"
            ]
          },
          "metadata": {},
          "execution_count": 5
        }
      ]
    },
    {
      "cell_type": "code",
      "source": [
        "# Visualize the relationship between house age years and price\n",
        "sns.displot(data=tai,x='price_twd_msq',col='house_age_years',bins=10)"
      ],
      "metadata": {
        "colab": {
          "base_uri": "https://localhost:8080/",
          "height": 386
        },
        "id": "ipDKpGSbphAX",
        "outputId": "c967ac82-a11c-44ec-8515-26a697abf6d1"
      },
      "execution_count": 6,
      "outputs": [
        {
          "output_type": "execute_result",
          "data": {
            "text/plain": [
              "<seaborn.axisgrid.FacetGrid at 0x7f7615a40310>"
            ]
          },
          "metadata": {},
          "execution_count": 6
        },
        {
          "output_type": "display_data",
          "data": {
            "text/plain": [
              "<Figure size 1080x360 with 3 Axes>"
            ],
            "image/png": "[encoded data removed]"
          },
          "metadata": {
            "needs_background": "light"
          }
        }
      ]
    },
    {
      "cell_type": "code",
      "source": [
        "# Fitting a model with categorical variable\n",
        "model=ols('price_twd_msq~house_age_years+0',data=tai).fit()\n",
        "model.params"
      ],
      "metadata": {
        "colab": {
          "base_uri": "https://localhost:8080/"
        },
        "id": "PUax_aIGr5l9",
        "outputId": "79c2b627-f07d-492e-a5f0-fbbb2e017bc3"
      },
      "execution_count": 7,
      "outputs": [
        {
          "output_type": "execute_result",
          "data": {
            "text/plain": [
              "house_age_years[0 to 15]     12.637471\n",
              "house_age_years[15 to 30]     9.876743\n",
              "house_age_years[30 to 45]    11.393264\n",
              "dtype: float64"
            ]
          },
          "metadata": {},
          "execution_count": 7
        }
      ]
    },
    {
      "cell_type": "code",
      "source": [
        "model=ols('price_twd_msq~dist_to_mrt_m',data=tai).fit()\n",
        "model.params"
      ],
      "metadata": {
        "colab": {
          "base_uri": "https://localhost:8080/"
        },
        "id": "IJriGzGHwi4U",
        "outputId": "2c635a40-2b73-46ae-c501-b1cde6a2da8b"
      },
      "execution_count": 8,
      "outputs": [
        {
          "output_type": "execute_result",
          "data": {
            "text/plain": [
              "Intercept        13.873352\n",
              "dist_to_mrt_m    -0.002197\n",
              "dtype: float64"
            ]
          },
          "metadata": {},
          "execution_count": 8
        }
      ]
    },
    {
      "cell_type": "code",
      "source": [
        "tai['predictions']=model.fittedvalues"
      ],
      "metadata": {
        "id": "ne62PqUsxWJK"
      },
      "execution_count": 9,
      "outputs": []
    },
    {
      "cell_type": "code",
      "source": [
        "tai['resid']=model.resid"
      ],
      "metadata": {
        "id": "Kl69-x-6xjAt"
      },
      "execution_count": 10,
      "outputs": []
    },
    {
      "cell_type": "code",
      "source": [
        "tai.sample(5)"
      ],
      "metadata": {
        "colab": {
          "base_uri": "https://localhost:8080/",
          "height": 206
        },
        "id": "Jhf9Q3znxv7f",
        "outputId": "ed7f5c09-696a-48ab-c102-a6a11fde7852"
      },
      "execution_count": 11,
      "outputs": [
        {
          "output_type": "execute_result",
          "data": {
            "text/plain": [
              "     dist_to_mrt_m  n_convenience house_age_years  price_twd_msq  predictions  \\\n",
              "206       379.5575             10        15 to 30      13.313162    13.039353   \n",
              "85        338.9679              9         0 to 15      15.370651    13.128540   \n",
              "26        383.8624              5         0 to 15      17.004539    13.029894   \n",
              "165      1236.5640              1         0 to 15       9.258699    11.156259   \n",
              "398      1717.1930              2         0 to 15       6.959153    10.100176   \n",
              "\n",
              "        resid  \n",
              "206  0.273809  \n",
              "85   2.242111  \n",
              "26   3.974645  \n",
              "165 -1.897560  \n",
              "398 -3.141024  "
            ],
            "text/html": [
              "\n",
              "  <div id=\"df-e54a852d-a6e7-4fde-a62c-b99b547dc0c8\">\n",
              "    <div class=\"colab-df-container\">\n",
              "      <div>\n",
              "<style scoped>\n",
              "    .dataframe tbody tr th:only-of-type {\n",
              "        vertical-align: middle;\n",
              "    }\n",
              "\n",
              "    .dataframe tbody tr th {\n",
              "        vertical-align: top;\n",
              "    }\n",
              "\n",
              "    .dataframe thead th {\n",
              "        text-align: right;\n",
              "    }\n",
              "</style>\n",
              "<table border=\"1\" class=\"dataframe\">\n",
              "  <thead>\n",
              "    <tr style=\"text-align: right;\">\n",
              "      <th></th>\n",
              "      <th>dist_to_mrt_m</th>\n",
              "      <th>n_convenience</th>\n",
              "      <th>house_age_years</th>\n",
              "      <th>price_twd_msq</th>\n",
              "      <th>predictions</th>\n",
              "      <th>resid</th>\n",
              "    </tr>\n",
              "  </thead>\n",
              "  <tbody>\n",
              "    <tr>\n",
              "      <th>206</th>\n",
              "      <td>379.5575</td>\n",
              "      <td>10</td>\n",
              "      <td>15 to 30</td>\n",
              "      <td>13.313162</td>\n",
              "      <td>13.039353</td>\n",
              "      <td>0.273809</td>\n",
              "    </tr>\n",
              "    <tr>\n",
              "      <th>85</th>\n",
              "      <td>338.9679</td>\n",
              "      <td>9</td>\n",
              "      <td>0 to 15</td>\n",
              "      <td>15.370651</td>\n",
              "      <td>13.128540</td>\n",
              "      <td>2.242111</td>\n",
              "    </tr>\n",
              "    <tr>\n",
              "      <th>26</th>\n",
              "      <td>383.8624</td>\n",
              "      <td>5</td>\n",
              "      <td>0 to 15</td>\n",
              "      <td>17.004539</td>\n",
              "      <td>13.029894</td>\n",
              "      <td>3.974645</td>\n",
              "    </tr>\n",
              "    <tr>\n",
              "      <th>165</th>\n",
              "      <td>1236.5640</td>\n",
              "      <td>1</td>\n",
              "      <td>0 to 15</td>\n",
              "      <td>9.258699</td>\n",
              "      <td>11.156259</td>\n",
              "      <td>-1.897560</td>\n",
              "    </tr>\n",
              "    <tr>\n",
              "      <th>398</th>\n",
              "      <td>1717.1930</td>\n",
              "      <td>2</td>\n",
              "      <td>0 to 15</td>\n",
              "      <td>6.959153</td>\n",
              "      <td>10.100176</td>\n",
              "      <td>-3.141024</td>\n",
              "    </tr>\n",
              "  </tbody>\n",
              "</table>\n",
              "</div>\n",
              "      <button class=\"colab-df-convert\" onclick=\"convertToInteractive('df-e54a852d-a6e7-4fde-a62c-b99b547dc0c8')\"\n",
              "              title=\"Convert this dataframe to an interactive table.\"\n",
              "              style=\"display:none;\">\n",
              "        \n",
              "  <svg xmlns=\"http://www.w3.org/2000/svg\" height=\"24px\"viewBox=\"0 0 24 24\"\n",
              "       width=\"24px\">\n",
              "    <path d=\"M0 0h24v24H0V0z\" fill=\"none\"/>\n",
              "    <path d=\"M18.56 5.44l.94 2.06.94-2.06 2.06-.94-2.06-.94-.94-2.06-.94 2.06-2.06.94zm-11 1L8.5 8.5l.94-2.06 2.06-.94-2.06-.94L8.5 2.5l-.94 2.06-2.06.94zm10 10l.94 2.06.94-2.06 2.06-.94-2.06-.94-.94-2.06-.94 2.06-2.06.94z\"/><path d=\"M17.41 7.96l-1.37-1.37c-.4-.4-.92-.59-1.43-.59-.52 0-1.04.2-1.43.59L10.3 9.45l-7.72 7.72c-.78.78-.78 2.05 0 2.83L4 21.41c.39.39.9.59 1.41.59.51 0 1.02-.2 1.41-.59l7.78-7.78 2.81-2.81c.8-.78.8-2.07 0-2.86zM5.41 20L4 18.59l7.72-7.72 1.47 1.35L5.41 20z\"/>\n",
              "  </svg>\n",
              "      </button>\n",
              "      \n",
              "  <style>\n",
              "    .colab-df-container {\n",
              "      display:flex;\n",
              "      flex-wrap:wrap;\n",
              "      gap: 12px;\n",
              "    }\n",
              "\n",
              "    .colab-df-convert {\n",
              "      background-color: #E8F0FE;\n",
              "      border: none;\n",
              "      border-radius: 50%;\n",
              "      cursor: pointer;\n",
              "      display: none;\n",
              "      fill: #1967D2;\n",
              "      height: 32px;\n",
              "      padding: 0 0 0 0;\n",
              "      width: 32px;\n",
              "    }\n",
              "\n",
              "    .colab-df-convert:hover {\n",
              "      background-color: #E2EBFA;\n",
              "      box-shadow: 0px 1px 2px rgba(60, 64, 67, 0.3), 0px 1px 3px 1px rgba(60, 64, 67, 0.15);\n",
              "      fill: #174EA6;\n",
              "    }\n",
              "\n",
              "    [theme=dark] .colab-df-convert {\n",
              "      background-color: #3B4455;\n",
              "      fill: #D2E3FC;\n",
              "    }\n",
              "\n",
              "    [theme=dark] .colab-df-convert:hover {\n",
              "      background-color: #434B5C;\n",
              "      box-shadow: 0px 1px 3px 1px rgba(0, 0, 0, 0.15);\n",
              "      filter: drop-shadow(0px 1px 2px rgba(0, 0, 0, 0.3));\n",
              "      fill: #FFFFFF;\n",
              "    }\n",
              "  </style>\n",
              "\n",
              "      <script>\n",
              "        const buttonEl =\n",
              "          document.querySelector('#df-e54a852d-a6e7-4fde-a62c-b99b547dc0c8 button.colab-df-convert');\n",
              "        buttonEl.style.display =\n",
              "          google.colab.kernel.accessAllowed ? 'block' : 'none';\n",
              "\n",
              "        async function convertToInteractive(key) {\n",
              "          const element = document.querySelector('#df-e54a852d-a6e7-4fde-a62c-b99b547dc0c8');\n",
              "          const dataTable =\n",
              "            await google.colab.kernel.invokeFunction('convertToInteractive',\n",
              "                                                     [key], {});\n",
              "          if (!dataTable) return;\n",
              "\n",
              "          const docLinkHtml = 'Like what you see? Visit the ' +\n",
              "            '<a target=\"_blank\" href=https://colab.research.google.com/notebooks/data_table.ipynb>data table notebook</a>'\n",
              "            + ' to learn more about interactive tables.';\n",
              "          element.innerHTML = '';\n",
              "          dataTable['output_type'] = 'display_data';\n",
              "          await google.colab.output.renderOutput(dataTable, element);\n",
              "          const docLink = document.createElement('div');\n",
              "          docLink.innerHTML = docLinkHtml;\n",
              "          element.appendChild(docLink);\n",
              "        }\n",
              "      </script>\n",
              "    </div>\n",
              "  </div>\n",
              "  "
            ]
          },
          "metadata": {},
          "execution_count": 11
        }
      ]
    },
    {
      "cell_type": "code",
      "source": [
        "print(model.summary())"
      ],
      "metadata": {
        "colab": {
          "base_uri": "https://localhost:8080/"
        },
        "id": "5-VxR5Z0x_iY",
        "outputId": "64f9b73d-6ead-4d3f-fbc3-d5cdf0a51274"
      },
      "execution_count": 14,
      "outputs": [
        {
          "output_type": "stream",
          "name": "stdout",
          "text": [
            "                            OLS Regression Results                            \n",
            "==============================================================================\n",
            "Dep. Variable:          price_twd_msq   R-squared:                       0.454\n",
            "Model:                            OLS   Adj. R-squared:                  0.452\n",
            "Method:                 Least Squares   F-statistic:                     342.2\n",
            "Date:                Sun, 11 Dec 2022   Prob (F-statistic):           4.64e-56\n",
            "Time:                        20:33:32   Log-Likelihood:                -1047.6\n",
            "No. Observations:                 414   AIC:                             2099.\n",
            "Df Residuals:                     412   BIC:                             2107.\n",
            "Df Model:                           1                                         \n",
            "Covariance Type:            nonrobust                                         \n",
            "=================================================================================\n",
            "                    coef    std err          t      P>|t|      [0.025      0.975]\n",
            "---------------------------------------------------------------------------------\n",
            "Intercept        13.8734      0.197     70.258      0.000      13.485      14.262\n",
            "dist_to_mrt_m    -0.0022      0.000    -18.500      0.000      -0.002      -0.002\n",
            "==============================================================================\n",
            "Omnibus:                      140.820   Durbin-Watson:                   2.151\n",
            "Prob(Omnibus):                  0.000   Jarque-Bera (JB):              988.283\n",
            "Skew:                           1.263   Prob(JB):                    2.49e-215\n",
            "Kurtosis:                      10.135   Cond. No.                     2.19e+03\n",
            "==============================================================================\n",
            "\n",
            "Notes:\n",
            "[1] Standard Errors assume that the covariance matrix of the errors is correctly specified.\n",
            "[2] The condition number is large, 2.19e+03. This might indicate that there are\n",
            "strong multicollinearity or other numerical problems.\n"
          ]
        }
      ]
    },
    {
      "cell_type": "markdown",
      "source": [
        "### Regression to the mean\n",
        "* Response_actual=fitted_value/prediction + residual\n",
        "* This is equivalent to saying what can be expalained and what cannot be expalined.\n",
        "* Extreme examples are due to radomness or noise\n",
        "* Extreme examples do ot persist over time. This is the key intuition behind *Regression to the mean*.\n",
        "### Transformations\n",
        "* Sometimes the relationships between the data are not linear. In that case you might need to square or cube the explanatory variable before fitting the data.\n",
        "* If the data is right skewed, lots of low values with few high outliers a sqrt transformation on both the explanatory and the response varibale could work and is commonly used. In this case prediction requires an extra step of squaring the prediction results\n"
      ],
      "metadata": {
        "id": "vlzjbjTdzMES"
      }
    },
    {
      "cell_type": "code",
      "source": [
        "sns.regplot(data=tai,x='dist_to_mrt_m',y='price_twd_msq')"
      ],
      "metadata": {
        "colab": {
          "base_uri": "https://localhost:8080/",
          "height": 297
        },
        "id": "oXzwXMl5zK4T",
        "outputId": "31208b0a-8e26-419c-be6c-f6e846f5c9d9"
      },
      "execution_count": 12,
      "outputs": [
        {
          "output_type": "execute_result",
          "data": {
            "text/plain": [
              "<matplotlib.axes._subplots.AxesSubplot at 0x7f761308d730>"
            ]
          },
          "metadata": {},
          "execution_count": 12
        },
        {
          "output_type": "display_data",
          "data": {
            "text/plain": [
              "<Figure size 432x288 with 1 Axes>"
            ],
            "image/png": "[encoded data removed]"
          },
          "metadata": {
            "needs_background": "light"
          }
        }
      ]
    },
    {
      "cell_type": "markdown",
      "source": [
        "> The dist_to_mrt variable seem to be right skewed with a few outliers, houses that are very far from the MRT station. In this case it might be benefecial to transform the variable with a sqrt transformation"
      ],
      "metadata": {
        "id": "fWS1FYNnBVO0"
      }
    },
    {
      "cell_type": "code",
      "source": [
        "import numpy as np\n",
        "tai['dist_sq']=np.sqrt(tai.dist_to_mrt_m)"
      ],
      "metadata": {
        "id": "PcHZ13YpB40r"
      },
      "execution_count": 13,
      "outputs": []
    },
    {
      "cell_type": "code",
      "source": [
        "model2=ols('price_twd_msq~dist_sq',data=tai).fit()\n"
      ],
      "metadata": {
        "id": "OECuU7L3CIQV"
      },
      "execution_count": 15,
      "outputs": []
    },
    {
      "cell_type": "code",
      "source": [
        "tai['predictions_sq']=model2.fittedvalues\n",
        "tai['resid_sq']=model2.resid"
      ],
      "metadata": {
        "id": "eVmt3JQSCdCf"
      },
      "execution_count": 16,
      "outputs": []
    },
    {
      "cell_type": "code",
      "source": [
        "tai.sample(5)"
      ],
      "metadata": {
        "colab": {
          "base_uri": "https://localhost:8080/",
          "height": 206
        },
        "id": "WT8IUyjKCr88",
        "outputId": "c92fec6c-8bce-44ad-f1d8-a20ec3175e76"
      },
      "execution_count": 17,
      "outputs": [
        {
          "output_type": "execute_result",
          "data": {
            "text/plain": [
              "     dist_to_mrt_m  n_convenience house_age_years  price_twd_msq  predictions  \\\n",
              "234      2216.6120              4         0 to 15       7.231467     9.002807   \n",
              "105       292.9978              6         0 to 15      21.482602    13.229550   \n",
              "82        150.9347              7         0 to 15      14.553707    13.541704   \n",
              "289       289.3248              5         0 to 15      13.464448    13.237620   \n",
              "144      1360.1390              1         0 to 15       8.593041    10.884728   \n",
              "\n",
              "        resid    dist_sq  predictions_sq  resid_sq  \n",
              "234 -1.771339  47.080909        8.101391 -0.869923  \n",
              "105  8.253052  17.117179       13.580045  7.902557  \n",
              "82   1.012003  12.285548       14.463474  0.090232  \n",
              "289  0.226827  17.009550       13.599724 -0.135276  \n",
              "144 -2.291688  36.880062        9.966543 -1.373502  "
            ],
            "text/html": [
              "\n",
              "  <div id=\"df-71aecaf1-340a-4691-9919-b5713c746483\">\n",
              "    <div class=\"colab-df-container\">\n",
              "      <div>\n",
              "<style scoped>\n",
              "    .dataframe tbody tr th:only-of-type {\n",
              "        vertical-align: middle;\n",
              "    }\n",
              "\n",
              "    .dataframe tbody tr th {\n",
              "        vertical-align: top;\n",
              "    }\n",
              "\n",
              "    .dataframe thead th {\n",
              "        text-align: right;\n",
              "    }\n",
              "</style>\n",
              "<table border=\"1\" class=\"dataframe\">\n",
              "  <thead>\n",
              "    <tr style=\"text-align: right;\">\n",
              "      <th></th>\n",
              "      <th>dist_to_mrt_m</th>\n",
              "      <th>n_convenience</th>\n",
              "      <th>house_age_years</th>\n",
              "      <th>price_twd_msq</th>\n",
              "      <th>predictions</th>\n",
              "      <th>resid</th>\n",
              "      <th>dist_sq</th>\n",
              "      <th>predictions_sq</th>\n",
              "      <th>resid_sq</th>\n",
              "    </tr>\n",
              "  </thead>\n",
              "  <tbody>\n",
              "    <tr>\n",
              "      <th>234</th>\n",
              "      <td>2216.6120</td>\n",
              "      <td>4</td>\n",
              "      <td>0 to 15</td>\n",
              "      <td>7.231467</td>\n",
              "      <td>9.002807</td>\n",
              "      <td>-1.771339</td>\n",
              "      <td>47.080909</td>\n",
              "      <td>8.101391</td>\n",
              "      <td>-0.869923</td>\n",
              "    </tr>\n",
              "    <tr>\n",
              "      <th>105</th>\n",
              "      <td>292.9978</td>\n",
              "      <td>6</td>\n",
              "      <td>0 to 15</td>\n",
              "      <td>21.482602</td>\n",
              "      <td>13.229550</td>\n",
              "      <td>8.253052</td>\n",
              "      <td>17.117179</td>\n",
              "      <td>13.580045</td>\n",
              "      <td>7.902557</td>\n",
              "    </tr>\n",
              "    <tr>\n",
              "      <th>82</th>\n",
              "      <td>150.9347</td>\n",
              "      <td>7</td>\n",
              "      <td>0 to 15</td>\n",
              "      <td>14.553707</td>\n",
              "      <td>13.541704</td>\n",
              "      <td>1.012003</td>\n",
              "      <td>12.285548</td>\n",
              "      <td>14.463474</td>\n",
              "      <td>0.090232</td>\n",
              "    </tr>\n",
              "    <tr>\n",
              "      <th>289</th>\n",
              "      <td>289.3248</td>\n",
              "      <td>5</td>\n",
              "      <td>0 to 15</td>\n",
              "      <td>13.464448</td>\n",
              "      <td>13.237620</td>\n",
              "      <td>0.226827</td>\n",
              "      <td>17.009550</td>\n",
              "      <td>13.599724</td>\n",
              "      <td>-0.135276</td>\n",
              "    </tr>\n",
              "    <tr>\n",
              "      <th>144</th>\n",
              "      <td>1360.1390</td>\n",
              "      <td>1</td>\n",
              "      <td>0 to 15</td>\n",
              "      <td>8.593041</td>\n",
              "      <td>10.884728</td>\n",
              "      <td>-2.291688</td>\n",
              "      <td>36.880062</td>\n",
              "      <td>9.966543</td>\n",
              "      <td>-1.373502</td>\n",
              "    </tr>\n",
              "  </tbody>\n",
              "</table>\n",
              "</div>\n",
              "      <button class=\"colab-df-convert\" onclick=\"convertToInteractive('df-71aecaf1-340a-4691-9919-b5713c746483')\"\n",
              "              title=\"Convert this dataframe to an interactive table.\"\n",
              "              style=\"display:none;\">\n",
              "        \n",
              "  <svg xmlns=\"http://www.w3.org/2000/svg\" height=\"24px\"viewBox=\"0 0 24 24\"\n",
              "       width=\"24px\">\n",
              "    <path d=\"M0 0h24v24H0V0z\" fill=\"none\"/>\n",
              "    <path d=\"M18.56 5.44l.94 2.06.94-2.06 2.06-.94-2.06-.94-.94-2.06-.94 2.06-2.06.94zm-11 1L8.5 8.5l.94-2.06 2.06-.94-2.06-.94L8.5 2.5l-.94 2.06-2.06.94zm10 10l.94 2.06.94-2.06 2.06-.94-2.06-.94-.94-2.06-.94 2.06-2.06.94z\"/><path d=\"M17.41 7.96l-1.37-1.37c-.4-.4-.92-.59-1.43-.59-.52 0-1.04.2-1.43.59L10.3 9.45l-7.72 7.72c-.78.78-.78 2.05 0 2.83L4 21.41c.39.39.9.59 1.41.59.51 0 1.02-.2 1.41-.59l7.78-7.78 2.81-2.81c.8-.78.8-2.07 0-2.86zM5.41 20L4 18.59l7.72-7.72 1.47 1.35L5.41 20z\"/>\n",
              "  </svg>\n",
              "      </button>\n",
              "      \n",
              "  <style>\n",
              "    .colab-df-container {\n",
              "      display:flex;\n",
              "      flex-wrap:wrap;\n",
              "      gap: 12px;\n",
              "    }\n",
              "\n",
              "    .colab-df-convert {\n",
              "      background-color: #E8F0FE;\n",
              "      border: none;\n",
              "      border-radius: 50%;\n",
              "      cursor: pointer;\n",
              "      display: none;\n",
              "      fill: #1967D2;\n",
              "      height: 32px;\n",
              "      padding: 0 0 0 0;\n",
              "      width: 32px;\n",
              "    }\n",
              "\n",
              "    .colab-df-convert:hover {\n",
              "      background-color: #E2EBFA;\n",
              "      box-shadow: 0px 1px 2px rgba(60, 64, 67, 0.3), 0px 1px 3px 1px rgba(60, 64, 67, 0.15);\n",
              "      fill: #174EA6;\n",
              "    }\n",
              "\n",
              "    [theme=dark] .colab-df-convert {\n",
              "      background-color: #3B4455;\n",
              "      fill: #D2E3FC;\n",
              "    }\n",
              "\n",
              "    [theme=dark] .colab-df-convert:hover {\n",
              "      background-color: #434B5C;\n",
              "      box-shadow: 0px 1px 3px 1px rgba(0, 0, 0, 0.15);\n",
              "      filter: drop-shadow(0px 1px 2px rgba(0, 0, 0, 0.3));\n",
              "      fill: #FFFFFF;\n",
              "    }\n",
              "  </style>\n",
              "\n",
              "      <script>\n",
              "        const buttonEl =\n",
              "          document.querySelector('#df-71aecaf1-340a-4691-9919-b5713c746483 button.colab-df-convert');\n",
              "        buttonEl.style.display =\n",
              "          google.colab.kernel.accessAllowed ? 'block' : 'none';\n",
              "\n",
              "        async function convertToInteractive(key) {\n",
              "          const element = document.querySelector('#df-71aecaf1-340a-4691-9919-b5713c746483');\n",
              "          const dataTable =\n",
              "            await google.colab.kernel.invokeFunction('convertToInteractive',\n",
              "                                                     [key], {});\n",
              "          if (!dataTable) return;\n",
              "\n",
              "          const docLinkHtml = 'Like what you see? Visit the ' +\n",
              "            '<a target=\"_blank\" href=https://colab.research.google.com/notebooks/data_table.ipynb>data table notebook</a>'\n",
              "            + ' to learn more about interactive tables.';\n",
              "          element.innerHTML = '';\n",
              "          dataTable['output_type'] = 'display_data';\n",
              "          await google.colab.output.renderOutput(dataTable, element);\n",
              "          const docLink = document.createElement('div');\n",
              "          docLink.innerHTML = docLinkHtml;\n",
              "          element.appendChild(docLink);\n",
              "        }\n",
              "      </script>\n",
              "    </div>\n",
              "  </div>\n",
              "  "
            ]
          },
          "metadata": {},
          "execution_count": 17
        }
      ]
    },
    {
      "cell_type": "code",
      "source": [
        "print(model2.summary())"
      ],
      "metadata": {
        "colab": {
          "base_uri": "https://localhost:8080/"
        },
        "id": "KRo10eWxDDz1",
        "outputId": "e2ae21db-f518-4824-f0f8-b59ba307501e"
      },
      "execution_count": 18,
      "outputs": [
        {
          "output_type": "stream",
          "name": "stdout",
          "text": [
            "                            OLS Regression Results                            \n",
            "==============================================================================\n",
            "Dep. Variable:          price_twd_msq   R-squared:                       0.533\n",
            "Model:                            OLS   Adj. R-squared:                  0.532\n",
            "Method:                 Least Squares   F-statistic:                     469.7\n",
            "Date:                Mon, 12 Dec 2022   Prob (F-statistic):           4.55e-70\n",
            "Time:                        16:56:55   Log-Likelihood:                -1015.3\n",
            "No. Observations:                 414   AIC:                             2035.\n",
            "Df Residuals:                     412   BIC:                             2043.\n",
            "Df Model:                           1                                         \n",
            "Covariance Type:            nonrobust                                         \n",
            "==============================================================================\n",
            "                 coef    std err          t      P>|t|      [0.025      0.975]\n",
            "------------------------------------------------------------------------------\n",
            "Intercept     16.7098      0.278     60.163      0.000      16.164      17.256\n",
            "dist_sq       -0.1828      0.008    -21.674      0.000      -0.199      -0.166\n",
            "==============================================================================\n",
            "Omnibus:                      169.655   Durbin-Watson:                   2.166\n",
            "Prob(Omnibus):                  0.000   Jarque-Bera (JB):             1645.827\n",
            "Skew:                           1.470   Prob(JB):                         0.00\n",
            "Kurtosis:                      12.315   Cond. No.                         66.1\n",
            "==============================================================================\n",
            "\n",
            "Notes:\n",
            "[1] Standard Errors assume that the covariance matrix of the errors is correctly specified.\n"
          ]
        }
      ]
    },
    {
      "cell_type": "code",
      "source": [],
      "metadata": {
        "id": "U-dHH1i9JGQ5"
      },
      "execution_count": null,
      "outputs": []
    },
    {
      "cell_type": "markdown",
      "source": [
        "> In this case looks like the predictions after taking the sqrt are better, both by looking at the sample and the adjusted R squared in the model summary 0.53 vs 0.45"
      ],
      "metadata": {
        "id": "LJZ3DgCYC7ZT"
      }
    },
    {
      "cell_type": "code",
      "source": [
        "# Checking model fitsuainf RMSE. Lower values are better\n",
        "print(\"Untransformed Model error\",np.sqrt(model.mse_resid))\n",
        "print(\"Transformed Model error\",np.sqrt(model2.mse_resid))"
      ],
      "metadata": {
        "id": "nEBuQwlkDSk1",
        "colab": {
          "base_uri": "https://localhost:8080/"
        },
        "outputId": "6482ce70-12a0-474e-806b-ba72adafc8ae"
      },
      "execution_count": 19,
      "outputs": [
        {
          "output_type": "stream",
          "name": "stdout",
          "text": [
            "Untransformed Model error 3.046456710939631\n",
            "Transformed Model error 2.8175939245390764\n"
          ]
        }
      ]
    },
    {
      "cell_type": "markdown",
      "source": [
        "> If the model is a good fit then the residuals are approximately normally distributed with mean 0. You can plot the residuals vs the fitted values. The trend line should be close to 0. Another way is a Q-Q plot.\n",
        "X axis has theortical quantiles from a normal dist while on the y axis you have quantiles from your data. They should be equal and follow the y=x line for a perfect fit"
      ],
      "metadata": {
        "id": "frwOZMOW7ECB"
      }
    },
    {
      "cell_type": "code",
      "source": [
        "# Check fit method 1-Histogram of residuals\n",
        "fig,ax=plt.subplots()\n",
        "ax.hist(model2.resid)\n",
        "model2.resid.mean()"
      ],
      "metadata": {
        "colab": {
          "base_uri": "https://localhost:8080/",
          "height": 282
        },
        "id": "lsdg_d__6gUa",
        "outputId": "8c6e64d9-8eab-4d61-c50c-6f0a7d70f0ec"
      },
      "execution_count": 20,
      "outputs": [
        {
          "output_type": "execute_result",
          "data": {
            "text/plain": [
              "-1.0984235528658553e-15"
            ]
          },
          "metadata": {},
          "execution_count": 20
        },
        {
          "output_type": "display_data",
          "data": {
            "text/plain": [
              "<Figure size 432x288 with 1 Axes>"
            ],
            "image/png": "[encoded data removed]"
          },
          "metadata": {
            "needs_background": "light"
          }
        }
      ]
    },
    {
      "cell_type": "code",
      "source": [
        "# Mehod 2-: resid plot\n",
        "sns.residplot(x='dist_to_mrt_m',y='price_twd_msq',data=tai,lowess=True)"
      ],
      "metadata": {
        "colab": {
          "base_uri": "https://localhost:8080/",
          "height": 297
        },
        "id": "FXzzDojD9YNg",
        "outputId": "abecb24e-fc5f-4745-ef0e-b47783a0b3cb"
      },
      "execution_count": 21,
      "outputs": [
        {
          "output_type": "execute_result",
          "data": {
            "text/plain": [
              "<matplotlib.axes._subplots.AxesSubplot at 0x7f7612f02e20>"
            ]
          },
          "metadata": {},
          "execution_count": 21
        },
        {
          "output_type": "display_data",
          "data": {
            "text/plain": [
              "<Figure size 432x288 with 1 Axes>"
            ],
            "image/png": "[encoded data removed]"
          },
          "metadata": {
            "needs_background": "light"
          }
        }
      ]
    },
    {
      "cell_type": "code",
      "source": [
        "#method 3-: Q-Q plot\n",
        "from statsmodels.api import qqplot\n",
        "qqplot(data=model.resid,fit=True,line='45')\n",
        "plt.show()"
      ],
      "metadata": {
        "colab": {
          "base_uri": "https://localhost:8080/",
          "height": 279
        },
        "id": "W4zNBDfQ9zPh",
        "outputId": "d661ca11-64b5-4e42-ee57-3ff08b983f50"
      },
      "execution_count": 33,
      "outputs": [
        {
          "output_type": "display_data",
          "data": {
            "text/plain": [
              "<Figure size 432x288 with 1 Axes>"
            ],
            "image/png": "[encoded data removed]"
          },
          "metadata": {
            "needs_background": "light"
          }
        }
      ]
    },
    {
      "cell_type": "code",
      "source": [
        "qqplot(data=model2.resid,fit=True,line='45')\n",
        "plt.show()"
      ],
      "metadata": {
        "colab": {
          "base_uri": "https://localhost:8080/",
          "height": 279
        },
        "id": "CHszQjpf-gH8",
        "outputId": "8150e557-3994-4044-8cdd-dafba8424a5d"
      },
      "execution_count": 36,
      "outputs": [
        {
          "output_type": "display_data",
          "data": {
            "text/plain": [
              "<Figure size 432x288 with 1 Axes>"
            ],
            "image/png": "[encoded data removed]"
          },
          "metadata": {
            "needs_background": "light"
          }
        }
      ]
    },
    {
      "cell_type": "markdown",
      "source": [
        "### Outliers,Leverage and influence\n",
        "* Outliers are highly unusual data points, too large or too small.\n",
        "* **Leverage** is a measure of how extreme your explanatory variable values are.\n",
        "* **Influence** is a measure of if you a leave the value out how much your model would change.\n"
      ],
      "metadata": {
        "id": "rfYnLekHBG7m"
      }
    },
    {
      "cell_type": "code",
      "source": [
        "summary=model2.get_influence().summary_frame()\n",
        "tai['leverage_2']=summary['hat_diag']\n",
        "tai['influence']=summary['cooks_d']"
      ],
      "metadata": {
        "id": "O0q1aI5kBEPl"
      },
      "execution_count": 22,
      "outputs": []
    },
    {
      "cell_type": "code",
      "source": [
        "tai.sort_values(by='influence',ascending=False)"
      ],
      "metadata": {
        "colab": {
          "base_uri": "https://localhost:8080/",
          "height": 424
        },
        "id": "_XwkORo-EHfP",
        "outputId": "ead2b12a-564c-47e9-82de-0cc16a35a77b"
      },
      "execution_count": 23,
      "outputs": [
        {
          "output_type": "execute_result",
          "data": {
            "text/plain": [
              "     dist_to_mrt_m  n_convenience house_age_years  price_twd_msq  predictions  \\\n",
              "270       252.5822              1         0 to 15      35.552194    13.318355   \n",
              "148      3780.5900              0        15 to 30      13.645991     5.566290   \n",
              "228      3171.3290              0         0 to 15      14.099849     6.905014   \n",
              "220       186.5101              9        30 to 45      23.691377    13.463534   \n",
              "113       393.2606              6         0 to 15       2.299546    13.009243   \n",
              "..             ...            ...             ...            ...          ...   \n",
              "298      4082.0150              0        15 to 30       5.052950     4.903971   \n",
              "6         623.4731              7        30 to 45      12.193646    12.503399   \n",
              "265       815.9314              4        15 to 30      11.527988    12.080512   \n",
              "237       732.8528              0         0 to 15      11.800303    12.263060   \n",
              "179       438.8513              1         0 to 15      12.889561    12.909067   \n",
              "\n",
              "         resid    dist_sq  predictions_sq   resid_sq  leverage_2     influence  \n",
              "270  22.233839  15.892835       13.803908  21.748286    0.003849  1.155487e-01  \n",
              "148   8.079701  61.486503        5.467431   8.178560    0.012147  5.244008e-02  \n",
              "228   7.194834  56.314554        6.413085   7.686764    0.009332  3.538436e-02  \n",
              "220  10.227842  13.656870       14.212738   9.478639    0.004401  2.512289e-02  \n",
              "113 -10.709697  19.830799       13.083879 -10.784333    0.003095  2.281295e-02  \n",
              "..         ...        ...             ...        ...         ...           ...  \n",
              "298   0.148979  63.890649        5.027850   0.025100    0.013619  5.554280e-07  \n",
              "6    -0.309753  24.969443       12.144315   0.049331    0.002530  3.896928e-07  \n",
              "265  -0.552524  28.564513       11.486982   0.041006    0.002415  2.570474e-07  \n",
              "237  -0.462757  27.071254       11.760013   0.040289    0.002435  2.501281e-07  \n",
              "179  -0.019506  20.948778       12.879464   0.010097    0.002932  1.893547e-08  \n",
              "\n",
              "[414 rows x 11 columns]"
            ],
            "text/html": [
              "\n",
              "  <div id=\"df-9f057e94-67c5-4faf-bc20-9a8f74d5bbad\">\n",
              "    <div class=\"colab-df-container\">\n",
              "      <div>\n",
              "<style scoped>\n",
              "    .dataframe tbody tr th:only-of-type {\n",
              "        vertical-align: middle;\n",
              "    }\n",
              "\n",
              "    .dataframe tbody tr th {\n",
              "        vertical-align: top;\n",
              "    }\n",
              "\n",
              "    .dataframe thead th {\n",
              "        text-align: right;\n",
              "    }\n",
              "</style>\n",
              "<table border=\"1\" class=\"dataframe\">\n",
              "  <thead>\n",
              "    <tr style=\"text-align: right;\">\n",
              "      <th></th>\n",
              "      <th>dist_to_mrt_m</th>\n",
              "      <th>n_convenience</th>\n",
              "      <th>house_age_years</th>\n",
              "      <th>price_twd_msq</th>\n",
              "      <th>predictions</th>\n",
              "      <th>resid</th>\n",
              "      <th>dist_sq</th>\n",
              "      <th>predictions_sq</th>\n",
              "      <th>resid_sq</th>\n",
              "      <th>leverage_2</th>\n",
              "      <th>influence</th>\n",
              "    </tr>\n",
              "  </thead>\n",
              "  <tbody>\n",
              "    <tr>\n",
              "      <th>270</th>\n",
              "      <td>252.5822</td>\n",
              "      <td>1</td>\n",
              "      <td>0 to 15</td>\n",
              "      <td>35.552194</td>\n",
              "      <td>13.318355</td>\n",
              "      <td>22.233839</td>\n",
              "      <td>15.892835</td>\n",
              "      <td>13.803908</td>\n",
              "      <td>21.748286</td>\n",
              "      <td>0.003849</td>\n",
              "      <td>1.155487e-01</td>\n",
              "    </tr>\n",
              "    <tr>\n",
              "      <th>148</th>\n",
              "      <td>3780.5900</td>\n",
              "      <td>0</td>\n",
              "      <td>15 to 30</td>\n",
              "      <td>13.645991</td>\n",
              "      <td>5.566290</td>\n",
              "      <td>8.079701</td>\n",
              "      <td>61.486503</td>\n",
              "      <td>5.467431</td>\n",
              "      <td>8.178560</td>\n",
              "      <td>0.012147</td>\n",
              "      <td>5.244008e-02</td>\n",
              "    </tr>\n",
              "    <tr>\n",
              "      <th>228</th>\n",
              "      <td>3171.3290</td>\n",
              "      <td>0</td>\n",
              "      <td>0 to 15</td>\n",
              "      <td>14.099849</td>\n",
              "      <td>6.905014</td>\n",
              "      <td>7.194834</td>\n",
              "      <td>56.314554</td>\n",
              "      <td>6.413085</td>\n",
              "      <td>7.686764</td>\n",
              "      <td>0.009332</td>\n",
              "      <td>3.538436e-02</td>\n",
              "    </tr>\n",
              "    <tr>\n",
              "      <th>220</th>\n",
              "      <td>186.5101</td>\n",
              "      <td>9</td>\n",
              "      <td>30 to 45</td>\n",
              "      <td>23.691377</td>\n",
              "      <td>13.463534</td>\n",
              "      <td>10.227842</td>\n",
              "      <td>13.656870</td>\n",
              "      <td>14.212738</td>\n",
              "      <td>9.478639</td>\n",
              "      <td>0.004401</td>\n",
              "      <td>2.512289e-02</td>\n",
              "    </tr>\n",
              "    <tr>\n",
              "      <th>113</th>\n",
              "      <td>393.2606</td>\n",
              "      <td>6</td>\n",
              "      <td>0 to 15</td>\n",
              "      <td>2.299546</td>\n",
              "      <td>13.009243</td>\n",
              "      <td>-10.709697</td>\n",
              "      <td>19.830799</td>\n",
              "      <td>13.083879</td>\n",
              "      <td>-10.784333</td>\n",
              "      <td>0.003095</td>\n",
              "      <td>2.281295e-02</td>\n",
              "    </tr>\n",
              "    <tr>\n",
              "      <th>...</th>\n",
              "      <td>...</td>\n",
              "      <td>...</td>\n",
              "      <td>...</td>\n",
              "      <td>...</td>\n",
              "      <td>...</td>\n",
              "      <td>...</td>\n",
              "      <td>...</td>\n",
              "      <td>...</td>\n",
              "      <td>...</td>\n",
              "      <td>...</td>\n",
              "      <td>...</td>\n",
              "    </tr>\n",
              "    <tr>\n",
              "      <th>298</th>\n",
              "      <td>4082.0150</td>\n",
              "      <td>0</td>\n",
              "      <td>15 to 30</td>\n",
              "      <td>5.052950</td>\n",
              "      <td>4.903971</td>\n",
              "      <td>0.148979</td>\n",
              "      <td>63.890649</td>\n",
              "      <td>5.027850</td>\n",
              "      <td>0.025100</td>\n",
              "      <td>0.013619</td>\n",
              "      <td>5.554280e-07</td>\n",
              "    </tr>\n",
              "    <tr>\n",
              "      <th>6</th>\n",
              "      <td>623.4731</td>\n",
              "      <td>7</td>\n",
              "      <td>30 to 45</td>\n",
              "      <td>12.193646</td>\n",
              "      <td>12.503399</td>\n",
              "      <td>-0.309753</td>\n",
              "      <td>24.969443</td>\n",
              "      <td>12.144315</td>\n",
              "      <td>0.049331</td>\n",
              "      <td>0.002530</td>\n",
              "      <td>3.896928e-07</td>\n",
              "    </tr>\n",
              "    <tr>\n",
              "      <th>265</th>\n",
              "      <td>815.9314</td>\n",
              "      <td>4</td>\n",
              "      <td>15 to 30</td>\n",
              "      <td>11.527988</td>\n",
              "      <td>12.080512</td>\n",
              "      <td>-0.552524</td>\n",
              "      <td>28.564513</td>\n",
              "      <td>11.486982</td>\n",
              "      <td>0.041006</td>\n",
              "      <td>0.002415</td>\n",
              "      <td>2.570474e-07</td>\n",
              "    </tr>\n",
              "    <tr>\n",
              "      <th>237</th>\n",
              "      <td>732.8528</td>\n",
              "      <td>0</td>\n",
              "      <td>0 to 15</td>\n",
              "      <td>11.800303</td>\n",
              "      <td>12.263060</td>\n",
              "      <td>-0.462757</td>\n",
              "      <td>27.071254</td>\n",
              "      <td>11.760013</td>\n",
              "      <td>0.040289</td>\n",
              "      <td>0.002435</td>\n",
              "      <td>2.501281e-07</td>\n",
              "    </tr>\n",
              "    <tr>\n",
              "      <th>179</th>\n",
              "      <td>438.8513</td>\n",
              "      <td>1</td>\n",
              "      <td>0 to 15</td>\n",
              "      <td>12.889561</td>\n",
              "      <td>12.909067</td>\n",
              "      <td>-0.019506</td>\n",
              "      <td>20.948778</td>\n",
              "      <td>12.879464</td>\n",
              "      <td>0.010097</td>\n",
              "      <td>0.002932</td>\n",
              "      <td>1.893547e-08</td>\n",
              "    </tr>\n",
              "  </tbody>\n",
              "</table>\n",
              "<p>414 rows × 11 columns</p>\n",
              "</div>\n",
              "      <button class=\"colab-df-convert\" onclick=\"convertToInteractive('df-9f057e94-67c5-4faf-bc20-9a8f74d5bbad')\"\n",
              "              title=\"Convert this dataframe to an interactive table.\"\n",
              "              style=\"display:none;\">\n",
              "        \n",
              "  <svg xmlns=\"http://www.w3.org/2000/svg\" height=\"24px\"viewBox=\"0 0 24 24\"\n",
              "       width=\"24px\">\n",
              "    <path d=\"M0 0h24v24H0V0z\" fill=\"none\"/>\n",
              "    <path d=\"M18.56 5.44l.94 2.06.94-2.06 2.06-.94-2.06-.94-.94-2.06-.94 2.06-2.06.94zm-11 1L8.5 8.5l.94-2.06 2.06-.94-2.06-.94L8.5 2.5l-.94 2.06-2.06.94zm10 10l.94 2.06.94-2.06 2.06-.94-2.06-.94-.94-2.06-.94 2.06-2.06.94z\"/><path d=\"M17.41 7.96l-1.37-1.37c-.4-.4-.92-.59-1.43-.59-.52 0-1.04.2-1.43.59L10.3 9.45l-7.72 7.72c-.78.78-.78 2.05 0 2.83L4 21.41c.39.39.9.59 1.41.59.51 0 1.02-.2 1.41-.59l7.78-7.78 2.81-2.81c.8-.78.8-2.07 0-2.86zM5.41 20L4 18.59l7.72-7.72 1.47 1.35L5.41 20z\"/>\n",
              "  </svg>\n",
              "      </button>\n",
              "      \n",
              "  <style>\n",
              "    .colab-df-container {\n",
              "      display:flex;\n",
              "      flex-wrap:wrap;\n",
              "      gap: 12px;\n",
              "    }\n",
              "\n",
              "    .colab-df-convert {\n",
              "      background-color: #E8F0FE;\n",
              "      border: none;\n",
              "      border-radius: 50%;\n",
              "      cursor: pointer;\n",
              "      display: none;\n",
              "      fill: #1967D2;\n",
              "      height: 32px;\n",
              "      padding: 0 0 0 0;\n",
              "      width: 32px;\n",
              "    }\n",
              "\n",
              "    .colab-df-convert:hover {\n",
              "      background-color: #E2EBFA;\n",
              "      box-shadow: 0px 1px 2px rgba(60, 64, 67, 0.3), 0px 1px 3px 1px rgba(60, 64, 67, 0.15);\n",
              "      fill: #174EA6;\n",
              "    }\n",
              "\n",
              "    [theme=dark] .colab-df-convert {\n",
              "      background-color: #3B4455;\n",
              "      fill: #D2E3FC;\n",
              "    }\n",
              "\n",
              "    [theme=dark] .colab-df-convert:hover {\n",
              "      background-color: #434B5C;\n",
              "      box-shadow: 0px 1px 3px 1px rgba(0, 0, 0, 0.15);\n",
              "      filter: drop-shadow(0px 1px 2px rgba(0, 0, 0, 0.3));\n",
              "      fill: #FFFFFF;\n",
              "    }\n",
              "  </style>\n",
              "\n",
              "      <script>\n",
              "        const buttonEl =\n",
              "          document.querySelector('#df-9f057e94-67c5-4faf-bc20-9a8f74d5bbad button.colab-df-convert');\n",
              "        buttonEl.style.display =\n",
              "          google.colab.kernel.accessAllowed ? 'block' : 'none';\n",
              "\n",
              "        async function convertToInteractive(key) {\n",
              "          const element = document.querySelector('#df-9f057e94-67c5-4faf-bc20-9a8f74d5bbad');\n",
              "          const dataTable =\n",
              "            await google.colab.kernel.invokeFunction('convertToInteractive',\n",
              "                                                     [key], {});\n",
              "          if (!dataTable) return;\n",
              "\n",
              "          const docLinkHtml = 'Like what you see? Visit the ' +\n",
              "            '<a target=\"_blank\" href=https://colab.research.google.com/notebooks/data_table.ipynb>data table notebook</a>'\n",
              "            + ' to learn more about interactive tables.';\n",
              "          element.innerHTML = '';\n",
              "          dataTable['output_type'] = 'display_data';\n",
              "          await google.colab.output.renderOutput(dataTable, element);\n",
              "          const docLink = document.createElement('div');\n",
              "          docLink.innerHTML = docLinkHtml;\n",
              "          element.appendChild(docLink);\n",
              "        }\n",
              "      </script>\n",
              "    </div>\n",
              "  </div>\n",
              "  "
            ]
          },
          "metadata": {},
          "execution_count": 23
        }
      ]
    },
    {
      "cell_type": "code",
      "source": [
        "tai"
      ],
      "metadata": {
        "colab": {
          "base_uri": "https://localhost:8080/",
          "height": 424
        },
        "id": "0qGVNPz5EUn9",
        "outputId": "51ca0400-4a4c-4538-a35d-c95d904c723f"
      },
      "execution_count": 24,
      "outputs": [
        {
          "output_type": "execute_result",
          "data": {
            "text/plain": [
              "     dist_to_mrt_m  n_convenience house_age_years  price_twd_msq  predictions  \\\n",
              "0         84.87882             10        30 to 45      11.467474    13.686848   \n",
              "1        306.59470              9        15 to 30      12.768533    13.199673   \n",
              "2        561.98450              5         0 to 15      14.311649    12.638507   \n",
              "3        561.98450              5         0 to 15      16.580938    12.638507   \n",
              "4        390.56840              5         0 to 15      13.040847    13.015159   \n",
              "..             ...            ...             ...            ...          ...   \n",
              "409     4082.01500              0         0 to 15       4.659607     4.903971   \n",
              "410       90.45606              9         0 to 15      15.128593    13.674593   \n",
              "411      390.96960              7        15 to 30      12.284418    13.014277   \n",
              "412      104.81010              5         0 to 15      15.885023    13.643053   \n",
              "413       90.45606              9         0 to 15      19.334342    13.674593   \n",
              "\n",
              "        resid    dist_sq  predictions_sq  resid_sq  leverage_2     influence  \n",
              "0   -2.219374   9.212970       15.025273 -3.557800    0.005764  4.648246e-03  \n",
              "1   -0.431141  17.509846       13.508249 -0.739716    0.003506  1.216711e-04  \n",
              "2    1.673142  23.706212       12.375287  1.936362    0.002625  6.231096e-04  \n",
              "3    3.942431  23.706212       12.375287  4.205651    0.002625  2.939394e-03  \n",
              "4    0.025689  19.762803       13.096311 -0.055464    0.003106  6.055123e-07  \n",
              "..        ...        ...             ...       ...         ...           ...  \n",
              "409 -0.244364  63.890649        5.027850 -0.368243    0.013619  1.195505e-04  \n",
              "410  1.454000   9.510839       14.970810  0.157783    0.005661  8.977830e-06  \n",
              "411 -0.729859  19.772951       13.094456 -0.810038    0.003104  1.290873e-04  \n",
              "412  2.241970  10.237680       14.837912  1.047111    0.005418  3.782254e-04  \n",
              "413  5.659749   9.510839       14.970810  4.363532    0.005661  6.866358e-03  \n",
              "\n",
              "[414 rows x 11 columns]"
            ],
            "text/html": [
              "\n",
              "  <div id=\"df-b06f11b5-3ba9-449c-b8a4-9a39be00141e\">\n",
              "    <div class=\"colab-df-container\">\n",
              "      <div>\n",
              "<style scoped>\n",
              "    .dataframe tbody tr th:only-of-type {\n",
              "        vertical-align: middle;\n",
              "    }\n",
              "\n",
              "    .dataframe tbody tr th {\n",
              "        vertical-align: top;\n",
              "    }\n",
              "\n",
              "    .dataframe thead th {\n",
              "        text-align: right;\n",
              "    }\n",
              "</style>\n",
              "<table border=\"1\" class=\"dataframe\">\n",
              "  <thead>\n",
              "    <tr style=\"text-align: right;\">\n",
              "      <th></th>\n",
              "      <th>dist_to_mrt_m</th>\n",
              "      <th>n_convenience</th>\n",
              "      <th>house_age_years</th>\n",
              "      <th>price_twd_msq</th>\n",
              "      <th>predictions</th>\n",
              "      <th>resid</th>\n",
              "      <th>dist_sq</th>\n",
              "      <th>predictions_sq</th>\n",
              "      <th>resid_sq</th>\n",
              "      <th>leverage_2</th>\n",
              "      <th>influence</th>\n",
              "    </tr>\n",
              "  </thead>\n",
              "  <tbody>\n",
              "    <tr>\n",
              "      <th>0</th>\n",
              "      <td>84.87882</td>\n",
              "      <td>10</td>\n",
              "      <td>30 to 45</td>\n",
              "      <td>11.467474</td>\n",
              "      <td>13.686848</td>\n",
              "      <td>-2.219374</td>\n",
              "      <td>9.212970</td>\n",
              "      <td>15.025273</td>\n",
              "      <td>-3.557800</td>\n",
              "      <td>0.005764</td>\n",
              "      <td>4.648246e-03</td>\n",
              "    </tr>\n",
              "    <tr>\n",
              "      <th>1</th>\n",
              "      <td>306.59470</td>\n",
              "      <td>9</td>\n",
              "      <td>15 to 30</td>\n",
              "      <td>12.768533</td>\n",
              "      <td>13.199673</td>\n",
              "      <td>-0.431141</td>\n",
              "      <td>17.509846</td>\n",
              "      <td>13.508249</td>\n",
              "      <td>-0.739716</td>\n",
              "      <td>0.003506</td>\n",
              "      <td>1.216711e-04</td>\n",
              "    </tr>\n",
              "    <tr>\n",
              "      <th>2</th>\n",
              "      <td>561.98450</td>\n",
              "      <td>5</td>\n",
              "      <td>0 to 15</td>\n",
              "      <td>14.311649</td>\n",
              "      <td>12.638507</td>\n",
              "      <td>1.673142</td>\n",
              "      <td>23.706212</td>\n",
              "      <td>12.375287</td>\n",
              "      <td>1.936362</td>\n",
              "      <td>0.002625</td>\n",
              "      <td>6.231096e-04</td>\n",
              "    </tr>\n",
              "    <tr>\n",
              "      <th>3</th>\n",
              "      <td>561.98450</td>\n",
              "      <td>5</td>\n",
              "      <td>0 to 15</td>\n",
              "      <td>16.580938</td>\n",
              "      <td>12.638507</td>\n",
              "      <td>3.942431</td>\n",
              "      <td>23.706212</td>\n",
              "      <td>12.375287</td>\n",
              "      <td>4.205651</td>\n",
              "      <td>0.002625</td>\n",
              "      <td>2.939394e-03</td>\n",
              "    </tr>\n",
              "    <tr>\n",
              "      <th>4</th>\n",
              "      <td>390.56840</td>\n",
              "      <td>5</td>\n",
              "      <td>0 to 15</td>\n",
              "      <td>13.040847</td>\n",
              "      <td>13.015159</td>\n",
              "      <td>0.025689</td>\n",
              "      <td>19.762803</td>\n",
              "      <td>13.096311</td>\n",
              "      <td>-0.055464</td>\n",
              "      <td>0.003106</td>\n",
              "      <td>6.055123e-07</td>\n",
              "    </tr>\n",
              "    <tr>\n",
              "      <th>...</th>\n",
              "      <td>...</td>\n",
              "      <td>...</td>\n",
              "      <td>...</td>\n",
              "      <td>...</td>\n",
              "      <td>...</td>\n",
              "      <td>...</td>\n",
              "      <td>...</td>\n",
              "      <td>...</td>\n",
              "      <td>...</td>\n",
              "      <td>...</td>\n",
              "      <td>...</td>\n",
              "    </tr>\n",
              "    <tr>\n",
              "      <th>409</th>\n",
              "      <td>4082.01500</td>\n",
              "      <td>0</td>\n",
              "      <td>0 to 15</td>\n",
              "      <td>4.659607</td>\n",
              "      <td>4.903971</td>\n",
              "      <td>-0.244364</td>\n",
              "      <td>63.890649</td>\n",
              "      <td>5.027850</td>\n",
              "      <td>-0.368243</td>\n",
              "      <td>0.013619</td>\n",
              "      <td>1.195505e-04</td>\n",
              "    </tr>\n",
              "    <tr>\n",
              "      <th>410</th>\n",
              "      <td>90.45606</td>\n",
              "      <td>9</td>\n",
              "      <td>0 to 15</td>\n",
              "      <td>15.128593</td>\n",
              "      <td>13.674593</td>\n",
              "      <td>1.454000</td>\n",
              "      <td>9.510839</td>\n",
              "      <td>14.970810</td>\n",
              "      <td>0.157783</td>\n",
              "      <td>0.005661</td>\n",
              "      <td>8.977830e-06</td>\n",
              "    </tr>\n",
              "    <tr>\n",
              "      <th>411</th>\n",
              "      <td>390.96960</td>\n",
              "      <td>7</td>\n",
              "      <td>15 to 30</td>\n",
              "      <td>12.284418</td>\n",
              "      <td>13.014277</td>\n",
              "      <td>-0.729859</td>\n",
              "      <td>19.772951</td>\n",
              "      <td>13.094456</td>\n",
              "      <td>-0.810038</td>\n",
              "      <td>0.003104</td>\n",
              "      <td>1.290873e-04</td>\n",
              "    </tr>\n",
              "    <tr>\n",
              "      <th>412</th>\n",
              "      <td>104.81010</td>\n",
              "      <td>5</td>\n",
              "      <td>0 to 15</td>\n",
              "      <td>15.885023</td>\n",
              "      <td>13.643053</td>\n",
              "      <td>2.241970</td>\n",
              "      <td>10.237680</td>\n",
              "      <td>14.837912</td>\n",
              "      <td>1.047111</td>\n",
              "      <td>0.005418</td>\n",
              "      <td>3.782254e-04</td>\n",
              "    </tr>\n",
              "    <tr>\n",
              "      <th>413</th>\n",
              "      <td>90.45606</td>\n",
              "      <td>9</td>\n",
              "      <td>0 to 15</td>\n",
              "      <td>19.334342</td>\n",
              "      <td>13.674593</td>\n",
              "      <td>5.659749</td>\n",
              "      <td>9.510839</td>\n",
              "      <td>14.970810</td>\n",
              "      <td>4.363532</td>\n",
              "      <td>0.005661</td>\n",
              "      <td>6.866358e-03</td>\n",
              "    </tr>\n",
              "  </tbody>\n",
              "</table>\n",
              "<p>414 rows × 11 columns</p>\n",
              "</div>\n",
              "      <button class=\"colab-df-convert\" onclick=\"convertToInteractive('df-b06f11b5-3ba9-449c-b8a4-9a39be00141e')\"\n",
              "              title=\"Convert this dataframe to an interactive table.\"\n",
              "              style=\"display:none;\">\n",
              "        \n",
              "  <svg xmlns=\"http://www.w3.org/2000/svg\" height=\"24px\"viewBox=\"0 0 24 24\"\n",
              "       width=\"24px\">\n",
              "    <path d=\"M0 0h24v24H0V0z\" fill=\"none\"/>\n",
              "    <path d=\"M18.56 5.44l.94 2.06.94-2.06 2.06-.94-2.06-.94-.94-2.06-.94 2.06-2.06.94zm-11 1L8.5 8.5l.94-2.06 2.06-.94-2.06-.94L8.5 2.5l-.94 2.06-2.06.94zm10 10l.94 2.06.94-2.06 2.06-.94-2.06-.94-.94-2.06-.94 2.06-2.06.94z\"/><path d=\"M17.41 7.96l-1.37-1.37c-.4-.4-.92-.59-1.43-.59-.52 0-1.04.2-1.43.59L10.3 9.45l-7.72 7.72c-.78.78-.78 2.05 0 2.83L4 21.41c.39.39.9.59 1.41.59.51 0 1.02-.2 1.41-.59l7.78-7.78 2.81-2.81c.8-.78.8-2.07 0-2.86zM5.41 20L4 18.59l7.72-7.72 1.47 1.35L5.41 20z\"/>\n",
              "  </svg>\n",
              "      </button>\n",
              "      \n",
              "  <style>\n",
              "    .colab-df-container {\n",
              "      display:flex;\n",
              "      flex-wrap:wrap;\n",
              "      gap: 12px;\n",
              "    }\n",
              "\n",
              "    .colab-df-convert {\n",
              "      background-color: #E8F0FE;\n",
              "      border: none;\n",
              "      border-radius: 50%;\n",
              "      cursor: pointer;\n",
              "      display: none;\n",
              "      fill: #1967D2;\n",
              "      height: 32px;\n",
              "      padding: 0 0 0 0;\n",
              "      width: 32px;\n",
              "    }\n",
              "\n",
              "    .colab-df-convert:hover {\n",
              "      background-color: #E2EBFA;\n",
              "      box-shadow: 0px 1px 2px rgba(60, 64, 67, 0.3), 0px 1px 3px 1px rgba(60, 64, 67, 0.15);\n",
              "      fill: #174EA6;\n",
              "    }\n",
              "\n",
              "    [theme=dark] .colab-df-convert {\n",
              "      background-color: #3B4455;\n",
              "      fill: #D2E3FC;\n",
              "    }\n",
              "\n",
              "    [theme=dark] .colab-df-convert:hover {\n",
              "      background-color: #434B5C;\n",
              "      box-shadow: 0px 1px 3px 1px rgba(0, 0, 0, 0.15);\n",
              "      filter: drop-shadow(0px 1px 2px rgba(0, 0, 0, 0.3));\n",
              "      fill: #FFFFFF;\n",
              "    }\n",
              "  </style>\n",
              "\n",
              "      <script>\n",
              "        const buttonEl =\n",
              "          document.querySelector('#df-b06f11b5-3ba9-449c-b8a4-9a39be00141e button.colab-df-convert');\n",
              "        buttonEl.style.display =\n",
              "          google.colab.kernel.accessAllowed ? 'block' : 'none';\n",
              "\n",
              "        async function convertToInteractive(key) {\n",
              "          const element = document.querySelector('#df-b06f11b5-3ba9-449c-b8a4-9a39be00141e');\n",
              "          const dataTable =\n",
              "            await google.colab.kernel.invokeFunction('convertToInteractive',\n",
              "                                                     [key], {});\n",
              "          if (!dataTable) return;\n",
              "\n",
              "          const docLinkHtml = 'Like what you see? Visit the ' +\n",
              "            '<a target=\"_blank\" href=https://colab.research.google.com/notebooks/data_table.ipynb>data table notebook</a>'\n",
              "            + ' to learn more about interactive tables.';\n",
              "          element.innerHTML = '';\n",
              "          dataTable['output_type'] = 'display_data';\n",
              "          await google.colab.output.renderOutput(dataTable, element);\n",
              "          const docLink = document.createElement('div');\n",
              "          docLink.innerHTML = docLinkHtml;\n",
              "          element.appendChild(docLink);\n",
              "        }\n",
              "      </script>\n",
              "    </div>\n",
              "  </div>\n",
              "  "
            ]
          },
          "metadata": {},
          "execution_count": 24
        }
      ]
    },
    {
      "cell_type": "markdown",
      "source": [
        "### Multi variable regression"
      ],
      "metadata": {
        "id": "IXc1XdQvGEjD"
      }
    },
    {
      "cell_type": "code",
      "source": [
        "from statsmodels.formula.api import ols\n",
        "tai=pd.read_csv('https://assets.datacamp.com/production/repositories/5857/datasets/4c29a50214b5b3232b2b99eee35cdde2f588dfac/taiwan_real_estate2.csv')"
      ],
      "metadata": {
        "id": "9_Mm0h3MEVin"
      },
      "execution_count": 25,
      "outputs": []
    },
    {
      "cell_type": "code",
      "source": [
        "tai['dist_sqrt']=np.sqrt(tai.dist_to_mrt_m)"
      ],
      "metadata": {
        "id": "5JJqdWlBGjzR"
      },
      "execution_count": 26,
      "outputs": []
    },
    {
      "cell_type": "code",
      "source": [
        "model3=ols('price_twd_msq~dist_sqrt+n_convenience+house_age_years',data=tai).fit()"
      ],
      "metadata": {
        "id": "NsLY8Z9wG-V1"
      },
      "execution_count": 27,
      "outputs": []
    },
    {
      "cell_type": "code",
      "source": [
        "fig=plt.figure()\n",
        "fig.set_size_inches([10,6])\n",
        "sns.boxplot(x='n_convenience',y='price_twd_msq',data=tai)"
      ],
      "metadata": {
        "colab": {
          "base_uri": "https://localhost:8080/",
          "height": 406
        },
        "id": "QLwneADwGjVg",
        "outputId": "19cebe76-7381-4253-a43c-a2c7cd271475"
      },
      "execution_count": 28,
      "outputs": [
        {
          "output_type": "execute_result",
          "data": {
            "text/plain": [
              "<matplotlib.axes._subplots.AxesSubplot at 0x7f7612c24700>"
            ]
          },
          "metadata": {},
          "execution_count": 28
        },
        {
          "output_type": "display_data",
          "data": {
            "text/plain": [
              "<Figure size 720x432 with 1 Axes>"
            ],
            "image/png": "[encoded data removed]"
          },
          "metadata": {
            "needs_background": "light"
          }
        }
      ]
    },
    {
      "cell_type": "code",
      "source": [
        "fig=plt.figure()\n",
        "fig.set_size_inches([10,6])\n",
        "sns.boxplot(x='house_age_years',y='price_twd_msq',data=tai)"
      ],
      "metadata": {
        "colab": {
          "base_uri": "https://localhost:8080/",
          "height": 406
        },
        "id": "vhwT1cagHcbF",
        "outputId": "4413e6d2-b531-4c4b-d376-0cfe28d29c20"
      },
      "execution_count": 60,
      "outputs": [
        {
          "output_type": "execute_result",
          "data": {
            "text/plain": [
              "<matplotlib.axes._subplots.AxesSubplot at 0x7f474a469a90>"
            ]
          },
          "metadata": {},
          "execution_count": 60
        },
        {
          "output_type": "display_data",
          "data": {
            "text/plain": [
              "<Figure size 720x432 with 1 Axes>"
            ],
            "image/png": "[encoded data removed]"
          },
          "metadata": {
            "needs_background": "light"
          }
        }
      ]
    },
    {
      "cell_type": "code",
      "source": [
        "print(model3.summary())"
      ],
      "metadata": {
        "colab": {
          "base_uri": "https://localhost:8080/"
        },
        "id": "8uUo4tAFIfz2",
        "outputId": "deaab385-8ff1-498d-a40a-4588220c561c"
      },
      "execution_count": 29,
      "outputs": [
        {
          "output_type": "stream",
          "name": "stdout",
          "text": [
            "                            OLS Regression Results                            \n",
            "==============================================================================\n",
            "Dep. Variable:          price_twd_msq   R-squared:                       0.579\n",
            "Model:                            OLS   Adj. R-squared:                  0.575\n",
            "Method:                 Least Squares   F-statistic:                     140.7\n",
            "Date:                Mon, 12 Dec 2022   Prob (F-statistic):           1.68e-75\n",
            "Time:                        16:57:16   Log-Likelihood:                -993.67\n",
            "No. Observations:                 414   AIC:                             1997.\n",
            "Df Residuals:                     409   BIC:                             2017.\n",
            "Df Model:                           4                                         \n",
            "Covariance Type:            nonrobust                                         \n",
            "===============================================================================================\n",
            "                                  coef    std err          t      P>|t|      [0.025      0.975]\n",
            "-----------------------------------------------------------------------------------------------\n",
            "Intercept                      15.4745      0.527     29.357      0.000      14.438      16.511\n",
            "house_age_years[T.15 to 30]    -1.3444      0.316     -4.256      0.000      -1.965      -0.723\n",
            "house_age_years[T.30 to 45]    -1.7090      0.340     -5.031      0.000      -2.377      -1.041\n",
            "dist_sqrt                      -0.1481      0.011    -13.368      0.000      -0.170      -0.126\n",
            "n_convenience                   0.2577      0.061      4.256      0.000       0.139       0.377\n",
            "==============================================================================\n",
            "Omnibus:                      217.392   Durbin-Watson:                   2.114\n",
            "Prob(Omnibus):                  0.000   Jarque-Bera (JB):             3058.999\n",
            "Skew:                           1.890   Prob(JB):                         0.00\n",
            "Kurtosis:                      15.769   Cond. No.                         134.\n",
            "==============================================================================\n",
            "\n",
            "Notes:\n",
            "[1] Standard Errors assume that the covariance matrix of the errors is correctly specified.\n"
          ]
        }
      ]
    },
    {
      "cell_type": "code",
      "source": [
        "np.sqrt(model3.mse_resid)/tai.price_twd_msq.mean()"
      ],
      "metadata": {
        "colab": {
          "base_uri": "https://localhost:8080/"
        },
        "id": "IoEnntDiJHtN",
        "outputId": "b3dda9d3-b006-423b-9700-91b1654797c4"
      },
      "execution_count": 30,
      "outputs": [
        {
          "output_type": "execute_result",
          "data": {
            "text/plain": [
              "0.2335613656790428"
            ]
          },
          "metadata": {},
          "execution_count": 30
        }
      ]
    },
    {
      "cell_type": "code",
      "source": [
        "tai['predictions']=model3.fittedvalues"
      ],
      "metadata": {
        "id": "-agDKOKUJS4a"
      },
      "execution_count": 31,
      "outputs": []
    },
    {
      "cell_type": "code",
      "source": [
        "tai['resid']=model3.resid"
      ],
      "metadata": {
        "id": "Msw8H1YAJawm"
      },
      "execution_count": 32,
      "outputs": []
    },
    {
      "cell_type": "code",
      "source": [
        "tai.sample(5)"
      ],
      "metadata": {
        "colab": {
          "base_uri": "https://localhost:8080/",
          "height": 206
        },
        "id": "DYMWNbHbJpKj",
        "outputId": "102c6526-c52a-4cfd-cace-8405a48c762f"
      },
      "execution_count": 33,
      "outputs": [
        {
          "output_type": "execute_result",
          "data": {
            "text/plain": [
              "     dist_to_mrt_m  n_convenience house_age_years  price_twd_msq  dist_sqrt  \\\n",
              "115       737.9161              2        15 to 30      14.039334  27.164611   \n",
              "405       130.9945              6        15 to 30      11.255673  11.445283   \n",
              "75       1360.1390              1         0 to 15       8.925870  36.880062   \n",
              "162      4066.5870              0        15 to 30       3.509834  63.769797   \n",
              "31        769.4034              7        15 to 30       7.564297  27.738122   \n",
              "\n",
              "     predictions     resid  \n",
              "115    10.622268  3.417067  \n",
              "405    13.980988 -2.725315  \n",
              "75     10.270133 -1.344263  \n",
              "162     4.685649 -1.175816  \n",
              "31     11.825658 -4.261361  "
            ],
            "text/html": [
              "\n",
              "  <div id=\"df-dbf02042-4390-4772-b4b5-fb2094298e68\">\n",
              "    <div class=\"colab-df-container\">\n",
              "      <div>\n",
              "<style scoped>\n",
              "    .dataframe tbody tr th:only-of-type {\n",
              "        vertical-align: middle;\n",
              "    }\n",
              "\n",
              "    .dataframe tbody tr th {\n",
              "        vertical-align: top;\n",
              "    }\n",
              "\n",
              "    .dataframe thead th {\n",
              "        text-align: right;\n",
              "    }\n",
              "</style>\n",
              "<table border=\"1\" class=\"dataframe\">\n",
              "  <thead>\n",
              "    <tr style=\"text-align: right;\">\n",
              "      <th></th>\n",
              "      <th>dist_to_mrt_m</th>\n",
              "      <th>n_convenience</th>\n",
              "      <th>house_age_years</th>\n",
              "      <th>price_twd_msq</th>\n",
              "      <th>dist_sqrt</th>\n",
              "      <th>predictions</th>\n",
              "      <th>resid</th>\n",
              "    </tr>\n",
              "  </thead>\n",
              "  <tbody>\n",
              "    <tr>\n",
              "      <th>115</th>\n",
              "      <td>737.9161</td>\n",
              "      <td>2</td>\n",
              "      <td>15 to 30</td>\n",
              "      <td>14.039334</td>\n",
              "      <td>27.164611</td>\n",
              "      <td>10.622268</td>\n",
              "      <td>3.417067</td>\n",
              "    </tr>\n",
              "    <tr>\n",
              "      <th>405</th>\n",
              "      <td>130.9945</td>\n",
              "      <td>6</td>\n",
              "      <td>15 to 30</td>\n",
              "      <td>11.255673</td>\n",
              "      <td>11.445283</td>\n",
              "      <td>13.980988</td>\n",
              "      <td>-2.725315</td>\n",
              "    </tr>\n",
              "    <tr>\n",
              "      <th>75</th>\n",
              "      <td>1360.1390</td>\n",
              "      <td>1</td>\n",
              "      <td>0 to 15</td>\n",
              "      <td>8.925870</td>\n",
              "      <td>36.880062</td>\n",
              "      <td>10.270133</td>\n",
              "      <td>-1.344263</td>\n",
              "    </tr>\n",
              "    <tr>\n",
              "      <th>162</th>\n",
              "      <td>4066.5870</td>\n",
              "      <td>0</td>\n",
              "      <td>15 to 30</td>\n",
              "      <td>3.509834</td>\n",
              "      <td>63.769797</td>\n",
              "      <td>4.685649</td>\n",
              "      <td>-1.175816</td>\n",
              "    </tr>\n",
              "    <tr>\n",
              "      <th>31</th>\n",
              "      <td>769.4034</td>\n",
              "      <td>7</td>\n",
              "      <td>15 to 30</td>\n",
              "      <td>7.564297</td>\n",
              "      <td>27.738122</td>\n",
              "      <td>11.825658</td>\n",
              "      <td>-4.261361</td>\n",
              "    </tr>\n",
              "  </tbody>\n",
              "</table>\n",
              "</div>\n",
              "      <button class=\"colab-df-convert\" onclick=\"convertToInteractive('df-dbf02042-4390-4772-b4b5-fb2094298e68')\"\n",
              "              title=\"Convert this dataframe to an interactive table.\"\n",
              "              style=\"display:none;\">\n",
              "        \n",
              "  <svg xmlns=\"http://www.w3.org/2000/svg\" height=\"24px\"viewBox=\"0 0 24 24\"\n",
              "       width=\"24px\">\n",
              "    <path d=\"M0 0h24v24H0V0z\" fill=\"none\"/>\n",
              "    <path d=\"M18.56 5.44l.94 2.06.94-2.06 2.06-.94-2.06-.94-.94-2.06-.94 2.06-2.06.94zm-11 1L8.5 8.5l.94-2.06 2.06-.94-2.06-.94L8.5 2.5l-.94 2.06-2.06.94zm10 10l.94 2.06.94-2.06 2.06-.94-2.06-.94-.94-2.06-.94 2.06-2.06.94z\"/><path d=\"M17.41 7.96l-1.37-1.37c-.4-.4-.92-.59-1.43-.59-.52 0-1.04.2-1.43.59L10.3 9.45l-7.72 7.72c-.78.78-.78 2.05 0 2.83L4 21.41c.39.39.9.59 1.41.59.51 0 1.02-.2 1.41-.59l7.78-7.78 2.81-2.81c.8-.78.8-2.07 0-2.86zM5.41 20L4 18.59l7.72-7.72 1.47 1.35L5.41 20z\"/>\n",
              "  </svg>\n",
              "      </button>\n",
              "      \n",
              "  <style>\n",
              "    .colab-df-container {\n",
              "      display:flex;\n",
              "      flex-wrap:wrap;\n",
              "      gap: 12px;\n",
              "    }\n",
              "\n",
              "    .colab-df-convert {\n",
              "      background-color: #E8F0FE;\n",
              "      border: none;\n",
              "      border-radius: 50%;\n",
              "      cursor: pointer;\n",
              "      display: none;\n",
              "      fill: #1967D2;\n",
              "      height: 32px;\n",
              "      padding: 0 0 0 0;\n",
              "      width: 32px;\n",
              "    }\n",
              "\n",
              "    .colab-df-convert:hover {\n",
              "      background-color: #E2EBFA;\n",
              "      box-shadow: 0px 1px 2px rgba(60, 64, 67, 0.3), 0px 1px 3px 1px rgba(60, 64, 67, 0.15);\n",
              "      fill: #174EA6;\n",
              "    }\n",
              "\n",
              "    [theme=dark] .colab-df-convert {\n",
              "      background-color: #3B4455;\n",
              "      fill: #D2E3FC;\n",
              "    }\n",
              "\n",
              "    [theme=dark] .colab-df-convert:hover {\n",
              "      background-color: #434B5C;\n",
              "      box-shadow: 0px 1px 3px 1px rgba(0, 0, 0, 0.15);\n",
              "      filter: drop-shadow(0px 1px 2px rgba(0, 0, 0, 0.3));\n",
              "      fill: #FFFFFF;\n",
              "    }\n",
              "  </style>\n",
              "\n",
              "      <script>\n",
              "        const buttonEl =\n",
              "          document.querySelector('#df-dbf02042-4390-4772-b4b5-fb2094298e68 button.colab-df-convert');\n",
              "        buttonEl.style.display =\n",
              "          google.colab.kernel.accessAllowed ? 'block' : 'none';\n",
              "\n",
              "        async function convertToInteractive(key) {\n",
              "          const element = document.querySelector('#df-dbf02042-4390-4772-b4b5-fb2094298e68');\n",
              "          const dataTable =\n",
              "            await google.colab.kernel.invokeFunction('convertToInteractive',\n",
              "                                                     [key], {});\n",
              "          if (!dataTable) return;\n",
              "\n",
              "          const docLinkHtml = 'Like what you see? Visit the ' +\n",
              "            '<a target=\"_blank\" href=https://colab.research.google.com/notebooks/data_table.ipynb>data table notebook</a>'\n",
              "            + ' to learn more about interactive tables.';\n",
              "          element.innerHTML = '';\n",
              "          dataTable['output_type'] = 'display_data';\n",
              "          await google.colab.output.renderOutput(dataTable, element);\n",
              "          const docLink = document.createElement('div');\n",
              "          docLink.innerHTML = docLinkHtml;\n",
              "          element.appendChild(docLink);\n",
              "        }\n",
              "      </script>\n",
              "    </div>\n",
              "  </div>\n",
              "  "
            ]
          },
          "metadata": {},
          "execution_count": 33
        }
      ]
    },
    {
      "cell_type": "markdown",
      "source": [
        "### Logistic Regression\n",
        "* if the response variable is categorical (0,1) then we use logistic regression.\n",
        "* The model predictions given by the equation can be thought of as probabilities. If you just use a standard ols model it will give you probabilities greater than 1 or less than 0. Therefore a special type of model object has to be used called a logistic model which uses an s shaped curve"
      ],
      "metadata": {
        "id": "xqSO5ZZLJ8Ut"
      }
    },
    {
      "cell_type": "code",
      "source": [
        "churn=pd.read_csv('https://assets.datacamp.com/production/repositories/5857/datasets/848e6bf5245f30e7e5cf0f7cb4bab7636a407c6f/churn.csv')"
      ],
      "metadata": {
        "id": "A1Z3cMHBL9vX"
      },
      "execution_count": 34,
      "outputs": []
    },
    {
      "cell_type": "code",
      "source": [
        "churn.sample(5)"
      ],
      "metadata": {
        "colab": {
          "base_uri": "https://localhost:8080/",
          "height": 206
        },
        "id": "VkpXxgQTRfyn",
        "outputId": "f8225720-2920-49f2-9292-634e64cb0bcb"
      },
      "execution_count": 35,
      "outputs": [
        {
          "output_type": "execute_result",
          "data": {
            "text/plain": [
              "     has_churned  time_since_first_purchase  time_since_last_purchase\n",
              "104            0                   0.383570                 -0.812909\n",
              "349            1                  -0.835804                 -0.066184\n",
              "238            1                   0.033377                  1.527104\n",
              "40             0                   0.575321                 -0.858290\n",
              "251            1                  -0.679162                 -0.793931"
            ],
            "text/html": [
              "\n",
              "  <div id=\"df-a6104ec1-4563-41cd-b50a-69bde15ae0b3\">\n",
              "    <div class=\"colab-df-container\">\n",
              "      <div>\n",
              "<style scoped>\n",
              "    .dataframe tbody tr th:only-of-type {\n",
              "        vertical-align: middle;\n",
              "    }\n",
              "\n",
              "    .dataframe tbody tr th {\n",
              "        vertical-align: top;\n",
              "    }\n",
              "\n",
              "    .dataframe thead th {\n",
              "        text-align: right;\n",
              "    }\n",
              "</style>\n",
              "<table border=\"1\" class=\"dataframe\">\n",
              "  <thead>\n",
              "    <tr style=\"text-align: right;\">\n",
              "      <th></th>\n",
              "      <th>has_churned</th>\n",
              "      <th>time_since_first_purchase</th>\n",
              "      <th>time_since_last_purchase</th>\n",
              "    </tr>\n",
              "  </thead>\n",
              "  <tbody>\n",
              "    <tr>\n",
              "      <th>104</th>\n",
              "      <td>0</td>\n",
              "      <td>0.383570</td>\n",
              "      <td>-0.812909</td>\n",
              "    </tr>\n",
              "    <tr>\n",
              "      <th>349</th>\n",
              "      <td>1</td>\n",
              "      <td>-0.835804</td>\n",
              "      <td>-0.066184</td>\n",
              "    </tr>\n",
              "    <tr>\n",
              "      <th>238</th>\n",
              "      <td>1</td>\n",
              "      <td>0.033377</td>\n",
              "      <td>1.527104</td>\n",
              "    </tr>\n",
              "    <tr>\n",
              "      <th>40</th>\n",
              "      <td>0</td>\n",
              "      <td>0.575321</td>\n",
              "      <td>-0.858290</td>\n",
              "    </tr>\n",
              "    <tr>\n",
              "      <th>251</th>\n",
              "      <td>1</td>\n",
              "      <td>-0.679162</td>\n",
              "      <td>-0.793931</td>\n",
              "    </tr>\n",
              "  </tbody>\n",
              "</table>\n",
              "</div>\n",
              "      <button class=\"colab-df-convert\" onclick=\"convertToInteractive('df-a6104ec1-4563-41cd-b50a-69bde15ae0b3')\"\n",
              "              title=\"Convert this dataframe to an interactive table.\"\n",
              "              style=\"display:none;\">\n",
              "        \n",
              "  <svg xmlns=\"http://www.w3.org/2000/svg\" height=\"24px\"viewBox=\"0 0 24 24\"\n",
              "       width=\"24px\">\n",
              "    <path d=\"M0 0h24v24H0V0z\" fill=\"none\"/>\n",
              "    <path d=\"M18.56 5.44l.94 2.06.94-2.06 2.06-.94-2.06-.94-.94-2.06-.94 2.06-2.06.94zm-11 1L8.5 8.5l.94-2.06 2.06-.94-2.06-.94L8.5 2.5l-.94 2.06-2.06.94zm10 10l.94 2.06.94-2.06 2.06-.94-2.06-.94-.94-2.06-.94 2.06-2.06.94z\"/><path d=\"M17.41 7.96l-1.37-1.37c-.4-.4-.92-.59-1.43-.59-.52 0-1.04.2-1.43.59L10.3 9.45l-7.72 7.72c-.78.78-.78 2.05 0 2.83L4 21.41c.39.39.9.59 1.41.59.51 0 1.02-.2 1.41-.59l7.78-7.78 2.81-2.81c.8-.78.8-2.07 0-2.86zM5.41 20L4 18.59l7.72-7.72 1.47 1.35L5.41 20z\"/>\n",
              "  </svg>\n",
              "      </button>\n",
              "      \n",
              "  <style>\n",
              "    .colab-df-container {\n",
              "      display:flex;\n",
              "      flex-wrap:wrap;\n",
              "      gap: 12px;\n",
              "    }\n",
              "\n",
              "    .colab-df-convert {\n",
              "      background-color: #E8F0FE;\n",
              "      border: none;\n",
              "      border-radius: 50%;\n",
              "      cursor: pointer;\n",
              "      display: none;\n",
              "      fill: #1967D2;\n",
              "      height: 32px;\n",
              "      padding: 0 0 0 0;\n",
              "      width: 32px;\n",
              "    }\n",
              "\n",
              "    .colab-df-convert:hover {\n",
              "      background-color: #E2EBFA;\n",
              "      box-shadow: 0px 1px 2px rgba(60, 64, 67, 0.3), 0px 1px 3px 1px rgba(60, 64, 67, 0.15);\n",
              "      fill: #174EA6;\n",
              "    }\n",
              "\n",
              "    [theme=dark] .colab-df-convert {\n",
              "      background-color: #3B4455;\n",
              "      fill: #D2E3FC;\n",
              "    }\n",
              "\n",
              "    [theme=dark] .colab-df-convert:hover {\n",
              "      background-color: #434B5C;\n",
              "      box-shadow: 0px 1px 3px 1px rgba(0, 0, 0, 0.15);\n",
              "      filter: drop-shadow(0px 1px 2px rgba(0, 0, 0, 0.3));\n",
              "      fill: #FFFFFF;\n",
              "    }\n",
              "  </style>\n",
              "\n",
              "      <script>\n",
              "        const buttonEl =\n",
              "          document.querySelector('#df-a6104ec1-4563-41cd-b50a-69bde15ae0b3 button.colab-df-convert');\n",
              "        buttonEl.style.display =\n",
              "          google.colab.kernel.accessAllowed ? 'block' : 'none';\n",
              "\n",
              "        async function convertToInteractive(key) {\n",
              "          const element = document.querySelector('#df-a6104ec1-4563-41cd-b50a-69bde15ae0b3');\n",
              "          const dataTable =\n",
              "            await google.colab.kernel.invokeFunction('convertToInteractive',\n",
              "                                                     [key], {});\n",
              "          if (!dataTable) return;\n",
              "\n",
              "          const docLinkHtml = 'Like what you see? Visit the ' +\n",
              "            '<a target=\"_blank\" href=https://colab.research.google.com/notebooks/data_table.ipynb>data table notebook</a>'\n",
              "            + ' to learn more about interactive tables.';\n",
              "          element.innerHTML = '';\n",
              "          dataTable['output_type'] = 'display_data';\n",
              "          await google.colab.output.renderOutput(dataTable, element);\n",
              "          const docLink = document.createElement('div');\n",
              "          docLink.innerHTML = docLinkHtml;\n",
              "          element.appendChild(docLink);\n",
              "        }\n",
              "      </script>\n",
              "    </div>\n",
              "  </div>\n",
              "  "
            ]
          },
          "metadata": {},
          "execution_count": 35
        }
      ]
    },
    {
      "cell_type": "code",
      "source": [
        "churn.columns=['churned','ts_first','ts_last']"
      ],
      "metadata": {
        "id": "vHmPvk3nRkBS"
      },
      "execution_count": 36,
      "outputs": []
    },
    {
      "cell_type": "code",
      "source": [
        "sns.displot(data=churn,x='ts_first',col='churned')\n",
        "plt.show()\n",
        "churn.groupby('churned')['ts_first'].mean()"
      ],
      "metadata": {
        "colab": {
          "base_uri": "https://localhost:8080/",
          "height": 438
        },
        "id": "u6iY5Xh1Run3",
        "outputId": "f6465af9-bcbf-4e89-ef27-da49e442039a"
      },
      "execution_count": 42,
      "outputs": [
        {
          "output_type": "display_data",
          "data": {
            "text/plain": [
              "<Figure size 720x360 with 2 Axes>"
            ],
            "image/png": "[encoded data removed]"
          },
          "metadata": {
            "needs_background": "light"
          }
        },
        {
          "output_type": "execute_result",
          "data": {
            "text/plain": [
              "churned\n",
              "0    0.120485\n",
              "1   -0.189225\n",
              "Name: ts_first, dtype: float64"
            ]
          },
          "metadata": {},
          "execution_count": 42
        }
      ]
    },
    {
      "cell_type": "code",
      "source": [],
      "metadata": {
        "id": "Ch8JhIGBXBqb"
      },
      "execution_count": null,
      "outputs": []
    },
    {
      "cell_type": "code",
      "source": [
        "sns.displot(data=churn,x='ts_last',col='churned')\n",
        "plt.show()\n",
        "churn.groupby('churned')['ts_last'].mean()"
      ],
      "metadata": {
        "colab": {
          "base_uri": "https://localhost:8080/",
          "height": 438
        },
        "id": "2ujpKlXnVDnS",
        "outputId": "e8830765-0ad4-447a-a2d1-a0b77875058c"
      },
      "execution_count": 43,
      "outputs": [
        {
          "output_type": "display_data",
          "data": {
            "text/plain": [
              "<Figure size 720x360 with 2 Axes>"
            ],
            "image/png": "[encoded data removed]"
          },
          "metadata": {
            "needs_background": "light"
          }
        },
        {
          "output_type": "execute_result",
          "data": {
            "text/plain": [
              "churned\n",
              "0   -0.010299\n",
              "1    0.299398\n",
              "Name: ts_last, dtype: float64"
            ]
          },
          "metadata": {},
          "execution_count": 43
        }
      ]
    },
    {
      "cell_type": "code",
      "source": [
        "# Visualizing a logistic relationship\n",
        "sns.regplot(data=churn,x='ts_last',y='churned',logistic=True,ci=None)"
      ],
      "metadata": {
        "colab": {
          "base_uri": "https://localhost:8080/",
          "height": 297
        },
        "id": "zGk6XUazXNFI",
        "outputId": "443017c6-826d-44d1-d382-005333cfaa1e"
      },
      "execution_count": 44,
      "outputs": [
        {
          "output_type": "execute_result",
          "data": {
            "text/plain": [
              "<matplotlib.axes._subplots.AxesSubplot at 0x7f76125da7f0>"
            ]
          },
          "metadata": {},
          "execution_count": 44
        },
        {
          "output_type": "display_data",
          "data": {
            "text/plain": [
              "<Figure size 432x288 with 1 Axes>"
            ],
            "image/png": "[encoded data removed]"
          },
          "metadata": {
            "needs_background": "light"
          }
        }
      ]
    },
    {
      "cell_type": "markdown",
      "source": [
        "### Predictions for Logistic regression\n",
        "* You can create predictions on explnatory data in a way that is similar to linear regression\n",
        "* Odds ratio-: p/(1-p)\n",
        "* Confusion matrix used to assess the performance of logistic regression models"
      ],
      "metadata": {
        "id": "NiXlanrKZ0xI"
      }
    },
    {
      "cell_type": "code",
      "source": [
        "from statsmodels.formula.api import logit"
      ],
      "metadata": {
        "id": "OyvHzQyRfLWC"
      },
      "execution_count": 46,
      "outputs": []
    },
    {
      "cell_type": "code",
      "source": [
        "# Running a logit and getting fitted values and result\n",
        "model=logit('churned~ts_first',data=churn).fit()"
      ],
      "metadata": {
        "colab": {
          "base_uri": "https://localhost:8080/"
        },
        "id": "vCu9g_f-Zz5H",
        "outputId": "454c5fad-c0fa-4848-a646-28b8cdbba000"
      },
      "execution_count": 50,
      "outputs": [
        {
          "output_type": "stream",
          "name": "stdout",
          "text": [
            "Optimization terminated successfully.\n",
            "         Current function value: 0.679663\n",
            "         Iterations 4\n"
          ]
        }
      ]
    },
    {
      "cell_type": "code",
      "source": [
        "model.params"
      ],
      "metadata": {
        "colab": {
          "base_uri": "https://localhost:8080/"
        },
        "id": "RNSPIC9mfSeb",
        "outputId": "6bb13a77-aa72-4706-ec31-d7c286768dd1"
      },
      "execution_count": 52,
      "outputs": [
        {
          "output_type": "execute_result",
          "data": {
            "text/plain": [
              "Intercept   -0.015185\n",
              "ts_first    -0.354795\n",
              "dtype: float64"
            ]
          },
          "metadata": {},
          "execution_count": 52
        }
      ]
    },
    {
      "cell_type": "code",
      "source": [
        "churn['predi_prob']=model.predict(churn)"
      ],
      "metadata": {
        "id": "atH1W4y1fVrJ"
      },
      "execution_count": 56,
      "outputs": []
    },
    {
      "cell_type": "code",
      "source": [
        "churn['prediction']=np.round(churn.predi_prob)"
      ],
      "metadata": {
        "id": "GAvmhoWgg4Ic"
      },
      "execution_count": 60,
      "outputs": []
    },
    {
      "cell_type": "code",
      "source": [
        "churn.sample(5)"
      ],
      "metadata": {
        "colab": {
          "base_uri": "https://localhost:8080/",
          "height": 206
        },
        "id": "4YQ6Zf7qhOBd",
        "outputId": "397a4c57-74da-4d4b-baac-0ffec0216fc7"
      },
      "execution_count": 63,
      "outputs": [
        {
          "output_type": "execute_result",
          "data": {
            "text/plain": [
              "     churned  ts_first   ts_last  predi_prob  prediction\n",
              "73         0  0.710807  0.036955    0.433552         0.0\n",
              "318        1  0.414179  2.225147    0.459555         0.0\n",
              "286        1 -1.023504 -0.410255    0.586120         1.0\n",
              "241        1  0.587925  1.028737    0.444288         0.0\n",
              "86         0  3.177013 -0.718021    0.241885         0.0"
            ],
            "text/html": [
              "\n",
              "  <div id=\"df-4167bc29-1ff5-4110-ae1e-756aad34ca22\">\n",
              "    <div class=\"colab-df-container\">\n",
              "      <div>\n",
              "<style scoped>\n",
              "    .dataframe tbody tr th:only-of-type {\n",
              "        vertical-align: middle;\n",
              "    }\n",
              "\n",
              "    .dataframe tbody tr th {\n",
              "        vertical-align: top;\n",
              "    }\n",
              "\n",
              "    .dataframe thead th {\n",
              "        text-align: right;\n",
              "    }\n",
              "</style>\n",
              "<table border=\"1\" class=\"dataframe\">\n",
              "  <thead>\n",
              "    <tr style=\"text-align: right;\">\n",
              "      <th></th>\n",
              "      <th>churned</th>\n",
              "      <th>ts_first</th>\n",
              "      <th>ts_last</th>\n",
              "      <th>predi_prob</th>\n",
              "      <th>prediction</th>\n",
              "    </tr>\n",
              "  </thead>\n",
              "  <tbody>\n",
              "    <tr>\n",
              "      <th>73</th>\n",
              "      <td>0</td>\n",
              "      <td>0.710807</td>\n",
              "      <td>0.036955</td>\n",
              "      <td>0.433552</td>\n",
              "      <td>0.0</td>\n",
              "    </tr>\n",
              "    <tr>\n",
              "      <th>318</th>\n",
              "      <td>1</td>\n",
              "      <td>0.414179</td>\n",
              "      <td>2.225147</td>\n",
              "      <td>0.459555</td>\n",
              "      <td>0.0</td>\n",
              "    </tr>\n",
              "    <tr>\n",
              "      <th>286</th>\n",
              "      <td>1</td>\n",
              "      <td>-1.023504</td>\n",
              "      <td>-0.410255</td>\n",
              "      <td>0.586120</td>\n",
              "      <td>1.0</td>\n",
              "    </tr>\n",
              "    <tr>\n",
              "      <th>241</th>\n",
              "      <td>1</td>\n",
              "      <td>0.587925</td>\n",
              "      <td>1.028737</td>\n",
              "      <td>0.444288</td>\n",
              "      <td>0.0</td>\n",
              "    </tr>\n",
              "    <tr>\n",
              "      <th>86</th>\n",
              "      <td>0</td>\n",
              "      <td>3.177013</td>\n",
              "      <td>-0.718021</td>\n",
              "      <td>0.241885</td>\n",
              "      <td>0.0</td>\n",
              "    </tr>\n",
              "  </tbody>\n",
              "</table>\n",
              "</div>\n",
              "      <button class=\"colab-df-convert\" onclick=\"convertToInteractive('df-4167bc29-1ff5-4110-ae1e-756aad34ca22')\"\n",
              "              title=\"Convert this dataframe to an interactive table.\"\n",
              "              style=\"display:none;\">\n",
              "        \n",
              "  <svg xmlns=\"http://www.w3.org/2000/svg\" height=\"24px\"viewBox=\"0 0 24 24\"\n",
              "       width=\"24px\">\n",
              "    <path d=\"M0 0h24v24H0V0z\" fill=\"none\"/>\n",
              "    <path d=\"M18.56 5.44l.94 2.06.94-2.06 2.06-.94-2.06-.94-.94-2.06-.94 2.06-2.06.94zm-11 1L8.5 8.5l.94-2.06 2.06-.94-2.06-.94L8.5 2.5l-.94 2.06-2.06.94zm10 10l.94 2.06.94-2.06 2.06-.94-2.06-.94-.94-2.06-.94 2.06-2.06.94z\"/><path d=\"M17.41 7.96l-1.37-1.37c-.4-.4-.92-.59-1.43-.59-.52 0-1.04.2-1.43.59L10.3 9.45l-7.72 7.72c-.78.78-.78 2.05 0 2.83L4 21.41c.39.39.9.59 1.41.59.51 0 1.02-.2 1.41-.59l7.78-7.78 2.81-2.81c.8-.78.8-2.07 0-2.86zM5.41 20L4 18.59l7.72-7.72 1.47 1.35L5.41 20z\"/>\n",
              "  </svg>\n",
              "      </button>\n",
              "      \n",
              "  <style>\n",
              "    .colab-df-container {\n",
              "      display:flex;\n",
              "      flex-wrap:wrap;\n",
              "      gap: 12px;\n",
              "    }\n",
              "\n",
              "    .colab-df-convert {\n",
              "      background-color: #E8F0FE;\n",
              "      border: none;\n",
              "      border-radius: 50%;\n",
              "      cursor: pointer;\n",
              "      display: none;\n",
              "      fill: #1967D2;\n",
              "      height: 32px;\n",
              "      padding: 0 0 0 0;\n",
              "      width: 32px;\n",
              "    }\n",
              "\n",
              "    .colab-df-convert:hover {\n",
              "      background-color: #E2EBFA;\n",
              "      box-shadow: 0px 1px 2px rgba(60, 64, 67, 0.3), 0px 1px 3px 1px rgba(60, 64, 67, 0.15);\n",
              "      fill: #174EA6;\n",
              "    }\n",
              "\n",
              "    [theme=dark] .colab-df-convert {\n",
              "      background-color: #3B4455;\n",
              "      fill: #D2E3FC;\n",
              "    }\n",
              "\n",
              "    [theme=dark] .colab-df-convert:hover {\n",
              "      background-color: #434B5C;\n",
              "      box-shadow: 0px 1px 3px 1px rgba(0, 0, 0, 0.15);\n",
              "      filter: drop-shadow(0px 1px 2px rgba(0, 0, 0, 0.3));\n",
              "      fill: #FFFFFF;\n",
              "    }\n",
              "  </style>\n",
              "\n",
              "      <script>\n",
              "        const buttonEl =\n",
              "          document.querySelector('#df-4167bc29-1ff5-4110-ae1e-756aad34ca22 button.colab-df-convert');\n",
              "        buttonEl.style.display =\n",
              "          google.colab.kernel.accessAllowed ? 'block' : 'none';\n",
              "\n",
              "        async function convertToInteractive(key) {\n",
              "          const element = document.querySelector('#df-4167bc29-1ff5-4110-ae1e-756aad34ca22');\n",
              "          const dataTable =\n",
              "            await google.colab.kernel.invokeFunction('convertToInteractive',\n",
              "                                                     [key], {});\n",
              "          if (!dataTable) return;\n",
              "\n",
              "          const docLinkHtml = 'Like what you see? Visit the ' +\n",
              "            '<a target=\"_blank\" href=https://colab.research.google.com/notebooks/data_table.ipynb>data table notebook</a>'\n",
              "            + ' to learn more about interactive tables.';\n",
              "          element.innerHTML = '';\n",
              "          dataTable['output_type'] = 'display_data';\n",
              "          await google.colab.output.renderOutput(dataTable, element);\n",
              "          const docLink = document.createElement('div');\n",
              "          docLink.innerHTML = docLinkHtml;\n",
              "          element.appendChild(docLink);\n",
              "        }\n",
              "      </script>\n",
              "    </div>\n",
              "  </div>\n",
              "  "
            ]
          },
          "metadata": {},
          "execution_count": 63
        }
      ]
    },
    {
      "cell_type": "code",
      "source": [
        "outcomes=pd.DataFrame({'actual':churn.churned,'prediction':churn.prediction})"
      ],
      "metadata": {
        "id": "TQp2pVg9h_DT"
      },
      "execution_count": 65,
      "outputs": []
    },
    {
      "cell_type": "code",
      "source": [
        "outcomes.value_counts(sort=False).unstack()"
      ],
      "metadata": {
        "colab": {
          "base_uri": "https://localhost:8080/",
          "height": 143
        },
        "id": "lXjbyR1YiSqT",
        "outputId": "24c5657c-a110-4266-b237-386c9f1b9644"
      },
      "execution_count": 69,
      "outputs": [
        {
          "output_type": "execute_result",
          "data": {
            "text/plain": [
              "prediction  0.0  1.0\n",
              "actual              \n",
              "0           112   88\n",
              "1            76  124"
            ],
            "text/html": [
              "\n",
              "  <div id=\"df-e224a9a1-6c1a-4b45-b3ff-1e9a68fc0d24\">\n",
              "    <div class=\"colab-df-container\">\n",
              "      <div>\n",
              "<style scoped>\n",
              "    .dataframe tbody tr th:only-of-type {\n",
              "        vertical-align: middle;\n",
              "    }\n",
              "\n",
              "    .dataframe tbody tr th {\n",
              "        vertical-align: top;\n",
              "    }\n",
              "\n",
              "    .dataframe thead th {\n",
              "        text-align: right;\n",
              "    }\n",
              "</style>\n",
              "<table border=\"1\" class=\"dataframe\">\n",
              "  <thead>\n",
              "    <tr style=\"text-align: right;\">\n",
              "      <th>prediction</th>\n",
              "      <th>0.0</th>\n",
              "      <th>1.0</th>\n",
              "    </tr>\n",
              "    <tr>\n",
              "      <th>actual</th>\n",
              "      <th></th>\n",
              "      <th></th>\n",
              "    </tr>\n",
              "  </thead>\n",
              "  <tbody>\n",
              "    <tr>\n",
              "      <th>0</th>\n",
              "      <td>112</td>\n",
              "      <td>88</td>\n",
              "    </tr>\n",
              "    <tr>\n",
              "      <th>1</th>\n",
              "      <td>76</td>\n",
              "      <td>124</td>\n",
              "    </tr>\n",
              "  </tbody>\n",
              "</table>\n",
              "</div>\n",
              "      <button class=\"colab-df-convert\" onclick=\"convertToInteractive('df-e224a9a1-6c1a-4b45-b3ff-1e9a68fc0d24')\"\n",
              "              title=\"Convert this dataframe to an interactive table.\"\n",
              "              style=\"display:none;\">\n",
              "        \n",
              "  <svg xmlns=\"http://www.w3.org/2000/svg\" height=\"24px\"viewBox=\"0 0 24 24\"\n",
              "       width=\"24px\">\n",
              "    <path d=\"M0 0h24v24H0V0z\" fill=\"none\"/>\n",
              "    <path d=\"M18.56 5.44l.94 2.06.94-2.06 2.06-.94-2.06-.94-.94-2.06-.94 2.06-2.06.94zm-11 1L8.5 8.5l.94-2.06 2.06-.94-2.06-.94L8.5 2.5l-.94 2.06-2.06.94zm10 10l.94 2.06.94-2.06 2.06-.94-2.06-.94-.94-2.06-.94 2.06-2.06.94z\"/><path d=\"M17.41 7.96l-1.37-1.37c-.4-.4-.92-.59-1.43-.59-.52 0-1.04.2-1.43.59L10.3 9.45l-7.72 7.72c-.78.78-.78 2.05 0 2.83L4 21.41c.39.39.9.59 1.41.59.51 0 1.02-.2 1.41-.59l7.78-7.78 2.81-2.81c.8-.78.8-2.07 0-2.86zM5.41 20L4 18.59l7.72-7.72 1.47 1.35L5.41 20z\"/>\n",
              "  </svg>\n",
              "      </button>\n",
              "      \n",
              "  <style>\n",
              "    .colab-df-container {\n",
              "      display:flex;\n",
              "      flex-wrap:wrap;\n",
              "      gap: 12px;\n",
              "    }\n",
              "\n",
              "    .colab-df-convert {\n",
              "      background-color: #E8F0FE;\n",
              "      border: none;\n",
              "      border-radius: 50%;\n",
              "      cursor: pointer;\n",
              "      display: none;\n",
              "      fill: #1967D2;\n",
              "      height: 32px;\n",
              "      padding: 0 0 0 0;\n",
              "      width: 32px;\n",
              "    }\n",
              "\n",
              "    .colab-df-convert:hover {\n",
              "      background-color: #E2EBFA;\n",
              "      box-shadow: 0px 1px 2px rgba(60, 64, 67, 0.3), 0px 1px 3px 1px rgba(60, 64, 67, 0.15);\n",
              "      fill: #174EA6;\n",
              "    }\n",
              "\n",
              "    [theme=dark] .colab-df-convert {\n",
              "      background-color: #3B4455;\n",
              "      fill: #D2E3FC;\n",
              "    }\n",
              "\n",
              "    [theme=dark] .colab-df-convert:hover {\n",
              "      background-color: #434B5C;\n",
              "      box-shadow: 0px 1px 3px 1px rgba(0, 0, 0, 0.15);\n",
              "      filter: drop-shadow(0px 1px 2px rgba(0, 0, 0, 0.3));\n",
              "      fill: #FFFFFF;\n",
              "    }\n",
              "  </style>\n",
              "\n",
              "      <script>\n",
              "        const buttonEl =\n",
              "          document.querySelector('#df-e224a9a1-6c1a-4b45-b3ff-1e9a68fc0d24 button.colab-df-convert');\n",
              "        buttonEl.style.display =\n",
              "          google.colab.kernel.accessAllowed ? 'block' : 'none';\n",
              "\n",
              "        async function convertToInteractive(key) {\n",
              "          const element = document.querySelector('#df-e224a9a1-6c1a-4b45-b3ff-1e9a68fc0d24');\n",
              "          const dataTable =\n",
              "            await google.colab.kernel.invokeFunction('convertToInteractive',\n",
              "                                                     [key], {});\n",
              "          if (!dataTable) return;\n",
              "\n",
              "          const docLinkHtml = 'Like what you see? Visit the ' +\n",
              "            '<a target=\"_blank\" href=https://colab.research.google.com/notebooks/data_table.ipynb>data table notebook</a>'\n",
              "            + ' to learn more about interactive tables.';\n",
              "          element.innerHTML = '';\n",
              "          dataTable['output_type'] = 'display_data';\n",
              "          await google.colab.output.renderOutput(dataTable, element);\n",
              "          const docLink = document.createElement('div');\n",
              "          docLink.innerHTML = docLinkHtml;\n",
              "          element.appendChild(docLink);\n",
              "        }\n",
              "      </script>\n",
              "    </div>\n",
              "  </div>\n",
              "  "
            ]
          },
          "metadata": {},
          "execution_count": 69
        }
      ]
    },
    {
      "cell_type": "code",
      "source": [
        "conf_mat=model.pred_table()"
      ],
      "metadata": {
        "id": "T6OKdKPBiuoH"
      },
      "execution_count": 71,
      "outputs": []
    },
    {
      "cell_type": "code",
      "source": [
        "accuracy=(conf_mat[0,0]+conf_mat[1,1])/conf_mat.sum()\n",
        "print('Accuracy is: ',accuracy)"
      ],
      "metadata": {
        "colab": {
          "base_uri": "https://localhost:8080/"
        },
        "id": "K_N5vRPhkbtQ",
        "outputId": "cf4d8c23-0e52-44c8-eada-202c3d42c594"
      },
      "execution_count": 77,
      "outputs": [
        {
          "output_type": "stream",
          "name": "stdout",
          "text": [
            "Accuracy is:  0.59\n"
          ]
        }
      ]
    },
    {
      "cell_type": "code",
      "source": [
        "TN=conf_mat[0,0]\n",
        "TP=conf_mat[1,1]\n",
        "FN=conf_mat[1,0]\n",
        "FP=conf_mat[0,1]"
      ],
      "metadata": {
        "id": "r9R4bBVknlWc"
      },
      "execution_count": 78,
      "outputs": []
    }
  ]
}