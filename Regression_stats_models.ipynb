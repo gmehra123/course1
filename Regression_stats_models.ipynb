{
  "nbformat": 4,
  "nbformat_minor": 0,
  "metadata": {
    "colab": {
      "provenance": [],
      "authorship_tag": "ABX9TyOzV+Llj9gwxIovp+pEuRz7",
      "include_colab_link": true
    },
    "kernelspec": {
      "name": "python3",
      "display_name": "Python 3"
    },
    "language_info": {
      "name": "python"
    }
  },
  "cells": [
    {
      "cell_type": "markdown",
      "metadata": {
        "id": "view-in-github",
        "colab_type": "text"
      },
      "source": [
        "<a href=\"https://colab.research.google.com/github/gmehra123/course1/blob/master/Regression_stats_models.ipynb\" target=\"_parent\"><img src=\"https://colab.research.google.com/assets/colab-badge.svg\" alt=\"Open In Colab\"/></a>"
      ]
    },
    {
      "cell_type": "markdown",
      "source": [
        "# Regression"
      ],
      "metadata": {
        "id": "aA1Y8kk0Cl-8"
      }
    },
    {
      "cell_type": "markdown",
      "source": [
        "### Introduction\n",
        "* Statstical tool to analyze the relationship between 2 variables.\n",
        "* Regression models allow for exploration of relationship between a response variable and an explanatory variable.\n",
        "* Can predict response variables given explanatory variables\n",
        "* *Linear regression* is used when the reponse variable is continous\n",
        "* *Logistic Regression* is used when the response variable is yes or no.\n",
        "* *Statsmodels* is a library more optimized for insights\n",
        "* *scikit-learn* is a library more optimized for prediction"
      ],
      "metadata": {
        "id": "NIXo7SqcCtp9"
      }
    },
    {
      "cell_type": "code",
      "execution_count": 1,
      "metadata": {
        "id": "J6MmZuNRCjJh"
      },
      "outputs": [],
      "source": [
        "import pandas as pd\n",
        "import matplotlib.pyplot as plt\n",
        "import seaborn as sns"
      ]
    },
    {
      "cell_type": "code",
      "source": [
        "tai=pd.read_csv('https://assets.datacamp.com/production/repositories/5857/datasets/4c29a50214b5b3232b2b99eee35cdde2f588dfac/taiwan_real_estate2.csv')"
      ],
      "metadata": {
        "id": "g5hy81BOj6nJ"
      },
      "execution_count": 2,
      "outputs": []
    },
    {
      "cell_type": "code",
      "source": [
        "tai.head()"
      ],
      "metadata": {
        "colab": {
          "base_uri": "https://localhost:8080/",
          "height": 206
        },
        "id": "t-wY6rd0kJAi",
        "outputId": "8f0709e3-5d09-48ca-8838-16b827b829af"
      },
      "execution_count": 3,
      "outputs": [
        {
          "output_type": "execute_result",
          "data": {
            "text/plain": [
              "   dist_to_mrt_m  n_convenience house_age_years  price_twd_msq\n",
              "0       84.87882             10        30 to 45      11.467474\n",
              "1      306.59470              9        15 to 30      12.768533\n",
              "2      561.98450              5         0 to 15      14.311649\n",
              "3      561.98450              5         0 to 15      16.580938\n",
              "4      390.56840              5         0 to 15      13.040847"
            ],
            "text/html": [
              "\n",
              "  <div id=\"df-73b9d898-fdf1-4f24-a683-70ddbf4263a9\">\n",
              "    <div class=\"colab-df-container\">\n",
              "      <div>\n",
              "<style scoped>\n",
              "    .dataframe tbody tr th:only-of-type {\n",
              "        vertical-align: middle;\n",
              "    }\n",
              "\n",
              "    .dataframe tbody tr th {\n",
              "        vertical-align: top;\n",
              "    }\n",
              "\n",
              "    .dataframe thead th {\n",
              "        text-align: right;\n",
              "    }\n",
              "</style>\n",
              "<table border=\"1\" class=\"dataframe\">\n",
              "  <thead>\n",
              "    <tr style=\"text-align: right;\">\n",
              "      <th></th>\n",
              "      <th>dist_to_mrt_m</th>\n",
              "      <th>n_convenience</th>\n",
              "      <th>house_age_years</th>\n",
              "      <th>price_twd_msq</th>\n",
              "    </tr>\n",
              "  </thead>\n",
              "  <tbody>\n",
              "    <tr>\n",
              "      <th>0</th>\n",
              "      <td>84.87882</td>\n",
              "      <td>10</td>\n",
              "      <td>30 to 45</td>\n",
              "      <td>11.467474</td>\n",
              "    </tr>\n",
              "    <tr>\n",
              "      <th>1</th>\n",
              "      <td>306.59470</td>\n",
              "      <td>9</td>\n",
              "      <td>15 to 30</td>\n",
              "      <td>12.768533</td>\n",
              "    </tr>\n",
              "    <tr>\n",
              "      <th>2</th>\n",
              "      <td>561.98450</td>\n",
              "      <td>5</td>\n",
              "      <td>0 to 15</td>\n",
              "      <td>14.311649</td>\n",
              "    </tr>\n",
              "    <tr>\n",
              "      <th>3</th>\n",
              "      <td>561.98450</td>\n",
              "      <td>5</td>\n",
              "      <td>0 to 15</td>\n",
              "      <td>16.580938</td>\n",
              "    </tr>\n",
              "    <tr>\n",
              "      <th>4</th>\n",
              "      <td>390.56840</td>\n",
              "      <td>5</td>\n",
              "      <td>0 to 15</td>\n",
              "      <td>13.040847</td>\n",
              "    </tr>\n",
              "  </tbody>\n",
              "</table>\n",
              "</div>\n",
              "      <button class=\"colab-df-convert\" onclick=\"convertToInteractive('df-73b9d898-fdf1-4f24-a683-70ddbf4263a9')\"\n",
              "              title=\"Convert this dataframe to an interactive table.\"\n",
              "              style=\"display:none;\">\n",
              "        \n",
              "  <svg xmlns=\"http://www.w3.org/2000/svg\" height=\"24px\"viewBox=\"0 0 24 24\"\n",
              "       width=\"24px\">\n",
              "    <path d=\"M0 0h24v24H0V0z\" fill=\"none\"/>\n",
              "    <path d=\"M18.56 5.44l.94 2.06.94-2.06 2.06-.94-2.06-.94-.94-2.06-.94 2.06-2.06.94zm-11 1L8.5 8.5l.94-2.06 2.06-.94-2.06-.94L8.5 2.5l-.94 2.06-2.06.94zm10 10l.94 2.06.94-2.06 2.06-.94-2.06-.94-.94-2.06-.94 2.06-2.06.94z\"/><path d=\"M17.41 7.96l-1.37-1.37c-.4-.4-.92-.59-1.43-.59-.52 0-1.04.2-1.43.59L10.3 9.45l-7.72 7.72c-.78.78-.78 2.05 0 2.83L4 21.41c.39.39.9.59 1.41.59.51 0 1.02-.2 1.41-.59l7.78-7.78 2.81-2.81c.8-.78.8-2.07 0-2.86zM5.41 20L4 18.59l7.72-7.72 1.47 1.35L5.41 20z\"/>\n",
              "  </svg>\n",
              "      </button>\n",
              "      \n",
              "  <style>\n",
              "    .colab-df-container {\n",
              "      display:flex;\n",
              "      flex-wrap:wrap;\n",
              "      gap: 12px;\n",
              "    }\n",
              "\n",
              "    .colab-df-convert {\n",
              "      background-color: #E8F0FE;\n",
              "      border: none;\n",
              "      border-radius: 50%;\n",
              "      cursor: pointer;\n",
              "      display: none;\n",
              "      fill: #1967D2;\n",
              "      height: 32px;\n",
              "      padding: 0 0 0 0;\n",
              "      width: 32px;\n",
              "    }\n",
              "\n",
              "    .colab-df-convert:hover {\n",
              "      background-color: #E2EBFA;\n",
              "      box-shadow: 0px 1px 2px rgba(60, 64, 67, 0.3), 0px 1px 3px 1px rgba(60, 64, 67, 0.15);\n",
              "      fill: #174EA6;\n",
              "    }\n",
              "\n",
              "    [theme=dark] .colab-df-convert {\n",
              "      background-color: #3B4455;\n",
              "      fill: #D2E3FC;\n",
              "    }\n",
              "\n",
              "    [theme=dark] .colab-df-convert:hover {\n",
              "      background-color: #434B5C;\n",
              "      box-shadow: 0px 1px 3px 1px rgba(0, 0, 0, 0.15);\n",
              "      filter: drop-shadow(0px 1px 2px rgba(0, 0, 0, 0.3));\n",
              "      fill: #FFFFFF;\n",
              "    }\n",
              "  </style>\n",
              "\n",
              "      <script>\n",
              "        const buttonEl =\n",
              "          document.querySelector('#df-73b9d898-fdf1-4f24-a683-70ddbf4263a9 button.colab-df-convert');\n",
              "        buttonEl.style.display =\n",
              "          google.colab.kernel.accessAllowed ? 'block' : 'none';\n",
              "\n",
              "        async function convertToInteractive(key) {\n",
              "          const element = document.querySelector('#df-73b9d898-fdf1-4f24-a683-70ddbf4263a9');\n",
              "          const dataTable =\n",
              "            await google.colab.kernel.invokeFunction('convertToInteractive',\n",
              "                                                     [key], {});\n",
              "          if (!dataTable) return;\n",
              "\n",
              "          const docLinkHtml = 'Like what you see? Visit the ' +\n",
              "            '<a target=\"_blank\" href=https://colab.research.google.com/notebooks/data_table.ipynb>data table notebook</a>'\n",
              "            + ' to learn more about interactive tables.';\n",
              "          element.innerHTML = '';\n",
              "          dataTable['output_type'] = 'display_data';\n",
              "          await google.colab.output.renderOutput(dataTable, element);\n",
              "          const docLink = document.createElement('div');\n",
              "          docLink.innerHTML = docLinkHtml;\n",
              "          element.appendChild(docLink);\n",
              "        }\n",
              "      </script>\n",
              "    </div>\n",
              "  </div>\n",
              "  "
            ]
          },
          "metadata": {},
          "execution_count": 3
        }
      ]
    },
    {
      "cell_type": "code",
      "source": [
        "# understanding relation ship between price and dist to mrt\n",
        "fig,ax=plt.subplots()\n",
        "sns.scatterplot(x='dist_to_mrt_m',y='price_twd_msq',data=tai)\n",
        "fig.set_size_inches([9,6])"
      ],
      "metadata": {
        "colab": {
          "base_uri": "https://localhost:8080/",
          "height": 389
        },
        "id": "8nmE0Jo7kRbW",
        "outputId": "86b45185-0fd6-4263-81f5-d0419e586f93"
      },
      "execution_count": 4,
      "outputs": [
        {
          "output_type": "display_data",
          "data": {
            "text/plain": [
              "<Figure size 648x432 with 1 Axes>"
            ],
            "image/png": "[encoded data removed]"
          },
          "metadata": {
            "needs_background": "light"
          }
        }
      ]
    },
    {
      "cell_type": "markdown",
      "source": [
        "### Fitting a regression\n",
        "* Linear Regression defined by 2 parameters, the slope and the intercept\n",
        "* Slope is constant for a line (change in y)/(change in x)\n"
      ],
      "metadata": {
        "id": "oWkhEKXDlcaM"
      }
    },
    {
      "cell_type": "code",
      "source": [
        "from statsmodels.formula.api import ols\n",
        "model=ols('dist_to_mrt_m~price_twd_msq',data=tai)\n",
        "model1=model.fit()\n",
        "model1.params"
      ],
      "metadata": {
        "colab": {
          "base_uri": "https://localhost:8080/"
        },
        "id": "Fibh7cpEnRCv",
        "outputId": "52dcb948-cf55-402c-ddfb-958e7cbffe86"
      },
      "execution_count": 7,
      "outputs": [
        {
          "output_type": "execute_result",
          "data": {
            "text/plain": [
              "Intercept        3456.999528\n",
              "price_twd_msq    -206.506091\n",
              "dtype: float64"
            ]
          },
          "metadata": {},
          "execution_count": 7
        }
      ]
    },
    {
      "cell_type": "code",
      "source": [
        "# Visualize the relationship between house age years and price\n",
        "sns.displot(data=tai,x='price_twd_msq',col='house_age_years',bins=10)"
      ],
      "metadata": {
        "colab": {
          "base_uri": "https://localhost:8080/",
          "height": 386
        },
        "id": "ipDKpGSbphAX",
        "outputId": "707f4950-fcd6-42dc-e437-35d16555a941"
      },
      "execution_count": 8,
      "outputs": [
        {
          "output_type": "execute_result",
          "data": {
            "text/plain": [
              "<seaborn.axisgrid.FacetGrid at 0x7f4759e08040>"
            ]
          },
          "metadata": {},
          "execution_count": 8
        },
        {
          "output_type": "display_data",
          "data": {
            "text/plain": [
              "<Figure size 1080x360 with 3 Axes>"
            ],
            "image/png": "[encoded data removed]"
          },
          "metadata": {
            "needs_background": "light"
          }
        }
      ]
    },
    {
      "cell_type": "code",
      "source": [
        "# Fitting a model with categorical variable\n",
        "model=ols('price_twd_msq~house_age_years+0',data=tai).fit()\n",
        "model.params"
      ],
      "metadata": {
        "colab": {
          "base_uri": "https://localhost:8080/"
        },
        "id": "PUax_aIGr5l9",
        "outputId": "488548ce-c6b2-4b1c-9e0c-96d46c4ec205"
      },
      "execution_count": 9,
      "outputs": [
        {
          "output_type": "execute_result",
          "data": {
            "text/plain": [
              "house_age_years[0 to 15]     12.637471\n",
              "house_age_years[15 to 30]     9.876743\n",
              "house_age_years[30 to 45]    11.393264\n",
              "dtype: float64"
            ]
          },
          "metadata": {},
          "execution_count": 9
        }
      ]
    },
    {
      "cell_type": "code",
      "source": [
        "model=ols('price_twd_msq~dist_to_mrt_m',data=tai).fit()\n",
        "model.params"
      ],
      "metadata": {
        "colab": {
          "base_uri": "https://localhost:8080/"
        },
        "id": "IJriGzGHwi4U",
        "outputId": "2012d3f2-654a-41fd-9451-59c2f35135bf"
      },
      "execution_count": 10,
      "outputs": [
        {
          "output_type": "execute_result",
          "data": {
            "text/plain": [
              "Intercept        13.873352\n",
              "dist_to_mrt_m    -0.002197\n",
              "dtype: float64"
            ]
          },
          "metadata": {},
          "execution_count": 10
        }
      ]
    },
    {
      "cell_type": "code",
      "source": [
        "tai['predictions']=model.fittedvalues"
      ],
      "metadata": {
        "id": "ne62PqUsxWJK"
      },
      "execution_count": 11,
      "outputs": []
    },
    {
      "cell_type": "code",
      "source": [
        "tai['resid']=model.resid"
      ],
      "metadata": {
        "id": "Kl69-x-6xjAt"
      },
      "execution_count": 12,
      "outputs": []
    },
    {
      "cell_type": "code",
      "source": [
        "tai.sample(5)"
      ],
      "metadata": {
        "colab": {
          "base_uri": "https://localhost:8080/",
          "height": 206
        },
        "id": "Jhf9Q3znxv7f",
        "outputId": "3fdbedd0-a74c-40c7-bc09-37962dad71bf"
      },
      "execution_count": 13,
      "outputs": [
        {
          "output_type": "execute_result",
          "data": {
            "text/plain": [
              "     dist_to_mrt_m  n_convenience house_age_years  price_twd_msq  predictions  \\\n",
              "387     2103.55500              3        15 to 30       7.745840     9.251226   \n",
              "354     1360.13900              1         0 to 15       9.107413    10.884728   \n",
              "384     4066.58700              0        15 to 30       3.903177     4.937871   \n",
              "286       90.45606              9         0 to 15      17.034796    13.674593   \n",
              "304     1626.08300              3        15 to 30       8.895613    10.300372   \n",
              "\n",
              "        resid  \n",
              "387 -1.505386  \n",
              "354 -1.777315  \n",
              "384 -1.034694  \n",
              "286  3.360203  \n",
              "304 -1.404759  "
            ],
            "text/html": [
              "\n",
              "  <div id=\"df-79b981da-8b7a-4a61-97e5-cc72f4244acc\">\n",
              "    <div class=\"colab-df-container\">\n",
              "      <div>\n",
              "<style scoped>\n",
              "    .dataframe tbody tr th:only-of-type {\n",
              "        vertical-align: middle;\n",
              "    }\n",
              "\n",
              "    .dataframe tbody tr th {\n",
              "        vertical-align: top;\n",
              "    }\n",
              "\n",
              "    .dataframe thead th {\n",
              "        text-align: right;\n",
              "    }\n",
              "</style>\n",
              "<table border=\"1\" class=\"dataframe\">\n",
              "  <thead>\n",
              "    <tr style=\"text-align: right;\">\n",
              "      <th></th>\n",
              "      <th>dist_to_mrt_m</th>\n",
              "      <th>n_convenience</th>\n",
              "      <th>house_age_years</th>\n",
              "      <th>price_twd_msq</th>\n",
              "      <th>predictions</th>\n",
              "      <th>resid</th>\n",
              "    </tr>\n",
              "  </thead>\n",
              "  <tbody>\n",
              "    <tr>\n",
              "      <th>387</th>\n",
              "      <td>2103.55500</td>\n",
              "      <td>3</td>\n",
              "      <td>15 to 30</td>\n",
              "      <td>7.745840</td>\n",
              "      <td>9.251226</td>\n",
              "      <td>-1.505386</td>\n",
              "    </tr>\n",
              "    <tr>\n",
              "      <th>354</th>\n",
              "      <td>1360.13900</td>\n",
              "      <td>1</td>\n",
              "      <td>0 to 15</td>\n",
              "      <td>9.107413</td>\n",
              "      <td>10.884728</td>\n",
              "      <td>-1.777315</td>\n",
              "    </tr>\n",
              "    <tr>\n",
              "      <th>384</th>\n",
              "      <td>4066.58700</td>\n",
              "      <td>0</td>\n",
              "      <td>15 to 30</td>\n",
              "      <td>3.903177</td>\n",
              "      <td>4.937871</td>\n",
              "      <td>-1.034694</td>\n",
              "    </tr>\n",
              "    <tr>\n",
              "      <th>286</th>\n",
              "      <td>90.45606</td>\n",
              "      <td>9</td>\n",
              "      <td>0 to 15</td>\n",
              "      <td>17.034796</td>\n",
              "      <td>13.674593</td>\n",
              "      <td>3.360203</td>\n",
              "    </tr>\n",
              "    <tr>\n",
              "      <th>304</th>\n",
              "      <td>1626.08300</td>\n",
              "      <td>3</td>\n",
              "      <td>15 to 30</td>\n",
              "      <td>8.895613</td>\n",
              "      <td>10.300372</td>\n",
              "      <td>-1.404759</td>\n",
              "    </tr>\n",
              "  </tbody>\n",
              "</table>\n",
              "</div>\n",
              "      <button class=\"colab-df-convert\" onclick=\"convertToInteractive('df-79b981da-8b7a-4a61-97e5-cc72f4244acc')\"\n",
              "              title=\"Convert this dataframe to an interactive table.\"\n",
              "              style=\"display:none;\">\n",
              "        \n",
              "  <svg xmlns=\"http://www.w3.org/2000/svg\" height=\"24px\"viewBox=\"0 0 24 24\"\n",
              "       width=\"24px\">\n",
              "    <path d=\"M0 0h24v24H0V0z\" fill=\"none\"/>\n",
              "    <path d=\"M18.56 5.44l.94 2.06.94-2.06 2.06-.94-2.06-.94-.94-2.06-.94 2.06-2.06.94zm-11 1L8.5 8.5l.94-2.06 2.06-.94-2.06-.94L8.5 2.5l-.94 2.06-2.06.94zm10 10l.94 2.06.94-2.06 2.06-.94-2.06-.94-.94-2.06-.94 2.06-2.06.94z\"/><path d=\"M17.41 7.96l-1.37-1.37c-.4-.4-.92-.59-1.43-.59-.52 0-1.04.2-1.43.59L10.3 9.45l-7.72 7.72c-.78.78-.78 2.05 0 2.83L4 21.41c.39.39.9.59 1.41.59.51 0 1.02-.2 1.41-.59l7.78-7.78 2.81-2.81c.8-.78.8-2.07 0-2.86zM5.41 20L4 18.59l7.72-7.72 1.47 1.35L5.41 20z\"/>\n",
              "  </svg>\n",
              "      </button>\n",
              "      \n",
              "  <style>\n",
              "    .colab-df-container {\n",
              "      display:flex;\n",
              "      flex-wrap:wrap;\n",
              "      gap: 12px;\n",
              "    }\n",
              "\n",
              "    .colab-df-convert {\n",
              "      background-color: #E8F0FE;\n",
              "      border: none;\n",
              "      border-radius: 50%;\n",
              "      cursor: pointer;\n",
              "      display: none;\n",
              "      fill: #1967D2;\n",
              "      height: 32px;\n",
              "      padding: 0 0 0 0;\n",
              "      width: 32px;\n",
              "    }\n",
              "\n",
              "    .colab-df-convert:hover {\n",
              "      background-color: #E2EBFA;\n",
              "      box-shadow: 0px 1px 2px rgba(60, 64, 67, 0.3), 0px 1px 3px 1px rgba(60, 64, 67, 0.15);\n",
              "      fill: #174EA6;\n",
              "    }\n",
              "\n",
              "    [theme=dark] .colab-df-convert {\n",
              "      background-color: #3B4455;\n",
              "      fill: #D2E3FC;\n",
              "    }\n",
              "\n",
              "    [theme=dark] .colab-df-convert:hover {\n",
              "      background-color: #434B5C;\n",
              "      box-shadow: 0px 1px 3px 1px rgba(0, 0, 0, 0.15);\n",
              "      filter: drop-shadow(0px 1px 2px rgba(0, 0, 0, 0.3));\n",
              "      fill: #FFFFFF;\n",
              "    }\n",
              "  </style>\n",
              "\n",
              "      <script>\n",
              "        const buttonEl =\n",
              "          document.querySelector('#df-79b981da-8b7a-4a61-97e5-cc72f4244acc button.colab-df-convert');\n",
              "        buttonEl.style.display =\n",
              "          google.colab.kernel.accessAllowed ? 'block' : 'none';\n",
              "\n",
              "        async function convertToInteractive(key) {\n",
              "          const element = document.querySelector('#df-79b981da-8b7a-4a61-97e5-cc72f4244acc');\n",
              "          const dataTable =\n",
              "            await google.colab.kernel.invokeFunction('convertToInteractive',\n",
              "                                                     [key], {});\n",
              "          if (!dataTable) return;\n",
              "\n",
              "          const docLinkHtml = 'Like what you see? Visit the ' +\n",
              "            '<a target=\"_blank\" href=https://colab.research.google.com/notebooks/data_table.ipynb>data table notebook</a>'\n",
              "            + ' to learn more about interactive tables.';\n",
              "          element.innerHTML = '';\n",
              "          dataTable['output_type'] = 'display_data';\n",
              "          await google.colab.output.renderOutput(dataTable, element);\n",
              "          const docLink = document.createElement('div');\n",
              "          docLink.innerHTML = docLinkHtml;\n",
              "          element.appendChild(docLink);\n",
              "        }\n",
              "      </script>\n",
              "    </div>\n",
              "  </div>\n",
              "  "
            ]
          },
          "metadata": {},
          "execution_count": 13
        }
      ]
    },
    {
      "cell_type": "code",
      "source": [
        "print(model.summary())"
      ],
      "metadata": {
        "colab": {
          "base_uri": "https://localhost:8080/"
        },
        "id": "5-VxR5Z0x_iY",
        "outputId": "64f9b73d-6ead-4d3f-fbc3-d5cdf0a51274"
      },
      "execution_count": 14,
      "outputs": [
        {
          "output_type": "stream",
          "name": "stdout",
          "text": [
            "                            OLS Regression Results                            \n",
            "==============================================================================\n",
            "Dep. Variable:          price_twd_msq   R-squared:                       0.454\n",
            "Model:                            OLS   Adj. R-squared:                  0.452\n",
            "Method:                 Least Squares   F-statistic:                     342.2\n",
            "Date:                Sun, 11 Dec 2022   Prob (F-statistic):           4.64e-56\n",
            "Time:                        20:33:32   Log-Likelihood:                -1047.6\n",
            "No. Observations:                 414   AIC:                             2099.\n",
            "Df Residuals:                     412   BIC:                             2107.\n",
            "Df Model:                           1                                         \n",
            "Covariance Type:            nonrobust                                         \n",
            "=================================================================================\n",
            "                    coef    std err          t      P>|t|      [0.025      0.975]\n",
            "---------------------------------------------------------------------------------\n",
            "Intercept        13.8734      0.197     70.258      0.000      13.485      14.262\n",
            "dist_to_mrt_m    -0.0022      0.000    -18.500      0.000      -0.002      -0.002\n",
            "==============================================================================\n",
            "Omnibus:                      140.820   Durbin-Watson:                   2.151\n",
            "Prob(Omnibus):                  0.000   Jarque-Bera (JB):              988.283\n",
            "Skew:                           1.263   Prob(JB):                    2.49e-215\n",
            "Kurtosis:                      10.135   Cond. No.                     2.19e+03\n",
            "==============================================================================\n",
            "\n",
            "Notes:\n",
            "[1] Standard Errors assume that the covariance matrix of the errors is correctly specified.\n",
            "[2] The condition number is large, 2.19e+03. This might indicate that there are\n",
            "strong multicollinearity or other numerical problems.\n"
          ]
        }
      ]
    },
    {
      "cell_type": "markdown",
      "source": [
        "### Regression to the mean\n",
        "* Response_actual=fitted_value/prediction + residual\n",
        "* This is equivalent to saying what can be expalained and what cannot be expalined.\n",
        "* Extreme examples are due to radomness or noise\n",
        "* Extreme examples do ot persist over time. This is the key intuition behind *Regression to the mean*.\n",
        "### Transformations\n",
        "* Sometimes the relationships between the data are not linear. In that case you might need to square or cube the explanatory variable before fitting the data.\n",
        "* If the data is right skewed, lots of low values with few high outliers a sqrt transformation on both the explanatory and the response varibale could work and is commonly used. In this case prediction requires an extra step of squaring the prediction results\n"
      ],
      "metadata": {
        "id": "vlzjbjTdzMES"
      }
    },
    {
      "cell_type": "code",
      "source": [
        "sns.regplot(data=tai,x='dist_to_mrt_m',y='price_twd_msq')"
      ],
      "metadata": {
        "colab": {
          "base_uri": "https://localhost:8080/",
          "height": 297
        },
        "id": "oXzwXMl5zK4T",
        "outputId": "4547ff6a-a8c8-476c-fd5d-966b6b80256b"
      },
      "execution_count": 15,
      "outputs": [
        {
          "output_type": "execute_result",
          "data": {
            "text/plain": [
              "<matplotlib.axes._subplots.AxesSubplot at 0x7f4752923940>"
            ]
          },
          "metadata": {},
          "execution_count": 15
        },
        {
          "output_type": "display_data",
          "data": {
            "text/plain": [
              "<Figure size 432x288 with 1 Axes>"
            ],
            "image/png": "[encoded data removed]"
          },
          "metadata": {
            "needs_background": "light"
          }
        }
      ]
    },
    {
      "cell_type": "markdown",
      "source": [
        "> The dist_to_mrt variable seem to be right skewed with a few outliers, houses that are very far from the MRT station. In this case it might be benefecial to transform the variable with a sqrt transformation"
      ],
      "metadata": {
        "id": "fWS1FYNnBVO0"
      }
    },
    {
      "cell_type": "code",
      "source": [
        "import numpy as np\n",
        "tai['dist_sq']=np.sqrt(tai.dist_to_mrt_m)"
      ],
      "metadata": {
        "id": "PcHZ13YpB40r"
      },
      "execution_count": 16,
      "outputs": []
    },
    {
      "cell_type": "code",
      "source": [
        "model2=ols('price_twd_msq~dist_sq',data=tai).fit()\n"
      ],
      "metadata": {
        "id": "OECuU7L3CIQV"
      },
      "execution_count": 17,
      "outputs": []
    },
    {
      "cell_type": "code",
      "source": [
        "tai['predictions_sq']=model2.fittedvalues\n",
        "tai['resid_sq']=model2.resid"
      ],
      "metadata": {
        "id": "eVmt3JQSCdCf"
      },
      "execution_count": 18,
      "outputs": []
    },
    {
      "cell_type": "code",
      "source": [
        "tai.sample(5)"
      ],
      "metadata": {
        "colab": {
          "base_uri": "https://localhost:8080/",
          "height": 206
        },
        "id": "WT8IUyjKCr88",
        "outputId": "df6bdeff-68f3-4c98-a906-e91732b383a2"
      },
      "execution_count": 19,
      "outputs": [
        {
          "output_type": "execute_result",
          "data": {
            "text/plain": [
              "     dist_to_mrt_m  n_convenience house_age_years  price_twd_msq  predictions  \\\n",
              "117      4197.3490              0         0 to 15       3.933434     4.650548   \n",
              "246       389.8219              6        15 to 30      12.284418    13.016799   \n",
              "67        104.8101              5         0 to 15      17.186082    13.643053   \n",
              "145       451.2438              5         0 to 15      13.767020    12.881837   \n",
              "31        769.4034              7        15 to 30       7.564297    12.182747   \n",
              "\n",
              "        resid    dist_sq  predictions_sq  resid_sq  \n",
              "117 -0.717114  64.786951        4.863968 -0.930533  \n",
              "246 -0.732381  19.743908       13.099766 -0.815349  \n",
              "67   3.543029  10.237680       14.837912  2.348170  \n",
              "145  0.885183  21.242500       12.825760  0.941260  \n",
              "31  -4.618451  27.738122       11.638081 -4.073785  "
            ],
            "text/html": [
              "\n",
              "  <div id=\"df-fa98e7b5-62e9-4d98-ba57-88eeaab17b33\">\n",
              "    <div class=\"colab-df-container\">\n",
              "      <div>\n",
              "<style scoped>\n",
              "    .dataframe tbody tr th:only-of-type {\n",
              "        vertical-align: middle;\n",
              "    }\n",
              "\n",
              "    .dataframe tbody tr th {\n",
              "        vertical-align: top;\n",
              "    }\n",
              "\n",
              "    .dataframe thead th {\n",
              "        text-align: right;\n",
              "    }\n",
              "</style>\n",
              "<table border=\"1\" class=\"dataframe\">\n",
              "  <thead>\n",
              "    <tr style=\"text-align: right;\">\n",
              "      <th></th>\n",
              "      <th>dist_to_mrt_m</th>\n",
              "      <th>n_convenience</th>\n",
              "      <th>house_age_years</th>\n",
              "      <th>price_twd_msq</th>\n",
              "      <th>predictions</th>\n",
              "      <th>resid</th>\n",
              "      <th>dist_sq</th>\n",
              "      <th>predictions_sq</th>\n",
              "      <th>resid_sq</th>\n",
              "    </tr>\n",
              "  </thead>\n",
              "  <tbody>\n",
              "    <tr>\n",
              "      <th>117</th>\n",
              "      <td>4197.3490</td>\n",
              "      <td>0</td>\n",
              "      <td>0 to 15</td>\n",
              "      <td>3.933434</td>\n",
              "      <td>4.650548</td>\n",
              "      <td>-0.717114</td>\n",
              "      <td>64.786951</td>\n",
              "      <td>4.863968</td>\n",
              "      <td>-0.930533</td>\n",
              "    </tr>\n",
              "    <tr>\n",
              "      <th>246</th>\n",
              "      <td>389.8219</td>\n",
              "      <td>6</td>\n",
              "      <td>15 to 30</td>\n",
              "      <td>12.284418</td>\n",
              "      <td>13.016799</td>\n",
              "      <td>-0.732381</td>\n",
              "      <td>19.743908</td>\n",
              "      <td>13.099766</td>\n",
              "      <td>-0.815349</td>\n",
              "    </tr>\n",
              "    <tr>\n",
              "      <th>67</th>\n",
              "      <td>104.8101</td>\n",
              "      <td>5</td>\n",
              "      <td>0 to 15</td>\n",
              "      <td>17.186082</td>\n",
              "      <td>13.643053</td>\n",
              "      <td>3.543029</td>\n",
              "      <td>10.237680</td>\n",
              "      <td>14.837912</td>\n",
              "      <td>2.348170</td>\n",
              "    </tr>\n",
              "    <tr>\n",
              "      <th>145</th>\n",
              "      <td>451.2438</td>\n",
              "      <td>5</td>\n",
              "      <td>0 to 15</td>\n",
              "      <td>13.767020</td>\n",
              "      <td>12.881837</td>\n",
              "      <td>0.885183</td>\n",
              "      <td>21.242500</td>\n",
              "      <td>12.825760</td>\n",
              "      <td>0.941260</td>\n",
              "    </tr>\n",
              "    <tr>\n",
              "      <th>31</th>\n",
              "      <td>769.4034</td>\n",
              "      <td>7</td>\n",
              "      <td>15 to 30</td>\n",
              "      <td>7.564297</td>\n",
              "      <td>12.182747</td>\n",
              "      <td>-4.618451</td>\n",
              "      <td>27.738122</td>\n",
              "      <td>11.638081</td>\n",
              "      <td>-4.073785</td>\n",
              "    </tr>\n",
              "  </tbody>\n",
              "</table>\n",
              "</div>\n",
              "      <button class=\"colab-df-convert\" onclick=\"convertToInteractive('df-fa98e7b5-62e9-4d98-ba57-88eeaab17b33')\"\n",
              "              title=\"Convert this dataframe to an interactive table.\"\n",
              "              style=\"display:none;\">\n",
              "        \n",
              "  <svg xmlns=\"http://www.w3.org/2000/svg\" height=\"24px\"viewBox=\"0 0 24 24\"\n",
              "       width=\"24px\">\n",
              "    <path d=\"M0 0h24v24H0V0z\" fill=\"none\"/>\n",
              "    <path d=\"M18.56 5.44l.94 2.06.94-2.06 2.06-.94-2.06-.94-.94-2.06-.94 2.06-2.06.94zm-11 1L8.5 8.5l.94-2.06 2.06-.94-2.06-.94L8.5 2.5l-.94 2.06-2.06.94zm10 10l.94 2.06.94-2.06 2.06-.94-2.06-.94-.94-2.06-.94 2.06-2.06.94z\"/><path d=\"M17.41 7.96l-1.37-1.37c-.4-.4-.92-.59-1.43-.59-.52 0-1.04.2-1.43.59L10.3 9.45l-7.72 7.72c-.78.78-.78 2.05 0 2.83L4 21.41c.39.39.9.59 1.41.59.51 0 1.02-.2 1.41-.59l7.78-7.78 2.81-2.81c.8-.78.8-2.07 0-2.86zM5.41 20L4 18.59l7.72-7.72 1.47 1.35L5.41 20z\"/>\n",
              "  </svg>\n",
              "      </button>\n",
              "      \n",
              "  <style>\n",
              "    .colab-df-container {\n",
              "      display:flex;\n",
              "      flex-wrap:wrap;\n",
              "      gap: 12px;\n",
              "    }\n",
              "\n",
              "    .colab-df-convert {\n",
              "      background-color: #E8F0FE;\n",
              "      border: none;\n",
              "      border-radius: 50%;\n",
              "      cursor: pointer;\n",
              "      display: none;\n",
              "      fill: #1967D2;\n",
              "      height: 32px;\n",
              "      padding: 0 0 0 0;\n",
              "      width: 32px;\n",
              "    }\n",
              "\n",
              "    .colab-df-convert:hover {\n",
              "      background-color: #E2EBFA;\n",
              "      box-shadow: 0px 1px 2px rgba(60, 64, 67, 0.3), 0px 1px 3px 1px rgba(60, 64, 67, 0.15);\n",
              "      fill: #174EA6;\n",
              "    }\n",
              "\n",
              "    [theme=dark] .colab-df-convert {\n",
              "      background-color: #3B4455;\n",
              "      fill: #D2E3FC;\n",
              "    }\n",
              "\n",
              "    [theme=dark] .colab-df-convert:hover {\n",
              "      background-color: #434B5C;\n",
              "      box-shadow: 0px 1px 3px 1px rgba(0, 0, 0, 0.15);\n",
              "      filter: drop-shadow(0px 1px 2px rgba(0, 0, 0, 0.3));\n",
              "      fill: #FFFFFF;\n",
              "    }\n",
              "  </style>\n",
              "\n",
              "      <script>\n",
              "        const buttonEl =\n",
              "          document.querySelector('#df-fa98e7b5-62e9-4d98-ba57-88eeaab17b33 button.colab-df-convert');\n",
              "        buttonEl.style.display =\n",
              "          google.colab.kernel.accessAllowed ? 'block' : 'none';\n",
              "\n",
              "        async function convertToInteractive(key) {\n",
              "          const element = document.querySelector('#df-fa98e7b5-62e9-4d98-ba57-88eeaab17b33');\n",
              "          const dataTable =\n",
              "            await google.colab.kernel.invokeFunction('convertToInteractive',\n",
              "                                                     [key], {});\n",
              "          if (!dataTable) return;\n",
              "\n",
              "          const docLinkHtml = 'Like what you see? Visit the ' +\n",
              "            '<a target=\"_blank\" href=https://colab.research.google.com/notebooks/data_table.ipynb>data table notebook</a>'\n",
              "            + ' to learn more about interactive tables.';\n",
              "          element.innerHTML = '';\n",
              "          dataTable['output_type'] = 'display_data';\n",
              "          await google.colab.output.renderOutput(dataTable, element);\n",
              "          const docLink = document.createElement('div');\n",
              "          docLink.innerHTML = docLinkHtml;\n",
              "          element.appendChild(docLink);\n",
              "        }\n",
              "      </script>\n",
              "    </div>\n",
              "  </div>\n",
              "  "
            ]
          },
          "metadata": {},
          "execution_count": 19
        }
      ]
    },
    {
      "cell_type": "code",
      "source": [
        "print(model2.summary())"
      ],
      "metadata": {
        "colab": {
          "base_uri": "https://localhost:8080/"
        },
        "id": "KRo10eWxDDz1",
        "outputId": "eff4e68e-0ddf-4b3b-849b-f1e5f7aa6430"
      },
      "execution_count": 20,
      "outputs": [
        {
          "output_type": "stream",
          "name": "stdout",
          "text": [
            "                            OLS Regression Results                            \n",
            "==============================================================================\n",
            "Dep. Variable:          price_twd_msq   R-squared:                       0.533\n",
            "Model:                            OLS   Adj. R-squared:                  0.532\n",
            "Method:                 Least Squares   F-statistic:                     469.7\n",
            "Date:                Sun, 11 Dec 2022   Prob (F-statistic):           4.55e-70\n",
            "Time:                        20:33:49   Log-Likelihood:                -1015.3\n",
            "No. Observations:                 414   AIC:                             2035.\n",
            "Df Residuals:                     412   BIC:                             2043.\n",
            "Df Model:                           1                                         \n",
            "Covariance Type:            nonrobust                                         \n",
            "==============================================================================\n",
            "                 coef    std err          t      P>|t|      [0.025      0.975]\n",
            "------------------------------------------------------------------------------\n",
            "Intercept     16.7098      0.278     60.163      0.000      16.164      17.256\n",
            "dist_sq       -0.1828      0.008    -21.674      0.000      -0.199      -0.166\n",
            "==============================================================================\n",
            "Omnibus:                      169.655   Durbin-Watson:                   2.166\n",
            "Prob(Omnibus):                  0.000   Jarque-Bera (JB):             1645.827\n",
            "Skew:                           1.470   Prob(JB):                         0.00\n",
            "Kurtosis:                      12.315   Cond. No.                         66.1\n",
            "==============================================================================\n",
            "\n",
            "Notes:\n",
            "[1] Standard Errors assume that the covariance matrix of the errors is correctly specified.\n"
          ]
        }
      ]
    },
    {
      "cell_type": "code",
      "source": [],
      "metadata": {
        "id": "U-dHH1i9JGQ5"
      },
      "execution_count": null,
      "outputs": []
    },
    {
      "cell_type": "markdown",
      "source": [
        "> In this case looks like the predictions after taking the sqrt are better, both by looking at the sample and the adjusted R squared in the model summary 0.53 vs 0.45"
      ],
      "metadata": {
        "id": "LJZ3DgCYC7ZT"
      }
    },
    {
      "cell_type": "code",
      "source": [
        "# Checking model fitsuainf RMSE. Lower values are better\n",
        "print(\"Untransformed Model error\",np.sqrt(model.mse_resid))\n",
        "print(\"Transformed Model error\",np.sqrt(model2.mse_resid))"
      ],
      "metadata": {
        "id": "nEBuQwlkDSk1",
        "colab": {
          "base_uri": "https://localhost:8080/"
        },
        "outputId": "4ad6e0fe-1627-41b5-f34e-f8719d80d316"
      },
      "execution_count": 23,
      "outputs": [
        {
          "output_type": "stream",
          "name": "stdout",
          "text": [
            "Untransformed Model error 3.046456710939631\n",
            "Transformed Model error 2.8175939245390764\n"
          ]
        }
      ]
    },
    {
      "cell_type": "markdown",
      "source": [
        "> If the model is a good fit then the residuals are approximately normally distributed with mean 0. You can plot the residuals vs the fitted values. The trend line should be close to 0. Another way is a Q-Q plot.\n",
        "X axis has theortical quantiles from a normal dist while on the y axis you have quantiles from your data. They should be equal and follow the y=x line for a perfect fit"
      ],
      "metadata": {
        "id": "frwOZMOW7ECB"
      }
    },
    {
      "cell_type": "code",
      "source": [
        "# Check fit method 1-Histogram of residuals\n",
        "fig,ax=plt.subplots()\n",
        "ax.hist(model2.resid)\n",
        "model2.resid.mean()"
      ],
      "metadata": {
        "colab": {
          "base_uri": "https://localhost:8080/",
          "height": 282
        },
        "id": "lsdg_d__6gUa",
        "outputId": "d98168dc-ad07-4a58-d314-545c7b34c406"
      },
      "execution_count": 26,
      "outputs": [
        {
          "output_type": "execute_result",
          "data": {
            "text/plain": [
              "-1.0984235528658553e-15"
            ]
          },
          "metadata": {},
          "execution_count": 26
        },
        {
          "output_type": "display_data",
          "data": {
            "text/plain": [
              "<Figure size 432x288 with 1 Axes>"
            ],
            "image/png": "[encoded data removed]"
          },
          "metadata": {
            "needs_background": "light"
          }
        }
      ]
    },
    {
      "cell_type": "code",
      "source": [
        "# Mehod 2-: resid plot\n",
        "sns.residplot(x='dist_to_mrt_m',y='price_twd_msq',data=tai,lowess=True)"
      ],
      "metadata": {
        "colab": {
          "base_uri": "https://localhost:8080/",
          "height": 297
        },
        "id": "FXzzDojD9YNg",
        "outputId": "e391c9a5-2c25-4920-d180-dfd34279e6b3"
      },
      "execution_count": 28,
      "outputs": [
        {
          "output_type": "execute_result",
          "data": {
            "text/plain": [
              "<matplotlib.axes._subplots.AxesSubplot at 0x7f47527dbfa0>"
            ]
          },
          "metadata": {},
          "execution_count": 28
        },
        {
          "output_type": "display_data",
          "data": {
            "text/plain": [
              "<Figure size 432x288 with 1 Axes>"
            ],
            "image/png": "[encoded data removed]"
          },
          "metadata": {
            "needs_background": "light"
          }
        }
      ]
    },
    {
      "cell_type": "code",
      "source": [
        "#method 3-: Q-Q plot\n",
        "from statsmodels.api import qqplot\n",
        "qqplot(data=model.resid,fit=True,line='45')\n",
        "plt.show()"
      ],
      "metadata": {
        "colab": {
          "base_uri": "https://localhost:8080/",
          "height": 279
        },
        "id": "W4zNBDfQ9zPh",
        "outputId": "d661ca11-64b5-4e42-ee57-3ff08b983f50"
      },
      "execution_count": 33,
      "outputs": [
        {
          "output_type": "display_data",
          "data": {
            "text/plain": [
              "<Figure size 432x288 with 1 Axes>"
            ],
            "image/png": "[encoded data removed]"
          },
          "metadata": {
            "needs_background": "light"
          }
        }
      ]
    },
    {
      "cell_type": "code",
      "source": [
        "qqplot(data=model2.resid,fit=True,line='45')\n",
        "plt.show()"
      ],
      "metadata": {
        "colab": {
          "base_uri": "https://localhost:8080/",
          "height": 279
        },
        "id": "CHszQjpf-gH8",
        "outputId": "8150e557-3994-4044-8cdd-dafba8424a5d"
      },
      "execution_count": 36,
      "outputs": [
        {
          "output_type": "display_data",
          "data": {
            "text/plain": [
              "<Figure size 432x288 with 1 Axes>"
            ],
            "image/png": "[encoded data removed]"
          },
          "metadata": {
            "needs_background": "light"
          }
        }
      ]
    },
    {
      "cell_type": "markdown",
      "source": [
        "### Outliers,Leverage and influence\n",
        "* Outliers are highly unusual data points, too large or too small.\n",
        "* **Leverage** is a measure of how extreme your explanatory variable values are.\n",
        "* **Influence** is a measure of if you a leave the value out how much your model would change.\n"
      ],
      "metadata": {
        "id": "rfYnLekHBG7m"
      }
    },
    {
      "cell_type": "code",
      "source": [
        "summary=model2.get_influence().summary_frame()\n",
        "tai['leverage_2']=summary['hat_diag']\n",
        "tai['influence']=summary['cooks_d']"
      ],
      "metadata": {
        "id": "O0q1aI5kBEPl"
      },
      "execution_count": 40,
      "outputs": []
    },
    {
      "cell_type": "code",
      "source": [
        "tai.sort_values(by='influence',ascending=False)"
      ],
      "metadata": {
        "colab": {
          "base_uri": "https://localhost:8080/",
          "height": 424
        },
        "id": "_XwkORo-EHfP",
        "outputId": "e7938114-db62-4285-c45b-9255c5401269"
      },
      "execution_count": 42,
      "outputs": [
        {
          "output_type": "execute_result",
          "data": {
            "text/plain": [
              "     dist_to_mrt_m  n_convenience house_age_years  price_twd_msq  predictions  \\\n",
              "270       252.5822              1         0 to 15      35.552194    13.318355   \n",
              "148      3780.5900              0        15 to 30      13.645991     5.566290   \n",
              "228      3171.3290              0         0 to 15      14.099849     6.905014   \n",
              "220       186.5101              9        30 to 45      23.691377    13.463534   \n",
              "113       393.2606              6         0 to 15       2.299546    13.009243   \n",
              "..             ...            ...             ...            ...          ...   \n",
              "298      4082.0150              0        15 to 30       5.052950     4.903971   \n",
              "6         623.4731              7        30 to 45      12.193646    12.503399   \n",
              "265       815.9314              4        15 to 30      11.527988    12.080512   \n",
              "237       732.8528              0         0 to 15      11.800303    12.263060   \n",
              "179       438.8513              1         0 to 15      12.889561    12.909067   \n",
              "\n",
              "         resid    dist_sq  predictions_sq   resid_sq  leverage_2     influence  \n",
              "270  22.233839  15.892835       13.803908  21.748286    0.003849  1.155487e-01  \n",
              "148   8.079701  61.486503        5.467431   8.178560    0.012147  5.244008e-02  \n",
              "228   7.194834  56.314554        6.413085   7.686764    0.009332  3.538436e-02  \n",
              "220  10.227842  13.656870       14.212738   9.478639    0.004401  2.512289e-02  \n",
              "113 -10.709697  19.830799       13.083879 -10.784333    0.003095  2.281295e-02  \n",
              "..         ...        ...             ...        ...         ...           ...  \n",
              "298   0.148979  63.890649        5.027850   0.025100    0.013619  5.554280e-07  \n",
              "6    -0.309753  24.969443       12.144315   0.049331    0.002530  3.896928e-07  \n",
              "265  -0.552524  28.564513       11.486982   0.041006    0.002415  2.570474e-07  \n",
              "237  -0.462757  27.071254       11.760013   0.040289    0.002435  2.501281e-07  \n",
              "179  -0.019506  20.948778       12.879464   0.010097    0.002932  1.893547e-08  \n",
              "\n",
              "[414 rows x 11 columns]"
            ],
            "text/html": [
              "\n",
              "  <div id=\"df-d28ef13e-bbe5-4226-b544-9fc679073bf4\">\n",
              "    <div class=\"colab-df-container\">\n",
              "      <div>\n",
              "<style scoped>\n",
              "    .dataframe tbody tr th:only-of-type {\n",
              "        vertical-align: middle;\n",
              "    }\n",
              "\n",
              "    .dataframe tbody tr th {\n",
              "        vertical-align: top;\n",
              "    }\n",
              "\n",
              "    .dataframe thead th {\n",
              "        text-align: right;\n",
              "    }\n",
              "</style>\n",
              "<table border=\"1\" class=\"dataframe\">\n",
              "  <thead>\n",
              "    <tr style=\"text-align: right;\">\n",
              "      <th></th>\n",
              "      <th>dist_to_mrt_m</th>\n",
              "      <th>n_convenience</th>\n",
              "      <th>house_age_years</th>\n",
              "      <th>price_twd_msq</th>\n",
              "      <th>predictions</th>\n",
              "      <th>resid</th>\n",
              "      <th>dist_sq</th>\n",
              "      <th>predictions_sq</th>\n",
              "      <th>resid_sq</th>\n",
              "      <th>leverage_2</th>\n",
              "      <th>influence</th>\n",
              "    </tr>\n",
              "  </thead>\n",
              "  <tbody>\n",
              "    <tr>\n",
              "      <th>270</th>\n",
              "      <td>252.5822</td>\n",
              "      <td>1</td>\n",
              "      <td>0 to 15</td>\n",
              "      <td>35.552194</td>\n",
              "      <td>13.318355</td>\n",
              "      <td>22.233839</td>\n",
              "      <td>15.892835</td>\n",
              "      <td>13.803908</td>\n",
              "      <td>21.748286</td>\n",
              "      <td>0.003849</td>\n",
              "      <td>1.155487e-01</td>\n",
              "    </tr>\n",
              "    <tr>\n",
              "      <th>148</th>\n",
              "      <td>3780.5900</td>\n",
              "      <td>0</td>\n",
              "      <td>15 to 30</td>\n",
              "      <td>13.645991</td>\n",
              "      <td>5.566290</td>\n",
              "      <td>8.079701</td>\n",
              "      <td>61.486503</td>\n",
              "      <td>5.467431</td>\n",
              "      <td>8.178560</td>\n",
              "      <td>0.012147</td>\n",
              "      <td>5.244008e-02</td>\n",
              "    </tr>\n",
              "    <tr>\n",
              "      <th>228</th>\n",
              "      <td>3171.3290</td>\n",
              "      <td>0</td>\n",
              "      <td>0 to 15</td>\n",
              "      <td>14.099849</td>\n",
              "      <td>6.905014</td>\n",
              "      <td>7.194834</td>\n",
              "      <td>56.314554</td>\n",
              "      <td>6.413085</td>\n",
              "      <td>7.686764</td>\n",
              "      <td>0.009332</td>\n",
              "      <td>3.538436e-02</td>\n",
              "    </tr>\n",
              "    <tr>\n",
              "      <th>220</th>\n",
              "      <td>186.5101</td>\n",
              "      <td>9</td>\n",
              "      <td>30 to 45</td>\n",
              "      <td>23.691377</td>\n",
              "      <td>13.463534</td>\n",
              "      <td>10.227842</td>\n",
              "      <td>13.656870</td>\n",
              "      <td>14.212738</td>\n",
              "      <td>9.478639</td>\n",
              "      <td>0.004401</td>\n",
              "      <td>2.512289e-02</td>\n",
              "    </tr>\n",
              "    <tr>\n",
              "      <th>113</th>\n",
              "      <td>393.2606</td>\n",
              "      <td>6</td>\n",
              "      <td>0 to 15</td>\n",
              "      <td>2.299546</td>\n",
              "      <td>13.009243</td>\n",
              "      <td>-10.709697</td>\n",
              "      <td>19.830799</td>\n",
              "      <td>13.083879</td>\n",
              "      <td>-10.784333</td>\n",
              "      <td>0.003095</td>\n",
              "      <td>2.281295e-02</td>\n",
              "    </tr>\n",
              "    <tr>\n",
              "      <th>...</th>\n",
              "      <td>...</td>\n",
              "      <td>...</td>\n",
              "      <td>...</td>\n",
              "      <td>...</td>\n",
              "      <td>...</td>\n",
              "      <td>...</td>\n",
              "      <td>...</td>\n",
              "      <td>...</td>\n",
              "      <td>...</td>\n",
              "      <td>...</td>\n",
              "      <td>...</td>\n",
              "    </tr>\n",
              "    <tr>\n",
              "      <th>298</th>\n",
              "      <td>4082.0150</td>\n",
              "      <td>0</td>\n",
              "      <td>15 to 30</td>\n",
              "      <td>5.052950</td>\n",
              "      <td>4.903971</td>\n",
              "      <td>0.148979</td>\n",
              "      <td>63.890649</td>\n",
              "      <td>5.027850</td>\n",
              "      <td>0.025100</td>\n",
              "      <td>0.013619</td>\n",
              "      <td>5.554280e-07</td>\n",
              "    </tr>\n",
              "    <tr>\n",
              "      <th>6</th>\n",
              "      <td>623.4731</td>\n",
              "      <td>7</td>\n",
              "      <td>30 to 45</td>\n",
              "      <td>12.193646</td>\n",
              "      <td>12.503399</td>\n",
              "      <td>-0.309753</td>\n",
              "      <td>24.969443</td>\n",
              "      <td>12.144315</td>\n",
              "      <td>0.049331</td>\n",
              "      <td>0.002530</td>\n",
              "      <td>3.896928e-07</td>\n",
              "    </tr>\n",
              "    <tr>\n",
              "      <th>265</th>\n",
              "      <td>815.9314</td>\n",
              "      <td>4</td>\n",
              "      <td>15 to 30</td>\n",
              "      <td>11.527988</td>\n",
              "      <td>12.080512</td>\n",
              "      <td>-0.552524</td>\n",
              "      <td>28.564513</td>\n",
              "      <td>11.486982</td>\n",
              "      <td>0.041006</td>\n",
              "      <td>0.002415</td>\n",
              "      <td>2.570474e-07</td>\n",
              "    </tr>\n",
              "    <tr>\n",
              "      <th>237</th>\n",
              "      <td>732.8528</td>\n",
              "      <td>0</td>\n",
              "      <td>0 to 15</td>\n",
              "      <td>11.800303</td>\n",
              "      <td>12.263060</td>\n",
              "      <td>-0.462757</td>\n",
              "      <td>27.071254</td>\n",
              "      <td>11.760013</td>\n",
              "      <td>0.040289</td>\n",
              "      <td>0.002435</td>\n",
              "      <td>2.501281e-07</td>\n",
              "    </tr>\n",
              "    <tr>\n",
              "      <th>179</th>\n",
              "      <td>438.8513</td>\n",
              "      <td>1</td>\n",
              "      <td>0 to 15</td>\n",
              "      <td>12.889561</td>\n",
              "      <td>12.909067</td>\n",
              "      <td>-0.019506</td>\n",
              "      <td>20.948778</td>\n",
              "      <td>12.879464</td>\n",
              "      <td>0.010097</td>\n",
              "      <td>0.002932</td>\n",
              "      <td>1.893547e-08</td>\n",
              "    </tr>\n",
              "  </tbody>\n",
              "</table>\n",
              "<p>414 rows × 11 columns</p>\n",
              "</div>\n",
              "      <button class=\"colab-df-convert\" onclick=\"convertToInteractive('df-d28ef13e-bbe5-4226-b544-9fc679073bf4')\"\n",
              "              title=\"Convert this dataframe to an interactive table.\"\n",
              "              style=\"display:none;\">\n",
              "        \n",
              "  <svg xmlns=\"http://www.w3.org/2000/svg\" height=\"24px\"viewBox=\"0 0 24 24\"\n",
              "       width=\"24px\">\n",
              "    <path d=\"M0 0h24v24H0V0z\" fill=\"none\"/>\n",
              "    <path d=\"M18.56 5.44l.94 2.06.94-2.06 2.06-.94-2.06-.94-.94-2.06-.94 2.06-2.06.94zm-11 1L8.5 8.5l.94-2.06 2.06-.94-2.06-.94L8.5 2.5l-.94 2.06-2.06.94zm10 10l.94 2.06.94-2.06 2.06-.94-2.06-.94-.94-2.06-.94 2.06-2.06.94z\"/><path d=\"M17.41 7.96l-1.37-1.37c-.4-.4-.92-.59-1.43-.59-.52 0-1.04.2-1.43.59L10.3 9.45l-7.72 7.72c-.78.78-.78 2.05 0 2.83L4 21.41c.39.39.9.59 1.41.59.51 0 1.02-.2 1.41-.59l7.78-7.78 2.81-2.81c.8-.78.8-2.07 0-2.86zM5.41 20L4 18.59l7.72-7.72 1.47 1.35L5.41 20z\"/>\n",
              "  </svg>\n",
              "      </button>\n",
              "      \n",
              "  <style>\n",
              "    .colab-df-container {\n",
              "      display:flex;\n",
              "      flex-wrap:wrap;\n",
              "      gap: 12px;\n",
              "    }\n",
              "\n",
              "    .colab-df-convert {\n",
              "      background-color: #E8F0FE;\n",
              "      border: none;\n",
              "      border-radius: 50%;\n",
              "      cursor: pointer;\n",
              "      display: none;\n",
              "      fill: #1967D2;\n",
              "      height: 32px;\n",
              "      padding: 0 0 0 0;\n",
              "      width: 32px;\n",
              "    }\n",
              "\n",
              "    .colab-df-convert:hover {\n",
              "      background-color: #E2EBFA;\n",
              "      box-shadow: 0px 1px 2px rgba(60, 64, 67, 0.3), 0px 1px 3px 1px rgba(60, 64, 67, 0.15);\n",
              "      fill: #174EA6;\n",
              "    }\n",
              "\n",
              "    [theme=dark] .colab-df-convert {\n",
              "      background-color: #3B4455;\n",
              "      fill: #D2E3FC;\n",
              "    }\n",
              "\n",
              "    [theme=dark] .colab-df-convert:hover {\n",
              "      background-color: #434B5C;\n",
              "      box-shadow: 0px 1px 3px 1px rgba(0, 0, 0, 0.15);\n",
              "      filter: drop-shadow(0px 1px 2px rgba(0, 0, 0, 0.3));\n",
              "      fill: #FFFFFF;\n",
              "    }\n",
              "  </style>\n",
              "\n",
              "      <script>\n",
              "        const buttonEl =\n",
              "          document.querySelector('#df-d28ef13e-bbe5-4226-b544-9fc679073bf4 button.colab-df-convert');\n",
              "        buttonEl.style.display =\n",
              "          google.colab.kernel.accessAllowed ? 'block' : 'none';\n",
              "\n",
              "        async function convertToInteractive(key) {\n",
              "          const element = document.querySelector('#df-d28ef13e-bbe5-4226-b544-9fc679073bf4');\n",
              "          const dataTable =\n",
              "            await google.colab.kernel.invokeFunction('convertToInteractive',\n",
              "                                                     [key], {});\n",
              "          if (!dataTable) return;\n",
              "\n",
              "          const docLinkHtml = 'Like what you see? Visit the ' +\n",
              "            '<a target=\"_blank\" href=https://colab.research.google.com/notebooks/data_table.ipynb>data table notebook</a>'\n",
              "            + ' to learn more about interactive tables.';\n",
              "          element.innerHTML = '';\n",
              "          dataTable['output_type'] = 'display_data';\n",
              "          await google.colab.output.renderOutput(dataTable, element);\n",
              "          const docLink = document.createElement('div');\n",
              "          docLink.innerHTML = docLinkHtml;\n",
              "          element.appendChild(docLink);\n",
              "        }\n",
              "      </script>\n",
              "    </div>\n",
              "  </div>\n",
              "  "
            ]
          },
          "metadata": {},
          "execution_count": 42
        }
      ]
    },
    {
      "cell_type": "code",
      "source": [
        "tai"
      ],
      "metadata": {
        "colab": {
          "base_uri": "https://localhost:8080/",
          "height": 424
        },
        "id": "0qGVNPz5EUn9",
        "outputId": "0b789af1-bcad-48a3-df20-882598e71539"
      },
      "execution_count": 43,
      "outputs": [
        {
          "output_type": "execute_result",
          "data": {
            "text/plain": [
              "     dist_to_mrt_m  n_convenience house_age_years  price_twd_msq  predictions  \\\n",
              "0         84.87882             10        30 to 45      11.467474    13.686848   \n",
              "1        306.59470              9        15 to 30      12.768533    13.199673   \n",
              "2        561.98450              5         0 to 15      14.311649    12.638507   \n",
              "3        561.98450              5         0 to 15      16.580938    12.638507   \n",
              "4        390.56840              5         0 to 15      13.040847    13.015159   \n",
              "..             ...            ...             ...            ...          ...   \n",
              "409     4082.01500              0         0 to 15       4.659607     4.903971   \n",
              "410       90.45606              9         0 to 15      15.128593    13.674593   \n",
              "411      390.96960              7        15 to 30      12.284418    13.014277   \n",
              "412      104.81010              5         0 to 15      15.885023    13.643053   \n",
              "413       90.45606              9         0 to 15      19.334342    13.674593   \n",
              "\n",
              "        resid    dist_sq  predictions_sq  resid_sq  leverage_2     influence  \n",
              "0   -2.219374   9.212970       15.025273 -3.557800    0.005764  4.648246e-03  \n",
              "1   -0.431141  17.509846       13.508249 -0.739716    0.003506  1.216711e-04  \n",
              "2    1.673142  23.706212       12.375287  1.936362    0.002625  6.231096e-04  \n",
              "3    3.942431  23.706212       12.375287  4.205651    0.002625  2.939394e-03  \n",
              "4    0.025689  19.762803       13.096311 -0.055464    0.003106  6.055123e-07  \n",
              "..        ...        ...             ...       ...         ...           ...  \n",
              "409 -0.244364  63.890649        5.027850 -0.368243    0.013619  1.195505e-04  \n",
              "410  1.454000   9.510839       14.970810  0.157783    0.005661  8.977830e-06  \n",
              "411 -0.729859  19.772951       13.094456 -0.810038    0.003104  1.290873e-04  \n",
              "412  2.241970  10.237680       14.837912  1.047111    0.005418  3.782254e-04  \n",
              "413  5.659749   9.510839       14.970810  4.363532    0.005661  6.866358e-03  \n",
              "\n",
              "[414 rows x 11 columns]"
            ],
            "text/html": [
              "\n",
              "  <div id=\"df-6692bf56-d510-4b2e-a9f7-8077f31b750b\">\n",
              "    <div class=\"colab-df-container\">\n",
              "      <div>\n",
              "<style scoped>\n",
              "    .dataframe tbody tr th:only-of-type {\n",
              "        vertical-align: middle;\n",
              "    }\n",
              "\n",
              "    .dataframe tbody tr th {\n",
              "        vertical-align: top;\n",
              "    }\n",
              "\n",
              "    .dataframe thead th {\n",
              "        text-align: right;\n",
              "    }\n",
              "</style>\n",
              "<table border=\"1\" class=\"dataframe\">\n",
              "  <thead>\n",
              "    <tr style=\"text-align: right;\">\n",
              "      <th></th>\n",
              "      <th>dist_to_mrt_m</th>\n",
              "      <th>n_convenience</th>\n",
              "      <th>house_age_years</th>\n",
              "      <th>price_twd_msq</th>\n",
              "      <th>predictions</th>\n",
              "      <th>resid</th>\n",
              "      <th>dist_sq</th>\n",
              "      <th>predictions_sq</th>\n",
              "      <th>resid_sq</th>\n",
              "      <th>leverage_2</th>\n",
              "      <th>influence</th>\n",
              "    </tr>\n",
              "  </thead>\n",
              "  <tbody>\n",
              "    <tr>\n",
              "      <th>0</th>\n",
              "      <td>84.87882</td>\n",
              "      <td>10</td>\n",
              "      <td>30 to 45</td>\n",
              "      <td>11.467474</td>\n",
              "      <td>13.686848</td>\n",
              "      <td>-2.219374</td>\n",
              "      <td>9.212970</td>\n",
              "      <td>15.025273</td>\n",
              "      <td>-3.557800</td>\n",
              "      <td>0.005764</td>\n",
              "      <td>4.648246e-03</td>\n",
              "    </tr>\n",
              "    <tr>\n",
              "      <th>1</th>\n",
              "      <td>306.59470</td>\n",
              "      <td>9</td>\n",
              "      <td>15 to 30</td>\n",
              "      <td>12.768533</td>\n",
              "      <td>13.199673</td>\n",
              "      <td>-0.431141</td>\n",
              "      <td>17.509846</td>\n",
              "      <td>13.508249</td>\n",
              "      <td>-0.739716</td>\n",
              "      <td>0.003506</td>\n",
              "      <td>1.216711e-04</td>\n",
              "    </tr>\n",
              "    <tr>\n",
              "      <th>2</th>\n",
              "      <td>561.98450</td>\n",
              "      <td>5</td>\n",
              "      <td>0 to 15</td>\n",
              "      <td>14.311649</td>\n",
              "      <td>12.638507</td>\n",
              "      <td>1.673142</td>\n",
              "      <td>23.706212</td>\n",
              "      <td>12.375287</td>\n",
              "      <td>1.936362</td>\n",
              "      <td>0.002625</td>\n",
              "      <td>6.231096e-04</td>\n",
              "    </tr>\n",
              "    <tr>\n",
              "      <th>3</th>\n",
              "      <td>561.98450</td>\n",
              "      <td>5</td>\n",
              "      <td>0 to 15</td>\n",
              "      <td>16.580938</td>\n",
              "      <td>12.638507</td>\n",
              "      <td>3.942431</td>\n",
              "      <td>23.706212</td>\n",
              "      <td>12.375287</td>\n",
              "      <td>4.205651</td>\n",
              "      <td>0.002625</td>\n",
              "      <td>2.939394e-03</td>\n",
              "    </tr>\n",
              "    <tr>\n",
              "      <th>4</th>\n",
              "      <td>390.56840</td>\n",
              "      <td>5</td>\n",
              "      <td>0 to 15</td>\n",
              "      <td>13.040847</td>\n",
              "      <td>13.015159</td>\n",
              "      <td>0.025689</td>\n",
              "      <td>19.762803</td>\n",
              "      <td>13.096311</td>\n",
              "      <td>-0.055464</td>\n",
              "      <td>0.003106</td>\n",
              "      <td>6.055123e-07</td>\n",
              "    </tr>\n",
              "    <tr>\n",
              "      <th>...</th>\n",
              "      <td>...</td>\n",
              "      <td>...</td>\n",
              "      <td>...</td>\n",
              "      <td>...</td>\n",
              "      <td>...</td>\n",
              "      <td>...</td>\n",
              "      <td>...</td>\n",
              "      <td>...</td>\n",
              "      <td>...</td>\n",
              "      <td>...</td>\n",
              "      <td>...</td>\n",
              "    </tr>\n",
              "    <tr>\n",
              "      <th>409</th>\n",
              "      <td>4082.01500</td>\n",
              "      <td>0</td>\n",
              "      <td>0 to 15</td>\n",
              "      <td>4.659607</td>\n",
              "      <td>4.903971</td>\n",
              "      <td>-0.244364</td>\n",
              "      <td>63.890649</td>\n",
              "      <td>5.027850</td>\n",
              "      <td>-0.368243</td>\n",
              "      <td>0.013619</td>\n",
              "      <td>1.195505e-04</td>\n",
              "    </tr>\n",
              "    <tr>\n",
              "      <th>410</th>\n",
              "      <td>90.45606</td>\n",
              "      <td>9</td>\n",
              "      <td>0 to 15</td>\n",
              "      <td>15.128593</td>\n",
              "      <td>13.674593</td>\n",
              "      <td>1.454000</td>\n",
              "      <td>9.510839</td>\n",
              "      <td>14.970810</td>\n",
              "      <td>0.157783</td>\n",
              "      <td>0.005661</td>\n",
              "      <td>8.977830e-06</td>\n",
              "    </tr>\n",
              "    <tr>\n",
              "      <th>411</th>\n",
              "      <td>390.96960</td>\n",
              "      <td>7</td>\n",
              "      <td>15 to 30</td>\n",
              "      <td>12.284418</td>\n",
              "      <td>13.014277</td>\n",
              "      <td>-0.729859</td>\n",
              "      <td>19.772951</td>\n",
              "      <td>13.094456</td>\n",
              "      <td>-0.810038</td>\n",
              "      <td>0.003104</td>\n",
              "      <td>1.290873e-04</td>\n",
              "    </tr>\n",
              "    <tr>\n",
              "      <th>412</th>\n",
              "      <td>104.81010</td>\n",
              "      <td>5</td>\n",
              "      <td>0 to 15</td>\n",
              "      <td>15.885023</td>\n",
              "      <td>13.643053</td>\n",
              "      <td>2.241970</td>\n",
              "      <td>10.237680</td>\n",
              "      <td>14.837912</td>\n",
              "      <td>1.047111</td>\n",
              "      <td>0.005418</td>\n",
              "      <td>3.782254e-04</td>\n",
              "    </tr>\n",
              "    <tr>\n",
              "      <th>413</th>\n",
              "      <td>90.45606</td>\n",
              "      <td>9</td>\n",
              "      <td>0 to 15</td>\n",
              "      <td>19.334342</td>\n",
              "      <td>13.674593</td>\n",
              "      <td>5.659749</td>\n",
              "      <td>9.510839</td>\n",
              "      <td>14.970810</td>\n",
              "      <td>4.363532</td>\n",
              "      <td>0.005661</td>\n",
              "      <td>6.866358e-03</td>\n",
              "    </tr>\n",
              "  </tbody>\n",
              "</table>\n",
              "<p>414 rows × 11 columns</p>\n",
              "</div>\n",
              "      <button class=\"colab-df-convert\" onclick=\"convertToInteractive('df-6692bf56-d510-4b2e-a9f7-8077f31b750b')\"\n",
              "              title=\"Convert this dataframe to an interactive table.\"\n",
              "              style=\"display:none;\">\n",
              "        \n",
              "  <svg xmlns=\"http://www.w3.org/2000/svg\" height=\"24px\"viewBox=\"0 0 24 24\"\n",
              "       width=\"24px\">\n",
              "    <path d=\"M0 0h24v24H0V0z\" fill=\"none\"/>\n",
              "    <path d=\"M18.56 5.44l.94 2.06.94-2.06 2.06-.94-2.06-.94-.94-2.06-.94 2.06-2.06.94zm-11 1L8.5 8.5l.94-2.06 2.06-.94-2.06-.94L8.5 2.5l-.94 2.06-2.06.94zm10 10l.94 2.06.94-2.06 2.06-.94-2.06-.94-.94-2.06-.94 2.06-2.06.94z\"/><path d=\"M17.41 7.96l-1.37-1.37c-.4-.4-.92-.59-1.43-.59-.52 0-1.04.2-1.43.59L10.3 9.45l-7.72 7.72c-.78.78-.78 2.05 0 2.83L4 21.41c.39.39.9.59 1.41.59.51 0 1.02-.2 1.41-.59l7.78-7.78 2.81-2.81c.8-.78.8-2.07 0-2.86zM5.41 20L4 18.59l7.72-7.72 1.47 1.35L5.41 20z\"/>\n",
              "  </svg>\n",
              "      </button>\n",
              "      \n",
              "  <style>\n",
              "    .colab-df-container {\n",
              "      display:flex;\n",
              "      flex-wrap:wrap;\n",
              "      gap: 12px;\n",
              "    }\n",
              "\n",
              "    .colab-df-convert {\n",
              "      background-color: #E8F0FE;\n",
              "      border: none;\n",
              "      border-radius: 50%;\n",
              "      cursor: pointer;\n",
              "      display: none;\n",
              "      fill: #1967D2;\n",
              "      height: 32px;\n",
              "      padding: 0 0 0 0;\n",
              "      width: 32px;\n",
              "    }\n",
              "\n",
              "    .colab-df-convert:hover {\n",
              "      background-color: #E2EBFA;\n",
              "      box-shadow: 0px 1px 2px rgba(60, 64, 67, 0.3), 0px 1px 3px 1px rgba(60, 64, 67, 0.15);\n",
              "      fill: #174EA6;\n",
              "    }\n",
              "\n",
              "    [theme=dark] .colab-df-convert {\n",
              "      background-color: #3B4455;\n",
              "      fill: #D2E3FC;\n",
              "    }\n",
              "\n",
              "    [theme=dark] .colab-df-convert:hover {\n",
              "      background-color: #434B5C;\n",
              "      box-shadow: 0px 1px 3px 1px rgba(0, 0, 0, 0.15);\n",
              "      filter: drop-shadow(0px 1px 2px rgba(0, 0, 0, 0.3));\n",
              "      fill: #FFFFFF;\n",
              "    }\n",
              "  </style>\n",
              "\n",
              "      <script>\n",
              "        const buttonEl =\n",
              "          document.querySelector('#df-6692bf56-d510-4b2e-a9f7-8077f31b750b button.colab-df-convert');\n",
              "        buttonEl.style.display =\n",
              "          google.colab.kernel.accessAllowed ? 'block' : 'none';\n",
              "\n",
              "        async function convertToInteractive(key) {\n",
              "          const element = document.querySelector('#df-6692bf56-d510-4b2e-a9f7-8077f31b750b');\n",
              "          const dataTable =\n",
              "            await google.colab.kernel.invokeFunction('convertToInteractive',\n",
              "                                                     [key], {});\n",
              "          if (!dataTable) return;\n",
              "\n",
              "          const docLinkHtml = 'Like what you see? Visit the ' +\n",
              "            '<a target=\"_blank\" href=https://colab.research.google.com/notebooks/data_table.ipynb>data table notebook</a>'\n",
              "            + ' to learn more about interactive tables.';\n",
              "          element.innerHTML = '';\n",
              "          dataTable['output_type'] = 'display_data';\n",
              "          await google.colab.output.renderOutput(dataTable, element);\n",
              "          const docLink = document.createElement('div');\n",
              "          docLink.innerHTML = docLinkHtml;\n",
              "          element.appendChild(docLink);\n",
              "        }\n",
              "      </script>\n",
              "    </div>\n",
              "  </div>\n",
              "  "
            ]
          },
          "metadata": {},
          "execution_count": 43
        }
      ]
    },
    {
      "cell_type": "markdown",
      "source": [
        "### Multi variable regression"
      ],
      "metadata": {
        "id": "IXc1XdQvGEjD"
      }
    },
    {
      "cell_type": "code",
      "source": [
        "from statsmodels.formula.api import ols\n",
        "tai=pd.read_csv('https://assets.datacamp.com/production/repositories/5857/datasets/4c29a50214b5b3232b2b99eee35cdde2f588dfac/taiwan_real_estate2.csv')"
      ],
      "metadata": {
        "id": "9_Mm0h3MEVin"
      },
      "execution_count": 51,
      "outputs": []
    },
    {
      "cell_type": "code",
      "source": [
        "tai['dist_sqrt']=np.sqrt(tai.dist_to_mrt_m)"
      ],
      "metadata": {
        "id": "5JJqdWlBGjzR"
      },
      "execution_count": 53,
      "outputs": []
    },
    {
      "cell_type": "code",
      "source": [
        "model3=ols('price_twd_msq~dist_sqrt+n_convenience+house_age_years',data=tai).fit()"
      ],
      "metadata": {
        "id": "NsLY8Z9wG-V1"
      },
      "execution_count": 67,
      "outputs": []
    },
    {
      "cell_type": "code",
      "source": [
        "fig=plt.figure()\n",
        "fig.set_size_inches([10,6])\n",
        "sns.boxplot(x='n_convenience',y='price_twd_msq',data=tai)"
      ],
      "metadata": {
        "colab": {
          "base_uri": "https://localhost:8080/",
          "height": 406
        },
        "id": "QLwneADwGjVg",
        "outputId": "4704e45e-9900-44e1-f3f7-9434d1d1f189"
      },
      "execution_count": 58,
      "outputs": [
        {
          "output_type": "execute_result",
          "data": {
            "text/plain": [
              "<matplotlib.axes._subplots.AxesSubplot at 0x7f474a639cd0>"
            ]
          },
          "metadata": {},
          "execution_count": 58
        },
        {
          "output_type": "display_data",
          "data": {
            "text/plain": [
              "<Figure size 720x432 with 1 Axes>"
            ],
            "image/png": "[encoded data removed]"
          },
          "metadata": {
            "needs_background": "light"
          }
        }
      ]
    },
    {
      "cell_type": "code",
      "source": [
        "fig=plt.figure()\n",
        "fig.set_size_inches([10,6])\n",
        "sns.boxplot(x='house_age_years',y='price_twd_msq',data=tai)"
      ],
      "metadata": {
        "colab": {
          "base_uri": "https://localhost:8080/",
          "height": 406
        },
        "id": "vhwT1cagHcbF",
        "outputId": "4413e6d2-b531-4c4b-d376-0cfe28d29c20"
      },
      "execution_count": 60,
      "outputs": [
        {
          "output_type": "execute_result",
          "data": {
            "text/plain": [
              "<matplotlib.axes._subplots.AxesSubplot at 0x7f474a469a90>"
            ]
          },
          "metadata": {},
          "execution_count": 60
        },
        {
          "output_type": "display_data",
          "data": {
            "text/plain": [
              "<Figure size 720x432 with 1 Axes>"
            ],
            "image/png": "[encoded data removed]"
          },
          "metadata": {
            "needs_background": "light"
          }
        }
      ]
    },
    {
      "cell_type": "code",
      "source": [
        "print(model3.summary())"
      ],
      "metadata": {
        "colab": {
          "base_uri": "https://localhost:8080/"
        },
        "id": "8uUo4tAFIfz2",
        "outputId": "28bb456e-09f1-44c7-8524-907c20278ffd"
      },
      "execution_count": 69,
      "outputs": [
        {
          "output_type": "stream",
          "name": "stdout",
          "text": [
            "                            OLS Regression Results                            \n",
            "==============================================================================\n",
            "Dep. Variable:          price_twd_msq   R-squared:                       0.579\n",
            "Model:                            OLS   Adj. R-squared:                  0.575\n",
            "Method:                 Least Squares   F-statistic:                     140.7\n",
            "Date:                Sun, 11 Dec 2022   Prob (F-statistic):           1.68e-75\n",
            "Time:                        21:42:06   Log-Likelihood:                -993.67\n",
            "No. Observations:                 414   AIC:                             1997.\n",
            "Df Residuals:                     409   BIC:                             2017.\n",
            "Df Model:                           4                                         \n",
            "Covariance Type:            nonrobust                                         \n",
            "===============================================================================================\n",
            "                                  coef    std err          t      P>|t|      [0.025      0.975]\n",
            "-----------------------------------------------------------------------------------------------\n",
            "Intercept                      15.4745      0.527     29.357      0.000      14.438      16.511\n",
            "house_age_years[T.15 to 30]    -1.3444      0.316     -4.256      0.000      -1.965      -0.723\n",
            "house_age_years[T.30 to 45]    -1.7090      0.340     -5.031      0.000      -2.377      -1.041\n",
            "dist_sqrt                      -0.1481      0.011    -13.368      0.000      -0.170      -0.126\n",
            "n_convenience                   0.2577      0.061      4.256      0.000       0.139       0.377\n",
            "==============================================================================\n",
            "Omnibus:                      217.392   Durbin-Watson:                   2.114\n",
            "Prob(Omnibus):                  0.000   Jarque-Bera (JB):             3058.999\n",
            "Skew:                           1.890   Prob(JB):                         0.00\n",
            "Kurtosis:                      15.769   Cond. No.                         134.\n",
            "==============================================================================\n",
            "\n",
            "Notes:\n",
            "[1] Standard Errors assume that the covariance matrix of the errors is correctly specified.\n"
          ]
        }
      ]
    },
    {
      "cell_type": "code",
      "source": [
        "np.sqrt(model3.mse_resid)/tai.price_twd_msq.mean()"
      ],
      "metadata": {
        "colab": {
          "base_uri": "https://localhost:8080/"
        },
        "id": "IoEnntDiJHtN",
        "outputId": "174a7958-ac94-4717-d895-a1de2c766b46"
      },
      "execution_count": 76,
      "outputs": [
        {
          "output_type": "execute_result",
          "data": {
            "text/plain": [
              "0.2335613656790428"
            ]
          },
          "metadata": {},
          "execution_count": 76
        }
      ]
    },
    {
      "cell_type": "code",
      "source": [
        "tai['predictions']=model3.fittedvalues"
      ],
      "metadata": {
        "id": "-agDKOKUJS4a"
      },
      "execution_count": 72,
      "outputs": []
    },
    {
      "cell_type": "code",
      "source": [
        "tai['resid']=model3.resid"
      ],
      "metadata": {
        "id": "Msw8H1YAJawm"
      },
      "execution_count": 73,
      "outputs": []
    },
    {
      "cell_type": "code",
      "source": [
        "tai.sample(5)"
      ],
      "metadata": {
        "colab": {
          "base_uri": "https://localhost:8080/",
          "height": 206
        },
        "id": "DYMWNbHbJpKj",
        "outputId": "8755ec0a-14dd-4630-892d-9dbd83d30bee"
      },
      "execution_count": 74,
      "outputs": [
        {
          "output_type": "execute_result",
          "data": {
            "text/plain": [
              "     dist_to_mrt_m  n_convenience house_age_years  price_twd_msq  dist_sqrt  \\\n",
              "64        995.7554              0        15 to 30       7.655068  31.555592   \n",
              "382      3529.5640              0        15 to 30       8.865356  59.410134   \n",
              "317       752.7669              2        15 to 30      11.346445  27.436598   \n",
              "383       506.1144              4        15 to 30      12.193646  22.496986   \n",
              "77       2185.1280              3        15 to 30       7.745840  46.745353   \n",
              "\n",
              "     predictions     resid  \n",
              "64      9.456625 -1.801557  \n",
              "382     5.331323  3.534033  \n",
              "317    10.581986  0.764459  \n",
              "383    11.828882  0.364764  \n",
              "77      7.979994 -0.234154  "
            ],
            "text/html": [
              "\n",
              "  <div id=\"df-0d05d90f-923a-40d8-8168-5e6abb56da85\">\n",
              "    <div class=\"colab-df-container\">\n",
              "      <div>\n",
              "<style scoped>\n",
              "    .dataframe tbody tr th:only-of-type {\n",
              "        vertical-align: middle;\n",
              "    }\n",
              "\n",
              "    .dataframe tbody tr th {\n",
              "        vertical-align: top;\n",
              "    }\n",
              "\n",
              "    .dataframe thead th {\n",
              "        text-align: right;\n",
              "    }\n",
              "</style>\n",
              "<table border=\"1\" class=\"dataframe\">\n",
              "  <thead>\n",
              "    <tr style=\"text-align: right;\">\n",
              "      <th></th>\n",
              "      <th>dist_to_mrt_m</th>\n",
              "      <th>n_convenience</th>\n",
              "      <th>house_age_years</th>\n",
              "      <th>price_twd_msq</th>\n",
              "      <th>dist_sqrt</th>\n",
              "      <th>predictions</th>\n",
              "      <th>resid</th>\n",
              "    </tr>\n",
              "  </thead>\n",
              "  <tbody>\n",
              "    <tr>\n",
              "      <th>64</th>\n",
              "      <td>995.7554</td>\n",
              "      <td>0</td>\n",
              "      <td>15 to 30</td>\n",
              "      <td>7.655068</td>\n",
              "      <td>31.555592</td>\n",
              "      <td>9.456625</td>\n",
              "      <td>-1.801557</td>\n",
              "    </tr>\n",
              "    <tr>\n",
              "      <th>382</th>\n",
              "      <td>3529.5640</td>\n",
              "      <td>0</td>\n",
              "      <td>15 to 30</td>\n",
              "      <td>8.865356</td>\n",
              "      <td>59.410134</td>\n",
              "      <td>5.331323</td>\n",
              "      <td>3.534033</td>\n",
              "    </tr>\n",
              "    <tr>\n",
              "      <th>317</th>\n",
              "      <td>752.7669</td>\n",
              "      <td>2</td>\n",
              "      <td>15 to 30</td>\n",
              "      <td>11.346445</td>\n",
              "      <td>27.436598</td>\n",
              "      <td>10.581986</td>\n",
              "      <td>0.764459</td>\n",
              "    </tr>\n",
              "    <tr>\n",
              "      <th>383</th>\n",
              "      <td>506.1144</td>\n",
              "      <td>4</td>\n",
              "      <td>15 to 30</td>\n",
              "      <td>12.193646</td>\n",
              "      <td>22.496986</td>\n",
              "      <td>11.828882</td>\n",
              "      <td>0.364764</td>\n",
              "    </tr>\n",
              "    <tr>\n",
              "      <th>77</th>\n",
              "      <td>2185.1280</td>\n",
              "      <td>3</td>\n",
              "      <td>15 to 30</td>\n",
              "      <td>7.745840</td>\n",
              "      <td>46.745353</td>\n",
              "      <td>7.979994</td>\n",
              "      <td>-0.234154</td>\n",
              "    </tr>\n",
              "  </tbody>\n",
              "</table>\n",
              "</div>\n",
              "      <button class=\"colab-df-convert\" onclick=\"convertToInteractive('df-0d05d90f-923a-40d8-8168-5e6abb56da85')\"\n",
              "              title=\"Convert this dataframe to an interactive table.\"\n",
              "              style=\"display:none;\">\n",
              "        \n",
              "  <svg xmlns=\"http://www.w3.org/2000/svg\" height=\"24px\"viewBox=\"0 0 24 24\"\n",
              "       width=\"24px\">\n",
              "    <path d=\"M0 0h24v24H0V0z\" fill=\"none\"/>\n",
              "    <path d=\"M18.56 5.44l.94 2.06.94-2.06 2.06-.94-2.06-.94-.94-2.06-.94 2.06-2.06.94zm-11 1L8.5 8.5l.94-2.06 2.06-.94-2.06-.94L8.5 2.5l-.94 2.06-2.06.94zm10 10l.94 2.06.94-2.06 2.06-.94-2.06-.94-.94-2.06-.94 2.06-2.06.94z\"/><path d=\"M17.41 7.96l-1.37-1.37c-.4-.4-.92-.59-1.43-.59-.52 0-1.04.2-1.43.59L10.3 9.45l-7.72 7.72c-.78.78-.78 2.05 0 2.83L4 21.41c.39.39.9.59 1.41.59.51 0 1.02-.2 1.41-.59l7.78-7.78 2.81-2.81c.8-.78.8-2.07 0-2.86zM5.41 20L4 18.59l7.72-7.72 1.47 1.35L5.41 20z\"/>\n",
              "  </svg>\n",
              "      </button>\n",
              "      \n",
              "  <style>\n",
              "    .colab-df-container {\n",
              "      display:flex;\n",
              "      flex-wrap:wrap;\n",
              "      gap: 12px;\n",
              "    }\n",
              "\n",
              "    .colab-df-convert {\n",
              "      background-color: #E8F0FE;\n",
              "      border: none;\n",
              "      border-radius: 50%;\n",
              "      cursor: pointer;\n",
              "      display: none;\n",
              "      fill: #1967D2;\n",
              "      height: 32px;\n",
              "      padding: 0 0 0 0;\n",
              "      width: 32px;\n",
              "    }\n",
              "\n",
              "    .colab-df-convert:hover {\n",
              "      background-color: #E2EBFA;\n",
              "      box-shadow: 0px 1px 2px rgba(60, 64, 67, 0.3), 0px 1px 3px 1px rgba(60, 64, 67, 0.15);\n",
              "      fill: #174EA6;\n",
              "    }\n",
              "\n",
              "    [theme=dark] .colab-df-convert {\n",
              "      background-color: #3B4455;\n",
              "      fill: #D2E3FC;\n",
              "    }\n",
              "\n",
              "    [theme=dark] .colab-df-convert:hover {\n",
              "      background-color: #434B5C;\n",
              "      box-shadow: 0px 1px 3px 1px rgba(0, 0, 0, 0.15);\n",
              "      filter: drop-shadow(0px 1px 2px rgba(0, 0, 0, 0.3));\n",
              "      fill: #FFFFFF;\n",
              "    }\n",
              "  </style>\n",
              "\n",
              "      <script>\n",
              "        const buttonEl =\n",
              "          document.querySelector('#df-0d05d90f-923a-40d8-8168-5e6abb56da85 button.colab-df-convert');\n",
              "        buttonEl.style.display =\n",
              "          google.colab.kernel.accessAllowed ? 'block' : 'none';\n",
              "\n",
              "        async function convertToInteractive(key) {\n",
              "          const element = document.querySelector('#df-0d05d90f-923a-40d8-8168-5e6abb56da85');\n",
              "          const dataTable =\n",
              "            await google.colab.kernel.invokeFunction('convertToInteractive',\n",
              "                                                     [key], {});\n",
              "          if (!dataTable) return;\n",
              "\n",
              "          const docLinkHtml = 'Like what you see? Visit the ' +\n",
              "            '<a target=\"_blank\" href=https://colab.research.google.com/notebooks/data_table.ipynb>data table notebook</a>'\n",
              "            + ' to learn more about interactive tables.';\n",
              "          element.innerHTML = '';\n",
              "          dataTable['output_type'] = 'display_data';\n",
              "          await google.colab.output.renderOutput(dataTable, element);\n",
              "          const docLink = document.createElement('div');\n",
              "          docLink.innerHTML = docLinkHtml;\n",
              "          element.appendChild(docLink);\n",
              "        }\n",
              "      </script>\n",
              "    </div>\n",
              "  </div>\n",
              "  "
            ]
          },
          "metadata": {},
          "execution_count": 74
        }
      ]
    },
    {
      "cell_type": "markdown",
      "source": [
        "### Logistic Regression\n",
        "* if the response variable is categorical (0,1) then we use logistic regression.\n",
        "* The model predictions given by the equation can be thought of as probabilities. If you just use a standard ols model it will give you probabilities greater than 1 or less than 0. Therefore a special type of model object has to be used called a logistic model which uses an s shaped curve"
      ],
      "metadata": {
        "id": "xqSO5ZZLJ8Ut"
      }
    },
    {
      "cell_type": "code",
      "source": [],
      "metadata": {
        "id": "A1Z3cMHBL9vX"
      },
      "execution_count": null,
      "outputs": []
    }
  ]
}